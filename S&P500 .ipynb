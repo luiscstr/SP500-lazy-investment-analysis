{
 "cells": [
  {
   "cell_type": "code",
   "execution_count": 14,
   "metadata": {},
   "outputs": [],
   "source": [
    "from pandas_datareader import data as pdr\n",
    "import numpy as np\n",
    "import pandas as pd\n",
    "from datetime import date\n",
    "import datetime\n",
    "import matplotlib.pyplot as plt\n",
    "import statsmodels.api as sm\n",
    "from pylab import rcParams\n",
    "from random import sample, choice\n",
    "from numba import njit\n",
    "from itertools import combinations, chain\n",
    "from collections import defaultdict\n",
    "import seaborn as sns\n",
    "import plotly as py\n",
    "import plotly.graph_objs as go\n",
    "import calendar\n",
    "%matplotlib inline\n",
    "sns.set()\n"
   ]
  },
  {
   "cell_type": "code",
   "execution_count": 15,
   "metadata": {},
   "outputs": [
    {
     "name": "stdout",
     "output_type": "stream",
     "text": [
      "                 Open       High        Low      Close   Volume\n",
      "Date                                                           \n",
      "1950-01-03  16.660000  16.660000  16.660000  16.660000  1260000\n",
      "1950-01-04  16.850000  16.850000  16.850000  16.850000  1890000\n",
      "1950-01-05  16.930000  16.930000  16.930000  16.930000  2550000\n",
      "1950-01-06  16.980000  16.980000  16.980000  16.980000  2010000\n",
      "1950-01-09  17.080000  17.080000  17.080000  17.080000  2520000\n",
      "1950-01-10  17.030001  17.030001  17.030001  17.030001  2160000\n",
      "1950-01-11  17.090000  17.090000  17.090000  17.090000  2630000\n",
      "1950-01-12  16.760000  16.760000  16.760000  16.760000  2970000\n",
      "1950-01-13  16.670000  16.670000  16.670000  16.670000  3330000\n",
      "1950-01-16  16.719999  16.719999  16.719999  16.719999  1460000\n"
     ]
    }
   ],
   "source": [
    "#Import data\n",
    "'''Note:Yahoo Fiance SP&500 data reached back to 1950. However, error \"mktime argument out of range\" happens when downloading \n",
    "data before 1970. This seems to be related to windows platform not supporting dates previous to Unix epoch. We will manaually \n",
    "download the data between 1950 and 1970 and will combine wiht the dataframe obtained from the DataReader. '''\n",
    "\n",
    "#Dataframe with daily S&P500 data from 1970 to current date.\n",
    "start_date=datetime.date(1970, 1, 1)\n",
    "end_date=datetime.datetime.now()\n",
    "ticker='^GSPC'\n",
    "data_source='yahoo'\n",
    "\n",
    "SP500_day=pdr.DataReader(ticker,start=start_date,end=end_date,data_source=data_source)\n",
    "\n",
    "#Dataframe with daily S&P500 data from initial (1950) to 1970\n",
    "SP500_temp=pd.read_csv(r'C:\\Users\\lcast\\Desktop\\DS\\Projects\\SP Timeseries\\GSPC.csv',parse_dates=['Date'],index_col='Date')\n",
    "\n",
    "#Joining both datafarmes in a single one with all the information from 1950 to current date\n",
    "SP500_day=SP500_temp[:'1969'].append(SP500_day)\n",
    "\n",
    "del SP500_temp\n",
    "\n",
    "#Close and Adjusted Close are the same for this ticker, so we remove Adjusted Closing column and keep Closing.\n",
    "SP500_day=SP500_day.drop(columns='Adj Close')\n",
    "print(SP500_day.head(10))\n"
   ]
  },
  {
   "cell_type": "code",
   "execution_count": 16,
   "metadata": {},
   "outputs": [
    {
     "data": {
      "application/vnd.plotly.v1+json": {
       "config": {
        "plotlyServerURL": "https://plot.ly"
       },
       "data": [
        {
         "type": "scatter",
         "x": [
          1950,
          1951,
          1952,
          1953,
          1954,
          1955,
          1956,
          1957,
          1958,
          1959,
          1960,
          1961,
          1962,
          1963,
          1964,
          1965,
          1966,
          1967,
          1968,
          1969,
          1970,
          1971,
          1972,
          1973,
          1974,
          1975,
          1976,
          1977,
          1978,
          1979,
          1980,
          1981,
          1982,
          1983,
          1984,
          1985,
          1986,
          1987,
          1988,
          1989,
          1990,
          1991,
          1992,
          1993,
          1994,
          1995,
          1996,
          1997,
          1998,
          1999,
          2000,
          2001,
          2002,
          2003,
          2004,
          2005,
          2006,
          2007,
          2008,
          2009,
          2010,
          2011,
          2012,
          2013,
          2014,
          2015,
          2016,
          2017,
          2018,
          2019
         ],
         "y": [
          20.43,
          23.77,
          26.57,
          24.809998999999998,
          35.98,
          45.48,
          46.669998,
          39.990002000000004,
          55.209998999999996,
          59.889998999999996,
          58.110001000000004,
          71.550003,
          63.099998,
          75.019997,
          84.75,
          92.43,
          80.33000200000001,
          96.470001,
          103.860001,
          92.059998,
          92.1500015258789,
          102.08999633789062,
          118.05000305175781,
          97.55000305175781,
          68.55999755859375,
          90.19000244140625,
          107.45999908447266,
          95.0999984741211,
          96.11000061035156,
          107.94000244140625,
          135.75999450683594,
          122.55000305175781,
          140.63999938964844,
          164.92999267578125,
          167.24000549316406,
          211.27999877929688,
          242.1699981689453,
          247.0800018310547,
          277.7200012207031,
          353.3999938964844,
          330.2200012207031,
          417.0899963378906,
          435.7099914550781,
          466.45001220703125,
          459.2699890136719,
          615.9299926757812,
          740.739990234375,
          970.4299926757812,
          1229.22998046875,
          1469.25,
          1320.280029296875,
          1148.0799560546875,
          879.8200073242188,
          1111.9200439453125,
          1211.9200439453125,
          1248.2900390625,
          1418.300048828125,
          1468.3599853515625,
          903.25,
          1115.0999755859375,
          1257.6400146484375,
          1257.5999755859375,
          1426.18994140625,
          1848.3599853515625,
          2058.89990234375,
          2043.93994140625,
          2238.830078125,
          2673.610107421875,
          2506.85009765625,
          3230.780029296875
         ]
        }
       ],
       "layout": {
        "hovermode": "x",
        "template": {
         "data": {
          "bar": [
           {
            "error_x": {
             "color": "#2a3f5f"
            },
            "error_y": {
             "color": "#2a3f5f"
            },
            "marker": {
             "line": {
              "color": "#E5ECF6",
              "width": 0.5
             }
            },
            "type": "bar"
           }
          ],
          "barpolar": [
           {
            "marker": {
             "line": {
              "color": "#E5ECF6",
              "width": 0.5
             }
            },
            "type": "barpolar"
           }
          ],
          "carpet": [
           {
            "aaxis": {
             "endlinecolor": "#2a3f5f",
             "gridcolor": "white",
             "linecolor": "white",
             "minorgridcolor": "white",
             "startlinecolor": "#2a3f5f"
            },
            "baxis": {
             "endlinecolor": "#2a3f5f",
             "gridcolor": "white",
             "linecolor": "white",
             "minorgridcolor": "white",
             "startlinecolor": "#2a3f5f"
            },
            "type": "carpet"
           }
          ],
          "choropleth": [
           {
            "colorbar": {
             "outlinewidth": 0,
             "ticks": ""
            },
            "type": "choropleth"
           }
          ],
          "contour": [
           {
            "colorbar": {
             "outlinewidth": 0,
             "ticks": ""
            },
            "colorscale": [
             [
              0,
              "#0d0887"
             ],
             [
              0.1111111111111111,
              "#46039f"
             ],
             [
              0.2222222222222222,
              "#7201a8"
             ],
             [
              0.3333333333333333,
              "#9c179e"
             ],
             [
              0.4444444444444444,
              "#bd3786"
             ],
             [
              0.5555555555555556,
              "#d8576b"
             ],
             [
              0.6666666666666666,
              "#ed7953"
             ],
             [
              0.7777777777777778,
              "#fb9f3a"
             ],
             [
              0.8888888888888888,
              "#fdca26"
             ],
             [
              1,
              "#f0f921"
             ]
            ],
            "type": "contour"
           }
          ],
          "contourcarpet": [
           {
            "colorbar": {
             "outlinewidth": 0,
             "ticks": ""
            },
            "type": "contourcarpet"
           }
          ],
          "heatmap": [
           {
            "colorbar": {
             "outlinewidth": 0,
             "ticks": ""
            },
            "colorscale": [
             [
              0,
              "#0d0887"
             ],
             [
              0.1111111111111111,
              "#46039f"
             ],
             [
              0.2222222222222222,
              "#7201a8"
             ],
             [
              0.3333333333333333,
              "#9c179e"
             ],
             [
              0.4444444444444444,
              "#bd3786"
             ],
             [
              0.5555555555555556,
              "#d8576b"
             ],
             [
              0.6666666666666666,
              "#ed7953"
             ],
             [
              0.7777777777777778,
              "#fb9f3a"
             ],
             [
              0.8888888888888888,
              "#fdca26"
             ],
             [
              1,
              "#f0f921"
             ]
            ],
            "type": "heatmap"
           }
          ],
          "heatmapgl": [
           {
            "colorbar": {
             "outlinewidth": 0,
             "ticks": ""
            },
            "colorscale": [
             [
              0,
              "#0d0887"
             ],
             [
              0.1111111111111111,
              "#46039f"
             ],
             [
              0.2222222222222222,
              "#7201a8"
             ],
             [
              0.3333333333333333,
              "#9c179e"
             ],
             [
              0.4444444444444444,
              "#bd3786"
             ],
             [
              0.5555555555555556,
              "#d8576b"
             ],
             [
              0.6666666666666666,
              "#ed7953"
             ],
             [
              0.7777777777777778,
              "#fb9f3a"
             ],
             [
              0.8888888888888888,
              "#fdca26"
             ],
             [
              1,
              "#f0f921"
             ]
            ],
            "type": "heatmapgl"
           }
          ],
          "histogram": [
           {
            "marker": {
             "colorbar": {
              "outlinewidth": 0,
              "ticks": ""
             }
            },
            "type": "histogram"
           }
          ],
          "histogram2d": [
           {
            "colorbar": {
             "outlinewidth": 0,
             "ticks": ""
            },
            "colorscale": [
             [
              0,
              "#0d0887"
             ],
             [
              0.1111111111111111,
              "#46039f"
             ],
             [
              0.2222222222222222,
              "#7201a8"
             ],
             [
              0.3333333333333333,
              "#9c179e"
             ],
             [
              0.4444444444444444,
              "#bd3786"
             ],
             [
              0.5555555555555556,
              "#d8576b"
             ],
             [
              0.6666666666666666,
              "#ed7953"
             ],
             [
              0.7777777777777778,
              "#fb9f3a"
             ],
             [
              0.8888888888888888,
              "#fdca26"
             ],
             [
              1,
              "#f0f921"
             ]
            ],
            "type": "histogram2d"
           }
          ],
          "histogram2dcontour": [
           {
            "colorbar": {
             "outlinewidth": 0,
             "ticks": ""
            },
            "colorscale": [
             [
              0,
              "#0d0887"
             ],
             [
              0.1111111111111111,
              "#46039f"
             ],
             [
              0.2222222222222222,
              "#7201a8"
             ],
             [
              0.3333333333333333,
              "#9c179e"
             ],
             [
              0.4444444444444444,
              "#bd3786"
             ],
             [
              0.5555555555555556,
              "#d8576b"
             ],
             [
              0.6666666666666666,
              "#ed7953"
             ],
             [
              0.7777777777777778,
              "#fb9f3a"
             ],
             [
              0.8888888888888888,
              "#fdca26"
             ],
             [
              1,
              "#f0f921"
             ]
            ],
            "type": "histogram2dcontour"
           }
          ],
          "mesh3d": [
           {
            "colorbar": {
             "outlinewidth": 0,
             "ticks": ""
            },
            "type": "mesh3d"
           }
          ],
          "parcoords": [
           {
            "line": {
             "colorbar": {
              "outlinewidth": 0,
              "ticks": ""
             }
            },
            "type": "parcoords"
           }
          ],
          "pie": [
           {
            "automargin": true,
            "type": "pie"
           }
          ],
          "scatter": [
           {
            "marker": {
             "colorbar": {
              "outlinewidth": 0,
              "ticks": ""
             }
            },
            "type": "scatter"
           }
          ],
          "scatter3d": [
           {
            "line": {
             "colorbar": {
              "outlinewidth": 0,
              "ticks": ""
             }
            },
            "marker": {
             "colorbar": {
              "outlinewidth": 0,
              "ticks": ""
             }
            },
            "type": "scatter3d"
           }
          ],
          "scattercarpet": [
           {
            "marker": {
             "colorbar": {
              "outlinewidth": 0,
              "ticks": ""
             }
            },
            "type": "scattercarpet"
           }
          ],
          "scattergeo": [
           {
            "marker": {
             "colorbar": {
              "outlinewidth": 0,
              "ticks": ""
             }
            },
            "type": "scattergeo"
           }
          ],
          "scattergl": [
           {
            "marker": {
             "colorbar": {
              "outlinewidth": 0,
              "ticks": ""
             }
            },
            "type": "scattergl"
           }
          ],
          "scattermapbox": [
           {
            "marker": {
             "colorbar": {
              "outlinewidth": 0,
              "ticks": ""
             }
            },
            "type": "scattermapbox"
           }
          ],
          "scatterpolar": [
           {
            "marker": {
             "colorbar": {
              "outlinewidth": 0,
              "ticks": ""
             }
            },
            "type": "scatterpolar"
           }
          ],
          "scatterpolargl": [
           {
            "marker": {
             "colorbar": {
              "outlinewidth": 0,
              "ticks": ""
             }
            },
            "type": "scatterpolargl"
           }
          ],
          "scatterternary": [
           {
            "marker": {
             "colorbar": {
              "outlinewidth": 0,
              "ticks": ""
             }
            },
            "type": "scatterternary"
           }
          ],
          "surface": [
           {
            "colorbar": {
             "outlinewidth": 0,
             "ticks": ""
            },
            "colorscale": [
             [
              0,
              "#0d0887"
             ],
             [
              0.1111111111111111,
              "#46039f"
             ],
             [
              0.2222222222222222,
              "#7201a8"
             ],
             [
              0.3333333333333333,
              "#9c179e"
             ],
             [
              0.4444444444444444,
              "#bd3786"
             ],
             [
              0.5555555555555556,
              "#d8576b"
             ],
             [
              0.6666666666666666,
              "#ed7953"
             ],
             [
              0.7777777777777778,
              "#fb9f3a"
             ],
             [
              0.8888888888888888,
              "#fdca26"
             ],
             [
              1,
              "#f0f921"
             ]
            ],
            "type": "surface"
           }
          ],
          "table": [
           {
            "cells": {
             "fill": {
              "color": "#EBF0F8"
             },
             "line": {
              "color": "white"
             }
            },
            "header": {
             "fill": {
              "color": "#C8D4E3"
             },
             "line": {
              "color": "white"
             }
            },
            "type": "table"
           }
          ]
         },
         "layout": {
          "annotationdefaults": {
           "arrowcolor": "#2a3f5f",
           "arrowhead": 0,
           "arrowwidth": 1
          },
          "coloraxis": {
           "colorbar": {
            "outlinewidth": 0,
            "ticks": ""
           }
          },
          "colorscale": {
           "diverging": [
            [
             0,
             "#8e0152"
            ],
            [
             0.1,
             "#c51b7d"
            ],
            [
             0.2,
             "#de77ae"
            ],
            [
             0.3,
             "#f1b6da"
            ],
            [
             0.4,
             "#fde0ef"
            ],
            [
             0.5,
             "#f7f7f7"
            ],
            [
             0.6,
             "#e6f5d0"
            ],
            [
             0.7,
             "#b8e186"
            ],
            [
             0.8,
             "#7fbc41"
            ],
            [
             0.9,
             "#4d9221"
            ],
            [
             1,
             "#276419"
            ]
           ],
           "sequential": [
            [
             0,
             "#0d0887"
            ],
            [
             0.1111111111111111,
             "#46039f"
            ],
            [
             0.2222222222222222,
             "#7201a8"
            ],
            [
             0.3333333333333333,
             "#9c179e"
            ],
            [
             0.4444444444444444,
             "#bd3786"
            ],
            [
             0.5555555555555556,
             "#d8576b"
            ],
            [
             0.6666666666666666,
             "#ed7953"
            ],
            [
             0.7777777777777778,
             "#fb9f3a"
            ],
            [
             0.8888888888888888,
             "#fdca26"
            ],
            [
             1,
             "#f0f921"
            ]
           ],
           "sequentialminus": [
            [
             0,
             "#0d0887"
            ],
            [
             0.1111111111111111,
             "#46039f"
            ],
            [
             0.2222222222222222,
             "#7201a8"
            ],
            [
             0.3333333333333333,
             "#9c179e"
            ],
            [
             0.4444444444444444,
             "#bd3786"
            ],
            [
             0.5555555555555556,
             "#d8576b"
            ],
            [
             0.6666666666666666,
             "#ed7953"
            ],
            [
             0.7777777777777778,
             "#fb9f3a"
            ],
            [
             0.8888888888888888,
             "#fdca26"
            ],
            [
             1,
             "#f0f921"
            ]
           ]
          },
          "colorway": [
           "#636efa",
           "#EF553B",
           "#00cc96",
           "#ab63fa",
           "#FFA15A",
           "#19d3f3",
           "#FF6692",
           "#B6E880",
           "#FF97FF",
           "#FECB52"
          ],
          "font": {
           "color": "#2a3f5f"
          },
          "geo": {
           "bgcolor": "white",
           "lakecolor": "white",
           "landcolor": "#E5ECF6",
           "showlakes": true,
           "showland": true,
           "subunitcolor": "white"
          },
          "hoverlabel": {
           "align": "left"
          },
          "hovermode": "closest",
          "mapbox": {
           "style": "light"
          },
          "paper_bgcolor": "white",
          "plot_bgcolor": "#E5ECF6",
          "polar": {
           "angularaxis": {
            "gridcolor": "white",
            "linecolor": "white",
            "ticks": ""
           },
           "bgcolor": "#E5ECF6",
           "radialaxis": {
            "gridcolor": "white",
            "linecolor": "white",
            "ticks": ""
           }
          },
          "scene": {
           "xaxis": {
            "backgroundcolor": "#E5ECF6",
            "gridcolor": "white",
            "gridwidth": 2,
            "linecolor": "white",
            "showbackground": true,
            "ticks": "",
            "zerolinecolor": "white"
           },
           "yaxis": {
            "backgroundcolor": "#E5ECF6",
            "gridcolor": "white",
            "gridwidth": 2,
            "linecolor": "white",
            "showbackground": true,
            "ticks": "",
            "zerolinecolor": "white"
           },
           "zaxis": {
            "backgroundcolor": "#E5ECF6",
            "gridcolor": "white",
            "gridwidth": 2,
            "linecolor": "white",
            "showbackground": true,
            "ticks": "",
            "zerolinecolor": "white"
           }
          },
          "shapedefaults": {
           "line": {
            "color": "#2a3f5f"
           }
          },
          "ternary": {
           "aaxis": {
            "gridcolor": "white",
            "linecolor": "white",
            "ticks": ""
           },
           "baxis": {
            "gridcolor": "white",
            "linecolor": "white",
            "ticks": ""
           },
           "bgcolor": "#E5ECF6",
           "caxis": {
            "gridcolor": "white",
            "linecolor": "white",
            "ticks": ""
           }
          },
          "title": {
           "x": 0.05
          },
          "xaxis": {
           "automargin": true,
           "gridcolor": "white",
           "linecolor": "white",
           "ticks": "",
           "title": {
            "standoff": 15
           },
           "zerolinecolor": "white",
           "zerolinewidth": 2
          },
          "yaxis": {
           "automargin": true,
           "gridcolor": "white",
           "linecolor": "white",
           "ticks": "",
           "title": {
            "standoff": 15
           },
           "zerolinecolor": "white",
           "zerolinewidth": 2
          }
         }
        },
        "title": {
         "text": "S&P500 historic"
        },
        "xaxis": {
         "title": {
          "text": "Year"
         }
        },
        "yaxis": {
         "title": {
          "text": "Price"
         }
        }
       }
      },
      "text/html": [
       "<div>\n",
       "        \n",
       "        \n",
       "            <div id=\"7a4b57d2-04d1-4cd3-bc30-f5ca2d555c1c\" class=\"plotly-graph-div\" style=\"height:525px; width:100%;\"></div>\n",
       "            <script type=\"text/javascript\">\n",
       "                require([\"plotly\"], function(Plotly) {\n",
       "                    window.PLOTLYENV=window.PLOTLYENV || {};\n",
       "                    \n",
       "                if (document.getElementById(\"7a4b57d2-04d1-4cd3-bc30-f5ca2d555c1c\")) {\n",
       "                    Plotly.newPlot(\n",
       "                        '7a4b57d2-04d1-4cd3-bc30-f5ca2d555c1c',\n",
       "                        [{\"type\": \"scatter\", \"x\": [1950, 1951, 1952, 1953, 1954, 1955, 1956, 1957, 1958, 1959, 1960, 1961, 1962, 1963, 1964, 1965, 1966, 1967, 1968, 1969, 1970, 1971, 1972, 1973, 1974, 1975, 1976, 1977, 1978, 1979, 1980, 1981, 1982, 1983, 1984, 1985, 1986, 1987, 1988, 1989, 1990, 1991, 1992, 1993, 1994, 1995, 1996, 1997, 1998, 1999, 2000, 2001, 2002, 2003, 2004, 2005, 2006, 2007, 2008, 2009, 2010, 2011, 2012, 2013, 2014, 2015, 2016, 2017, 2018, 2019], \"y\": [20.43, 23.77, 26.57, 24.809998999999998, 35.98, 45.48, 46.669998, 39.990002000000004, 55.209998999999996, 59.889998999999996, 58.110001000000004, 71.550003, 63.099998, 75.019997, 84.75, 92.43, 80.33000200000001, 96.470001, 103.860001, 92.059998, 92.1500015258789, 102.08999633789062, 118.05000305175781, 97.55000305175781, 68.55999755859375, 90.19000244140625, 107.45999908447266, 95.0999984741211, 96.11000061035156, 107.94000244140625, 135.75999450683594, 122.55000305175781, 140.63999938964844, 164.92999267578125, 167.24000549316406, 211.27999877929688, 242.1699981689453, 247.0800018310547, 277.7200012207031, 353.3999938964844, 330.2200012207031, 417.0899963378906, 435.7099914550781, 466.45001220703125, 459.2699890136719, 615.9299926757812, 740.739990234375, 970.4299926757812, 1229.22998046875, 1469.25, 1320.280029296875, 1148.0799560546875, 879.8200073242188, 1111.9200439453125, 1211.9200439453125, 1248.2900390625, 1418.300048828125, 1468.3599853515625, 903.25, 1115.0999755859375, 1257.6400146484375, 1257.5999755859375, 1426.18994140625, 1848.3599853515625, 2058.89990234375, 2043.93994140625, 2238.830078125, 2673.610107421875, 2506.85009765625, 3230.780029296875]}],\n",
       "                        {\"hovermode\": \"x\", \"template\": {\"data\": {\"bar\": [{\"error_x\": {\"color\": \"#2a3f5f\"}, \"error_y\": {\"color\": \"#2a3f5f\"}, \"marker\": {\"line\": {\"color\": \"#E5ECF6\", \"width\": 0.5}}, \"type\": \"bar\"}], \"barpolar\": [{\"marker\": {\"line\": {\"color\": \"#E5ECF6\", \"width\": 0.5}}, \"type\": \"barpolar\"}], \"carpet\": [{\"aaxis\": {\"endlinecolor\": \"#2a3f5f\", \"gridcolor\": \"white\", \"linecolor\": \"white\", \"minorgridcolor\": \"white\", \"startlinecolor\": \"#2a3f5f\"}, \"baxis\": {\"endlinecolor\": \"#2a3f5f\", \"gridcolor\": \"white\", \"linecolor\": \"white\", \"minorgridcolor\": \"white\", \"startlinecolor\": \"#2a3f5f\"}, \"type\": \"carpet\"}], \"choropleth\": [{\"colorbar\": {\"outlinewidth\": 0, \"ticks\": \"\"}, \"type\": \"choropleth\"}], \"contour\": [{\"colorbar\": {\"outlinewidth\": 0, \"ticks\": \"\"}, \"colorscale\": [[0.0, \"#0d0887\"], [0.1111111111111111, \"#46039f\"], [0.2222222222222222, \"#7201a8\"], [0.3333333333333333, \"#9c179e\"], [0.4444444444444444, \"#bd3786\"], [0.5555555555555556, \"#d8576b\"], [0.6666666666666666, \"#ed7953\"], [0.7777777777777778, \"#fb9f3a\"], [0.8888888888888888, \"#fdca26\"], [1.0, \"#f0f921\"]], \"type\": \"contour\"}], \"contourcarpet\": [{\"colorbar\": {\"outlinewidth\": 0, \"ticks\": \"\"}, \"type\": \"contourcarpet\"}], \"heatmap\": [{\"colorbar\": {\"outlinewidth\": 0, \"ticks\": \"\"}, \"colorscale\": [[0.0, \"#0d0887\"], [0.1111111111111111, \"#46039f\"], [0.2222222222222222, \"#7201a8\"], [0.3333333333333333, \"#9c179e\"], [0.4444444444444444, \"#bd3786\"], [0.5555555555555556, \"#d8576b\"], [0.6666666666666666, \"#ed7953\"], [0.7777777777777778, \"#fb9f3a\"], [0.8888888888888888, \"#fdca26\"], [1.0, \"#f0f921\"]], \"type\": \"heatmap\"}], \"heatmapgl\": [{\"colorbar\": {\"outlinewidth\": 0, \"ticks\": \"\"}, \"colorscale\": [[0.0, \"#0d0887\"], [0.1111111111111111, \"#46039f\"], [0.2222222222222222, \"#7201a8\"], [0.3333333333333333, \"#9c179e\"], [0.4444444444444444, \"#bd3786\"], [0.5555555555555556, \"#d8576b\"], [0.6666666666666666, \"#ed7953\"], [0.7777777777777778, \"#fb9f3a\"], [0.8888888888888888, \"#fdca26\"], [1.0, \"#f0f921\"]], \"type\": \"heatmapgl\"}], \"histogram\": [{\"marker\": {\"colorbar\": {\"outlinewidth\": 0, \"ticks\": \"\"}}, \"type\": \"histogram\"}], \"histogram2d\": [{\"colorbar\": {\"outlinewidth\": 0, \"ticks\": \"\"}, \"colorscale\": [[0.0, \"#0d0887\"], [0.1111111111111111, \"#46039f\"], [0.2222222222222222, \"#7201a8\"], [0.3333333333333333, \"#9c179e\"], [0.4444444444444444, \"#bd3786\"], [0.5555555555555556, \"#d8576b\"], [0.6666666666666666, \"#ed7953\"], [0.7777777777777778, \"#fb9f3a\"], [0.8888888888888888, \"#fdca26\"], [1.0, \"#f0f921\"]], \"type\": \"histogram2d\"}], \"histogram2dcontour\": [{\"colorbar\": {\"outlinewidth\": 0, \"ticks\": \"\"}, \"colorscale\": [[0.0, \"#0d0887\"], [0.1111111111111111, \"#46039f\"], [0.2222222222222222, \"#7201a8\"], [0.3333333333333333, \"#9c179e\"], [0.4444444444444444, \"#bd3786\"], [0.5555555555555556, \"#d8576b\"], [0.6666666666666666, \"#ed7953\"], [0.7777777777777778, \"#fb9f3a\"], [0.8888888888888888, \"#fdca26\"], [1.0, \"#f0f921\"]], \"type\": \"histogram2dcontour\"}], \"mesh3d\": [{\"colorbar\": {\"outlinewidth\": 0, \"ticks\": \"\"}, \"type\": \"mesh3d\"}], \"parcoords\": [{\"line\": {\"colorbar\": {\"outlinewidth\": 0, \"ticks\": \"\"}}, \"type\": \"parcoords\"}], \"pie\": [{\"automargin\": true, \"type\": \"pie\"}], \"scatter\": [{\"marker\": {\"colorbar\": {\"outlinewidth\": 0, \"ticks\": \"\"}}, \"type\": \"scatter\"}], \"scatter3d\": [{\"line\": {\"colorbar\": {\"outlinewidth\": 0, \"ticks\": \"\"}}, \"marker\": {\"colorbar\": {\"outlinewidth\": 0, \"ticks\": \"\"}}, \"type\": \"scatter3d\"}], \"scattercarpet\": [{\"marker\": {\"colorbar\": {\"outlinewidth\": 0, \"ticks\": \"\"}}, \"type\": \"scattercarpet\"}], \"scattergeo\": [{\"marker\": {\"colorbar\": {\"outlinewidth\": 0, \"ticks\": \"\"}}, \"type\": \"scattergeo\"}], \"scattergl\": [{\"marker\": {\"colorbar\": {\"outlinewidth\": 0, \"ticks\": \"\"}}, \"type\": \"scattergl\"}], \"scattermapbox\": [{\"marker\": {\"colorbar\": {\"outlinewidth\": 0, \"ticks\": \"\"}}, \"type\": \"scattermapbox\"}], \"scatterpolar\": [{\"marker\": {\"colorbar\": {\"outlinewidth\": 0, \"ticks\": \"\"}}, \"type\": \"scatterpolar\"}], \"scatterpolargl\": [{\"marker\": {\"colorbar\": {\"outlinewidth\": 0, \"ticks\": \"\"}}, \"type\": \"scatterpolargl\"}], \"scatterternary\": [{\"marker\": {\"colorbar\": {\"outlinewidth\": 0, \"ticks\": \"\"}}, \"type\": \"scatterternary\"}], \"surface\": [{\"colorbar\": {\"outlinewidth\": 0, \"ticks\": \"\"}, \"colorscale\": [[0.0, \"#0d0887\"], [0.1111111111111111, \"#46039f\"], [0.2222222222222222, \"#7201a8\"], [0.3333333333333333, \"#9c179e\"], [0.4444444444444444, \"#bd3786\"], [0.5555555555555556, \"#d8576b\"], [0.6666666666666666, \"#ed7953\"], [0.7777777777777778, \"#fb9f3a\"], [0.8888888888888888, \"#fdca26\"], [1.0, \"#f0f921\"]], \"type\": \"surface\"}], \"table\": [{\"cells\": {\"fill\": {\"color\": \"#EBF0F8\"}, \"line\": {\"color\": \"white\"}}, \"header\": {\"fill\": {\"color\": \"#C8D4E3\"}, \"line\": {\"color\": \"white\"}}, \"type\": \"table\"}]}, \"layout\": {\"annotationdefaults\": {\"arrowcolor\": \"#2a3f5f\", \"arrowhead\": 0, \"arrowwidth\": 1}, \"coloraxis\": {\"colorbar\": {\"outlinewidth\": 0, \"ticks\": \"\"}}, \"colorscale\": {\"diverging\": [[0, \"#8e0152\"], [0.1, \"#c51b7d\"], [0.2, \"#de77ae\"], [0.3, \"#f1b6da\"], [0.4, \"#fde0ef\"], [0.5, \"#f7f7f7\"], [0.6, \"#e6f5d0\"], [0.7, \"#b8e186\"], [0.8, \"#7fbc41\"], [0.9, \"#4d9221\"], [1, \"#276419\"]], \"sequential\": [[0.0, \"#0d0887\"], [0.1111111111111111, \"#46039f\"], [0.2222222222222222, \"#7201a8\"], [0.3333333333333333, \"#9c179e\"], [0.4444444444444444, \"#bd3786\"], [0.5555555555555556, \"#d8576b\"], [0.6666666666666666, \"#ed7953\"], [0.7777777777777778, \"#fb9f3a\"], [0.8888888888888888, \"#fdca26\"], [1.0, \"#f0f921\"]], \"sequentialminus\": [[0.0, \"#0d0887\"], [0.1111111111111111, \"#46039f\"], [0.2222222222222222, \"#7201a8\"], [0.3333333333333333, \"#9c179e\"], [0.4444444444444444, \"#bd3786\"], [0.5555555555555556, \"#d8576b\"], [0.6666666666666666, \"#ed7953\"], [0.7777777777777778, \"#fb9f3a\"], [0.8888888888888888, \"#fdca26\"], [1.0, \"#f0f921\"]]}, \"colorway\": [\"#636efa\", \"#EF553B\", \"#00cc96\", \"#ab63fa\", \"#FFA15A\", \"#19d3f3\", \"#FF6692\", \"#B6E880\", \"#FF97FF\", \"#FECB52\"], \"font\": {\"color\": \"#2a3f5f\"}, \"geo\": {\"bgcolor\": \"white\", \"lakecolor\": \"white\", \"landcolor\": \"#E5ECF6\", \"showlakes\": true, \"showland\": true, \"subunitcolor\": \"white\"}, \"hoverlabel\": {\"align\": \"left\"}, \"hovermode\": \"closest\", \"mapbox\": {\"style\": \"light\"}, \"paper_bgcolor\": \"white\", \"plot_bgcolor\": \"#E5ECF6\", \"polar\": {\"angularaxis\": {\"gridcolor\": \"white\", \"linecolor\": \"white\", \"ticks\": \"\"}, \"bgcolor\": \"#E5ECF6\", \"radialaxis\": {\"gridcolor\": \"white\", \"linecolor\": \"white\", \"ticks\": \"\"}}, \"scene\": {\"xaxis\": {\"backgroundcolor\": \"#E5ECF6\", \"gridcolor\": \"white\", \"gridwidth\": 2, \"linecolor\": \"white\", \"showbackground\": true, \"ticks\": \"\", \"zerolinecolor\": \"white\"}, \"yaxis\": {\"backgroundcolor\": \"#E5ECF6\", \"gridcolor\": \"white\", \"gridwidth\": 2, \"linecolor\": \"white\", \"showbackground\": true, \"ticks\": \"\", \"zerolinecolor\": \"white\"}, \"zaxis\": {\"backgroundcolor\": \"#E5ECF6\", \"gridcolor\": \"white\", \"gridwidth\": 2, \"linecolor\": \"white\", \"showbackground\": true, \"ticks\": \"\", \"zerolinecolor\": \"white\"}}, \"shapedefaults\": {\"line\": {\"color\": \"#2a3f5f\"}}, \"ternary\": {\"aaxis\": {\"gridcolor\": \"white\", \"linecolor\": \"white\", \"ticks\": \"\"}, \"baxis\": {\"gridcolor\": \"white\", \"linecolor\": \"white\", \"ticks\": \"\"}, \"bgcolor\": \"#E5ECF6\", \"caxis\": {\"gridcolor\": \"white\", \"linecolor\": \"white\", \"ticks\": \"\"}}, \"title\": {\"x\": 0.05}, \"xaxis\": {\"automargin\": true, \"gridcolor\": \"white\", \"linecolor\": \"white\", \"ticks\": \"\", \"title\": {\"standoff\": 15}, \"zerolinecolor\": \"white\", \"zerolinewidth\": 2}, \"yaxis\": {\"automargin\": true, \"gridcolor\": \"white\", \"linecolor\": \"white\", \"ticks\": \"\", \"title\": {\"standoff\": 15}, \"zerolinecolor\": \"white\", \"zerolinewidth\": 2}}}, \"title\": {\"text\": \"S&P500 historic\"}, \"xaxis\": {\"title\": {\"text\": \"Year\"}}, \"yaxis\": {\"title\": {\"text\": \"Price\"}}},\n",
       "                        {\"responsive\": true}\n",
       "                    ).then(function(){\n",
       "                            \n",
       "var gd = document.getElementById('7a4b57d2-04d1-4cd3-bc30-f5ca2d555c1c');\n",
       "var x = new MutationObserver(function (mutations, observer) {{\n",
       "        var display = window.getComputedStyle(gd).display;\n",
       "        if (!display || display === 'none') {{\n",
       "            console.log([gd, 'removed!']);\n",
       "            Plotly.purge(gd);\n",
       "            observer.disconnect();\n",
       "        }}\n",
       "}});\n",
       "\n",
       "// Listen for the removal of the full notebook cells\n",
       "var notebookContainer = gd.closest('#notebook-container');\n",
       "if (notebookContainer) {{\n",
       "    x.observe(notebookContainer, {childList: true});\n",
       "}}\n",
       "\n",
       "// Listen for the clearing of the current output cell\n",
       "var outputEl = gd.closest('.output');\n",
       "if (outputEl) {{\n",
       "    x.observe(outputEl, {childList: true});\n",
       "}}\n",
       "\n",
       "                        })\n",
       "                };\n",
       "                });\n",
       "            </script>\n",
       "        </div>"
      ]
     },
     "metadata": {},
     "output_type": "display_data"
    }
   ],
   "source": [
    "#Just by looking in to the chart, it;s clear that stay in the market... blabalala\n",
    "#Visualization to show historical trend. Always be in the market. Break-down \n",
    "#by different rolling windows\n",
    "\n",
    "#Resample form day to a year for the historic trend\n",
    "SP500_year=SP500_day.asfreq('Y',method='ffill')\n",
    "SP500_data=go.Scatter(x=SP500_year.index.year,y=SP500_year['Close'])\n",
    "layout=go.Layout(title='S&P500 historic', xaxis=dict(title='Year'),yaxis=dict(title='Price'))\n",
    "fig=go.Figure(data=[SP500_data],layout=layout)\n",
    "fig.update_layout(hovermode=\"x\")\n",
    "fig.show()"
   ]
  },
  {
   "cell_type": "code",
   "execution_count": 17,
   "metadata": {},
   "outputs": [
    {
     "name": "stderr",
     "output_type": "stream",
     "text": [
      "C:\\Users\\lcast\\Anaconda3\\lib\\site-packages\\ipykernel_launcher.py:7: SettingWithCopyWarning:\n",
      "\n",
      "\n",
      "A value is trying to be set on a copy of a slice from a DataFrame\n",
      "\n",
      "See the caveats in the documentation: https://pandas.pydata.org/pandas-docs/stable/user_guide/indexing.html#returning-a-view-versus-a-copy\n",
      "\n"
     ]
    }
   ],
   "source": [
    "#Grow from 16.66 at the beginning og 1950 to 3244.67, almost 19376 %. Constant grow except between 1998and 2011, which emcompasses \n",
    "#the dotcom crisis and real estate crisis of 2009. \n",
    "#Let's take a look to different cumulative periods:\n",
    "SP500_year['Yearly_Change']=SP500_year.Close.pct_change()\n",
    "\n",
    "#Manually calculate the first year % change\n",
    "SP500_year['Yearly_Change'][0]=SP500_year.loc['1950-12-31']['Close']/SP500_day.loc['1950-1-3']['Open']-1\n",
    "\n",
    "\n",
    "SP500_year['Cumulative']= (1+SP500_year['Yearly_Change']).cumprod()-1\n",
    "SP500_year['Cumulative_roll3']= ((1+SP500_year['Yearly_Change']).rolling(3)).apply(np.prod)-1\n",
    "SP500_year['Cumulative_roll5']= ((1+SP500_year['Yearly_Change']).rolling(5)).apply(np.prod)-1\n",
    "SP500_year['Cumulative_roll10']= ((1+SP500_year['Yearly_Change']).rolling(10)).apply(np.prod)-1\n",
    "SP500_year['Cumulative_roll15']= ((1+SP500_year['Yearly_Change']).rolling(15)).apply(np.prod)-1\n",
    "SP500_year['Cumulative_roll20']= ((1+SP500_year['Yearly_Change']).rolling(20)).apply(np.prod)-1\n",
    "\n",
    "\n",
    "\n"
   ]
  },
  {
   "cell_type": "code",
   "execution_count": 18,
   "metadata": {
    "scrolled": false
   },
   "outputs": [
    {
     "data": {
      "application/vnd.plotly.v1+json": {
       "config": {
        "plotlyServerURL": "https://plot.ly"
       },
       "data": [
        {
         "hovertemplate": "%{y:.2%} <extra></extra>",
         "marker": {
          "color": [
           "darkblue",
           "darkblue",
           "darkblue",
           "red",
           "darkblue",
           "darkblue",
           "darkblue",
           "red",
           "darkblue",
           "darkblue",
           "red",
           "darkblue",
           "red",
           "darkblue",
           "darkblue",
           "darkblue",
           "red",
           "darkblue",
           "darkblue",
           "red",
           "darkblue",
           "darkblue",
           "darkblue",
           "red",
           "red",
           "darkblue",
           "darkblue",
           "red",
           "darkblue",
           "darkblue",
           "darkblue",
           "red",
           "darkblue",
           "darkblue",
           "darkblue",
           "darkblue",
           "darkblue",
           "darkblue",
           "darkblue",
           "darkblue",
           "red",
           "darkblue",
           "darkblue",
           "darkblue",
           "red",
           "darkblue",
           "darkblue",
           "darkblue",
           "darkblue",
           "darkblue",
           "red",
           "red",
           "red",
           "darkblue",
           "darkblue",
           "darkblue",
           "darkblue",
           "darkblue",
           "red",
           "darkblue",
           "darkblue",
           "red",
           "darkblue",
           "darkblue",
           "darkblue",
           "red",
           "darkblue",
           "darkblue",
           "red",
           "darkblue"
          ]
         },
         "type": "bar",
         "visible": true,
         "x": [
          1950,
          1951,
          1952,
          1953,
          1954,
          1955,
          1956,
          1957,
          1958,
          1959,
          1960,
          1961,
          1962,
          1963,
          1964,
          1965,
          1966,
          1967,
          1968,
          1969,
          1970,
          1971,
          1972,
          1973,
          1974,
          1975,
          1976,
          1977,
          1978,
          1979,
          1980,
          1981,
          1982,
          1983,
          1984,
          1985,
          1986,
          1987,
          1988,
          1989,
          1990,
          1991,
          1992,
          1993,
          1994,
          1995,
          1996,
          1997,
          1998,
          1999,
          2000,
          2001,
          2002,
          2003,
          2004,
          2005,
          2006,
          2007,
          2008,
          2009,
          2010,
          2011,
          2012,
          2013,
          2014,
          2015,
          2016,
          2017,
          2018,
          2019
         ],
         "y": [
          0.22629051620648255,
          0.16348507097405784,
          0.11779554059739161,
          -0.06624015807301475,
          0.45022174325762765,
          0.26403557531962196,
          0.02616530343007928,
          -0.14313255380898016,
          0.3805950547339305,
          0.08476725384472483,
          -0.029721122553366452,
          0.23128552346781062,
          -0.11809929623622806,
          0.18890648776248775,
          0.12969879217670455,
          0.09061946902654872,
          -0.13090985610732442,
          0.20092118259875047,
          0.07660412484084045,
          -0.1136145088232765,
          0.000977661610191527,
          0.1078675490767107,
          0.15633271903589674,
          -0.1736552263451614,
          -0.297180979869192,
          0.31549016413436637,
          0.19148460112623034,
          -0.11501954881495535,
          0.010620422212785918,
          0.12308814645643174,
          0.2577356997979632,
          -0.09730400699458608,
          0.14761318553578895,
          0.1727104194507032,
          0.014006020250809215,
          0.263334081796194,
          0.14620408731597978,
          0.020275028695685204,
          0.1240084149367906,
          0.2725046534031901,
          -0.06559137825727013,
          0.2630670304526097,
          0.04464263175974903,
          0.07055156263296847,
          -0.01539291029147316,
          0.34110655477087093,
          0.20263666170303285,
          0.3100818174657085,
          0.2666858915596535,
          0.19526046658878404,
          -0.10139184665858436,
          -0.13042693172742603,
          -0.23365963957103564,
          0.2638039993281984,
          0.08993452410946756,
          0.030010226581274946,
          0.136194317382607,
          0.035295730663479574,
          -0.38485793060906714,
          0.2345419048834072,
          0.12782713853760175,
          -3.183666393691276e-05,
          0.1340569092662105,
          0.2960124957332435,
          0.11390633786748117,
          -0.007265997205823549,
          0.09535022667283655,
          0.1941996552328793,
          -0.0623725984962068,
          0.2887807022515845
         ]
        }
       ],
       "layout": {
        "annotations": [
         {
          "showarrow": false,
          "text": "Rolling period:",
          "x": 0,
          "xref": "paper",
          "y": 1.18,
          "yref": "paper"
         }
        ],
        "font": {
         "color": "black"
        },
        "hovermode": "x",
        "template": {
         "data": {
          "bar": [
           {
            "error_x": {
             "color": "#2a3f5f"
            },
            "error_y": {
             "color": "#2a3f5f"
            },
            "marker": {
             "line": {
              "color": "#E5ECF6",
              "width": 0.5
             }
            },
            "type": "bar"
           }
          ],
          "barpolar": [
           {
            "marker": {
             "line": {
              "color": "#E5ECF6",
              "width": 0.5
             }
            },
            "type": "barpolar"
           }
          ],
          "carpet": [
           {
            "aaxis": {
             "endlinecolor": "#2a3f5f",
             "gridcolor": "white",
             "linecolor": "white",
             "minorgridcolor": "white",
             "startlinecolor": "#2a3f5f"
            },
            "baxis": {
             "endlinecolor": "#2a3f5f",
             "gridcolor": "white",
             "linecolor": "white",
             "minorgridcolor": "white",
             "startlinecolor": "#2a3f5f"
            },
            "type": "carpet"
           }
          ],
          "choropleth": [
           {
            "colorbar": {
             "outlinewidth": 0,
             "ticks": ""
            },
            "type": "choropleth"
           }
          ],
          "contour": [
           {
            "colorbar": {
             "outlinewidth": 0,
             "ticks": ""
            },
            "colorscale": [
             [
              0,
              "#0d0887"
             ],
             [
              0.1111111111111111,
              "#46039f"
             ],
             [
              0.2222222222222222,
              "#7201a8"
             ],
             [
              0.3333333333333333,
              "#9c179e"
             ],
             [
              0.4444444444444444,
              "#bd3786"
             ],
             [
              0.5555555555555556,
              "#d8576b"
             ],
             [
              0.6666666666666666,
              "#ed7953"
             ],
             [
              0.7777777777777778,
              "#fb9f3a"
             ],
             [
              0.8888888888888888,
              "#fdca26"
             ],
             [
              1,
              "#f0f921"
             ]
            ],
            "type": "contour"
           }
          ],
          "contourcarpet": [
           {
            "colorbar": {
             "outlinewidth": 0,
             "ticks": ""
            },
            "type": "contourcarpet"
           }
          ],
          "heatmap": [
           {
            "colorbar": {
             "outlinewidth": 0,
             "ticks": ""
            },
            "colorscale": [
             [
              0,
              "#0d0887"
             ],
             [
              0.1111111111111111,
              "#46039f"
             ],
             [
              0.2222222222222222,
              "#7201a8"
             ],
             [
              0.3333333333333333,
              "#9c179e"
             ],
             [
              0.4444444444444444,
              "#bd3786"
             ],
             [
              0.5555555555555556,
              "#d8576b"
             ],
             [
              0.6666666666666666,
              "#ed7953"
             ],
             [
              0.7777777777777778,
              "#fb9f3a"
             ],
             [
              0.8888888888888888,
              "#fdca26"
             ],
             [
              1,
              "#f0f921"
             ]
            ],
            "type": "heatmap"
           }
          ],
          "heatmapgl": [
           {
            "colorbar": {
             "outlinewidth": 0,
             "ticks": ""
            },
            "colorscale": [
             [
              0,
              "#0d0887"
             ],
             [
              0.1111111111111111,
              "#46039f"
             ],
             [
              0.2222222222222222,
              "#7201a8"
             ],
             [
              0.3333333333333333,
              "#9c179e"
             ],
             [
              0.4444444444444444,
              "#bd3786"
             ],
             [
              0.5555555555555556,
              "#d8576b"
             ],
             [
              0.6666666666666666,
              "#ed7953"
             ],
             [
              0.7777777777777778,
              "#fb9f3a"
             ],
             [
              0.8888888888888888,
              "#fdca26"
             ],
             [
              1,
              "#f0f921"
             ]
            ],
            "type": "heatmapgl"
           }
          ],
          "histogram": [
           {
            "marker": {
             "colorbar": {
              "outlinewidth": 0,
              "ticks": ""
             }
            },
            "type": "histogram"
           }
          ],
          "histogram2d": [
           {
            "colorbar": {
             "outlinewidth": 0,
             "ticks": ""
            },
            "colorscale": [
             [
              0,
              "#0d0887"
             ],
             [
              0.1111111111111111,
              "#46039f"
             ],
             [
              0.2222222222222222,
              "#7201a8"
             ],
             [
              0.3333333333333333,
              "#9c179e"
             ],
             [
              0.4444444444444444,
              "#bd3786"
             ],
             [
              0.5555555555555556,
              "#d8576b"
             ],
             [
              0.6666666666666666,
              "#ed7953"
             ],
             [
              0.7777777777777778,
              "#fb9f3a"
             ],
             [
              0.8888888888888888,
              "#fdca26"
             ],
             [
              1,
              "#f0f921"
             ]
            ],
            "type": "histogram2d"
           }
          ],
          "histogram2dcontour": [
           {
            "colorbar": {
             "outlinewidth": 0,
             "ticks": ""
            },
            "colorscale": [
             [
              0,
              "#0d0887"
             ],
             [
              0.1111111111111111,
              "#46039f"
             ],
             [
              0.2222222222222222,
              "#7201a8"
             ],
             [
              0.3333333333333333,
              "#9c179e"
             ],
             [
              0.4444444444444444,
              "#bd3786"
             ],
             [
              0.5555555555555556,
              "#d8576b"
             ],
             [
              0.6666666666666666,
              "#ed7953"
             ],
             [
              0.7777777777777778,
              "#fb9f3a"
             ],
             [
              0.8888888888888888,
              "#fdca26"
             ],
             [
              1,
              "#f0f921"
             ]
            ],
            "type": "histogram2dcontour"
           }
          ],
          "mesh3d": [
           {
            "colorbar": {
             "outlinewidth": 0,
             "ticks": ""
            },
            "type": "mesh3d"
           }
          ],
          "parcoords": [
           {
            "line": {
             "colorbar": {
              "outlinewidth": 0,
              "ticks": ""
             }
            },
            "type": "parcoords"
           }
          ],
          "pie": [
           {
            "automargin": true,
            "type": "pie"
           }
          ],
          "scatter": [
           {
            "marker": {
             "colorbar": {
              "outlinewidth": 0,
              "ticks": ""
             }
            },
            "type": "scatter"
           }
          ],
          "scatter3d": [
           {
            "line": {
             "colorbar": {
              "outlinewidth": 0,
              "ticks": ""
             }
            },
            "marker": {
             "colorbar": {
              "outlinewidth": 0,
              "ticks": ""
             }
            },
            "type": "scatter3d"
           }
          ],
          "scattercarpet": [
           {
            "marker": {
             "colorbar": {
              "outlinewidth": 0,
              "ticks": ""
             }
            },
            "type": "scattercarpet"
           }
          ],
          "scattergeo": [
           {
            "marker": {
             "colorbar": {
              "outlinewidth": 0,
              "ticks": ""
             }
            },
            "type": "scattergeo"
           }
          ],
          "scattergl": [
           {
            "marker": {
             "colorbar": {
              "outlinewidth": 0,
              "ticks": ""
             }
            },
            "type": "scattergl"
           }
          ],
          "scattermapbox": [
           {
            "marker": {
             "colorbar": {
              "outlinewidth": 0,
              "ticks": ""
             }
            },
            "type": "scattermapbox"
           }
          ],
          "scatterpolar": [
           {
            "marker": {
             "colorbar": {
              "outlinewidth": 0,
              "ticks": ""
             }
            },
            "type": "scatterpolar"
           }
          ],
          "scatterpolargl": [
           {
            "marker": {
             "colorbar": {
              "outlinewidth": 0,
              "ticks": ""
             }
            },
            "type": "scatterpolargl"
           }
          ],
          "scatterternary": [
           {
            "marker": {
             "colorbar": {
              "outlinewidth": 0,
              "ticks": ""
             }
            },
            "type": "scatterternary"
           }
          ],
          "surface": [
           {
            "colorbar": {
             "outlinewidth": 0,
             "ticks": ""
            },
            "colorscale": [
             [
              0,
              "#0d0887"
             ],
             [
              0.1111111111111111,
              "#46039f"
             ],
             [
              0.2222222222222222,
              "#7201a8"
             ],
             [
              0.3333333333333333,
              "#9c179e"
             ],
             [
              0.4444444444444444,
              "#bd3786"
             ],
             [
              0.5555555555555556,
              "#d8576b"
             ],
             [
              0.6666666666666666,
              "#ed7953"
             ],
             [
              0.7777777777777778,
              "#fb9f3a"
             ],
             [
              0.8888888888888888,
              "#fdca26"
             ],
             [
              1,
              "#f0f921"
             ]
            ],
            "type": "surface"
           }
          ],
          "table": [
           {
            "cells": {
             "fill": {
              "color": "#EBF0F8"
             },
             "line": {
              "color": "white"
             }
            },
            "header": {
             "fill": {
              "color": "#C8D4E3"
             },
             "line": {
              "color": "white"
             }
            },
            "type": "table"
           }
          ]
         },
         "layout": {
          "annotationdefaults": {
           "arrowcolor": "#2a3f5f",
           "arrowhead": 0,
           "arrowwidth": 1
          },
          "coloraxis": {
           "colorbar": {
            "outlinewidth": 0,
            "ticks": ""
           }
          },
          "colorscale": {
           "diverging": [
            [
             0,
             "#8e0152"
            ],
            [
             0.1,
             "#c51b7d"
            ],
            [
             0.2,
             "#de77ae"
            ],
            [
             0.3,
             "#f1b6da"
            ],
            [
             0.4,
             "#fde0ef"
            ],
            [
             0.5,
             "#f7f7f7"
            ],
            [
             0.6,
             "#e6f5d0"
            ],
            [
             0.7,
             "#b8e186"
            ],
            [
             0.8,
             "#7fbc41"
            ],
            [
             0.9,
             "#4d9221"
            ],
            [
             1,
             "#276419"
            ]
           ],
           "sequential": [
            [
             0,
             "#0d0887"
            ],
            [
             0.1111111111111111,
             "#46039f"
            ],
            [
             0.2222222222222222,
             "#7201a8"
            ],
            [
             0.3333333333333333,
             "#9c179e"
            ],
            [
             0.4444444444444444,
             "#bd3786"
            ],
            [
             0.5555555555555556,
             "#d8576b"
            ],
            [
             0.6666666666666666,
             "#ed7953"
            ],
            [
             0.7777777777777778,
             "#fb9f3a"
            ],
            [
             0.8888888888888888,
             "#fdca26"
            ],
            [
             1,
             "#f0f921"
            ]
           ],
           "sequentialminus": [
            [
             0,
             "#0d0887"
            ],
            [
             0.1111111111111111,
             "#46039f"
            ],
            [
             0.2222222222222222,
             "#7201a8"
            ],
            [
             0.3333333333333333,
             "#9c179e"
            ],
            [
             0.4444444444444444,
             "#bd3786"
            ],
            [
             0.5555555555555556,
             "#d8576b"
            ],
            [
             0.6666666666666666,
             "#ed7953"
            ],
            [
             0.7777777777777778,
             "#fb9f3a"
            ],
            [
             0.8888888888888888,
             "#fdca26"
            ],
            [
             1,
             "#f0f921"
            ]
           ]
          },
          "colorway": [
           "#636efa",
           "#EF553B",
           "#00cc96",
           "#ab63fa",
           "#FFA15A",
           "#19d3f3",
           "#FF6692",
           "#B6E880",
           "#FF97FF",
           "#FECB52"
          ],
          "font": {
           "color": "#2a3f5f"
          },
          "geo": {
           "bgcolor": "white",
           "lakecolor": "white",
           "landcolor": "#E5ECF6",
           "showlakes": true,
           "showland": true,
           "subunitcolor": "white"
          },
          "hoverlabel": {
           "align": "left"
          },
          "hovermode": "closest",
          "mapbox": {
           "style": "light"
          },
          "paper_bgcolor": "white",
          "plot_bgcolor": "#E5ECF6",
          "polar": {
           "angularaxis": {
            "gridcolor": "white",
            "linecolor": "white",
            "ticks": ""
           },
           "bgcolor": "#E5ECF6",
           "radialaxis": {
            "gridcolor": "white",
            "linecolor": "white",
            "ticks": ""
           }
          },
          "scene": {
           "xaxis": {
            "backgroundcolor": "#E5ECF6",
            "gridcolor": "white",
            "gridwidth": 2,
            "linecolor": "white",
            "showbackground": true,
            "ticks": "",
            "zerolinecolor": "white"
           },
           "yaxis": {
            "backgroundcolor": "#E5ECF6",
            "gridcolor": "white",
            "gridwidth": 2,
            "linecolor": "white",
            "showbackground": true,
            "ticks": "",
            "zerolinecolor": "white"
           },
           "zaxis": {
            "backgroundcolor": "#E5ECF6",
            "gridcolor": "white",
            "gridwidth": 2,
            "linecolor": "white",
            "showbackground": true,
            "ticks": "",
            "zerolinecolor": "white"
           }
          },
          "shapedefaults": {
           "line": {
            "color": "#2a3f5f"
           }
          },
          "ternary": {
           "aaxis": {
            "gridcolor": "white",
            "linecolor": "white",
            "ticks": ""
           },
           "baxis": {
            "gridcolor": "white",
            "linecolor": "white",
            "ticks": ""
           },
           "bgcolor": "#E5ECF6",
           "caxis": {
            "gridcolor": "white",
            "linecolor": "white",
            "ticks": ""
           }
          },
          "title": {
           "x": 0.05
          },
          "xaxis": {
           "automargin": true,
           "gridcolor": "white",
           "linecolor": "white",
           "ticks": "",
           "title": {
            "standoff": 15
           },
           "zerolinecolor": "white",
           "zerolinewidth": 2
          },
          "yaxis": {
           "automargin": true,
           "gridcolor": "white",
           "linecolor": "white",
           "ticks": "",
           "title": {
            "standoff": 15
           },
           "zerolinecolor": "white",
           "zerolinewidth": 2
          }
         }
        },
        "title": {
         "text": "Cumulative % change by rolling period",
         "x": 0,
         "xref": "container",
         "y": 0.99,
         "yref": "container"
        },
        "updatemenus": [
         {
          "buttons": [
           {
            "args": [
             {
              "marker.color": [
               [
                "darkblue",
                "darkblue",
                "darkblue",
                "red",
                "darkblue",
                "darkblue",
                "darkblue",
                "red",
                "darkblue",
                "darkblue",
                "red",
                "darkblue",
                "red",
                "darkblue",
                "darkblue",
                "darkblue",
                "red",
                "darkblue",
                "darkblue",
                "red",
                "darkblue",
                "darkblue",
                "darkblue",
                "red",
                "red",
                "darkblue",
                "darkblue",
                "red",
                "darkblue",
                "darkblue",
                "darkblue",
                "red",
                "darkblue",
                "darkblue",
                "darkblue",
                "darkblue",
                "darkblue",
                "darkblue",
                "darkblue",
                "darkblue",
                "red",
                "darkblue",
                "darkblue",
                "darkblue",
                "red",
                "darkblue",
                "darkblue",
                "darkblue",
                "darkblue",
                "darkblue",
                "red",
                "red",
                "red",
                "darkblue",
                "darkblue",
                "darkblue",
                "darkblue",
                "darkblue",
                "red",
                "darkblue",
                "darkblue",
                "red",
                "darkblue",
                "darkblue",
                "darkblue",
                "red",
                "darkblue",
                "darkblue",
                "red",
                "darkblue"
               ]
              ],
              "type": "bar",
              "x": [
               [
                1950,
                1951,
                1952,
                1953,
                1954,
                1955,
                1956,
                1957,
                1958,
                1959,
                1960,
                1961,
                1962,
                1963,
                1964,
                1965,
                1966,
                1967,
                1968,
                1969,
                1970,
                1971,
                1972,
                1973,
                1974,
                1975,
                1976,
                1977,
                1978,
                1979,
                1980,
                1981,
                1982,
                1983,
                1984,
                1985,
                1986,
                1987,
                1988,
                1989,
                1990,
                1991,
                1992,
                1993,
                1994,
                1995,
                1996,
                1997,
                1998,
                1999,
                2000,
                2001,
                2002,
                2003,
                2004,
                2005,
                2006,
                2007,
                2008,
                2009,
                2010,
                2011,
                2012,
                2013,
                2014,
                2015,
                2016,
                2017,
                2018,
                2019
               ]
              ],
              "y": [
               [
                0.22629051620648255,
                0.16348507097405784,
                0.11779554059739161,
                -0.06624015807301475,
                0.45022174325762765,
                0.26403557531962196,
                0.02616530343007928,
                -0.14313255380898016,
                0.3805950547339305,
                0.08476725384472483,
                -0.029721122553366452,
                0.23128552346781062,
                -0.11809929623622806,
                0.18890648776248775,
                0.12969879217670455,
                0.09061946902654872,
                -0.13090985610732442,
                0.20092118259875047,
                0.07660412484084045,
                -0.1136145088232765,
                0.000977661610191527,
                0.1078675490767107,
                0.15633271903589674,
                -0.1736552263451614,
                -0.297180979869192,
                0.31549016413436637,
                0.19148460112623034,
                -0.11501954881495535,
                0.010620422212785918,
                0.12308814645643174,
                0.2577356997979632,
                -0.09730400699458608,
                0.14761318553578895,
                0.1727104194507032,
                0.014006020250809215,
                0.263334081796194,
                0.14620408731597978,
                0.020275028695685204,
                0.1240084149367906,
                0.2725046534031901,
                -0.06559137825727013,
                0.2630670304526097,
                0.04464263175974903,
                0.07055156263296847,
                -0.01539291029147316,
                0.34110655477087093,
                0.20263666170303285,
                0.3100818174657085,
                0.2666858915596535,
                0.19526046658878404,
                -0.10139184665858436,
                -0.13042693172742603,
                -0.23365963957103564,
                0.2638039993281984,
                0.08993452410946756,
                0.030010226581274946,
                0.136194317382607,
                0.035295730663479574,
                -0.38485793060906714,
                0.2345419048834072,
                0.12782713853760175,
                -3.183666393691276e-05,
                0.1340569092662105,
                0.2960124957332435,
                0.11390633786748117,
                -0.007265997205823549,
                0.09535022667283655,
                0.1941996552328793,
                -0.0623725984962068,
                0.2887807022515845
               ]
              ]
             }
            ],
            "label": "1 year",
            "method": "restyle",
            "visible": true
           },
           {
            "args": [
             {
              "marker.color": [
               [
                "darkblue",
                "darkblue",
                "darkblue",
                "darkblue",
                "darkblue",
                "darkblue",
                "darkblue",
                "darkblue",
                "darkblue",
                "darkblue",
                "darkblue",
                "darkblue",
                "darkblue",
                "darkblue",
                "darkblue",
                "darkblue",
                "darkblue",
                "darkblue",
                "darkblue",
                "darkblue",
                "red",
                "red",
                "darkblue",
                "darkblue",
                "red",
                "red",
                "darkblue",
                "darkblue",
                "darkblue",
                "darkblue",
                "darkblue",
                "darkblue",
                "darkblue",
                "darkblue",
                "darkblue",
                "darkblue",
                "darkblue",
                "darkblue",
                "darkblue",
                "darkblue",
                "darkblue",
                "darkblue",
                "darkblue",
                "darkblue",
                "darkblue",
                "darkblue",
                "darkblue",
                "darkblue",
                "darkblue",
                "darkblue",
                "darkblue",
                "red",
                "red",
                "red",
                "darkblue",
                "darkblue",
                "darkblue",
                "darkblue",
                "red",
                "red",
                "red",
                "darkblue",
                "darkblue",
                "darkblue",
                "darkblue",
                "darkblue",
                "darkblue",
                "darkblue",
                "darkblue",
                "darkblue"
               ]
              ],
              "type": "bar",
              "x": [
               [
                1950,
                1951,
                1952,
                1953,
                1954,
                1955,
                1956,
                1957,
                1958,
                1959,
                1960,
                1961,
                1962,
                1963,
                1964,
                1965,
                1966,
                1967,
                1968,
                1969,
                1970,
                1971,
                1972,
                1973,
                1974,
                1975,
                1976,
                1977,
                1978,
                1979,
                1980,
                1981,
                1982,
                1983,
                1984,
                1985,
                1986,
                1987,
                1988,
                1989,
                1990,
                1991,
                1992,
                1993,
                1994,
                1995,
                1996,
                1997,
                1998,
                1999,
                2000,
                2001,
                2002,
                2003,
                2004,
                2005,
                2006,
                2007,
                2008,
                2009,
                2010,
                2011,
                2012,
                2013,
                2014,
                2015,
                2016,
                2017,
                2018,
                2019
               ]
              ],
              "y": [
               [
                null,
                null,
                0.5948379351740696,
                0.21439055310817423,
                0.5136726966764826,
                0.7117049303726006,
                0.8810963273315731,
                0.11145086158977224,
                0.21394017150395772,
                0.28326551460319305,
                0.4531132306520014,
                0.2959609544640638,
                0.053598247680718636,
                0.29099975406987144,
                0.18448632350162164,
                0.4648177960322599,
                0.07078119451271125,
                0.13828909734513273,
                0.12366115979660286,
                0.14602260311159942,
                -0.04478075494288736,
                -0.017042216879137095,
                0.28231594195513443,
                0.05860012410702331,
                -0.3284356938198091,
                -0.23600169326667975,
                0.10158888490712648,
                0.38710621150249236,
                0.0656391840413948,
                0.0044668096130939805,
                0.4275499125668163,
                0.27510146991465656,
                0.302946046031386,
                0.2148644619124267,
                0.3646674935008518,
                0.5022753106954845,
                0.4683199473912676,
                0.477397714156103,
                0.3144642314713826,
                0.45930543241752675,
                0.3364902006375119,
                0.5018363621798727,
                0.23290888223021167,
                0.41254318479418384,
                0.10112923600692314,
                0.41362375147480135,
                0.5880372405384386,
                1.1129836825608317,
                0.9957300262788193,
                0.9834895096390295,
                0.36051032971110764,
                -0.06601695834258536,
                -0.40117746651405906,
                -0.15781499434065227,
                0.05560595980615135,
                0.41880160563625135,
                0.275541399357921,
                0.21159806926819158,
                -0.27641015169970806,
                -0.2137771013211961,
                -0.14350702334936838,
                0.39230553621471076,
                0.2789794391815388,
                0.46970513328351426,
                0.6371659846641402,
                0.43314707393805274,
                0.21125218889607655,
                0.2985624528799915,
                0.2264793337966251,
                0.4430662071516498
               ]
              ]
             }
            ],
            "label": "3 years",
            "method": "restyle",
            "visible": true
           },
           {
            "args": [
             {
              "marker.color": [
               [
                "darkblue",
                "darkblue",
                "darkblue",
                "darkblue",
                "darkblue",
                "darkblue",
                "darkblue",
                "darkblue",
                "darkblue",
                "darkblue",
                "darkblue",
                "darkblue",
                "darkblue",
                "darkblue",
                "darkblue",
                "darkblue",
                "darkblue",
                "darkblue",
                "darkblue",
                "darkblue",
                "red",
                "darkblue",
                "darkblue",
                "red",
                "red",
                "red",
                "darkblue",
                "red",
                "red",
                "darkblue",
                "darkblue",
                "darkblue",
                "darkblue",
                "darkblue",
                "darkblue",
                "darkblue",
                "darkblue",
                "darkblue",
                "darkblue",
                "darkblue",
                "darkblue",
                "darkblue",
                "darkblue",
                "darkblue",
                "darkblue",
                "darkblue",
                "darkblue",
                "darkblue",
                "darkblue",
                "darkblue",
                "darkblue",
                "darkblue",
                "red",
                "red",
                "red",
                "red",
                "darkblue",
                "darkblue",
                "red",
                "red",
                "darkblue",
                "red",
                "red",
                "darkblue",
                "darkblue",
                "darkblue",
                "darkblue",
                "darkblue",
                "darkblue",
                "darkblue"
               ]
              ],
              "type": "bar",
              "x": [
               [
                1950,
                1951,
                1952,
                1953,
                1954,
                1955,
                1956,
                1957,
                1958,
                1959,
                1960,
                1961,
                1962,
                1963,
                1964,
                1965,
                1966,
                1967,
                1968,
                1969,
                1970,
                1971,
                1972,
                1973,
                1974,
                1975,
                1976,
                1977,
                1978,
                1979,
                1980,
                1981,
                1982,
                1983,
                1984,
                1985,
                1986,
                1987,
                1988,
                1989,
                1990,
                1991,
                1992,
                1993,
                1994,
                1995,
                1996,
                1997,
                1998,
                1999,
                2000,
                2001,
                2002,
                2003,
                2004,
                2005,
                2006,
                2007,
                2008,
                2009,
                2010,
                2011,
                2012,
                2013,
                2014,
                2015,
                2016,
                2017,
                2018,
                2019
               ]
              ],
              "y": [
               [
                null,
                null,
                null,
                null,
                1.1596638655462184,
                1.2261380323054327,
                0.9633991586032813,
                0.5050809936018068,
                1.225312423430569,
                0.6645358254585882,
                0.27770450747581354,
                0.5331049082110524,
                0.5778943446914553,
                0.3588117797285233,
                0.4150943632508659,
                0.5906039994733434,
                0.1227113715145478,
                0.528843170486313,
                0.38443088714066476,
                0.08625366371681409,
                -0.003029302976534698,
                0.27088253200704027,
                0.22369650490371384,
                -0.060754841974652085,
                -0.2552683136209307,
                -0.021269658730523555,
                0.05260067527878798,
                -0.1944091824171703,
                -0.014761685252251633,
                0.5743874895730121,
                0.5052665576213411,
                0.14042438205702146,
                0.47886437062267473,
                0.7160544337569947,
                0.5493793006346095,
                0.5562758347685277,
                0.9760913271186713,
                0.7568259592102968,
                0.6838659646741392,
                1.1131307240415604,
                0.5629496550956106,
                0.7223025126626779,
                0.7634368958480198,
                0.6795693869968875,
                0.29957554313993073,
                0.8652110423321187,
                0.7759716050209242,
                1.2272383275742094,
                1.6352877013607259,
                2.1990986459954867,
                1.1435553471932578,
                0.5499095110167163,
                -0.09337096548481794,
                -0.09543367668164338,
                -0.17514375093053436,
                -0.05452630399379288,
                0.23536696320527506,
                0.6689322510603732,
                -0.18766641098123382,
                -0.0798898152094133,
                0.007490226865031646,
                -0.11330470824912287,
                -0.028719145418019343,
                1.0463437424318434,
                0.8463814432978405,
                0.6252185980084422,
                0.780240236631597,
                0.8746521972982404,
                0.3562564205692007,
                0.5691778049137379
               ]
              ]
             }
            ],
            "label": "5 years",
            "method": "restyle",
            "visible": true
           },
           {
            "args": [
             {
              "marker.color": [
               [
                "darkblue",
                "darkblue",
                "darkblue",
                "darkblue",
                "darkblue",
                "darkblue",
                "darkblue",
                "darkblue",
                "darkblue",
                "darkblue",
                "darkblue",
                "darkblue",
                "darkblue",
                "darkblue",
                "darkblue",
                "darkblue",
                "darkblue",
                "darkblue",
                "darkblue",
                "darkblue",
                "darkblue",
                "darkblue",
                "darkblue",
                "darkblue",
                "red",
                "red",
                "darkblue",
                "red",
                "red",
                "darkblue",
                "darkblue",
                "darkblue",
                "darkblue",
                "darkblue",
                "darkblue",
                "darkblue",
                "darkblue",
                "darkblue",
                "darkblue",
                "darkblue",
                "darkblue",
                "darkblue",
                "darkblue",
                "darkblue",
                "darkblue",
                "darkblue",
                "darkblue",
                "darkblue",
                "darkblue",
                "darkblue",
                "darkblue",
                "darkblue",
                "darkblue",
                "darkblue",
                "darkblue",
                "darkblue",
                "darkblue",
                "darkblue",
                "red",
                "red",
                "red",
                "darkblue",
                "darkblue",
                "darkblue",
                "darkblue",
                "darkblue",
                "darkblue",
                "darkblue",
                "darkblue",
                "darkblue"
               ]
              ],
              "type": "bar",
              "x": [
               [
                1950,
                1951,
                1952,
                1953,
                1954,
                1955,
                1956,
                1957,
                1958,
                1959,
                1960,
                1961,
                1962,
                1963,
                1964,
                1965,
                1966,
                1967,
                1968,
                1969,
                1970,
                1971,
                1972,
                1973,
                1974,
                1975,
                1976,
                1977,
                1978,
                1979,
                1980,
                1981,
                1982,
                1983,
                1984,
                1985,
                1986,
                1987,
                1988,
                1989,
                1990,
                1991,
                1992,
                1993,
                1994,
                1995,
                1996,
                1997,
                1998,
                1999,
                2000,
                2001,
                2002,
                2003,
                2004,
                2005,
                2006,
                2007,
                2008,
                2009,
                2010,
                2011,
                2012,
                2013,
                2014,
                2015,
                2016,
                2017,
                2018,
                2019
               ]
              ],
              "y": [
               [
                null,
                null,
                null,
                null,
                null,
                null,
                null,
                null,
                null,
                2.5948378751500605,
                1.8443465981399898,
                2.0100968868321405,
                1.3748587881068879,
                2.0237807345336853,
                1.3554752640355758,
                1.0323218997361474,
                0.7212343141733153,
                1.4123529926305074,
                0.8811809976667446,
                0.5371514365862651,
                0.5857855780432508,
                0.4268342705435053,
                0.8708400442700142,
                0.3003200073676062,
                -0.1910324771847347,
                -0.0242345294665558,
                0.33773181139062647,
                -0.014201332141366096,
                -0.07461968337212366,
                0.17249625012381875,
                0.4732500516422655,
                0.20041147465761533,
                0.19135955742403765,
                0.6907225783301434,
                1.4393233875225122,
                1.3426099685113013,
                1.2535827306175498,
                1.5981073164611126,
                1.889605654531556,
                2.274041003365019,
                1.4323807791851042,
                2.4034270579474137,
                2.0980517160550254,
                1.8281697260726664,
                1.746173008421986,
                1.9152309552935098,
                2.0587603577451064,
                2.9275942426911983,
                3.4261485491348713,
                3.157470360427803,
                2.998183103434922,
                1.7525952819175532,
                1.0192789345638142,
                1.3837925069059551,
                1.6387965095390427,
                1.0266751967046783,
                0.9147070058676938,
                0.5131024354501155,
                -0.26519039207328976,
                -0.2410413642430237,
                -0.047444491515786336,
                0.09539406985869636,
                0.6210019430493476,
                0.6623137566557531,
                0.6988743709866863,
                0.6373918540127939,
                0.5785306360067048,
                0.8208137882358226,
                1.7753668393647946,
                1.8973007802275648
               ]
              ]
             }
            ],
            "label": "10 years",
            "method": "restyle",
            "visible": true
           },
           {
            "args": [
             {
              "marker.color": [
               [
                "darkblue",
                "darkblue",
                "darkblue",
                "darkblue",
                "darkblue",
                "darkblue",
                "darkblue",
                "darkblue",
                "darkblue",
                "darkblue",
                "darkblue",
                "darkblue",
                "darkblue",
                "darkblue",
                "darkblue",
                "darkblue",
                "darkblue",
                "darkblue",
                "darkblue",
                "darkblue",
                "darkblue",
                "darkblue",
                "darkblue",
                "darkblue",
                "darkblue",
                "darkblue",
                "darkblue",
                "darkblue",
                "darkblue",
                "darkblue",
                "darkblue",
                "darkblue",
                "darkblue",
                "darkblue",
                "darkblue",
                "darkblue",
                "darkblue",
                "darkblue",
                "darkblue",
                "darkblue",
                "darkblue",
                "darkblue",
                "darkblue",
                "darkblue",
                "darkblue",
                "darkblue",
                "darkblue",
                "darkblue",
                "darkblue",
                "darkblue",
                "darkblue",
                "darkblue",
                "darkblue",
                "darkblue",
                "darkblue",
                "darkblue",
                "darkblue",
                "darkblue",
                "darkblue",
                "darkblue",
                "darkblue",
                "darkblue",
                "darkblue",
                "darkblue",
                "darkblue",
                "darkblue",
                "darkblue",
                "darkblue",
                "darkblue",
                "darkblue"
               ]
              ],
              "type": "bar",
              "x": [
               [
                1950,
                1951,
                1952,
                1953,
                1954,
                1955,
                1956,
                1957,
                1958,
                1959,
                1960,
                1961,
                1962,
                1963,
                1964,
                1965,
                1966,
                1967,
                1968,
                1969,
                1970,
                1971,
                1972,
                1973,
                1974,
                1975,
                1976,
                1977,
                1978,
                1979,
                1980,
                1981,
                1982,
                1983,
                1984,
                1985,
                1986,
                1987,
                1988,
                1989,
                1990,
                1991,
                1992,
                1993,
                1994,
                1995,
                1996,
                1997,
                1998,
                1999,
                2000,
                2001,
                2002,
                2003,
                2004,
                2005,
                2006,
                2007,
                2008,
                2009,
                2010,
                2011,
                2012,
                2013,
                2014,
                2015,
                2016,
                2017,
                2018,
                2019
               ]
              ],
              "y": [
               [
                null,
                null,
                null,
                null,
                null,
                null,
                null,
                null,
                null,
                null,
                null,
                null,
                null,
                null,
                4.0870348139255706,
                3.524229074889867,
                2.3794700042069823,
                2.6307866390666175,
                3.18621544482932,
                1.5586436353529742,
                1.0261653809560003,
                1.1874866233739843,
                1.951987925675967,
                0.7668901434277835,
                0.1447653815888983,
                0.5520564599784852,
                0.5018867166850107,
                0.5071315608301783,
                0.2811250926916402,
                0.2736283473912242,
                0.46878713087564616,
                0.5255819743631753,
                0.4578625265034302,
                0.5880029952607186,
                0.8166414200135448,
                1.2927834539423437,
                1.3721227040446475,
                1.0930113972358395,
                1.8469502053562343,
                4.154609196046957,
                2.6613814423082776,
                2.881351199435825,
                3.5815983012202137,
                3.8532931978443052,
                3.254863615210498,
                3.5369034884924595,
                5.044389814674511,
                5.900099522804802,
                6.45304089648003,
                7.785278352912128,
                5.248958902522712,
                3.740801770390034,
                2.560870976218508,
                3.003744919551809,
                2.429315407119957,
                2.780176956114184,
                2.4004652743556556,
                2.3700397377803784,
                0.9364347226109566,
                1.427983544016724,
                1.0418554537097289,
                0.697761687185303,
                0.4696474265740642,
                0.5036730430596199,
                0.40132714129232605,
                0.5481109280239325,
                0.9500645981300939,
                2.0388148543621765,
                1.2545237054648735,
                1.6658359562890963
               ]
              ]
             }
            ],
            "label": "15 years",
            "method": "restyle",
            "visible": true
           },
           {
            "args": [
             {
              "marker.color": [
               [
                "darkblue",
                "darkblue",
                "darkblue",
                "darkblue",
                "darkblue",
                "darkblue",
                "darkblue",
                "darkblue",
                "darkblue",
                "darkblue",
                "darkblue",
                "darkblue",
                "darkblue",
                "darkblue",
                "darkblue",
                "darkblue",
                "darkblue",
                "darkblue",
                "darkblue",
                "darkblue",
                "darkblue",
                "darkblue",
                "darkblue",
                "darkblue",
                "darkblue",
                "darkblue",
                "darkblue",
                "darkblue",
                "darkblue",
                "darkblue",
                "darkblue",
                "darkblue",
                "darkblue",
                "darkblue",
                "darkblue",
                "darkblue",
                "darkblue",
                "darkblue",
                "darkblue",
                "darkblue",
                "darkblue",
                "darkblue",
                "darkblue",
                "darkblue",
                "darkblue",
                "darkblue",
                "darkblue",
                "darkblue",
                "darkblue",
                "darkblue",
                "darkblue",
                "darkblue",
                "darkblue",
                "darkblue",
                "darkblue",
                "darkblue",
                "darkblue",
                "darkblue",
                "darkblue",
                "darkblue",
                "darkblue",
                "darkblue",
                "darkblue",
                "darkblue",
                "darkblue",
                "darkblue",
                "darkblue",
                "darkblue",
                "darkblue",
                "darkblue"
               ]
              ],
              "type": "bar",
              "x": [
               [
                1950,
                1951,
                1952,
                1953,
                1954,
                1955,
                1956,
                1957,
                1958,
                1959,
                1960,
                1961,
                1962,
                1963,
                1964,
                1965,
                1966,
                1967,
                1968,
                1969,
                1970,
                1971,
                1972,
                1973,
                1974,
                1975,
                1976,
                1977,
                1978,
                1979,
                1980,
                1981,
                1982,
                1983,
                1984,
                1985,
                1986,
                1987,
                1988,
                1989,
                1990,
                1991,
                1992,
                1993,
                1994,
                1995,
                1996,
                1997,
                1998,
                1999,
                2000,
                2001,
                2002,
                2003,
                2004,
                2005,
                2006,
                2007,
                2008,
                2009,
                2010,
                2011,
                2012,
                2013,
                2014,
                2015,
                2016,
                2017,
                2018,
                2019
               ]
              ],
              "y": [
               [
                null,
                null,
                null,
                null,
                null,
                null,
                null,
                null,
                null,
                null,
                null,
                null,
                null,
                null,
                null,
                null,
                null,
                null,
                null,
                4.525810204081632,
                3.5105238142867785,
                3.2949093957884124,
                3.4429809202769226,
                2.9318825870068665,
                0.9055029893994933,
                0.9830695347714651,
                1.3025498969267715,
                1.378094366539944,
                0.7408078672551968,
                0.8023042952698369,
                1.33625868474578,
                0.7127882307951521,
                1.2288431671526916,
                1.1984803955108299,
                0.9733333981494285,
                1.2858379182007673,
                2.01468930834765,
                1.561210731521136,
                1.673984195520112,
                2.8388007991971094,
                2.5835051085481084,
                3.0855128935202822,
                2.6908935213160956,
                3.7816504112208325,
                5.698804045626807,
                5.8292490963832995,
                5.893169519311931,
                9.204311338026546,
                11.789823875376767,
                12.611728430315367,
                8.725103732457756,
                8.368257262056591,
                5.255830568419187,
                5.741769801270288,
                6.246591749214271,
                4.90822626975904,
                4.856629886244929,
                4.942852414075903,
                2.2523764800151733,
                2.1553480329503505,
                2.808491339105444,
                2.015176548533515,
                2.2732550764865596,
                2.962611077242674,
                3.482983760305004,
                2.3184614578140166,
                2.022423667738823,
                1.7550777774807735,
                1.0393662190864381,
                1.1989314475391364
               ]
              ]
             }
            ],
            "label": "20 years",
            "method": "restyle",
            "visible": true
           }
          ],
          "direction": "left",
          "type": "buttons",
          "x": 0,
          "xanchor": "left",
          "y": 1.12
         }
        ],
        "xaxis": {
         "title": {
          "text": "Year(s)"
         }
        },
        "yaxis": {
         "title": {
          "text": "% return"
         }
        }
       }
      },
      "text/html": [
       "<div>\n",
       "        \n",
       "        \n",
       "            <div id=\"7acbfd62-886f-4d95-8063-affa371e8b2a\" class=\"plotly-graph-div\" style=\"height:525px; width:100%;\"></div>\n",
       "            <script type=\"text/javascript\">\n",
       "                require([\"plotly\"], function(Plotly) {\n",
       "                    window.PLOTLYENV=window.PLOTLYENV || {};\n",
       "                    \n",
       "                if (document.getElementById(\"7acbfd62-886f-4d95-8063-affa371e8b2a\")) {\n",
       "                    Plotly.newPlot(\n",
       "                        '7acbfd62-886f-4d95-8063-affa371e8b2a',\n",
       "                        [{\"hovertemplate\": \"%{y:.2%} <extra></extra>\", \"marker\": {\"color\": [\"darkblue\", \"darkblue\", \"darkblue\", \"red\", \"darkblue\", \"darkblue\", \"darkblue\", \"red\", \"darkblue\", \"darkblue\", \"red\", \"darkblue\", \"red\", \"darkblue\", \"darkblue\", \"darkblue\", \"red\", \"darkblue\", \"darkblue\", \"red\", \"darkblue\", \"darkblue\", \"darkblue\", \"red\", \"red\", \"darkblue\", \"darkblue\", \"red\", \"darkblue\", \"darkblue\", \"darkblue\", \"red\", \"darkblue\", \"darkblue\", \"darkblue\", \"darkblue\", \"darkblue\", \"darkblue\", \"darkblue\", \"darkblue\", \"red\", \"darkblue\", \"darkblue\", \"darkblue\", \"red\", \"darkblue\", \"darkblue\", \"darkblue\", \"darkblue\", \"darkblue\", \"red\", \"red\", \"red\", \"darkblue\", \"darkblue\", \"darkblue\", \"darkblue\", \"darkblue\", \"red\", \"darkblue\", \"darkblue\", \"red\", \"darkblue\", \"darkblue\", \"darkblue\", \"red\", \"darkblue\", \"darkblue\", \"red\", \"darkblue\"]}, \"type\": \"bar\", \"visible\": true, \"x\": [1950, 1951, 1952, 1953, 1954, 1955, 1956, 1957, 1958, 1959, 1960, 1961, 1962, 1963, 1964, 1965, 1966, 1967, 1968, 1969, 1970, 1971, 1972, 1973, 1974, 1975, 1976, 1977, 1978, 1979, 1980, 1981, 1982, 1983, 1984, 1985, 1986, 1987, 1988, 1989, 1990, 1991, 1992, 1993, 1994, 1995, 1996, 1997, 1998, 1999, 2000, 2001, 2002, 2003, 2004, 2005, 2006, 2007, 2008, 2009, 2010, 2011, 2012, 2013, 2014, 2015, 2016, 2017, 2018, 2019], \"y\": [0.22629051620648255, 0.16348507097405784, 0.11779554059739161, -0.06624015807301475, 0.45022174325762765, 0.26403557531962196, 0.02616530343007928, -0.14313255380898016, 0.3805950547339305, 0.08476725384472483, -0.029721122553366452, 0.23128552346781062, -0.11809929623622806, 0.18890648776248775, 0.12969879217670455, 0.09061946902654872, -0.13090985610732442, 0.20092118259875047, 0.07660412484084045, -0.1136145088232765, 0.000977661610191527, 0.1078675490767107, 0.15633271903589674, -0.1736552263451614, -0.297180979869192, 0.31549016413436637, 0.19148460112623034, -0.11501954881495535, 0.010620422212785918, 0.12308814645643174, 0.2577356997979632, -0.09730400699458608, 0.14761318553578895, 0.1727104194507032, 0.014006020250809215, 0.263334081796194, 0.14620408731597978, 0.020275028695685204, 0.1240084149367906, 0.2725046534031901, -0.06559137825727013, 0.2630670304526097, 0.04464263175974903, 0.07055156263296847, -0.01539291029147316, 0.34110655477087093, 0.20263666170303285, 0.3100818174657085, 0.2666858915596535, 0.19526046658878404, -0.10139184665858436, -0.13042693172742603, -0.23365963957103564, 0.2638039993281984, 0.08993452410946756, 0.030010226581274946, 0.136194317382607, 0.035295730663479574, -0.38485793060906714, 0.2345419048834072, 0.12782713853760175, -3.183666393691276e-05, 0.1340569092662105, 0.2960124957332435, 0.11390633786748117, -0.007265997205823549, 0.09535022667283655, 0.1941996552328793, -0.0623725984962068, 0.2887807022515845]}],\n",
       "                        {\"annotations\": [{\"showarrow\": false, \"text\": \"Rolling period:\", \"x\": 0, \"xref\": \"paper\", \"y\": 1.18, \"yref\": \"paper\"}], \"font\": {\"color\": \"black\"}, \"hovermode\": \"x\", \"template\": {\"data\": {\"bar\": [{\"error_x\": {\"color\": \"#2a3f5f\"}, \"error_y\": {\"color\": \"#2a3f5f\"}, \"marker\": {\"line\": {\"color\": \"#E5ECF6\", \"width\": 0.5}}, \"type\": \"bar\"}], \"barpolar\": [{\"marker\": {\"line\": {\"color\": \"#E5ECF6\", \"width\": 0.5}}, \"type\": \"barpolar\"}], \"carpet\": [{\"aaxis\": {\"endlinecolor\": \"#2a3f5f\", \"gridcolor\": \"white\", \"linecolor\": \"white\", \"minorgridcolor\": \"white\", \"startlinecolor\": \"#2a3f5f\"}, \"baxis\": {\"endlinecolor\": \"#2a3f5f\", \"gridcolor\": \"white\", \"linecolor\": \"white\", \"minorgridcolor\": \"white\", \"startlinecolor\": \"#2a3f5f\"}, \"type\": \"carpet\"}], \"choropleth\": [{\"colorbar\": {\"outlinewidth\": 0, \"ticks\": \"\"}, \"type\": \"choropleth\"}], \"contour\": [{\"colorbar\": {\"outlinewidth\": 0, \"ticks\": \"\"}, \"colorscale\": [[0.0, \"#0d0887\"], [0.1111111111111111, \"#46039f\"], [0.2222222222222222, \"#7201a8\"], [0.3333333333333333, \"#9c179e\"], [0.4444444444444444, \"#bd3786\"], [0.5555555555555556, \"#d8576b\"], [0.6666666666666666, \"#ed7953\"], [0.7777777777777778, \"#fb9f3a\"], [0.8888888888888888, \"#fdca26\"], [1.0, \"#f0f921\"]], \"type\": \"contour\"}], \"contourcarpet\": [{\"colorbar\": {\"outlinewidth\": 0, \"ticks\": \"\"}, \"type\": \"contourcarpet\"}], \"heatmap\": [{\"colorbar\": {\"outlinewidth\": 0, \"ticks\": \"\"}, \"colorscale\": [[0.0, \"#0d0887\"], [0.1111111111111111, \"#46039f\"], [0.2222222222222222, \"#7201a8\"], [0.3333333333333333, \"#9c179e\"], [0.4444444444444444, \"#bd3786\"], [0.5555555555555556, \"#d8576b\"], [0.6666666666666666, \"#ed7953\"], [0.7777777777777778, \"#fb9f3a\"], [0.8888888888888888, \"#fdca26\"], [1.0, \"#f0f921\"]], \"type\": \"heatmap\"}], \"heatmapgl\": [{\"colorbar\": {\"outlinewidth\": 0, \"ticks\": \"\"}, \"colorscale\": [[0.0, \"#0d0887\"], [0.1111111111111111, \"#46039f\"], [0.2222222222222222, \"#7201a8\"], [0.3333333333333333, \"#9c179e\"], [0.4444444444444444, \"#bd3786\"], [0.5555555555555556, \"#d8576b\"], [0.6666666666666666, \"#ed7953\"], [0.7777777777777778, \"#fb9f3a\"], [0.8888888888888888, \"#fdca26\"], [1.0, \"#f0f921\"]], \"type\": \"heatmapgl\"}], \"histogram\": [{\"marker\": {\"colorbar\": {\"outlinewidth\": 0, \"ticks\": \"\"}}, \"type\": \"histogram\"}], \"histogram2d\": [{\"colorbar\": {\"outlinewidth\": 0, \"ticks\": \"\"}, \"colorscale\": [[0.0, \"#0d0887\"], [0.1111111111111111, \"#46039f\"], [0.2222222222222222, \"#7201a8\"], [0.3333333333333333, \"#9c179e\"], [0.4444444444444444, \"#bd3786\"], [0.5555555555555556, \"#d8576b\"], [0.6666666666666666, \"#ed7953\"], [0.7777777777777778, \"#fb9f3a\"], [0.8888888888888888, \"#fdca26\"], [1.0, \"#f0f921\"]], \"type\": \"histogram2d\"}], \"histogram2dcontour\": [{\"colorbar\": {\"outlinewidth\": 0, \"ticks\": \"\"}, \"colorscale\": [[0.0, \"#0d0887\"], [0.1111111111111111, \"#46039f\"], [0.2222222222222222, \"#7201a8\"], [0.3333333333333333, \"#9c179e\"], [0.4444444444444444, \"#bd3786\"], [0.5555555555555556, \"#d8576b\"], [0.6666666666666666, \"#ed7953\"], [0.7777777777777778, \"#fb9f3a\"], [0.8888888888888888, \"#fdca26\"], [1.0, \"#f0f921\"]], \"type\": \"histogram2dcontour\"}], \"mesh3d\": [{\"colorbar\": {\"outlinewidth\": 0, \"ticks\": \"\"}, \"type\": \"mesh3d\"}], \"parcoords\": [{\"line\": {\"colorbar\": {\"outlinewidth\": 0, \"ticks\": \"\"}}, \"type\": \"parcoords\"}], \"pie\": [{\"automargin\": true, \"type\": \"pie\"}], \"scatter\": [{\"marker\": {\"colorbar\": {\"outlinewidth\": 0, \"ticks\": \"\"}}, \"type\": \"scatter\"}], \"scatter3d\": [{\"line\": {\"colorbar\": {\"outlinewidth\": 0, \"ticks\": \"\"}}, \"marker\": {\"colorbar\": {\"outlinewidth\": 0, \"ticks\": \"\"}}, \"type\": \"scatter3d\"}], \"scattercarpet\": [{\"marker\": {\"colorbar\": {\"outlinewidth\": 0, \"ticks\": \"\"}}, \"type\": \"scattercarpet\"}], \"scattergeo\": [{\"marker\": {\"colorbar\": {\"outlinewidth\": 0, \"ticks\": \"\"}}, \"type\": \"scattergeo\"}], \"scattergl\": [{\"marker\": {\"colorbar\": {\"outlinewidth\": 0, \"ticks\": \"\"}}, \"type\": \"scattergl\"}], \"scattermapbox\": [{\"marker\": {\"colorbar\": {\"outlinewidth\": 0, \"ticks\": \"\"}}, \"type\": \"scattermapbox\"}], \"scatterpolar\": [{\"marker\": {\"colorbar\": {\"outlinewidth\": 0, \"ticks\": \"\"}}, \"type\": \"scatterpolar\"}], \"scatterpolargl\": [{\"marker\": {\"colorbar\": {\"outlinewidth\": 0, \"ticks\": \"\"}}, \"type\": \"scatterpolargl\"}], \"scatterternary\": [{\"marker\": {\"colorbar\": {\"outlinewidth\": 0, \"ticks\": \"\"}}, \"type\": \"scatterternary\"}], \"surface\": [{\"colorbar\": {\"outlinewidth\": 0, \"ticks\": \"\"}, \"colorscale\": [[0.0, \"#0d0887\"], [0.1111111111111111, \"#46039f\"], [0.2222222222222222, \"#7201a8\"], [0.3333333333333333, \"#9c179e\"], [0.4444444444444444, \"#bd3786\"], [0.5555555555555556, \"#d8576b\"], [0.6666666666666666, \"#ed7953\"], [0.7777777777777778, \"#fb9f3a\"], [0.8888888888888888, \"#fdca26\"], [1.0, \"#f0f921\"]], \"type\": \"surface\"}], \"table\": [{\"cells\": {\"fill\": {\"color\": \"#EBF0F8\"}, \"line\": {\"color\": \"white\"}}, \"header\": {\"fill\": {\"color\": \"#C8D4E3\"}, \"line\": {\"color\": \"white\"}}, \"type\": \"table\"}]}, \"layout\": {\"annotationdefaults\": {\"arrowcolor\": \"#2a3f5f\", \"arrowhead\": 0, \"arrowwidth\": 1}, \"coloraxis\": {\"colorbar\": {\"outlinewidth\": 0, \"ticks\": \"\"}}, \"colorscale\": {\"diverging\": [[0, \"#8e0152\"], [0.1, \"#c51b7d\"], [0.2, \"#de77ae\"], [0.3, \"#f1b6da\"], [0.4, \"#fde0ef\"], [0.5, \"#f7f7f7\"], [0.6, \"#e6f5d0\"], [0.7, \"#b8e186\"], [0.8, \"#7fbc41\"], [0.9, \"#4d9221\"], [1, \"#276419\"]], \"sequential\": [[0.0, \"#0d0887\"], [0.1111111111111111, \"#46039f\"], [0.2222222222222222, \"#7201a8\"], [0.3333333333333333, \"#9c179e\"], [0.4444444444444444, \"#bd3786\"], [0.5555555555555556, \"#d8576b\"], [0.6666666666666666, \"#ed7953\"], [0.7777777777777778, \"#fb9f3a\"], [0.8888888888888888, \"#fdca26\"], [1.0, \"#f0f921\"]], \"sequentialminus\": [[0.0, \"#0d0887\"], [0.1111111111111111, \"#46039f\"], [0.2222222222222222, \"#7201a8\"], [0.3333333333333333, \"#9c179e\"], [0.4444444444444444, \"#bd3786\"], [0.5555555555555556, \"#d8576b\"], [0.6666666666666666, \"#ed7953\"], [0.7777777777777778, \"#fb9f3a\"], [0.8888888888888888, \"#fdca26\"], [1.0, \"#f0f921\"]]}, \"colorway\": [\"#636efa\", \"#EF553B\", \"#00cc96\", \"#ab63fa\", \"#FFA15A\", \"#19d3f3\", \"#FF6692\", \"#B6E880\", \"#FF97FF\", \"#FECB52\"], \"font\": {\"color\": \"#2a3f5f\"}, \"geo\": {\"bgcolor\": \"white\", \"lakecolor\": \"white\", \"landcolor\": \"#E5ECF6\", \"showlakes\": true, \"showland\": true, \"subunitcolor\": \"white\"}, \"hoverlabel\": {\"align\": \"left\"}, \"hovermode\": \"closest\", \"mapbox\": {\"style\": \"light\"}, \"paper_bgcolor\": \"white\", \"plot_bgcolor\": \"#E5ECF6\", \"polar\": {\"angularaxis\": {\"gridcolor\": \"white\", \"linecolor\": \"white\", \"ticks\": \"\"}, \"bgcolor\": \"#E5ECF6\", \"radialaxis\": {\"gridcolor\": \"white\", \"linecolor\": \"white\", \"ticks\": \"\"}}, \"scene\": {\"xaxis\": {\"backgroundcolor\": \"#E5ECF6\", \"gridcolor\": \"white\", \"gridwidth\": 2, \"linecolor\": \"white\", \"showbackground\": true, \"ticks\": \"\", \"zerolinecolor\": \"white\"}, \"yaxis\": {\"backgroundcolor\": \"#E5ECF6\", \"gridcolor\": \"white\", \"gridwidth\": 2, \"linecolor\": \"white\", \"showbackground\": true, \"ticks\": \"\", \"zerolinecolor\": \"white\"}, \"zaxis\": {\"backgroundcolor\": \"#E5ECF6\", \"gridcolor\": \"white\", \"gridwidth\": 2, \"linecolor\": \"white\", \"showbackground\": true, \"ticks\": \"\", \"zerolinecolor\": \"white\"}}, \"shapedefaults\": {\"line\": {\"color\": \"#2a3f5f\"}}, \"ternary\": {\"aaxis\": {\"gridcolor\": \"white\", \"linecolor\": \"white\", \"ticks\": \"\"}, \"baxis\": {\"gridcolor\": \"white\", \"linecolor\": \"white\", \"ticks\": \"\"}, \"bgcolor\": \"#E5ECF6\", \"caxis\": {\"gridcolor\": \"white\", \"linecolor\": \"white\", \"ticks\": \"\"}}, \"title\": {\"x\": 0.05}, \"xaxis\": {\"automargin\": true, \"gridcolor\": \"white\", \"linecolor\": \"white\", \"ticks\": \"\", \"title\": {\"standoff\": 15}, \"zerolinecolor\": \"white\", \"zerolinewidth\": 2}, \"yaxis\": {\"automargin\": true, \"gridcolor\": \"white\", \"linecolor\": \"white\", \"ticks\": \"\", \"title\": {\"standoff\": 15}, \"zerolinecolor\": \"white\", \"zerolinewidth\": 2}}}, \"title\": {\"text\": \"Cumulative % change by rolling period\", \"x\": 0, \"xref\": \"container\", \"y\": 0.99, \"yref\": \"container\"}, \"updatemenus\": [{\"buttons\": [{\"args\": [{\"marker.color\": [[\"darkblue\", \"darkblue\", \"darkblue\", \"red\", \"darkblue\", \"darkblue\", \"darkblue\", \"red\", \"darkblue\", \"darkblue\", \"red\", \"darkblue\", \"red\", \"darkblue\", \"darkblue\", \"darkblue\", \"red\", \"darkblue\", \"darkblue\", \"red\", \"darkblue\", \"darkblue\", \"darkblue\", \"red\", \"red\", \"darkblue\", \"darkblue\", \"red\", \"darkblue\", \"darkblue\", \"darkblue\", \"red\", \"darkblue\", \"darkblue\", \"darkblue\", \"darkblue\", \"darkblue\", \"darkblue\", \"darkblue\", \"darkblue\", \"red\", \"darkblue\", \"darkblue\", \"darkblue\", \"red\", \"darkblue\", \"darkblue\", \"darkblue\", \"darkblue\", \"darkblue\", \"red\", \"red\", \"red\", \"darkblue\", \"darkblue\", \"darkblue\", \"darkblue\", \"darkblue\", \"red\", \"darkblue\", \"darkblue\", \"red\", \"darkblue\", \"darkblue\", \"darkblue\", \"red\", \"darkblue\", \"darkblue\", \"red\", \"darkblue\"]], \"type\": \"bar\", \"x\": [[1950, 1951, 1952, 1953, 1954, 1955, 1956, 1957, 1958, 1959, 1960, 1961, 1962, 1963, 1964, 1965, 1966, 1967, 1968, 1969, 1970, 1971, 1972, 1973, 1974, 1975, 1976, 1977, 1978, 1979, 1980, 1981, 1982, 1983, 1984, 1985, 1986, 1987, 1988, 1989, 1990, 1991, 1992, 1993, 1994, 1995, 1996, 1997, 1998, 1999, 2000, 2001, 2002, 2003, 2004, 2005, 2006, 2007, 2008, 2009, 2010, 2011, 2012, 2013, 2014, 2015, 2016, 2017, 2018, 2019]], \"y\": [[0.22629051620648255, 0.16348507097405784, 0.11779554059739161, -0.06624015807301475, 0.45022174325762765, 0.26403557531962196, 0.02616530343007928, -0.14313255380898016, 0.3805950547339305, 0.08476725384472483, -0.029721122553366452, 0.23128552346781062, -0.11809929623622806, 0.18890648776248775, 0.12969879217670455, 0.09061946902654872, -0.13090985610732442, 0.20092118259875047, 0.07660412484084045, -0.1136145088232765, 0.000977661610191527, 0.1078675490767107, 0.15633271903589674, -0.1736552263451614, -0.297180979869192, 0.31549016413436637, 0.19148460112623034, -0.11501954881495535, 0.010620422212785918, 0.12308814645643174, 0.2577356997979632, -0.09730400699458608, 0.14761318553578895, 0.1727104194507032, 0.014006020250809215, 0.263334081796194, 0.14620408731597978, 0.020275028695685204, 0.1240084149367906, 0.2725046534031901, -0.06559137825727013, 0.2630670304526097, 0.04464263175974903, 0.07055156263296847, -0.01539291029147316, 0.34110655477087093, 0.20263666170303285, 0.3100818174657085, 0.2666858915596535, 0.19526046658878404, -0.10139184665858436, -0.13042693172742603, -0.23365963957103564, 0.2638039993281984, 0.08993452410946756, 0.030010226581274946, 0.136194317382607, 0.035295730663479574, -0.38485793060906714, 0.2345419048834072, 0.12782713853760175, -3.183666393691276e-05, 0.1340569092662105, 0.2960124957332435, 0.11390633786748117, -0.007265997205823549, 0.09535022667283655, 0.1941996552328793, -0.0623725984962068, 0.2887807022515845]]}], \"label\": \"1 year\", \"method\": \"restyle\", \"visible\": true}, {\"args\": [{\"marker.color\": [[\"darkblue\", \"darkblue\", \"darkblue\", \"darkblue\", \"darkblue\", \"darkblue\", \"darkblue\", \"darkblue\", \"darkblue\", \"darkblue\", \"darkblue\", \"darkblue\", \"darkblue\", \"darkblue\", \"darkblue\", \"darkblue\", \"darkblue\", \"darkblue\", \"darkblue\", \"darkblue\", \"red\", \"red\", \"darkblue\", \"darkblue\", \"red\", \"red\", \"darkblue\", \"darkblue\", \"darkblue\", \"darkblue\", \"darkblue\", \"darkblue\", \"darkblue\", \"darkblue\", \"darkblue\", \"darkblue\", \"darkblue\", \"darkblue\", \"darkblue\", \"darkblue\", \"darkblue\", \"darkblue\", \"darkblue\", \"darkblue\", \"darkblue\", \"darkblue\", \"darkblue\", \"darkblue\", \"darkblue\", \"darkblue\", \"darkblue\", \"red\", \"red\", \"red\", \"darkblue\", \"darkblue\", \"darkblue\", \"darkblue\", \"red\", \"red\", \"red\", \"darkblue\", \"darkblue\", \"darkblue\", \"darkblue\", \"darkblue\", \"darkblue\", \"darkblue\", \"darkblue\", \"darkblue\"]], \"type\": \"bar\", \"x\": [[1950, 1951, 1952, 1953, 1954, 1955, 1956, 1957, 1958, 1959, 1960, 1961, 1962, 1963, 1964, 1965, 1966, 1967, 1968, 1969, 1970, 1971, 1972, 1973, 1974, 1975, 1976, 1977, 1978, 1979, 1980, 1981, 1982, 1983, 1984, 1985, 1986, 1987, 1988, 1989, 1990, 1991, 1992, 1993, 1994, 1995, 1996, 1997, 1998, 1999, 2000, 2001, 2002, 2003, 2004, 2005, 2006, 2007, 2008, 2009, 2010, 2011, 2012, 2013, 2014, 2015, 2016, 2017, 2018, 2019]], \"y\": [[null, null, 0.5948379351740696, 0.21439055310817423, 0.5136726966764826, 0.7117049303726006, 0.8810963273315731, 0.11145086158977224, 0.21394017150395772, 0.28326551460319305, 0.4531132306520014, 0.2959609544640638, 0.053598247680718636, 0.29099975406987144, 0.18448632350162164, 0.4648177960322599, 0.07078119451271125, 0.13828909734513273, 0.12366115979660286, 0.14602260311159942, -0.04478075494288736, -0.017042216879137095, 0.28231594195513443, 0.05860012410702331, -0.3284356938198091, -0.23600169326667975, 0.10158888490712648, 0.38710621150249236, 0.0656391840413948, 0.0044668096130939805, 0.4275499125668163, 0.27510146991465656, 0.302946046031386, 0.2148644619124267, 0.3646674935008518, 0.5022753106954845, 0.4683199473912676, 0.477397714156103, 0.3144642314713826, 0.45930543241752675, 0.3364902006375119, 0.5018363621798727, 0.23290888223021167, 0.41254318479418384, 0.10112923600692314, 0.41362375147480135, 0.5880372405384386, 1.1129836825608317, 0.9957300262788193, 0.9834895096390295, 0.36051032971110764, -0.06601695834258536, -0.40117746651405906, -0.15781499434065227, 0.05560595980615135, 0.41880160563625135, 0.275541399357921, 0.21159806926819158, -0.27641015169970806, -0.2137771013211961, -0.14350702334936838, 0.39230553621471076, 0.2789794391815388, 0.46970513328351426, 0.6371659846641402, 0.43314707393805274, 0.21125218889607655, 0.2985624528799915, 0.2264793337966251, 0.4430662071516498]]}], \"label\": \"3 years\", \"method\": \"restyle\", \"visible\": true}, {\"args\": [{\"marker.color\": [[\"darkblue\", \"darkblue\", \"darkblue\", \"darkblue\", \"darkblue\", \"darkblue\", \"darkblue\", \"darkblue\", \"darkblue\", \"darkblue\", \"darkblue\", \"darkblue\", \"darkblue\", \"darkblue\", \"darkblue\", \"darkblue\", \"darkblue\", \"darkblue\", \"darkblue\", \"darkblue\", \"red\", \"darkblue\", \"darkblue\", \"red\", \"red\", \"red\", \"darkblue\", \"red\", \"red\", \"darkblue\", \"darkblue\", \"darkblue\", \"darkblue\", \"darkblue\", \"darkblue\", \"darkblue\", \"darkblue\", \"darkblue\", \"darkblue\", \"darkblue\", \"darkblue\", \"darkblue\", \"darkblue\", \"darkblue\", \"darkblue\", \"darkblue\", \"darkblue\", \"darkblue\", \"darkblue\", \"darkblue\", \"darkblue\", \"darkblue\", \"red\", \"red\", \"red\", \"red\", \"darkblue\", \"darkblue\", \"red\", \"red\", \"darkblue\", \"red\", \"red\", \"darkblue\", \"darkblue\", \"darkblue\", \"darkblue\", \"darkblue\", \"darkblue\", \"darkblue\"]], \"type\": \"bar\", \"x\": [[1950, 1951, 1952, 1953, 1954, 1955, 1956, 1957, 1958, 1959, 1960, 1961, 1962, 1963, 1964, 1965, 1966, 1967, 1968, 1969, 1970, 1971, 1972, 1973, 1974, 1975, 1976, 1977, 1978, 1979, 1980, 1981, 1982, 1983, 1984, 1985, 1986, 1987, 1988, 1989, 1990, 1991, 1992, 1993, 1994, 1995, 1996, 1997, 1998, 1999, 2000, 2001, 2002, 2003, 2004, 2005, 2006, 2007, 2008, 2009, 2010, 2011, 2012, 2013, 2014, 2015, 2016, 2017, 2018, 2019]], \"y\": [[null, null, null, null, 1.1596638655462184, 1.2261380323054327, 0.9633991586032813, 0.5050809936018068, 1.225312423430569, 0.6645358254585882, 0.27770450747581354, 0.5331049082110524, 0.5778943446914553, 0.3588117797285233, 0.4150943632508659, 0.5906039994733434, 0.1227113715145478, 0.528843170486313, 0.38443088714066476, 0.08625366371681409, -0.003029302976534698, 0.27088253200704027, 0.22369650490371384, -0.060754841974652085, -0.2552683136209307, -0.021269658730523555, 0.05260067527878798, -0.1944091824171703, -0.014761685252251633, 0.5743874895730121, 0.5052665576213411, 0.14042438205702146, 0.47886437062267473, 0.7160544337569947, 0.5493793006346095, 0.5562758347685277, 0.9760913271186713, 0.7568259592102968, 0.6838659646741392, 1.1131307240415604, 0.5629496550956106, 0.7223025126626779, 0.7634368958480198, 0.6795693869968875, 0.29957554313993073, 0.8652110423321187, 0.7759716050209242, 1.2272383275742094, 1.6352877013607259, 2.1990986459954867, 1.1435553471932578, 0.5499095110167163, -0.09337096548481794, -0.09543367668164338, -0.17514375093053436, -0.05452630399379288, 0.23536696320527506, 0.6689322510603732, -0.18766641098123382, -0.0798898152094133, 0.007490226865031646, -0.11330470824912287, -0.028719145418019343, 1.0463437424318434, 0.8463814432978405, 0.6252185980084422, 0.780240236631597, 0.8746521972982404, 0.3562564205692007, 0.5691778049137379]]}], \"label\": \"5 years\", \"method\": \"restyle\", \"visible\": true}, {\"args\": [{\"marker.color\": [[\"darkblue\", \"darkblue\", \"darkblue\", \"darkblue\", \"darkblue\", \"darkblue\", \"darkblue\", \"darkblue\", \"darkblue\", \"darkblue\", \"darkblue\", \"darkblue\", \"darkblue\", \"darkblue\", \"darkblue\", \"darkblue\", \"darkblue\", \"darkblue\", \"darkblue\", \"darkblue\", \"darkblue\", \"darkblue\", \"darkblue\", \"darkblue\", \"red\", \"red\", \"darkblue\", \"red\", \"red\", \"darkblue\", \"darkblue\", \"darkblue\", \"darkblue\", \"darkblue\", \"darkblue\", \"darkblue\", \"darkblue\", \"darkblue\", \"darkblue\", \"darkblue\", \"darkblue\", \"darkblue\", \"darkblue\", \"darkblue\", \"darkblue\", \"darkblue\", \"darkblue\", \"darkblue\", \"darkblue\", \"darkblue\", \"darkblue\", \"darkblue\", \"darkblue\", \"darkblue\", \"darkblue\", \"darkblue\", \"darkblue\", \"darkblue\", \"red\", \"red\", \"red\", \"darkblue\", \"darkblue\", \"darkblue\", \"darkblue\", \"darkblue\", \"darkblue\", \"darkblue\", \"darkblue\", \"darkblue\"]], \"type\": \"bar\", \"x\": [[1950, 1951, 1952, 1953, 1954, 1955, 1956, 1957, 1958, 1959, 1960, 1961, 1962, 1963, 1964, 1965, 1966, 1967, 1968, 1969, 1970, 1971, 1972, 1973, 1974, 1975, 1976, 1977, 1978, 1979, 1980, 1981, 1982, 1983, 1984, 1985, 1986, 1987, 1988, 1989, 1990, 1991, 1992, 1993, 1994, 1995, 1996, 1997, 1998, 1999, 2000, 2001, 2002, 2003, 2004, 2005, 2006, 2007, 2008, 2009, 2010, 2011, 2012, 2013, 2014, 2015, 2016, 2017, 2018, 2019]], \"y\": [[null, null, null, null, null, null, null, null, null, 2.5948378751500605, 1.8443465981399898, 2.0100968868321405, 1.3748587881068879, 2.0237807345336853, 1.3554752640355758, 1.0323218997361474, 0.7212343141733153, 1.4123529926305074, 0.8811809976667446, 0.5371514365862651, 0.5857855780432508, 0.4268342705435053, 0.8708400442700142, 0.3003200073676062, -0.1910324771847347, -0.0242345294665558, 0.33773181139062647, -0.014201332141366096, -0.07461968337212366, 0.17249625012381875, 0.4732500516422655, 0.20041147465761533, 0.19135955742403765, 0.6907225783301434, 1.4393233875225122, 1.3426099685113013, 1.2535827306175498, 1.5981073164611126, 1.889605654531556, 2.274041003365019, 1.4323807791851042, 2.4034270579474137, 2.0980517160550254, 1.8281697260726664, 1.746173008421986, 1.9152309552935098, 2.0587603577451064, 2.9275942426911983, 3.4261485491348713, 3.157470360427803, 2.998183103434922, 1.7525952819175532, 1.0192789345638142, 1.3837925069059551, 1.6387965095390427, 1.0266751967046783, 0.9147070058676938, 0.5131024354501155, -0.26519039207328976, -0.2410413642430237, -0.047444491515786336, 0.09539406985869636, 0.6210019430493476, 0.6623137566557531, 0.6988743709866863, 0.6373918540127939, 0.5785306360067048, 0.8208137882358226, 1.7753668393647946, 1.8973007802275648]]}], \"label\": \"10 years\", \"method\": \"restyle\", \"visible\": true}, {\"args\": [{\"marker.color\": [[\"darkblue\", \"darkblue\", \"darkblue\", \"darkblue\", \"darkblue\", \"darkblue\", \"darkblue\", \"darkblue\", \"darkblue\", \"darkblue\", \"darkblue\", \"darkblue\", \"darkblue\", \"darkblue\", \"darkblue\", \"darkblue\", \"darkblue\", \"darkblue\", \"darkblue\", \"darkblue\", \"darkblue\", \"darkblue\", \"darkblue\", \"darkblue\", \"darkblue\", \"darkblue\", \"darkblue\", \"darkblue\", \"darkblue\", \"darkblue\", \"darkblue\", \"darkblue\", \"darkblue\", \"darkblue\", \"darkblue\", \"darkblue\", \"darkblue\", \"darkblue\", \"darkblue\", \"darkblue\", \"darkblue\", \"darkblue\", \"darkblue\", \"darkblue\", \"darkblue\", \"darkblue\", \"darkblue\", \"darkblue\", \"darkblue\", \"darkblue\", \"darkblue\", \"darkblue\", \"darkblue\", \"darkblue\", \"darkblue\", \"darkblue\", \"darkblue\", \"darkblue\", \"darkblue\", \"darkblue\", \"darkblue\", \"darkblue\", \"darkblue\", \"darkblue\", \"darkblue\", \"darkblue\", \"darkblue\", \"darkblue\", \"darkblue\", \"darkblue\"]], \"type\": \"bar\", \"x\": [[1950, 1951, 1952, 1953, 1954, 1955, 1956, 1957, 1958, 1959, 1960, 1961, 1962, 1963, 1964, 1965, 1966, 1967, 1968, 1969, 1970, 1971, 1972, 1973, 1974, 1975, 1976, 1977, 1978, 1979, 1980, 1981, 1982, 1983, 1984, 1985, 1986, 1987, 1988, 1989, 1990, 1991, 1992, 1993, 1994, 1995, 1996, 1997, 1998, 1999, 2000, 2001, 2002, 2003, 2004, 2005, 2006, 2007, 2008, 2009, 2010, 2011, 2012, 2013, 2014, 2015, 2016, 2017, 2018, 2019]], \"y\": [[null, null, null, null, null, null, null, null, null, null, null, null, null, null, 4.0870348139255706, 3.524229074889867, 2.3794700042069823, 2.6307866390666175, 3.18621544482932, 1.5586436353529742, 1.0261653809560003, 1.1874866233739843, 1.951987925675967, 0.7668901434277835, 0.1447653815888983, 0.5520564599784852, 0.5018867166850107, 0.5071315608301783, 0.2811250926916402, 0.2736283473912242, 0.46878713087564616, 0.5255819743631753, 0.4578625265034302, 0.5880029952607186, 0.8166414200135448, 1.2927834539423437, 1.3721227040446475, 1.0930113972358395, 1.8469502053562343, 4.154609196046957, 2.6613814423082776, 2.881351199435825, 3.5815983012202137, 3.8532931978443052, 3.254863615210498, 3.5369034884924595, 5.044389814674511, 5.900099522804802, 6.45304089648003, 7.785278352912128, 5.248958902522712, 3.740801770390034, 2.560870976218508, 3.003744919551809, 2.429315407119957, 2.780176956114184, 2.4004652743556556, 2.3700397377803784, 0.9364347226109566, 1.427983544016724, 1.0418554537097289, 0.697761687185303, 0.4696474265740642, 0.5036730430596199, 0.40132714129232605, 0.5481109280239325, 0.9500645981300939, 2.0388148543621765, 1.2545237054648735, 1.6658359562890963]]}], \"label\": \"15 years\", \"method\": \"restyle\", \"visible\": true}, {\"args\": [{\"marker.color\": [[\"darkblue\", \"darkblue\", \"darkblue\", \"darkblue\", \"darkblue\", \"darkblue\", \"darkblue\", \"darkblue\", \"darkblue\", \"darkblue\", \"darkblue\", \"darkblue\", \"darkblue\", \"darkblue\", \"darkblue\", \"darkblue\", \"darkblue\", \"darkblue\", \"darkblue\", \"darkblue\", \"darkblue\", \"darkblue\", \"darkblue\", \"darkblue\", \"darkblue\", \"darkblue\", \"darkblue\", \"darkblue\", \"darkblue\", \"darkblue\", \"darkblue\", \"darkblue\", \"darkblue\", \"darkblue\", \"darkblue\", \"darkblue\", \"darkblue\", \"darkblue\", \"darkblue\", \"darkblue\", \"darkblue\", \"darkblue\", \"darkblue\", \"darkblue\", \"darkblue\", \"darkblue\", \"darkblue\", \"darkblue\", \"darkblue\", \"darkblue\", \"darkblue\", \"darkblue\", \"darkblue\", \"darkblue\", \"darkblue\", \"darkblue\", \"darkblue\", \"darkblue\", \"darkblue\", \"darkblue\", \"darkblue\", \"darkblue\", \"darkblue\", \"darkblue\", \"darkblue\", \"darkblue\", \"darkblue\", \"darkblue\", \"darkblue\", \"darkblue\"]], \"type\": \"bar\", \"x\": [[1950, 1951, 1952, 1953, 1954, 1955, 1956, 1957, 1958, 1959, 1960, 1961, 1962, 1963, 1964, 1965, 1966, 1967, 1968, 1969, 1970, 1971, 1972, 1973, 1974, 1975, 1976, 1977, 1978, 1979, 1980, 1981, 1982, 1983, 1984, 1985, 1986, 1987, 1988, 1989, 1990, 1991, 1992, 1993, 1994, 1995, 1996, 1997, 1998, 1999, 2000, 2001, 2002, 2003, 2004, 2005, 2006, 2007, 2008, 2009, 2010, 2011, 2012, 2013, 2014, 2015, 2016, 2017, 2018, 2019]], \"y\": [[null, null, null, null, null, null, null, null, null, null, null, null, null, null, null, null, null, null, null, 4.525810204081632, 3.5105238142867785, 3.2949093957884124, 3.4429809202769226, 2.9318825870068665, 0.9055029893994933, 0.9830695347714651, 1.3025498969267715, 1.378094366539944, 0.7408078672551968, 0.8023042952698369, 1.33625868474578, 0.7127882307951521, 1.2288431671526916, 1.1984803955108299, 0.9733333981494285, 1.2858379182007673, 2.01468930834765, 1.561210731521136, 1.673984195520112, 2.8388007991971094, 2.5835051085481084, 3.0855128935202822, 2.6908935213160956, 3.7816504112208325, 5.698804045626807, 5.8292490963832995, 5.893169519311931, 9.204311338026546, 11.789823875376767, 12.611728430315367, 8.725103732457756, 8.368257262056591, 5.255830568419187, 5.741769801270288, 6.246591749214271, 4.90822626975904, 4.856629886244929, 4.942852414075903, 2.2523764800151733, 2.1553480329503505, 2.808491339105444, 2.015176548533515, 2.2732550764865596, 2.962611077242674, 3.482983760305004, 2.3184614578140166, 2.022423667738823, 1.7550777774807735, 1.0393662190864381, 1.1989314475391364]]}], \"label\": \"20 years\", \"method\": \"restyle\", \"visible\": true}], \"direction\": \"left\", \"type\": \"buttons\", \"x\": 0, \"xanchor\": \"left\", \"y\": 1.12}], \"xaxis\": {\"title\": {\"text\": \"Year(s)\"}}, \"yaxis\": {\"title\": {\"text\": \"% return\"}}},\n",
       "                        {\"responsive\": true}\n",
       "                    ).then(function(){\n",
       "                            \n",
       "var gd = document.getElementById('7acbfd62-886f-4d95-8063-affa371e8b2a');\n",
       "var x = new MutationObserver(function (mutations, observer) {{\n",
       "        var display = window.getComputedStyle(gd).display;\n",
       "        if (!display || display === 'none') {{\n",
       "            console.log([gd, 'removed!']);\n",
       "            Plotly.purge(gd);\n",
       "            observer.disconnect();\n",
       "        }}\n",
       "}});\n",
       "\n",
       "// Listen for the removal of the full notebook cells\n",
       "var notebookContainer = gd.closest('#notebook-container');\n",
       "if (notebookContainer) {{\n",
       "    x.observe(notebookContainer, {childList: true});\n",
       "}}\n",
       "\n",
       "// Listen for the clearing of the current output cell\n",
       "var outputEl = gd.closest('.output');\n",
       "if (outputEl) {{\n",
       "    x.observe(outputEl, {childList: true});\n",
       "}}\n",
       "\n",
       "                        })\n",
       "                };\n",
       "                });\n",
       "            </script>\n",
       "        </div>"
      ]
     },
     "metadata": {},
     "output_type": "display_data"
    }
   ],
   "source": [
    "fig=go.Figure()\n",
    "fig.add_trace(\n",
    "    go.Bar(x=SP500_year.index.year,y=SP500_year['Yearly_Change'],\n",
    "           visible=True, \n",
    "            hovertemplate ='%{y:.2%} <extra></extra>',\n",
    "           marker_color=np.where(SP500_year['Yearly_Change']<0,'red','darkblue')\n",
    "          )\n",
    "        )\n",
    "                     \n",
    "buttons=[]\n",
    "                         \n",
    "cols= ['Yearly_Change','Cumulative_roll3','Cumulative_roll5','Cumulative_roll10','Cumulative_roll15',\n",
    "       'Cumulative_roll20']   \n",
    "cols_rename=['1 year','3 years', '5 years','10 years','15 years','20 years']\n",
    "\n",
    "for col, col2 in zip(cols,cols_rename):\n",
    "        buttons.append(dict(method='restyle',\n",
    "                            label=col2,\n",
    "                            visible=True,\n",
    "                            args=[{'y':[SP500_year[col]],\n",
    "                                   'x':[SP500_year.index.year],\n",
    "                                    'type':'bar','marker.color':[np.where(SP500_year[col]<0,'red','darkblue')]\n",
    "                                  }]\n",
    "                           ))\n",
    "\n",
    "fig.update_layout(\n",
    "    updatemenus=[\n",
    "        dict(type='buttons',\n",
    "             direction='left',\n",
    "            buttons=buttons\n",
    "            ,x=0,xanchor='left',y=1.12\n",
    "            )\n",
    "        ])   \n",
    "\n",
    "fig.update_layout(\n",
    "    title=dict(text='Cumulative % change by rolling period', yref=\"container\",xref=\"container\",x=0,y=0.99),\n",
    "    xaxis=dict(               \n",
    "        title=\"Year(s)\"        \n",
    "    ),\n",
    "    font=dict(color='black'),\n",
    "     yaxis=dict(               \n",
    "        title=\"% return\"        \n",
    "    ),\n",
    "    annotations=[\n",
    "        dict(text=\"Rolling period:\", showarrow=False,\n",
    "                             x=0, y=1.18, yref=\"paper\",xref=\"paper\")\n",
    "    ]\n",
    ")\n",
    "\n",
    "fig.update_layout(hovermode=\"x\")\n",
    "\n",
    "\n",
    "#hoverlabel=dict(bgcolor='white')\n",
    "\n",
    "\n"
   ]
  },
  {
   "cell_type": "code",
   "execution_count": 22,
   "metadata": {},
   "outputs": [
    {
     "name": "stdout",
     "output_type": "stream",
     "text": [
      "Stats for differents rolling windows between 1950 and 2019\n"
     ]
    },
    {
     "data": {
      "text/html": [
       "<style  type=\"text/css\" >\n",
       "</style><table id=\"T_f0d06546_a58c_11ea_aaec_34f64b76679e\" ><thead>    <tr>        <th class=\"blank level0\" ></th>        <th class=\"col_heading level0 col0\" >count</th>        <th class=\"col_heading level0 col1\" ># Negative returns</th>        <th class=\"col_heading level0 col2\" >mean</th>        <th class=\"col_heading level0 col3\" >std</th>        <th class=\"col_heading level0 col4\" >max</th>        <th class=\"col_heading level0 col5\" >min</th>    </tr></thead><tbody>\n",
       "                <tr>\n",
       "                        <th id=\"T_f0d06546_a58c_11ea_aaec_34f64b76679elevel0_row0\" class=\"row_heading level0 row0\" >1 year</th>\n",
       "                        <td id=\"T_f0d06546_a58c_11ea_aaec_34f64b76679erow0_col0\" class=\"data row0 col0\" >70</td>\n",
       "                        <td id=\"T_f0d06546_a58c_11ea_aaec_34f64b76679erow0_col1\" class=\"data row0 col1\" >19</td>\n",
       "                        <td id=\"T_f0d06546_a58c_11ea_aaec_34f64b76679erow0_col2\" class=\"data row0 col2\" >9.15%</td>\n",
       "                        <td id=\"T_f0d06546_a58c_11ea_aaec_34f64b76679erow0_col3\" class=\"data row0 col3\" >16.53%</td>\n",
       "                        <td id=\"T_f0d06546_a58c_11ea_aaec_34f64b76679erow0_col4\" class=\"data row0 col4\" >45.02%</td>\n",
       "                        <td id=\"T_f0d06546_a58c_11ea_aaec_34f64b76679erow0_col5\" class=\"data row0 col5\" >-38.49%</td>\n",
       "            </tr>\n",
       "            <tr>\n",
       "                        <th id=\"T_f0d06546_a58c_11ea_aaec_34f64b76679elevel0_row1\" class=\"row_heading level0 row1\" >3 years</th>\n",
       "                        <td id=\"T_f0d06546_a58c_11ea_aaec_34f64b76679erow1_col0\" class=\"data row1 col0\" >68</td>\n",
       "                        <td id=\"T_f0d06546_a58c_11ea_aaec_34f64b76679erow1_col1\" class=\"data row1 col1\" >10</td>\n",
       "                        <td id=\"T_f0d06546_a58c_11ea_aaec_34f64b76679erow1_col2\" class=\"data row1 col2\" >27.88%</td>\n",
       "                        <td id=\"T_f0d06546_a58c_11ea_aaec_34f64b76679erow1_col3\" class=\"data row1 col3\" >29.79%</td>\n",
       "                        <td id=\"T_f0d06546_a58c_11ea_aaec_34f64b76679erow1_col4\" class=\"data row1 col4\" >111.30%</td>\n",
       "                        <td id=\"T_f0d06546_a58c_11ea_aaec_34f64b76679erow1_col5\" class=\"data row1 col5\" >-40.12%</td>\n",
       "            </tr>\n",
       "            <tr>\n",
       "                        <th id=\"T_f0d06546_a58c_11ea_aaec_34f64b76679elevel0_row2\" class=\"row_heading level0 row2\" >5 years</th>\n",
       "                        <td id=\"T_f0d06546_a58c_11ea_aaec_34f64b76679erow2_col0\" class=\"data row2 col0\" >66</td>\n",
       "                        <td id=\"T_f0d06546_a58c_11ea_aaec_34f64b76679erow2_col1\" class=\"data row2 col1\" >14</td>\n",
       "                        <td id=\"T_f0d06546_a58c_11ea_aaec_34f64b76679erow2_col2\" class=\"data row2 col2\" >50.42%</td>\n",
       "                        <td id=\"T_f0d06546_a58c_11ea_aaec_34f64b76679erow2_col3\" class=\"data row2 col3\" >48.05%</td>\n",
       "                        <td id=\"T_f0d06546_a58c_11ea_aaec_34f64b76679erow2_col4\" class=\"data row2 col4\" >219.91%</td>\n",
       "                        <td id=\"T_f0d06546_a58c_11ea_aaec_34f64b76679erow2_col5\" class=\"data row2 col5\" >-25.53%</td>\n",
       "            </tr>\n",
       "            <tr>\n",
       "                        <th id=\"T_f0d06546_a58c_11ea_aaec_34f64b76679elevel0_row3\" class=\"row_heading level0 row3\" >10 years</th>\n",
       "                        <td id=\"T_f0d06546_a58c_11ea_aaec_34f64b76679erow3_col0\" class=\"data row3 col0\" >61</td>\n",
       "                        <td id=\"T_f0d06546_a58c_11ea_aaec_34f64b76679erow3_col1\" class=\"data row3 col1\" >7</td>\n",
       "                        <td id=\"T_f0d06546_a58c_11ea_aaec_34f64b76679erow3_col2\" class=\"data row3 col2\" >116.40%</td>\n",
       "                        <td id=\"T_f0d06546_a58c_11ea_aaec_34f64b76679erow3_col3\" class=\"data row3 col3\" >90.70%</td>\n",
       "                        <td id=\"T_f0d06546_a58c_11ea_aaec_34f64b76679erow3_col4\" class=\"data row3 col4\" >342.61%</td>\n",
       "                        <td id=\"T_f0d06546_a58c_11ea_aaec_34f64b76679erow3_col5\" class=\"data row3 col5\" >-26.52%</td>\n",
       "            </tr>\n",
       "            <tr>\n",
       "                        <th id=\"T_f0d06546_a58c_11ea_aaec_34f64b76679elevel0_row4\" class=\"row_heading level0 row4\" >15 years</th>\n",
       "                        <td id=\"T_f0d06546_a58c_11ea_aaec_34f64b76679erow4_col0\" class=\"data row4 col0\" >56</td>\n",
       "                        <td id=\"T_f0d06546_a58c_11ea_aaec_34f64b76679erow4_col1\" class=\"data row4 col1\" >0</td>\n",
       "                        <td id=\"T_f0d06546_a58c_11ea_aaec_34f64b76679erow4_col2\" class=\"data row4 col2\" >211.78%</td>\n",
       "                        <td id=\"T_f0d06546_a58c_11ea_aaec_34f64b76679erow4_col3\" class=\"data row4 col3\" >172.55%</td>\n",
       "                        <td id=\"T_f0d06546_a58c_11ea_aaec_34f64b76679erow4_col4\" class=\"data row4 col4\" >778.53%</td>\n",
       "                        <td id=\"T_f0d06546_a58c_11ea_aaec_34f64b76679erow4_col5\" class=\"data row4 col5\" >14.48%</td>\n",
       "            </tr>\n",
       "            <tr>\n",
       "                        <th id=\"T_f0d06546_a58c_11ea_aaec_34f64b76679elevel0_row5\" class=\"row_heading level0 row5\" >20 years</th>\n",
       "                        <td id=\"T_f0d06546_a58c_11ea_aaec_34f64b76679erow5_col0\" class=\"data row5 col0\" >51</td>\n",
       "                        <td id=\"T_f0d06546_a58c_11ea_aaec_34f64b76679erow5_col1\" class=\"data row5 col1\" >0</td>\n",
       "                        <td id=\"T_f0d06546_a58c_11ea_aaec_34f64b76679erow5_col2\" class=\"data row5 col2\" >347.34%</td>\n",
       "                        <td id=\"T_f0d06546_a58c_11ea_aaec_34f64b76679erow5_col3\" class=\"data row5 col3\" >276.76%</td>\n",
       "                        <td id=\"T_f0d06546_a58c_11ea_aaec_34f64b76679erow5_col4\" class=\"data row5 col4\" >1261.17%</td>\n",
       "                        <td id=\"T_f0d06546_a58c_11ea_aaec_34f64b76679erow5_col5\" class=\"data row5 col5\" >71.28%</td>\n",
       "            </tr>\n",
       "    </tbody></table>"
      ],
      "text/plain": [
       "<pandas.io.formats.style.Styler at 0x219962c9e80>"
      ]
     },
     "execution_count": 22,
     "metadata": {},
     "output_type": "execute_result"
    }
   ],
   "source": [
    "#'The table below shows some basic metrics for different windows. The average yearly returns is 9.45% and around 73% of the years \n",
    "#'have possitive returns. When the window is increased to 10 years, the percentage of 10 year periods is reduced to 7/61=11% and \n",
    "#'for 15 years and 20 years periods there simply are not any with negative returns. Not bad considering that this includes crisis such as...\n",
    "#'an confrims the idea the stay the curse is not a bad idea.\n",
    "\n",
    "##Count of intervals,number of negatives,Table mean, max gain, min gain\n",
    "print('Stats for differents rolling windows between 1950 and 2019')\n",
    "negative_returns=lambda x:sum(x<0)\n",
    "negative_returns.__name__='# Negative returns' #to name the lambda used in the agg\n",
    "SP500_year.agg({'Yearly_Change':['count',negative_returns,'mean','std','max','min'],\n",
    "                'Cumulative_roll3':['count',negative_returns,'mean','std','max','min'],\n",
    "               'Cumulative_roll5':['count',negative_returns,'mean','std','max','min'],\n",
    "               'Cumulative_roll10':['count',negative_returns,'mean','std','max','min'],\n",
    "               'Cumulative_roll15':['count',negative_returns,'mean','std','max','min'],\n",
    "               'Cumulative_roll20':['count',negative_returns,'mean','std','max','min']\n",
    "               }).rename(columns={'Yearly_Change': '1 year', 'Cumulative_roll3':'3 years','Cumulative_roll5':'5 years',\n",
    "               'Cumulative_roll10':'10 years','Cumulative_roll15':'15 years','Cumulative_roll20':'20 years'\n",
    "                }).transpose().style.format({\n",
    "                'count':'{0:,.0f}', '# Negative returns': '{0:,.0f}', 'mean': '{:.2%}','std': '{:.2%}','max':'{:.2%}','min':'{:.2%}'})\n",
    "\n",
    "\n",
    "######INCLUDE std"
   ]
  },
  {
   "cell_type": "code",
   "execution_count": 24,
   "metadata": {},
   "outputs": [
    {
     "data": {
      "text/html": [
       "<style  type=\"text/css\" >\n",
       "</style><table id=\"T_40d37dee_a58d_11ea_844b_34f64b76679e\" ><thead>    <tr>        <th class=\"blank level0\" ></th>        <th class=\"col_heading level0 col0\" >count</th>        <th class=\"col_heading level0 col1\" ># Negative returns</th>        <th class=\"col_heading level0 col2\" >mean</th>        <th class=\"col_heading level0 col3\" >max</th>        <th class=\"col_heading level0 col4\" >min</th>    </tr></thead><tbody>\n",
       "                <tr>\n",
       "                        <th id=\"T_40d37dee_a58d_11ea_844b_34f64b76679elevel0_row0\" class=\"row_heading level0 row0\" >Entire year</th>\n",
       "                        <td id=\"T_40d37dee_a58d_11ea_844b_34f64b76679erow0_col0\" class=\"data row0 col0\" >70</td>\n",
       "                        <td id=\"T_40d37dee_a58d_11ea_844b_34f64b76679erow0_col1\" class=\"data row0 col1\" >19</td>\n",
       "                        <td id=\"T_40d37dee_a58d_11ea_844b_34f64b76679erow0_col2\" class=\"data row0 col2\" >9.15%</td>\n",
       "                        <td id=\"T_40d37dee_a58d_11ea_844b_34f64b76679erow0_col3\" class=\"data row0 col3\" >45.02%</td>\n",
       "                        <td id=\"T_40d37dee_a58d_11ea_844b_34f64b76679erow0_col4\" class=\"data row0 col4\" >-38.49%</td>\n",
       "            </tr>\n",
       "            <tr>\n",
       "                        <th id=\"T_40d37dee_a58d_11ea_844b_34f64b76679elevel0_row1\" class=\"row_heading level0 row1\" >November through April</th>\n",
       "                        <td id=\"T_40d37dee_a58d_11ea_844b_34f64b76679erow1_col0\" class=\"data row1 col0\" >69</td>\n",
       "                        <td id=\"T_40d37dee_a58d_11ea_844b_34f64b76679erow1_col1\" class=\"data row1 col1\" >20</td>\n",
       "                        <td id=\"T_40d37dee_a58d_11ea_844b_34f64b76679erow1_col2\" class=\"data row1 col2\" >7.10%</td>\n",
       "                        <td id=\"T_40d37dee_a58d_11ea_844b_34f64b76679erow1_col3\" class=\"data row1 col3\" >29.37%</td>\n",
       "                        <td id=\"T_40d37dee_a58d_11ea_844b_34f64b76679erow1_col4\" class=\"data row1 col4\" >-18.37%</td>\n",
       "            </tr>\n",
       "            <tr>\n",
       "                        <th id=\"T_40d37dee_a58d_11ea_844b_34f64b76679elevel0_row2\" class=\"row_heading level0 row2\" >May through October</th>\n",
       "                        <td id=\"T_40d37dee_a58d_11ea_844b_34f64b76679erow2_col0\" class=\"data row2 col0\" >70</td>\n",
       "                        <td id=\"T_40d37dee_a58d_11ea_844b_34f64b76679erow2_col1\" class=\"data row2 col1\" >25</td>\n",
       "                        <td id=\"T_40d37dee_a58d_11ea_844b_34f64b76679erow2_col2\" class=\"data row2 col2\" >1.51%</td>\n",
       "                        <td id=\"T_40d37dee_a58d_11ea_844b_34f64b76679erow2_col3\" class=\"data row2 col3\" >19.93%</td>\n",
       "                        <td id=\"T_40d37dee_a58d_11ea_844b_34f64b76679erow2_col4\" class=\"data row2 col4\" >-30.08%</td>\n",
       "            </tr>\n",
       "    </tbody></table>"
      ],
      "text/plain": [
       "<pandas.io.formats.style.Styler at 0x21996237358>"
      ]
     },
     "execution_count": 24,
     "metadata": {},
     "output_type": "execute_result"
    }
   ],
   "source": [
    "#1. Out of the market several periods\n",
    "\n",
    "#1.1 Sell in May and go away\n",
    "\"\"\"\"Sell in May and go away\" is a well-known financial-world adage. It is based on the historical \n",
    "underperformance of some stocks in the \"summery\" six-month period commencing in May and ending in October,\n",
    " compared to the \"wintery\" six-month period from November to April. If an investor follows the this strategy, \n",
    " they would divest their equity holdings in May (or at least, the late spring) and invest again in November\n",
    " (or the mid-autumn).\n",
    "\n",
    "Some investors find this strategy more rewarding than staying in the equity markets throughout the year. \n",
    "\"\"\"\n",
    "#Compare returns of the two halfs: May-October vs Jan to April+ Nov and Dec\n",
    "#Create dataframe wth monthly information\n",
    "SP500_month=SP500_day.asfreq('M',method='ffill')\n",
    "SP500_month['Monthly_Change']=SP500_month.Close.pct_change()\n",
    "\n",
    "\n",
    "#Simulate we are out of the market between May and October assign 0% return. Same for the other half\n",
    "SP500_month['Monthly_Change_no_5-10']=SP500_month['Monthly_Change']\n",
    "SP500_month.loc[SP500_month['Monthly_Change_no_5-10'].index.month.isin([5,6,7,8,9,10]),'Monthly_Change_no_5-10']=0\n",
    "SP500_month['Monthly_Change_no_11-4']=SP500_month['Monthly_Change']\n",
    "SP500_month.loc[SP500_month['Monthly_Change_no_11-4'].index.month.isin([1,2,3,4,11,12]),'Monthly_Change_no_11-4']=0\n",
    "\n",
    "SP500_year['Yearly_Change_no_5-10']=((1+SP500_month['Monthly_Change_no_5-10']).rolling(12)).apply(np.prod)-1\n",
    "SP500_year['Yearly_Change_no_11-4']=((1+SP500_month['Monthly_Change_no_11-4']).rolling(12)).apply(np.prod)-1\n",
    "\n",
    "\n",
    "SP500_year[['Yearly_Change','Yearly_Change_no_5-10','Yearly_Change_no_11-4']].agg(['count',negative_returns,'mean','max','min']\n",
    "            ).rename(columns={'Yearly_Change': 'Entire year', 'Yearly_Change_no_5-10':'November through April',\n",
    "               'Yearly_Change_no_11-4':'May through October'}).transpose().style.format({'count':'{0:,.0f}', \n",
    "            '# Negative returns': '{0:,.0f}', 'mean': '{:.2%}','max':'{:.2%}','min':'{:.2%}'})\n",
    "\n"
   ]
  },
  {
   "cell_type": "code",
   "execution_count": 25,
   "metadata": {},
   "outputs": [
    {
     "name": "stdout",
     "output_type": "stream",
     "text": [
      "There are 25 years out of the total of 70 when a sell in may strategy outperforms the hold strategy.\n"
     ]
    }
   ],
   "source": [
    "tot_years_sell=len(SP500_year[SP500_year['Yearly_Change_no_5-10']>SP500_year['Yearly_Change']])\n",
    "tot_years=len(SP500_year)\n",
    "\n",
    "print('There are {} years out of the total of {} when a sell in may strategy outperforms the hold strategy.'.format(tot_years_sell,tot_years))\n",
    " \n"
   ]
  },
  {
   "cell_type": "code",
   "execution_count": 26,
   "metadata": {},
   "outputs": [
    {
     "data": {
      "application/vnd.plotly.v1+json": {
       "config": {
        "plotlyServerURL": "https://plot.ly"
       },
       "data": [
        {
         "hovertemplate": "%{y:.2%} <extra></extra>",
         "marker": {
          "color": [
           "darkblue",
           "darkblue",
           "darkblue",
           "red",
           "darkblue",
           "darkblue",
           "darkblue",
           "red",
           "darkblue",
           "darkblue",
           "red",
           "darkblue",
           "darkblue",
           "darkblue",
           "darkblue",
           "darkblue",
           "red",
           "darkblue",
           "darkblue",
           "red",
           "red",
           "darkblue",
           "darkblue",
           "red",
           "red",
           "darkblue",
           "darkblue",
           "red",
           "darkblue",
           "darkblue",
           "darkblue",
           "red",
           "red",
           "darkblue",
           "red",
           "darkblue",
           "darkblue",
           "darkblue",
           "darkblue",
           "darkblue",
           "darkblue",
           "darkblue",
           "darkblue",
           "darkblue",
           "red",
           "darkblue",
           "darkblue",
           "darkblue",
           "darkblue",
           "darkblue",
           "red",
           "darkblue",
           "red",
           "darkblue",
           "darkblue",
           "red",
           "darkblue",
           "red",
           "red",
           "darkblue",
           "darkblue",
           "darkblue",
           "darkblue",
           "darkblue",
           "darkblue",
           "red",
           "darkblue",
           "darkblue",
           "red",
           "darkblue"
          ]
         },
         "type": "bar",
         "visible": true,
         "x": [
          1950,
          1951,
          1952,
          1953,
          1954,
          1955,
          1956,
          1957,
          1958,
          1959,
          1960,
          1961,
          1962,
          1963,
          1964,
          1965,
          1966,
          1967,
          1968,
          1969,
          1970,
          1971,
          1972,
          1973,
          1974,
          1975,
          1976,
          1977,
          1978,
          1979,
          1980,
          1981,
          1982,
          1983,
          1984,
          1985,
          1986,
          1987,
          1988,
          1989,
          1990,
          1991,
          1992,
          1993,
          1994,
          1995,
          1996,
          1997,
          1998,
          1999,
          2000,
          2001,
          2002,
          2003,
          2004,
          2005,
          2006,
          2007,
          2008,
          2009,
          2010,
          2011,
          2012,
          2013,
          2014,
          2015,
          2016,
          2017,
          2018,
          2019
         ],
         "y": [
          null,
          0.1376185267798422,
          0.06309102800698141,
          -0.06319611633258604,
          0.2936637141559524,
          0.13327324457008238,
          0.08920307651834936,
          -0.04546717613299278,
          0.16838194935287354,
          0.0860873808921716,
          -0.011911170919958414,
          0.17189232817596412,
          0.017961786088943166,
          0.12127650547207303,
          0.05781126371495238,
          0.05155923045546085,
          -0.013225065772923372,
          0.21006001230193805,
          0.01465847472923576,
          -0.05365207461036159,
          -0.019823476105137794,
          0.22214607070908854,
          0.11581232925410623,
          -0.18372794626225553,
          -0.14111525464692287,
          0.2897831779274014,
          0.17689496924632042,
          -0.056557491550333294,
          0.05054616994481065,
          0.12242636540089324,
          0.04875443165293114,
          -0.016432412605436042,
          -0.0006873997478817895,
          0.17902025119539733,
          -0.02286910582212598,
          0.19684628319818476,
          0.10645953057249335,
          0.16845982832573503,
          0.052934375370917275,
          0.15765182888047757,
          0.016784081138617957,
          0.20799989766467153,
          0.03533600932387615,
          0.007302029572369806,
          -0.060084300435226945,
          0.18706962041924036,
          0.11550013845234908,
          0.14782205112006297,
          0.28176612050372896,
          0.17092431092362026,
          -0.0869137637256091,
          0.02520966793175261,
          -0.06827212164545493,
          0.10288013300249732,
          0.06785047240046804,
          -0.012794180799552524,
          0.0806767210344781,
          -0.009480358354989948,
          -0.12017065403662552,
          0.03988706503455086,
          0.13109638617184882,
          0.08798094585067284,
          0.12261322684644083,
          0.1787209896471036,
          0.03988689084004671,
          -0.004329893378154148,
          0.06400158998081618,
          0.10560127866654723,
          -0.08439441271059622,
          0.24986136358317634
         ]
        }
       ],
       "layout": {
        "hovermode": "x",
        "template": {
         "data": {
          "bar": [
           {
            "error_x": {
             "color": "#2a3f5f"
            },
            "error_y": {
             "color": "#2a3f5f"
            },
            "marker": {
             "line": {
              "color": "#E5ECF6",
              "width": 0.5
             }
            },
            "type": "bar"
           }
          ],
          "barpolar": [
           {
            "marker": {
             "line": {
              "color": "#E5ECF6",
              "width": 0.5
             }
            },
            "type": "barpolar"
           }
          ],
          "carpet": [
           {
            "aaxis": {
             "endlinecolor": "#2a3f5f",
             "gridcolor": "white",
             "linecolor": "white",
             "minorgridcolor": "white",
             "startlinecolor": "#2a3f5f"
            },
            "baxis": {
             "endlinecolor": "#2a3f5f",
             "gridcolor": "white",
             "linecolor": "white",
             "minorgridcolor": "white",
             "startlinecolor": "#2a3f5f"
            },
            "type": "carpet"
           }
          ],
          "choropleth": [
           {
            "colorbar": {
             "outlinewidth": 0,
             "ticks": ""
            },
            "type": "choropleth"
           }
          ],
          "contour": [
           {
            "colorbar": {
             "outlinewidth": 0,
             "ticks": ""
            },
            "colorscale": [
             [
              0,
              "#0d0887"
             ],
             [
              0.1111111111111111,
              "#46039f"
             ],
             [
              0.2222222222222222,
              "#7201a8"
             ],
             [
              0.3333333333333333,
              "#9c179e"
             ],
             [
              0.4444444444444444,
              "#bd3786"
             ],
             [
              0.5555555555555556,
              "#d8576b"
             ],
             [
              0.6666666666666666,
              "#ed7953"
             ],
             [
              0.7777777777777778,
              "#fb9f3a"
             ],
             [
              0.8888888888888888,
              "#fdca26"
             ],
             [
              1,
              "#f0f921"
             ]
            ],
            "type": "contour"
           }
          ],
          "contourcarpet": [
           {
            "colorbar": {
             "outlinewidth": 0,
             "ticks": ""
            },
            "type": "contourcarpet"
           }
          ],
          "heatmap": [
           {
            "colorbar": {
             "outlinewidth": 0,
             "ticks": ""
            },
            "colorscale": [
             [
              0,
              "#0d0887"
             ],
             [
              0.1111111111111111,
              "#46039f"
             ],
             [
              0.2222222222222222,
              "#7201a8"
             ],
             [
              0.3333333333333333,
              "#9c179e"
             ],
             [
              0.4444444444444444,
              "#bd3786"
             ],
             [
              0.5555555555555556,
              "#d8576b"
             ],
             [
              0.6666666666666666,
              "#ed7953"
             ],
             [
              0.7777777777777778,
              "#fb9f3a"
             ],
             [
              0.8888888888888888,
              "#fdca26"
             ],
             [
              1,
              "#f0f921"
             ]
            ],
            "type": "heatmap"
           }
          ],
          "heatmapgl": [
           {
            "colorbar": {
             "outlinewidth": 0,
             "ticks": ""
            },
            "colorscale": [
             [
              0,
              "#0d0887"
             ],
             [
              0.1111111111111111,
              "#46039f"
             ],
             [
              0.2222222222222222,
              "#7201a8"
             ],
             [
              0.3333333333333333,
              "#9c179e"
             ],
             [
              0.4444444444444444,
              "#bd3786"
             ],
             [
              0.5555555555555556,
              "#d8576b"
             ],
             [
              0.6666666666666666,
              "#ed7953"
             ],
             [
              0.7777777777777778,
              "#fb9f3a"
             ],
             [
              0.8888888888888888,
              "#fdca26"
             ],
             [
              1,
              "#f0f921"
             ]
            ],
            "type": "heatmapgl"
           }
          ],
          "histogram": [
           {
            "marker": {
             "colorbar": {
              "outlinewidth": 0,
              "ticks": ""
             }
            },
            "type": "histogram"
           }
          ],
          "histogram2d": [
           {
            "colorbar": {
             "outlinewidth": 0,
             "ticks": ""
            },
            "colorscale": [
             [
              0,
              "#0d0887"
             ],
             [
              0.1111111111111111,
              "#46039f"
             ],
             [
              0.2222222222222222,
              "#7201a8"
             ],
             [
              0.3333333333333333,
              "#9c179e"
             ],
             [
              0.4444444444444444,
              "#bd3786"
             ],
             [
              0.5555555555555556,
              "#d8576b"
             ],
             [
              0.6666666666666666,
              "#ed7953"
             ],
             [
              0.7777777777777778,
              "#fb9f3a"
             ],
             [
              0.8888888888888888,
              "#fdca26"
             ],
             [
              1,
              "#f0f921"
             ]
            ],
            "type": "histogram2d"
           }
          ],
          "histogram2dcontour": [
           {
            "colorbar": {
             "outlinewidth": 0,
             "ticks": ""
            },
            "colorscale": [
             [
              0,
              "#0d0887"
             ],
             [
              0.1111111111111111,
              "#46039f"
             ],
             [
              0.2222222222222222,
              "#7201a8"
             ],
             [
              0.3333333333333333,
              "#9c179e"
             ],
             [
              0.4444444444444444,
              "#bd3786"
             ],
             [
              0.5555555555555556,
              "#d8576b"
             ],
             [
              0.6666666666666666,
              "#ed7953"
             ],
             [
              0.7777777777777778,
              "#fb9f3a"
             ],
             [
              0.8888888888888888,
              "#fdca26"
             ],
             [
              1,
              "#f0f921"
             ]
            ],
            "type": "histogram2dcontour"
           }
          ],
          "mesh3d": [
           {
            "colorbar": {
             "outlinewidth": 0,
             "ticks": ""
            },
            "type": "mesh3d"
           }
          ],
          "parcoords": [
           {
            "line": {
             "colorbar": {
              "outlinewidth": 0,
              "ticks": ""
             }
            },
            "type": "parcoords"
           }
          ],
          "pie": [
           {
            "automargin": true,
            "type": "pie"
           }
          ],
          "scatter": [
           {
            "marker": {
             "colorbar": {
              "outlinewidth": 0,
              "ticks": ""
             }
            },
            "type": "scatter"
           }
          ],
          "scatter3d": [
           {
            "line": {
             "colorbar": {
              "outlinewidth": 0,
              "ticks": ""
             }
            },
            "marker": {
             "colorbar": {
              "outlinewidth": 0,
              "ticks": ""
             }
            },
            "type": "scatter3d"
           }
          ],
          "scattercarpet": [
           {
            "marker": {
             "colorbar": {
              "outlinewidth": 0,
              "ticks": ""
             }
            },
            "type": "scattercarpet"
           }
          ],
          "scattergeo": [
           {
            "marker": {
             "colorbar": {
              "outlinewidth": 0,
              "ticks": ""
             }
            },
            "type": "scattergeo"
           }
          ],
          "scattergl": [
           {
            "marker": {
             "colorbar": {
              "outlinewidth": 0,
              "ticks": ""
             }
            },
            "type": "scattergl"
           }
          ],
          "scattermapbox": [
           {
            "marker": {
             "colorbar": {
              "outlinewidth": 0,
              "ticks": ""
             }
            },
            "type": "scattermapbox"
           }
          ],
          "scatterpolar": [
           {
            "marker": {
             "colorbar": {
              "outlinewidth": 0,
              "ticks": ""
             }
            },
            "type": "scatterpolar"
           }
          ],
          "scatterpolargl": [
           {
            "marker": {
             "colorbar": {
              "outlinewidth": 0,
              "ticks": ""
             }
            },
            "type": "scatterpolargl"
           }
          ],
          "scatterternary": [
           {
            "marker": {
             "colorbar": {
              "outlinewidth": 0,
              "ticks": ""
             }
            },
            "type": "scatterternary"
           }
          ],
          "surface": [
           {
            "colorbar": {
             "outlinewidth": 0,
             "ticks": ""
            },
            "colorscale": [
             [
              0,
              "#0d0887"
             ],
             [
              0.1111111111111111,
              "#46039f"
             ],
             [
              0.2222222222222222,
              "#7201a8"
             ],
             [
              0.3333333333333333,
              "#9c179e"
             ],
             [
              0.4444444444444444,
              "#bd3786"
             ],
             [
              0.5555555555555556,
              "#d8576b"
             ],
             [
              0.6666666666666666,
              "#ed7953"
             ],
             [
              0.7777777777777778,
              "#fb9f3a"
             ],
             [
              0.8888888888888888,
              "#fdca26"
             ],
             [
              1,
              "#f0f921"
             ]
            ],
            "type": "surface"
           }
          ],
          "table": [
           {
            "cells": {
             "fill": {
              "color": "#EBF0F8"
             },
             "line": {
              "color": "white"
             }
            },
            "header": {
             "fill": {
              "color": "#C8D4E3"
             },
             "line": {
              "color": "white"
             }
            },
            "type": "table"
           }
          ]
         },
         "layout": {
          "annotationdefaults": {
           "arrowcolor": "#2a3f5f",
           "arrowhead": 0,
           "arrowwidth": 1
          },
          "coloraxis": {
           "colorbar": {
            "outlinewidth": 0,
            "ticks": ""
           }
          },
          "colorscale": {
           "diverging": [
            [
             0,
             "#8e0152"
            ],
            [
             0.1,
             "#c51b7d"
            ],
            [
             0.2,
             "#de77ae"
            ],
            [
             0.3,
             "#f1b6da"
            ],
            [
             0.4,
             "#fde0ef"
            ],
            [
             0.5,
             "#f7f7f7"
            ],
            [
             0.6,
             "#e6f5d0"
            ],
            [
             0.7,
             "#b8e186"
            ],
            [
             0.8,
             "#7fbc41"
            ],
            [
             0.9,
             "#4d9221"
            ],
            [
             1,
             "#276419"
            ]
           ],
           "sequential": [
            [
             0,
             "#0d0887"
            ],
            [
             0.1111111111111111,
             "#46039f"
            ],
            [
             0.2222222222222222,
             "#7201a8"
            ],
            [
             0.3333333333333333,
             "#9c179e"
            ],
            [
             0.4444444444444444,
             "#bd3786"
            ],
            [
             0.5555555555555556,
             "#d8576b"
            ],
            [
             0.6666666666666666,
             "#ed7953"
            ],
            [
             0.7777777777777778,
             "#fb9f3a"
            ],
            [
             0.8888888888888888,
             "#fdca26"
            ],
            [
             1,
             "#f0f921"
            ]
           ],
           "sequentialminus": [
            [
             0,
             "#0d0887"
            ],
            [
             0.1111111111111111,
             "#46039f"
            ],
            [
             0.2222222222222222,
             "#7201a8"
            ],
            [
             0.3333333333333333,
             "#9c179e"
            ],
            [
             0.4444444444444444,
             "#bd3786"
            ],
            [
             0.5555555555555556,
             "#d8576b"
            ],
            [
             0.6666666666666666,
             "#ed7953"
            ],
            [
             0.7777777777777778,
             "#fb9f3a"
            ],
            [
             0.8888888888888888,
             "#fdca26"
            ],
            [
             1,
             "#f0f921"
            ]
           ]
          },
          "colorway": [
           "#636efa",
           "#EF553B",
           "#00cc96",
           "#ab63fa",
           "#FFA15A",
           "#19d3f3",
           "#FF6692",
           "#B6E880",
           "#FF97FF",
           "#FECB52"
          ],
          "font": {
           "color": "#2a3f5f"
          },
          "geo": {
           "bgcolor": "white",
           "lakecolor": "white",
           "landcolor": "#E5ECF6",
           "showlakes": true,
           "showland": true,
           "subunitcolor": "white"
          },
          "hoverlabel": {
           "align": "left"
          },
          "hovermode": "closest",
          "mapbox": {
           "style": "light"
          },
          "paper_bgcolor": "white",
          "plot_bgcolor": "#E5ECF6",
          "polar": {
           "angularaxis": {
            "gridcolor": "white",
            "linecolor": "white",
            "ticks": ""
           },
           "bgcolor": "#E5ECF6",
           "radialaxis": {
            "gridcolor": "white",
            "linecolor": "white",
            "ticks": ""
           }
          },
          "scene": {
           "xaxis": {
            "backgroundcolor": "#E5ECF6",
            "gridcolor": "white",
            "gridwidth": 2,
            "linecolor": "white",
            "showbackground": true,
            "ticks": "",
            "zerolinecolor": "white"
           },
           "yaxis": {
            "backgroundcolor": "#E5ECF6",
            "gridcolor": "white",
            "gridwidth": 2,
            "linecolor": "white",
            "showbackground": true,
            "ticks": "",
            "zerolinecolor": "white"
           },
           "zaxis": {
            "backgroundcolor": "#E5ECF6",
            "gridcolor": "white",
            "gridwidth": 2,
            "linecolor": "white",
            "showbackground": true,
            "ticks": "",
            "zerolinecolor": "white"
           }
          },
          "shapedefaults": {
           "line": {
            "color": "#2a3f5f"
           }
          },
          "ternary": {
           "aaxis": {
            "gridcolor": "white",
            "linecolor": "white",
            "ticks": ""
           },
           "baxis": {
            "gridcolor": "white",
            "linecolor": "white",
            "ticks": ""
           },
           "bgcolor": "#E5ECF6",
           "caxis": {
            "gridcolor": "white",
            "linecolor": "white",
            "ticks": ""
           }
          },
          "title": {
           "x": 0.05
          },
          "xaxis": {
           "automargin": true,
           "gridcolor": "white",
           "linecolor": "white",
           "ticks": "",
           "title": {
            "standoff": 15
           },
           "zerolinecolor": "white",
           "zerolinewidth": 2
          },
          "yaxis": {
           "automargin": true,
           "gridcolor": "white",
           "linecolor": "white",
           "ticks": "",
           "title": {
            "standoff": 15
           },
           "zerolinecolor": "white",
           "zerolinewidth": 2
          }
         }
        }
       }
      },
      "text/html": [
       "<div>\n",
       "        \n",
       "        \n",
       "            <div id=\"7888e3b0-e29e-4b0b-b64d-b36d776e264f\" class=\"plotly-graph-div\" style=\"height:525px; width:100%;\"></div>\n",
       "            <script type=\"text/javascript\">\n",
       "                require([\"plotly\"], function(Plotly) {\n",
       "                    window.PLOTLYENV=window.PLOTLYENV || {};\n",
       "                    \n",
       "                if (document.getElementById(\"7888e3b0-e29e-4b0b-b64d-b36d776e264f\")) {\n",
       "                    Plotly.newPlot(\n",
       "                        '7888e3b0-e29e-4b0b-b64d-b36d776e264f',\n",
       "                        [{\"hovertemplate\": \"%{y:.2%} <extra></extra>\", \"marker\": {\"color\": [\"darkblue\", \"darkblue\", \"darkblue\", \"red\", \"darkblue\", \"darkblue\", \"darkblue\", \"red\", \"darkblue\", \"darkblue\", \"red\", \"darkblue\", \"darkblue\", \"darkblue\", \"darkblue\", \"darkblue\", \"red\", \"darkblue\", \"darkblue\", \"red\", \"red\", \"darkblue\", \"darkblue\", \"red\", \"red\", \"darkblue\", \"darkblue\", \"red\", \"darkblue\", \"darkblue\", \"darkblue\", \"red\", \"red\", \"darkblue\", \"red\", \"darkblue\", \"darkblue\", \"darkblue\", \"darkblue\", \"darkblue\", \"darkblue\", \"darkblue\", \"darkblue\", \"darkblue\", \"red\", \"darkblue\", \"darkblue\", \"darkblue\", \"darkblue\", \"darkblue\", \"red\", \"darkblue\", \"red\", \"darkblue\", \"darkblue\", \"red\", \"darkblue\", \"red\", \"red\", \"darkblue\", \"darkblue\", \"darkblue\", \"darkblue\", \"darkblue\", \"darkblue\", \"red\", \"darkblue\", \"darkblue\", \"red\", \"darkblue\"]}, \"type\": \"bar\", \"visible\": true, \"x\": [1950, 1951, 1952, 1953, 1954, 1955, 1956, 1957, 1958, 1959, 1960, 1961, 1962, 1963, 1964, 1965, 1966, 1967, 1968, 1969, 1970, 1971, 1972, 1973, 1974, 1975, 1976, 1977, 1978, 1979, 1980, 1981, 1982, 1983, 1984, 1985, 1986, 1987, 1988, 1989, 1990, 1991, 1992, 1993, 1994, 1995, 1996, 1997, 1998, 1999, 2000, 2001, 2002, 2003, 2004, 2005, 2006, 2007, 2008, 2009, 2010, 2011, 2012, 2013, 2014, 2015, 2016, 2017, 2018, 2019], \"y\": [null, 0.1376185267798422, 0.06309102800698141, -0.06319611633258604, 0.2936637141559524, 0.13327324457008238, 0.08920307651834936, -0.04546717613299278, 0.16838194935287354, 0.0860873808921716, -0.011911170919958414, 0.17189232817596412, 0.017961786088943166, 0.12127650547207303, 0.05781126371495238, 0.05155923045546085, -0.013225065772923372, 0.21006001230193805, 0.01465847472923576, -0.05365207461036159, -0.019823476105137794, 0.22214607070908854, 0.11581232925410623, -0.18372794626225553, -0.14111525464692287, 0.2897831779274014, 0.17689496924632042, -0.056557491550333294, 0.05054616994481065, 0.12242636540089324, 0.04875443165293114, -0.016432412605436042, -0.0006873997478817895, 0.17902025119539733, -0.02286910582212598, 0.19684628319818476, 0.10645953057249335, 0.16845982832573503, 0.052934375370917275, 0.15765182888047757, 0.016784081138617957, 0.20799989766467153, 0.03533600932387615, 0.007302029572369806, -0.060084300435226945, 0.18706962041924036, 0.11550013845234908, 0.14782205112006297, 0.28176612050372896, 0.17092431092362026, -0.0869137637256091, 0.02520966793175261, -0.06827212164545493, 0.10288013300249732, 0.06785047240046804, -0.012794180799552524, 0.0806767210344781, -0.009480358354989948, -0.12017065403662552, 0.03988706503455086, 0.13109638617184882, 0.08798094585067284, 0.12261322684644083, 0.1787209896471036, 0.03988689084004671, -0.004329893378154148, 0.06400158998081618, 0.10560127866654723, -0.08439441271059622, 0.24986136358317634]}],\n",
       "                        {\"hovermode\": \"x\", \"template\": {\"data\": {\"bar\": [{\"error_x\": {\"color\": \"#2a3f5f\"}, \"error_y\": {\"color\": \"#2a3f5f\"}, \"marker\": {\"line\": {\"color\": \"#E5ECF6\", \"width\": 0.5}}, \"type\": \"bar\"}], \"barpolar\": [{\"marker\": {\"line\": {\"color\": \"#E5ECF6\", \"width\": 0.5}}, \"type\": \"barpolar\"}], \"carpet\": [{\"aaxis\": {\"endlinecolor\": \"#2a3f5f\", \"gridcolor\": \"white\", \"linecolor\": \"white\", \"minorgridcolor\": \"white\", \"startlinecolor\": \"#2a3f5f\"}, \"baxis\": {\"endlinecolor\": \"#2a3f5f\", \"gridcolor\": \"white\", \"linecolor\": \"white\", \"minorgridcolor\": \"white\", \"startlinecolor\": \"#2a3f5f\"}, \"type\": \"carpet\"}], \"choropleth\": [{\"colorbar\": {\"outlinewidth\": 0, \"ticks\": \"\"}, \"type\": \"choropleth\"}], \"contour\": [{\"colorbar\": {\"outlinewidth\": 0, \"ticks\": \"\"}, \"colorscale\": [[0.0, \"#0d0887\"], [0.1111111111111111, \"#46039f\"], [0.2222222222222222, \"#7201a8\"], [0.3333333333333333, \"#9c179e\"], [0.4444444444444444, \"#bd3786\"], [0.5555555555555556, \"#d8576b\"], [0.6666666666666666, \"#ed7953\"], [0.7777777777777778, \"#fb9f3a\"], [0.8888888888888888, \"#fdca26\"], [1.0, \"#f0f921\"]], \"type\": \"contour\"}], \"contourcarpet\": [{\"colorbar\": {\"outlinewidth\": 0, \"ticks\": \"\"}, \"type\": \"contourcarpet\"}], \"heatmap\": [{\"colorbar\": {\"outlinewidth\": 0, \"ticks\": \"\"}, \"colorscale\": [[0.0, \"#0d0887\"], [0.1111111111111111, \"#46039f\"], [0.2222222222222222, \"#7201a8\"], [0.3333333333333333, \"#9c179e\"], [0.4444444444444444, \"#bd3786\"], [0.5555555555555556, \"#d8576b\"], [0.6666666666666666, \"#ed7953\"], [0.7777777777777778, \"#fb9f3a\"], [0.8888888888888888, \"#fdca26\"], [1.0, \"#f0f921\"]], \"type\": \"heatmap\"}], \"heatmapgl\": [{\"colorbar\": {\"outlinewidth\": 0, \"ticks\": \"\"}, \"colorscale\": [[0.0, \"#0d0887\"], [0.1111111111111111, \"#46039f\"], [0.2222222222222222, \"#7201a8\"], [0.3333333333333333, \"#9c179e\"], [0.4444444444444444, \"#bd3786\"], [0.5555555555555556, \"#d8576b\"], [0.6666666666666666, \"#ed7953\"], [0.7777777777777778, \"#fb9f3a\"], [0.8888888888888888, \"#fdca26\"], [1.0, \"#f0f921\"]], \"type\": \"heatmapgl\"}], \"histogram\": [{\"marker\": {\"colorbar\": {\"outlinewidth\": 0, \"ticks\": \"\"}}, \"type\": \"histogram\"}], \"histogram2d\": [{\"colorbar\": {\"outlinewidth\": 0, \"ticks\": \"\"}, \"colorscale\": [[0.0, \"#0d0887\"], [0.1111111111111111, \"#46039f\"], [0.2222222222222222, \"#7201a8\"], [0.3333333333333333, \"#9c179e\"], [0.4444444444444444, \"#bd3786\"], [0.5555555555555556, \"#d8576b\"], [0.6666666666666666, \"#ed7953\"], [0.7777777777777778, \"#fb9f3a\"], [0.8888888888888888, \"#fdca26\"], [1.0, \"#f0f921\"]], \"type\": \"histogram2d\"}], \"histogram2dcontour\": [{\"colorbar\": {\"outlinewidth\": 0, \"ticks\": \"\"}, \"colorscale\": [[0.0, \"#0d0887\"], [0.1111111111111111, \"#46039f\"], [0.2222222222222222, \"#7201a8\"], [0.3333333333333333, \"#9c179e\"], [0.4444444444444444, \"#bd3786\"], [0.5555555555555556, \"#d8576b\"], [0.6666666666666666, \"#ed7953\"], [0.7777777777777778, \"#fb9f3a\"], [0.8888888888888888, \"#fdca26\"], [1.0, \"#f0f921\"]], \"type\": \"histogram2dcontour\"}], \"mesh3d\": [{\"colorbar\": {\"outlinewidth\": 0, \"ticks\": \"\"}, \"type\": \"mesh3d\"}], \"parcoords\": [{\"line\": {\"colorbar\": {\"outlinewidth\": 0, \"ticks\": \"\"}}, \"type\": \"parcoords\"}], \"pie\": [{\"automargin\": true, \"type\": \"pie\"}], \"scatter\": [{\"marker\": {\"colorbar\": {\"outlinewidth\": 0, \"ticks\": \"\"}}, \"type\": \"scatter\"}], \"scatter3d\": [{\"line\": {\"colorbar\": {\"outlinewidth\": 0, \"ticks\": \"\"}}, \"marker\": {\"colorbar\": {\"outlinewidth\": 0, \"ticks\": \"\"}}, \"type\": \"scatter3d\"}], \"scattercarpet\": [{\"marker\": {\"colorbar\": {\"outlinewidth\": 0, \"ticks\": \"\"}}, \"type\": \"scattercarpet\"}], \"scattergeo\": [{\"marker\": {\"colorbar\": {\"outlinewidth\": 0, \"ticks\": \"\"}}, \"type\": \"scattergeo\"}], \"scattergl\": [{\"marker\": {\"colorbar\": {\"outlinewidth\": 0, \"ticks\": \"\"}}, \"type\": \"scattergl\"}], \"scattermapbox\": [{\"marker\": {\"colorbar\": {\"outlinewidth\": 0, \"ticks\": \"\"}}, \"type\": \"scattermapbox\"}], \"scatterpolar\": [{\"marker\": {\"colorbar\": {\"outlinewidth\": 0, \"ticks\": \"\"}}, \"type\": \"scatterpolar\"}], \"scatterpolargl\": [{\"marker\": {\"colorbar\": {\"outlinewidth\": 0, \"ticks\": \"\"}}, \"type\": \"scatterpolargl\"}], \"scatterternary\": [{\"marker\": {\"colorbar\": {\"outlinewidth\": 0, \"ticks\": \"\"}}, \"type\": \"scatterternary\"}], \"surface\": [{\"colorbar\": {\"outlinewidth\": 0, \"ticks\": \"\"}, \"colorscale\": [[0.0, \"#0d0887\"], [0.1111111111111111, \"#46039f\"], [0.2222222222222222, \"#7201a8\"], [0.3333333333333333, \"#9c179e\"], [0.4444444444444444, \"#bd3786\"], [0.5555555555555556, \"#d8576b\"], [0.6666666666666666, \"#ed7953\"], [0.7777777777777778, \"#fb9f3a\"], [0.8888888888888888, \"#fdca26\"], [1.0, \"#f0f921\"]], \"type\": \"surface\"}], \"table\": [{\"cells\": {\"fill\": {\"color\": \"#EBF0F8\"}, \"line\": {\"color\": \"white\"}}, \"header\": {\"fill\": {\"color\": \"#C8D4E3\"}, \"line\": {\"color\": \"white\"}}, \"type\": \"table\"}]}, \"layout\": {\"annotationdefaults\": {\"arrowcolor\": \"#2a3f5f\", \"arrowhead\": 0, \"arrowwidth\": 1}, \"coloraxis\": {\"colorbar\": {\"outlinewidth\": 0, \"ticks\": \"\"}}, \"colorscale\": {\"diverging\": [[0, \"#8e0152\"], [0.1, \"#c51b7d\"], [0.2, \"#de77ae\"], [0.3, \"#f1b6da\"], [0.4, \"#fde0ef\"], [0.5, \"#f7f7f7\"], [0.6, \"#e6f5d0\"], [0.7, \"#b8e186\"], [0.8, \"#7fbc41\"], [0.9, \"#4d9221\"], [1, \"#276419\"]], \"sequential\": [[0.0, \"#0d0887\"], [0.1111111111111111, \"#46039f\"], [0.2222222222222222, \"#7201a8\"], [0.3333333333333333, \"#9c179e\"], [0.4444444444444444, \"#bd3786\"], [0.5555555555555556, \"#d8576b\"], [0.6666666666666666, \"#ed7953\"], [0.7777777777777778, \"#fb9f3a\"], [0.8888888888888888, \"#fdca26\"], [1.0, \"#f0f921\"]], \"sequentialminus\": [[0.0, \"#0d0887\"], [0.1111111111111111, \"#46039f\"], [0.2222222222222222, \"#7201a8\"], [0.3333333333333333, \"#9c179e\"], [0.4444444444444444, \"#bd3786\"], [0.5555555555555556, \"#d8576b\"], [0.6666666666666666, \"#ed7953\"], [0.7777777777777778, \"#fb9f3a\"], [0.8888888888888888, \"#fdca26\"], [1.0, \"#f0f921\"]]}, \"colorway\": [\"#636efa\", \"#EF553B\", \"#00cc96\", \"#ab63fa\", \"#FFA15A\", \"#19d3f3\", \"#FF6692\", \"#B6E880\", \"#FF97FF\", \"#FECB52\"], \"font\": {\"color\": \"#2a3f5f\"}, \"geo\": {\"bgcolor\": \"white\", \"lakecolor\": \"white\", \"landcolor\": \"#E5ECF6\", \"showlakes\": true, \"showland\": true, \"subunitcolor\": \"white\"}, \"hoverlabel\": {\"align\": \"left\"}, \"hovermode\": \"closest\", \"mapbox\": {\"style\": \"light\"}, \"paper_bgcolor\": \"white\", \"plot_bgcolor\": \"#E5ECF6\", \"polar\": {\"angularaxis\": {\"gridcolor\": \"white\", \"linecolor\": \"white\", \"ticks\": \"\"}, \"bgcolor\": \"#E5ECF6\", \"radialaxis\": {\"gridcolor\": \"white\", \"linecolor\": \"white\", \"ticks\": \"\"}}, \"scene\": {\"xaxis\": {\"backgroundcolor\": \"#E5ECF6\", \"gridcolor\": \"white\", \"gridwidth\": 2, \"linecolor\": \"white\", \"showbackground\": true, \"ticks\": \"\", \"zerolinecolor\": \"white\"}, \"yaxis\": {\"backgroundcolor\": \"#E5ECF6\", \"gridcolor\": \"white\", \"gridwidth\": 2, \"linecolor\": \"white\", \"showbackground\": true, \"ticks\": \"\", \"zerolinecolor\": \"white\"}, \"zaxis\": {\"backgroundcolor\": \"#E5ECF6\", \"gridcolor\": \"white\", \"gridwidth\": 2, \"linecolor\": \"white\", \"showbackground\": true, \"ticks\": \"\", \"zerolinecolor\": \"white\"}}, \"shapedefaults\": {\"line\": {\"color\": \"#2a3f5f\"}}, \"ternary\": {\"aaxis\": {\"gridcolor\": \"white\", \"linecolor\": \"white\", \"ticks\": \"\"}, \"baxis\": {\"gridcolor\": \"white\", \"linecolor\": \"white\", \"ticks\": \"\"}, \"bgcolor\": \"#E5ECF6\", \"caxis\": {\"gridcolor\": \"white\", \"linecolor\": \"white\", \"ticks\": \"\"}}, \"title\": {\"x\": 0.05}, \"xaxis\": {\"automargin\": true, \"gridcolor\": \"white\", \"linecolor\": \"white\", \"ticks\": \"\", \"title\": {\"standoff\": 15}, \"zerolinecolor\": \"white\", \"zerolinewidth\": 2}, \"yaxis\": {\"automargin\": true, \"gridcolor\": \"white\", \"linecolor\": \"white\", \"ticks\": \"\", \"title\": {\"standoff\": 15}, \"zerolinecolor\": \"white\", \"zerolinewidth\": 2}}}},\n",
       "                        {\"responsive\": true}\n",
       "                    ).then(function(){\n",
       "                            \n",
       "var gd = document.getElementById('7888e3b0-e29e-4b0b-b64d-b36d776e264f');\n",
       "var x = new MutationObserver(function (mutations, observer) {{\n",
       "        var display = window.getComputedStyle(gd).display;\n",
       "        if (!display || display === 'none') {{\n",
       "            console.log([gd, 'removed!']);\n",
       "            Plotly.purge(gd);\n",
       "            observer.disconnect();\n",
       "        }}\n",
       "}});\n",
       "\n",
       "// Listen for the removal of the full notebook cells\n",
       "var notebookContainer = gd.closest('#notebook-container');\n",
       "if (notebookContainer) {{\n",
       "    x.observe(notebookContainer, {childList: true});\n",
       "}}\n",
       "\n",
       "// Listen for the clearing of the current output cell\n",
       "var outputEl = gd.closest('.output');\n",
       "if (outputEl) {{\n",
       "    x.observe(outputEl, {childList: true});\n",
       "}}\n",
       "\n",
       "                        })\n",
       "                };\n",
       "                });\n",
       "            </script>\n",
       "        </div>"
      ]
     },
     "metadata": {},
     "output_type": "display_data"
    }
   ],
   "source": [
    "#Now, has it been this behaviour the same during the whole series? We will check by a decomposition by decades and also with a chart\n",
    "#Visually, we can appreciate the same notion of same patern across the time in the following chart\n",
    "fig=go.Figure()\n",
    "fig.add_trace(\n",
    "    go.Bar(x=SP500_year.index.year,y=SP500_year['Yearly_Change_no_5-10'],\n",
    "           visible=True, \n",
    "            hovertemplate ='%{y:.2%} <extra></extra>',\n",
    "           marker_color=np.where(SP500_year['Yearly_Change_no_5-10']<0,'red','darkblue')\n",
    "          )\n",
    "        )\n",
    "fig.update_layout(hovermode=\"x\")\n",
    "\n",
    "#We don't see a different pattern across all the historic timeframe\n",
    "#Sell in may decomposition\n"
   ]
  },
  {
   "cell_type": "code",
   "execution_count": 31,
   "metadata": {
    "scrolled": true
   },
   "outputs": [
    {
     "data": {
      "text/html": [
       "<style  type=\"text/css\" >\n",
       "</style><table id=\"T_16acd2ca_a58e_11ea_8182_34f64b76679e\" ><thead>    <tr>        <th class=\"blank level0\" ></th>        <th class=\"col_heading level0 col0\" colspan=5>Total year</th>        <th class=\"col_heading level0 col5\" colspan=5>November to April</th>        <th class=\"col_heading level0 col10\" colspan=5>May to October</th>    </tr>    <tr>        <th class=\"blank level1\" ></th>        <th class=\"col_heading level1 col0\" >count</th>        <th class=\"col_heading level1 col1\" ># Negative returns</th>        <th class=\"col_heading level1 col2\" >mean</th>        <th class=\"col_heading level1 col3\" >max</th>        <th class=\"col_heading level1 col4\" >min</th>        <th class=\"col_heading level1 col5\" >count</th>        <th class=\"col_heading level1 col6\" ># Negative returns</th>        <th class=\"col_heading level1 col7\" >mean</th>        <th class=\"col_heading level1 col8\" >max</th>        <th class=\"col_heading level1 col9\" >min</th>        <th class=\"col_heading level1 col10\" >count</th>        <th class=\"col_heading level1 col11\" ># Negative returns</th>        <th class=\"col_heading level1 col12\" >mean</th>        <th class=\"col_heading level1 col13\" >max</th>        <th class=\"col_heading level1 col14\" >min</th>    </tr>    <tr>        <th class=\"index_name level0\" >Date</th>        <th class=\"blank\" ></th>        <th class=\"blank\" ></th>        <th class=\"blank\" ></th>        <th class=\"blank\" ></th>        <th class=\"blank\" ></th>        <th class=\"blank\" ></th>        <th class=\"blank\" ></th>        <th class=\"blank\" ></th>        <th class=\"blank\" ></th>        <th class=\"blank\" ></th>        <th class=\"blank\" ></th>        <th class=\"blank\" ></th>        <th class=\"blank\" ></th>        <th class=\"blank\" ></th>        <th class=\"blank\" ></th>    </tr></thead><tbody>\n",
       "                <tr>\n",
       "                        <th id=\"T_16acd2ca_a58e_11ea_8182_34f64b76679elevel0_row0\" class=\"row_heading level0 row0\" >1950</th>\n",
       "                        <td id=\"T_16acd2ca_a58e_11ea_8182_34f64b76679erow0_col0\" class=\"data row0 col0\" >10</td>\n",
       "                        <td id=\"T_16acd2ca_a58e_11ea_8182_34f64b76679erow0_col1\" class=\"data row0 col1\" >2</td>\n",
       "                        <td id=\"T_16acd2ca_a58e_11ea_8182_34f64b76679erow0_col2\" class=\"data row0 col2\" >15.04%</td>\n",
       "                        <td id=\"T_16acd2ca_a58e_11ea_8182_34f64b76679erow0_col3\" class=\"data row0 col3\" >45.02%</td>\n",
       "                        <td id=\"T_16acd2ca_a58e_11ea_8182_34f64b76679erow0_col4\" class=\"data row0 col4\" >-14.31%</td>\n",
       "                        <td id=\"T_16acd2ca_a58e_11ea_8182_34f64b76679erow0_col5\" class=\"data row0 col5\" >9</td>\n",
       "                        <td id=\"T_16acd2ca_a58e_11ea_8182_34f64b76679erow0_col6\" class=\"data row0 col6\" >2</td>\n",
       "                        <td id=\"T_16acd2ca_a58e_11ea_8182_34f64b76679erow0_col7\" class=\"data row0 col7\" >9.59%</td>\n",
       "                        <td id=\"T_16acd2ca_a58e_11ea_8182_34f64b76679erow0_col8\" class=\"data row0 col8\" >29.37%</td>\n",
       "                        <td id=\"T_16acd2ca_a58e_11ea_8182_34f64b76679erow0_col9\" class=\"data row0 col9\" >-6.32%</td>\n",
       "                        <td id=\"T_16acd2ca_a58e_11ea_8182_34f64b76679erow0_col10\" class=\"data row0 col10\" >10</td>\n",
       "                        <td id=\"T_16acd2ca_a58e_11ea_8182_34f64b76679erow0_col11\" class=\"data row0 col11\" >4</td>\n",
       "                        <td id=\"T_16acd2ca_a58e_11ea_8182_34f64b76679erow0_col12\" class=\"data row0 col12\" >4.15%</td>\n",
       "                        <td id=\"T_16acd2ca_a58e_11ea_8182_34f64b76679erow0_col13\" class=\"data row0 col13\" >18.16%</td>\n",
       "                        <td id=\"T_16acd2ca_a58e_11ea_8182_34f64b76679erow0_col14\" class=\"data row0 col14\" >-10.23%</td>\n",
       "            </tr>\n",
       "            <tr>\n",
       "                        <th id=\"T_16acd2ca_a58e_11ea_8182_34f64b76679elevel0_row1\" class=\"row_heading level0 row1\" >1960</th>\n",
       "                        <td id=\"T_16acd2ca_a58e_11ea_8182_34f64b76679erow1_col0\" class=\"data row1 col0\" >10</td>\n",
       "                        <td id=\"T_16acd2ca_a58e_11ea_8182_34f64b76679erow1_col1\" class=\"data row1 col1\" >4</td>\n",
       "                        <td id=\"T_16acd2ca_a58e_11ea_8182_34f64b76679erow1_col2\" class=\"data row1 col2\" >5.26%</td>\n",
       "                        <td id=\"T_16acd2ca_a58e_11ea_8182_34f64b76679erow1_col3\" class=\"data row1 col3\" >23.13%</td>\n",
       "                        <td id=\"T_16acd2ca_a58e_11ea_8182_34f64b76679erow1_col4\" class=\"data row1 col4\" >-13.09%</td>\n",
       "                        <td id=\"T_16acd2ca_a58e_11ea_8182_34f64b76679erow1_col5\" class=\"data row1 col5\" >10</td>\n",
       "                        <td id=\"T_16acd2ca_a58e_11ea_8182_34f64b76679erow1_col6\" class=\"data row1 col6\" >3</td>\n",
       "                        <td id=\"T_16acd2ca_a58e_11ea_8182_34f64b76679erow1_col7\" class=\"data row1 col7\" >5.66%</td>\n",
       "                        <td id=\"T_16acd2ca_a58e_11ea_8182_34f64b76679erow1_col8\" class=\"data row1 col8\" >21.01%</td>\n",
       "                        <td id=\"T_16acd2ca_a58e_11ea_8182_34f64b76679erow1_col9\" class=\"data row1 col9\" >-5.37%</td>\n",
       "                        <td id=\"T_16acd2ca_a58e_11ea_8182_34f64b76679erow1_col10\" class=\"data row1 col10\" >10</td>\n",
       "                        <td id=\"T_16acd2ca_a58e_11ea_8182_34f64b76679erow1_col11\" class=\"data row1 col11\" >5</td>\n",
       "                        <td id=\"T_16acd2ca_a58e_11ea_8182_34f64b76679erow1_col12\" class=\"data row1 col12\" >-0.65%</td>\n",
       "                        <td id=\"T_16acd2ca_a58e_11ea_8182_34f64b76679erow1_col13\" class=\"data row1 col13\" >6.80%</td>\n",
       "                        <td id=\"T_16acd2ca_a58e_11ea_8182_34f64b76679erow1_col14\" class=\"data row1 col14\" >-13.37%</td>\n",
       "            </tr>\n",
       "            <tr>\n",
       "                        <th id=\"T_16acd2ca_a58e_11ea_8182_34f64b76679elevel0_row2\" class=\"row_heading level0 row2\" >1970</th>\n",
       "                        <td id=\"T_16acd2ca_a58e_11ea_8182_34f64b76679erow2_col0\" class=\"data row2 col0\" >10</td>\n",
       "                        <td id=\"T_16acd2ca_a58e_11ea_8182_34f64b76679erow2_col1\" class=\"data row2 col1\" >3</td>\n",
       "                        <td id=\"T_16acd2ca_a58e_11ea_8182_34f64b76679erow2_col2\" class=\"data row2 col2\" >3.20%</td>\n",
       "                        <td id=\"T_16acd2ca_a58e_11ea_8182_34f64b76679erow2_col3\" class=\"data row2 col3\" >31.55%</td>\n",
       "                        <td id=\"T_16acd2ca_a58e_11ea_8182_34f64b76679erow2_col4\" class=\"data row2 col4\" >-29.72%</td>\n",
       "                        <td id=\"T_16acd2ca_a58e_11ea_8182_34f64b76679erow2_col5\" class=\"data row2 col5\" >10</td>\n",
       "                        <td id=\"T_16acd2ca_a58e_11ea_8182_34f64b76679erow2_col6\" class=\"data row2 col6\" >4</td>\n",
       "                        <td id=\"T_16acd2ca_a58e_11ea_8182_34f64b76679erow2_col7\" class=\"data row2 col7\" >5.76%</td>\n",
       "                        <td id=\"T_16acd2ca_a58e_11ea_8182_34f64b76679erow2_col8\" class=\"data row2 col8\" >28.98%</td>\n",
       "                        <td id=\"T_16acd2ca_a58e_11ea_8182_34f64b76679erow2_col9\" class=\"data row2 col9\" >-18.37%</td>\n",
       "                        <td id=\"T_16acd2ca_a58e_11ea_8182_34f64b76679erow2_col10\" class=\"data row2 col10\" >10</td>\n",
       "                        <td id=\"T_16acd2ca_a58e_11ea_8182_34f64b76679erow2_col11\" class=\"data row2 col11\" >4</td>\n",
       "                        <td id=\"T_16acd2ca_a58e_11ea_8182_34f64b76679erow2_col12\" class=\"data row2 col12\" >-2.72%</td>\n",
       "                        <td id=\"T_16acd2ca_a58e_11ea_8182_34f64b76679erow2_col13\" class=\"data row2 col13\" >3.63%</td>\n",
       "                        <td id=\"T_16acd2ca_a58e_11ea_8182_34f64b76679erow2_col14\" class=\"data row2 col14\" >-18.17%</td>\n",
       "            </tr>\n",
       "            <tr>\n",
       "                        <th id=\"T_16acd2ca_a58e_11ea_8182_34f64b76679elevel0_row3\" class=\"row_heading level0 row3\" >1980</th>\n",
       "                        <td id=\"T_16acd2ca_a58e_11ea_8182_34f64b76679erow3_col0\" class=\"data row3 col0\" >10</td>\n",
       "                        <td id=\"T_16acd2ca_a58e_11ea_8182_34f64b76679erow3_col1\" class=\"data row3 col1\" >1</td>\n",
       "                        <td id=\"T_16acd2ca_a58e_11ea_8182_34f64b76679erow3_col2\" class=\"data row3 col2\" >13.21%</td>\n",
       "                        <td id=\"T_16acd2ca_a58e_11ea_8182_34f64b76679erow3_col3\" class=\"data row3 col3\" >27.25%</td>\n",
       "                        <td id=\"T_16acd2ca_a58e_11ea_8182_34f64b76679erow3_col4\" class=\"data row3 col4\" >-9.73%</td>\n",
       "                        <td id=\"T_16acd2ca_a58e_11ea_8182_34f64b76679erow3_col5\" class=\"data row3 col5\" >10</td>\n",
       "                        <td id=\"T_16acd2ca_a58e_11ea_8182_34f64b76679erow3_col6\" class=\"data row3 col6\" >3</td>\n",
       "                        <td id=\"T_16acd2ca_a58e_11ea_8182_34f64b76679erow3_col7\" class=\"data row3 col7\" >8.70%</td>\n",
       "                        <td id=\"T_16acd2ca_a58e_11ea_8182_34f64b76679erow3_col8\" class=\"data row3 col8\" >19.68%</td>\n",
       "                        <td id=\"T_16acd2ca_a58e_11ea_8182_34f64b76679erow3_col9\" class=\"data row3 col9\" >-2.29%</td>\n",
       "                        <td id=\"T_16acd2ca_a58e_11ea_8182_34f64b76679erow3_col10\" class=\"data row3 col10\" >10</td>\n",
       "                        <td id=\"T_16acd2ca_a58e_11ea_8182_34f64b76679erow3_col11\" class=\"data row3 col11\" >3</td>\n",
       "                        <td id=\"T_16acd2ca_a58e_11ea_8182_34f64b76679erow3_col12\" class=\"data row3 col12\" >4.29%</td>\n",
       "                        <td id=\"T_16acd2ca_a58e_11ea_8182_34f64b76679erow3_col13\" class=\"data row3 col13\" >19.93%</td>\n",
       "                        <td id=\"T_16acd2ca_a58e_11ea_8182_34f64b76679erow3_col14\" class=\"data row3 col14\" >-12.68%</td>\n",
       "            </tr>\n",
       "            <tr>\n",
       "                        <th id=\"T_16acd2ca_a58e_11ea_8182_34f64b76679elevel0_row4\" class=\"row_heading level0 row4\" >1990</th>\n",
       "                        <td id=\"T_16acd2ca_a58e_11ea_8182_34f64b76679erow4_col0\" class=\"data row4 col0\" >10</td>\n",
       "                        <td id=\"T_16acd2ca_a58e_11ea_8182_34f64b76679erow4_col1\" class=\"data row4 col1\" >2</td>\n",
       "                        <td id=\"T_16acd2ca_a58e_11ea_8182_34f64b76679erow4_col2\" class=\"data row4 col2\" >16.13%</td>\n",
       "                        <td id=\"T_16acd2ca_a58e_11ea_8182_34f64b76679erow4_col3\" class=\"data row4 col3\" >34.11%</td>\n",
       "                        <td id=\"T_16acd2ca_a58e_11ea_8182_34f64b76679erow4_col4\" class=\"data row4 col4\" >-6.56%</td>\n",
       "                        <td id=\"T_16acd2ca_a58e_11ea_8182_34f64b76679erow4_col5\" class=\"data row4 col5\" >10</td>\n",
       "                        <td id=\"T_16acd2ca_a58e_11ea_8182_34f64b76679erow4_col6\" class=\"data row4 col6\" >1</td>\n",
       "                        <td id=\"T_16acd2ca_a58e_11ea_8182_34f64b76679erow4_col7\" class=\"data row4 col7\" >11.10%</td>\n",
       "                        <td id=\"T_16acd2ca_a58e_11ea_8182_34f64b76679erow4_col8\" class=\"data row4 col8\" >28.18%</td>\n",
       "                        <td id=\"T_16acd2ca_a58e_11ea_8182_34f64b76679erow4_col9\" class=\"data row4 col9\" >-6.01%</td>\n",
       "                        <td id=\"T_16acd2ca_a58e_11ea_8182_34f64b76679erow4_col10\" class=\"data row4 col10\" >10</td>\n",
       "                        <td id=\"T_16acd2ca_a58e_11ea_8182_34f64b76679erow4_col11\" class=\"data row4 col11\" >2</td>\n",
       "                        <td id=\"T_16acd2ca_a58e_11ea_8182_34f64b76679erow4_col12\" class=\"data row4 col12\" >4.42%</td>\n",
       "                        <td id=\"T_16acd2ca_a58e_11ea_8182_34f64b76679erow4_col13\" class=\"data row4 col13\" >14.14%</td>\n",
       "                        <td id=\"T_16acd2ca_a58e_11ea_8182_34f64b76679erow4_col14\" class=\"data row4 col14\" >-8.10%</td>\n",
       "            </tr>\n",
       "            <tr>\n",
       "                        <th id=\"T_16acd2ca_a58e_11ea_8182_34f64b76679elevel0_row5\" class=\"row_heading level0 row5\" >2000</th>\n",
       "                        <td id=\"T_16acd2ca_a58e_11ea_8182_34f64b76679erow5_col0\" class=\"data row5 col0\" >10</td>\n",
       "                        <td id=\"T_16acd2ca_a58e_11ea_8182_34f64b76679erow5_col1\" class=\"data row5 col1\" >4</td>\n",
       "                        <td id=\"T_16acd2ca_a58e_11ea_8182_34f64b76679erow5_col2\" class=\"data row5 col2\" >-0.61%</td>\n",
       "                        <td id=\"T_16acd2ca_a58e_11ea_8182_34f64b76679erow5_col3\" class=\"data row5 col3\" >26.38%</td>\n",
       "                        <td id=\"T_16acd2ca_a58e_11ea_8182_34f64b76679erow5_col4\" class=\"data row5 col4\" >-38.49%</td>\n",
       "                        <td id=\"T_16acd2ca_a58e_11ea_8182_34f64b76679erow5_col5\" class=\"data row5 col5\" >10</td>\n",
       "                        <td id=\"T_16acd2ca_a58e_11ea_8182_34f64b76679erow5_col6\" class=\"data row5 col6\" >5</td>\n",
       "                        <td id=\"T_16acd2ca_a58e_11ea_8182_34f64b76679erow5_col7\" class=\"data row5 col7\" >0.19%</td>\n",
       "                        <td id=\"T_16acd2ca_a58e_11ea_8182_34f64b76679erow5_col8\" class=\"data row5 col8\" >10.29%</td>\n",
       "                        <td id=\"T_16acd2ca_a58e_11ea_8182_34f64b76679erow5_col9\" class=\"data row5 col9\" >-12.02%</td>\n",
       "                        <td id=\"T_16acd2ca_a58e_11ea_8182_34f64b76679erow5_col10\" class=\"data row5 col10\" >10</td>\n",
       "                        <td id=\"T_16acd2ca_a58e_11ea_8182_34f64b76679erow5_col11\" class=\"data row5 col11\" >4</td>\n",
       "                        <td id=\"T_16acd2ca_a58e_11ea_8182_34f64b76679erow5_col12\" class=\"data row5 col12\" >-1.52%</td>\n",
       "                        <td id=\"T_16acd2ca_a58e_11ea_8182_34f64b76679erow5_col13\" class=\"data row5 col13\" >18.72%</td>\n",
       "                        <td id=\"T_16acd2ca_a58e_11ea_8182_34f64b76679erow5_col14\" class=\"data row5 col14\" >-30.08%</td>\n",
       "            </tr>\n",
       "            <tr>\n",
       "                        <th id=\"T_16acd2ca_a58e_11ea_8182_34f64b76679elevel0_row6\" class=\"row_heading level0 row6\" >2010</th>\n",
       "                        <td id=\"T_16acd2ca_a58e_11ea_8182_34f64b76679erow6_col0\" class=\"data row6 col0\" >10</td>\n",
       "                        <td id=\"T_16acd2ca_a58e_11ea_8182_34f64b76679erow6_col1\" class=\"data row6 col1\" >3</td>\n",
       "                        <td id=\"T_16acd2ca_a58e_11ea_8182_34f64b76679erow6_col2\" class=\"data row6 col2\" >11.80%</td>\n",
       "                        <td id=\"T_16acd2ca_a58e_11ea_8182_34f64b76679erow6_col3\" class=\"data row6 col3\" >29.60%</td>\n",
       "                        <td id=\"T_16acd2ca_a58e_11ea_8182_34f64b76679erow6_col4\" class=\"data row6 col4\" >-6.24%</td>\n",
       "                        <td id=\"T_16acd2ca_a58e_11ea_8182_34f64b76679erow6_col5\" class=\"data row6 col5\" >10</td>\n",
       "                        <td id=\"T_16acd2ca_a58e_11ea_8182_34f64b76679erow6_col6\" class=\"data row6 col6\" >2</td>\n",
       "                        <td id=\"T_16acd2ca_a58e_11ea_8182_34f64b76679erow6_col7\" class=\"data row6 col7\" >8.91%</td>\n",
       "                        <td id=\"T_16acd2ca_a58e_11ea_8182_34f64b76679erow6_col8\" class=\"data row6 col8\" >24.99%</td>\n",
       "                        <td id=\"T_16acd2ca_a58e_11ea_8182_34f64b76679erow6_col9\" class=\"data row6 col9\" >-8.44%</td>\n",
       "                        <td id=\"T_16acd2ca_a58e_11ea_8182_34f64b76679erow6_col10\" class=\"data row6 col10\" >10</td>\n",
       "                        <td id=\"T_16acd2ca_a58e_11ea_8182_34f64b76679erow6_col11\" class=\"data row6 col11\" >3</td>\n",
       "                        <td id=\"T_16acd2ca_a58e_11ea_8182_34f64b76679erow6_col12\" class=\"data row6 col12\" >2.59%</td>\n",
       "                        <td id=\"T_16acd2ca_a58e_11ea_8182_34f64b76679erow6_col13\" class=\"data row6 col13\" >9.95%</td>\n",
       "                        <td id=\"T_16acd2ca_a58e_11ea_8182_34f64b76679erow6_col14\" class=\"data row6 col14\" >-8.09%</td>\n",
       "            </tr>\n",
       "    </tbody></table>"
      ],
      "text/plain": [
       "<pandas.io.formats.style.Styler at 0x21996340ac8>"
      ]
     },
     "execution_count": 31,
     "metadata": {},
     "output_type": "execute_result"
    }
   ],
   "source": [
    "SP500_year[['Yearly_Change','Yearly_Change_no_5-10','Yearly_Change_no_11-4']].groupby((SP500_year.index.year//10)*10).agg(['count'\n",
    "            ,negative_returns,'mean','max','min']).rename(columns={'Date':'Decade','Yearly_Change': 'Total year', \n",
    "            'Yearly_Change_no_5-10':'November to April','Yearly_Change_no_11-4':'May to October'}).style.format(\n",
    "            {('Total year','count'):'{0:,.0f}', ('Total year','# Negative returns'): '{0:,.0f}', ('Total year','mean'): '{:.2%}',\n",
    "             ('Total year','max'):'{:.2%}',('Total year','min'):'{:.2%}',('November to April','count'):'{0:,.0f}', \n",
    "             ('November to April','# Negative returns'): '{0:,.0f}', ('November to April','mean'): '{:.2%}',\n",
    "             ('November to April','max'):'{:.2%}',('November to April','min'):'{:.2%}',('May to October','count'):\n",
    "             '{0:,.0f}', ('May to October','# Negative returns'): '{0:,.0f}', ('May to October','mean'): '{:.2%}',\n",
    "             ('May to October','max'):'{:.2%}',('May to October','min'):'{:.2%}'\n",
    "            })\n"
   ]
  },
  {
   "cell_type": "code",
   "execution_count": 32,
   "metadata": {},
   "outputs": [
    {
     "data": {
      "application/vnd.plotly.v1+json": {
       "config": {
        "plotlyServerURL": "https://plot.ly"
       },
       "data": [
        {
         "hovertemplate": "%{y:.2%} <extra></extra>",
         "mode": "lines",
         "name": "Full year return",
         "type": "scatter",
         "x": [
          1950,
          1951,
          1952,
          1953,
          1954,
          1955,
          1956,
          1957,
          1958,
          1959,
          1960,
          1961,
          1962,
          1963,
          1964,
          1965,
          1966,
          1967,
          1968,
          1969,
          1970,
          1971,
          1972,
          1973,
          1974,
          1975,
          1976,
          1977,
          1978,
          1979,
          1980,
          1981,
          1982,
          1983,
          1984,
          1985,
          1986,
          1987,
          1988,
          1989,
          1990,
          1991,
          1992,
          1993,
          1994,
          1995,
          1996,
          1997,
          1998,
          1999,
          2000,
          2001,
          2002,
          2003,
          2004,
          2005,
          2006,
          2007,
          2008,
          2009,
          2010,
          2011,
          2012,
          2013,
          2014,
          2015,
          2016,
          2017,
          2018,
          2019
         ],
         "y": [
          0.22629051620648255,
          0.4267707082833134,
          0.5948379351740696,
          0.48919561824729874,
          1.1596638655462184,
          1.729891956782713,
          1.8013204081632654,
          1.4003602641056427,
          2.313925510204082,
          2.5948378751500605,
          2.487995258103242,
          3.294718067226891,
          2.7875148859543817,
          3.5030010204081634,
          4.0870348139255706,
          4.548019207683073,
          3.8217288115246104,
          4.790516266506603,
          5.234093697478992,
          4.525810204081632,
          4.531212576583368,
          5.127850920641694,
          6.085834516912233,
          4.855342320033482,
          3.1152459518963838,
          4.413565572713461,
          5.450180017075191,
          4.708283221735961,
          4.768907599660959,
          5.478991743181648,
          7.148859214095795,
          6.35594256012952,
          7.441776674048526,
          8.89975946433261,
          9.038415695868192,
          11.681872675828144,
          13.53601429585506,
          13.830732402824411,
          15.669868020450366,
          20.212484627640116,
          18.821128524652046,
          24.035413945851776,
          25.153060711589323,
          26.998200012426842,
          26.567226231312834,
          35.97058779566513,
          43.4621842877776,
          57.24909920022695,
          72.78331215298617,
          87.19027611044415,
          78.24850115827577,
          67.9123623082045,
          51.81032456928081,
          65.74189939647731,
          71.74430035686146,
          73.92737329306719,
          84.13205575198826,
          87.13685386263876,
          53.21668667466984,
          65.93277164381374,
          74.48859631743318,
          74.48619301236116,
          84.60563873987091,
          109.94597751209854,
          122.5834275116296,
          121.685470672644,
          133.38355811074425,
          159.4807987648184,
          149.4711943371098,
          192.924371506415
         ]
        },
        {
         "hovertemplate": "%{y:.2%} <extra></extra>",
         "mode": "lines",
         "name": "Nov to Apr return",
         "type": "scatter",
         "x": [
          1950,
          1951,
          1952,
          1953,
          1954,
          1955,
          1956,
          1957,
          1958,
          1959,
          1960,
          1961,
          1962,
          1963,
          1964,
          1965,
          1966,
          1967,
          1968,
          1969,
          1970,
          1971,
          1972,
          1973,
          1974,
          1975,
          1976,
          1977,
          1978,
          1979,
          1980,
          1981,
          1982,
          1983,
          1984,
          1985,
          1986,
          1987,
          1988,
          1989,
          1990,
          1991,
          1992,
          1993,
          1994,
          1995,
          1996,
          1997,
          1998,
          1999,
          2000,
          2001,
          2002,
          2003,
          2004,
          2005,
          2006,
          2007,
          2008,
          2009,
          2010,
          2011,
          2012,
          2013,
          2014,
          2015,
          2016,
          2017,
          2018,
          2019
         ],
         "y": [
          0.10191488935061899,
          0.2535587930598242,
          0.3326471059811593,
          0.2484289844412897,
          0.6150472768722621,
          0.830289867595104,
          0.9935573547049501,
          0.9029159313273569,
          1.2233326252988954,
          1.4147335078629926,
          1.3859712043246857,
          1.7961013495968654,
          1.8463243239213303,
          2.19151659136667,
          2.3760221986808143,
          2.5500873052453503,
          2.5031371671338603,
          3.239006203557376,
          3.301143568869297,
          3.0703782932024435,
          2.9896892463682736,
          3.875983035799292,
          4.440681988578715,
          3.4410766605511043,
          2.8143729966909286,
          3.91971412547249,
          4.789986804398634,
          4.4625196746323175,
          4.738629122433154,
          5.441188628276364,
          5.7552251190173,
          5.6442204726190015,
          5.6396532371412516,
          6.828285627504613,
          6.64925973508338,
          8.154988083152075,
          9.129623816881216,
          10.836058506077302,
          11.462592869950136,
          13.427343428490571,
          13.669493131209062,
          16.720746201293153,
          17.34692665428809,
          17.480896455279805,
          16.37048472034845,
          19.619974703482253,
          22.00158463661839,
          25.40172605661505,
          32.84083798218969,
          38.62505989537335,
          35.18109680201376,
          36.09321023779912,
          33.56077807622366,
          37.11639552137535,
          39.702610963703755,
          39.18185440002027,
          42.42359465809872,
          42.011923419678126,
          36.84315245096215,
          38.352604733886096,
          43.51158900094776,
          47.42776070256755,
          53.3656447112566,
          63.08192653685521,
          65.63795534545066,
          65.34942010386665,
          69.59588848481924,
          77.05090457741713,
          70.46384432407523,
          88.31989791378449
         ]
        },
        {
         "hovertemplate": "%{y:.2%} <extra></extra>",
         "mode": "lines",
         "name": "May to Oct return",
         "type": "scatter",
         "x": [
          1950,
          1951,
          1952,
          1953,
          1954,
          1955,
          1956,
          1957,
          1958,
          1959,
          1960,
          1961,
          1962,
          1963,
          1964,
          1965,
          1966,
          1967,
          1968,
          1969,
          1970,
          1971,
          1972,
          1973,
          1974,
          1975,
          1976,
          1977,
          1978,
          1979,
          1980,
          1981,
          1982,
          1983,
          1984,
          1985,
          1986,
          1987,
          1988,
          1989,
          1990,
          1991,
          1992,
          1993,
          1994,
          1995,
          1996,
          1997,
          1998,
          1999,
          2000,
          2001,
          2002,
          2003,
          2004,
          2005,
          2006,
          2007,
          2008,
          2009,
          2010,
          2011,
          2012,
          2013,
          2014,
          2015,
          2016,
          2017,
          2018,
          2019
         ],
         "y": [
          0.0874165972949108,
          0.11214167763539251,
          0.16937023737649315,
          0.16557049671075874,
          0.3066267988604683,
          0.4573914678910356,
          0.3730447426252914,
          0.2325582868413345,
          0.45642773446385876,
          0.4546574628644062,
          0.42843777664357097,
          0.5008330656907254,
          0.3002312610867923,
          0.37865492976405823,
          0.47234659187993344,
          0.5270370053845053,
          0.3449194590442042,
          0.3347621199240336,
          0.4162503342565478,
          0.32651397491290357,
          0.35466502648454057,
          0.22799512978068792,
          0.2725894042875099,
          0.2882930371390251,
          0.054200642056086545,
          0.07521217471404706,
          0.08854127393852718,
          0.021087919100324592,
          -0.017718275083752788,
          -0.017139123117272614,
          0.17871178941461818,
          0.0817949095205186,
          0.2423360837219779,
          0.23568740092734353,
          0.282319974892034,
          0.3535560504229702,
          0.4021764326105506,
          0.22435154836947335,
          0.30699640490262237,
          0.4366659868953928,
          0.32027350705205393,
          0.3804586748403824,
          0.3928676005991367,
          0.48032719341910934,
          0.5507142293757763,
          0.7519385399298064,
          0.8887900095586323,
          1.155795357058194,
          1.1304320033067028,
          1.1747102921617882,
          1.1402276390297228,
          0.8153206832582593,
          0.49308992359346426,
          0.7109502296110191,
          0.7463341286856864,
          0.8220536959871099,
          0.9156580456038919,
          1.0022546879849097,
          0.3998977163760189,
          0.6619423892529728,
          0.6571388187608862,
          0.5230837151229437,
          0.5386097092211535,
          0.6917128198456088,
          0.8121294233793244,
          0.8067856854275361,
          0.8600189404961047,
          1.0090732711037353,
          1.0573947743072294,
          1.1214598349042855
         ]
        }
       ],
       "layout": {
        "hovermode": "x",
        "template": {
         "data": {
          "bar": [
           {
            "error_x": {
             "color": "#2a3f5f"
            },
            "error_y": {
             "color": "#2a3f5f"
            },
            "marker": {
             "line": {
              "color": "#E5ECF6",
              "width": 0.5
             }
            },
            "type": "bar"
           }
          ],
          "barpolar": [
           {
            "marker": {
             "line": {
              "color": "#E5ECF6",
              "width": 0.5
             }
            },
            "type": "barpolar"
           }
          ],
          "carpet": [
           {
            "aaxis": {
             "endlinecolor": "#2a3f5f",
             "gridcolor": "white",
             "linecolor": "white",
             "minorgridcolor": "white",
             "startlinecolor": "#2a3f5f"
            },
            "baxis": {
             "endlinecolor": "#2a3f5f",
             "gridcolor": "white",
             "linecolor": "white",
             "minorgridcolor": "white",
             "startlinecolor": "#2a3f5f"
            },
            "type": "carpet"
           }
          ],
          "choropleth": [
           {
            "colorbar": {
             "outlinewidth": 0,
             "ticks": ""
            },
            "type": "choropleth"
           }
          ],
          "contour": [
           {
            "colorbar": {
             "outlinewidth": 0,
             "ticks": ""
            },
            "colorscale": [
             [
              0,
              "#0d0887"
             ],
             [
              0.1111111111111111,
              "#46039f"
             ],
             [
              0.2222222222222222,
              "#7201a8"
             ],
             [
              0.3333333333333333,
              "#9c179e"
             ],
             [
              0.4444444444444444,
              "#bd3786"
             ],
             [
              0.5555555555555556,
              "#d8576b"
             ],
             [
              0.6666666666666666,
              "#ed7953"
             ],
             [
              0.7777777777777778,
              "#fb9f3a"
             ],
             [
              0.8888888888888888,
              "#fdca26"
             ],
             [
              1,
              "#f0f921"
             ]
            ],
            "type": "contour"
           }
          ],
          "contourcarpet": [
           {
            "colorbar": {
             "outlinewidth": 0,
             "ticks": ""
            },
            "type": "contourcarpet"
           }
          ],
          "heatmap": [
           {
            "colorbar": {
             "outlinewidth": 0,
             "ticks": ""
            },
            "colorscale": [
             [
              0,
              "#0d0887"
             ],
             [
              0.1111111111111111,
              "#46039f"
             ],
             [
              0.2222222222222222,
              "#7201a8"
             ],
             [
              0.3333333333333333,
              "#9c179e"
             ],
             [
              0.4444444444444444,
              "#bd3786"
             ],
             [
              0.5555555555555556,
              "#d8576b"
             ],
             [
              0.6666666666666666,
              "#ed7953"
             ],
             [
              0.7777777777777778,
              "#fb9f3a"
             ],
             [
              0.8888888888888888,
              "#fdca26"
             ],
             [
              1,
              "#f0f921"
             ]
            ],
            "type": "heatmap"
           }
          ],
          "heatmapgl": [
           {
            "colorbar": {
             "outlinewidth": 0,
             "ticks": ""
            },
            "colorscale": [
             [
              0,
              "#0d0887"
             ],
             [
              0.1111111111111111,
              "#46039f"
             ],
             [
              0.2222222222222222,
              "#7201a8"
             ],
             [
              0.3333333333333333,
              "#9c179e"
             ],
             [
              0.4444444444444444,
              "#bd3786"
             ],
             [
              0.5555555555555556,
              "#d8576b"
             ],
             [
              0.6666666666666666,
              "#ed7953"
             ],
             [
              0.7777777777777778,
              "#fb9f3a"
             ],
             [
              0.8888888888888888,
              "#fdca26"
             ],
             [
              1,
              "#f0f921"
             ]
            ],
            "type": "heatmapgl"
           }
          ],
          "histogram": [
           {
            "marker": {
             "colorbar": {
              "outlinewidth": 0,
              "ticks": ""
             }
            },
            "type": "histogram"
           }
          ],
          "histogram2d": [
           {
            "colorbar": {
             "outlinewidth": 0,
             "ticks": ""
            },
            "colorscale": [
             [
              0,
              "#0d0887"
             ],
             [
              0.1111111111111111,
              "#46039f"
             ],
             [
              0.2222222222222222,
              "#7201a8"
             ],
             [
              0.3333333333333333,
              "#9c179e"
             ],
             [
              0.4444444444444444,
              "#bd3786"
             ],
             [
              0.5555555555555556,
              "#d8576b"
             ],
             [
              0.6666666666666666,
              "#ed7953"
             ],
             [
              0.7777777777777778,
              "#fb9f3a"
             ],
             [
              0.8888888888888888,
              "#fdca26"
             ],
             [
              1,
              "#f0f921"
             ]
            ],
            "type": "histogram2d"
           }
          ],
          "histogram2dcontour": [
           {
            "colorbar": {
             "outlinewidth": 0,
             "ticks": ""
            },
            "colorscale": [
             [
              0,
              "#0d0887"
             ],
             [
              0.1111111111111111,
              "#46039f"
             ],
             [
              0.2222222222222222,
              "#7201a8"
             ],
             [
              0.3333333333333333,
              "#9c179e"
             ],
             [
              0.4444444444444444,
              "#bd3786"
             ],
             [
              0.5555555555555556,
              "#d8576b"
             ],
             [
              0.6666666666666666,
              "#ed7953"
             ],
             [
              0.7777777777777778,
              "#fb9f3a"
             ],
             [
              0.8888888888888888,
              "#fdca26"
             ],
             [
              1,
              "#f0f921"
             ]
            ],
            "type": "histogram2dcontour"
           }
          ],
          "mesh3d": [
           {
            "colorbar": {
             "outlinewidth": 0,
             "ticks": ""
            },
            "type": "mesh3d"
           }
          ],
          "parcoords": [
           {
            "line": {
             "colorbar": {
              "outlinewidth": 0,
              "ticks": ""
             }
            },
            "type": "parcoords"
           }
          ],
          "pie": [
           {
            "automargin": true,
            "type": "pie"
           }
          ],
          "scatter": [
           {
            "marker": {
             "colorbar": {
              "outlinewidth": 0,
              "ticks": ""
             }
            },
            "type": "scatter"
           }
          ],
          "scatter3d": [
           {
            "line": {
             "colorbar": {
              "outlinewidth": 0,
              "ticks": ""
             }
            },
            "marker": {
             "colorbar": {
              "outlinewidth": 0,
              "ticks": ""
             }
            },
            "type": "scatter3d"
           }
          ],
          "scattercarpet": [
           {
            "marker": {
             "colorbar": {
              "outlinewidth": 0,
              "ticks": ""
             }
            },
            "type": "scattercarpet"
           }
          ],
          "scattergeo": [
           {
            "marker": {
             "colorbar": {
              "outlinewidth": 0,
              "ticks": ""
             }
            },
            "type": "scattergeo"
           }
          ],
          "scattergl": [
           {
            "marker": {
             "colorbar": {
              "outlinewidth": 0,
              "ticks": ""
             }
            },
            "type": "scattergl"
           }
          ],
          "scattermapbox": [
           {
            "marker": {
             "colorbar": {
              "outlinewidth": 0,
              "ticks": ""
             }
            },
            "type": "scattermapbox"
           }
          ],
          "scatterpolar": [
           {
            "marker": {
             "colorbar": {
              "outlinewidth": 0,
              "ticks": ""
             }
            },
            "type": "scatterpolar"
           }
          ],
          "scatterpolargl": [
           {
            "marker": {
             "colorbar": {
              "outlinewidth": 0,
              "ticks": ""
             }
            },
            "type": "scatterpolargl"
           }
          ],
          "scatterternary": [
           {
            "marker": {
             "colorbar": {
              "outlinewidth": 0,
              "ticks": ""
             }
            },
            "type": "scatterternary"
           }
          ],
          "surface": [
           {
            "colorbar": {
             "outlinewidth": 0,
             "ticks": ""
            },
            "colorscale": [
             [
              0,
              "#0d0887"
             ],
             [
              0.1111111111111111,
              "#46039f"
             ],
             [
              0.2222222222222222,
              "#7201a8"
             ],
             [
              0.3333333333333333,
              "#9c179e"
             ],
             [
              0.4444444444444444,
              "#bd3786"
             ],
             [
              0.5555555555555556,
              "#d8576b"
             ],
             [
              0.6666666666666666,
              "#ed7953"
             ],
             [
              0.7777777777777778,
              "#fb9f3a"
             ],
             [
              0.8888888888888888,
              "#fdca26"
             ],
             [
              1,
              "#f0f921"
             ]
            ],
            "type": "surface"
           }
          ],
          "table": [
           {
            "cells": {
             "fill": {
              "color": "#EBF0F8"
             },
             "line": {
              "color": "white"
             }
            },
            "header": {
             "fill": {
              "color": "#C8D4E3"
             },
             "line": {
              "color": "white"
             }
            },
            "type": "table"
           }
          ]
         },
         "layout": {
          "annotationdefaults": {
           "arrowcolor": "#2a3f5f",
           "arrowhead": 0,
           "arrowwidth": 1
          },
          "coloraxis": {
           "colorbar": {
            "outlinewidth": 0,
            "ticks": ""
           }
          },
          "colorscale": {
           "diverging": [
            [
             0,
             "#8e0152"
            ],
            [
             0.1,
             "#c51b7d"
            ],
            [
             0.2,
             "#de77ae"
            ],
            [
             0.3,
             "#f1b6da"
            ],
            [
             0.4,
             "#fde0ef"
            ],
            [
             0.5,
             "#f7f7f7"
            ],
            [
             0.6,
             "#e6f5d0"
            ],
            [
             0.7,
             "#b8e186"
            ],
            [
             0.8,
             "#7fbc41"
            ],
            [
             0.9,
             "#4d9221"
            ],
            [
             1,
             "#276419"
            ]
           ],
           "sequential": [
            [
             0,
             "#0d0887"
            ],
            [
             0.1111111111111111,
             "#46039f"
            ],
            [
             0.2222222222222222,
             "#7201a8"
            ],
            [
             0.3333333333333333,
             "#9c179e"
            ],
            [
             0.4444444444444444,
             "#bd3786"
            ],
            [
             0.5555555555555556,
             "#d8576b"
            ],
            [
             0.6666666666666666,
             "#ed7953"
            ],
            [
             0.7777777777777778,
             "#fb9f3a"
            ],
            [
             0.8888888888888888,
             "#fdca26"
            ],
            [
             1,
             "#f0f921"
            ]
           ],
           "sequentialminus": [
            [
             0,
             "#0d0887"
            ],
            [
             0.1111111111111111,
             "#46039f"
            ],
            [
             0.2222222222222222,
             "#7201a8"
            ],
            [
             0.3333333333333333,
             "#9c179e"
            ],
            [
             0.4444444444444444,
             "#bd3786"
            ],
            [
             0.5555555555555556,
             "#d8576b"
            ],
            [
             0.6666666666666666,
             "#ed7953"
            ],
            [
             0.7777777777777778,
             "#fb9f3a"
            ],
            [
             0.8888888888888888,
             "#fdca26"
            ],
            [
             1,
             "#f0f921"
            ]
           ]
          },
          "colorway": [
           "#636efa",
           "#EF553B",
           "#00cc96",
           "#ab63fa",
           "#FFA15A",
           "#19d3f3",
           "#FF6692",
           "#B6E880",
           "#FF97FF",
           "#FECB52"
          ],
          "font": {
           "color": "#2a3f5f"
          },
          "geo": {
           "bgcolor": "white",
           "lakecolor": "white",
           "landcolor": "#E5ECF6",
           "showlakes": true,
           "showland": true,
           "subunitcolor": "white"
          },
          "hoverlabel": {
           "align": "left"
          },
          "hovermode": "closest",
          "mapbox": {
           "style": "light"
          },
          "paper_bgcolor": "white",
          "plot_bgcolor": "#E5ECF6",
          "polar": {
           "angularaxis": {
            "gridcolor": "white",
            "linecolor": "white",
            "ticks": ""
           },
           "bgcolor": "#E5ECF6",
           "radialaxis": {
            "gridcolor": "white",
            "linecolor": "white",
            "ticks": ""
           }
          },
          "scene": {
           "xaxis": {
            "backgroundcolor": "#E5ECF6",
            "gridcolor": "white",
            "gridwidth": 2,
            "linecolor": "white",
            "showbackground": true,
            "ticks": "",
            "zerolinecolor": "white"
           },
           "yaxis": {
            "backgroundcolor": "#E5ECF6",
            "gridcolor": "white",
            "gridwidth": 2,
            "linecolor": "white",
            "showbackground": true,
            "ticks": "",
            "zerolinecolor": "white"
           },
           "zaxis": {
            "backgroundcolor": "#E5ECF6",
            "gridcolor": "white",
            "gridwidth": 2,
            "linecolor": "white",
            "showbackground": true,
            "ticks": "",
            "zerolinecolor": "white"
           }
          },
          "shapedefaults": {
           "line": {
            "color": "#2a3f5f"
           }
          },
          "ternary": {
           "aaxis": {
            "gridcolor": "white",
            "linecolor": "white",
            "ticks": ""
           },
           "baxis": {
            "gridcolor": "white",
            "linecolor": "white",
            "ticks": ""
           },
           "bgcolor": "#E5ECF6",
           "caxis": {
            "gridcolor": "white",
            "linecolor": "white",
            "ticks": ""
           }
          },
          "title": {
           "x": 0.05
          },
          "xaxis": {
           "automargin": true,
           "gridcolor": "white",
           "linecolor": "white",
           "ticks": "",
           "title": {
            "standoff": 15
           },
           "zerolinecolor": "white",
           "zerolinewidth": 2
          },
          "yaxis": {
           "automargin": true,
           "gridcolor": "white",
           "linecolor": "white",
           "ticks": "",
           "title": {
            "standoff": 15
           },
           "zerolinecolor": "white",
           "zerolinewidth": 2
          }
         }
        },
        "title": {
         "text": "Comparison full-Sell in May and go away"
        },
        "xaxis": {
         "rangeslider": {
          "visible": true
         },
         "title": {
          "text": "Year"
         }
        },
        "yaxis": {
         "tickformat": "%",
         "title": {
          "text": "Cumulative return"
         }
        }
       }
      },
      "text/html": [
       "<div>\n",
       "        \n",
       "        \n",
       "            <div id=\"bcc2c49f-50eb-4180-9e58-18c284cf912c\" class=\"plotly-graph-div\" style=\"height:525px; width:100%;\"></div>\n",
       "            <script type=\"text/javascript\">\n",
       "                require([\"plotly\"], function(Plotly) {\n",
       "                    window.PLOTLYENV=window.PLOTLYENV || {};\n",
       "                    \n",
       "                if (document.getElementById(\"bcc2c49f-50eb-4180-9e58-18c284cf912c\")) {\n",
       "                    Plotly.newPlot(\n",
       "                        'bcc2c49f-50eb-4180-9e58-18c284cf912c',\n",
       "                        [{\"hovertemplate\": \"%{y:.2%} <extra></extra>\", \"mode\": \"lines\", \"name\": \"Full year return\", \"type\": \"scatter\", \"x\": [1950, 1951, 1952, 1953, 1954, 1955, 1956, 1957, 1958, 1959, 1960, 1961, 1962, 1963, 1964, 1965, 1966, 1967, 1968, 1969, 1970, 1971, 1972, 1973, 1974, 1975, 1976, 1977, 1978, 1979, 1980, 1981, 1982, 1983, 1984, 1985, 1986, 1987, 1988, 1989, 1990, 1991, 1992, 1993, 1994, 1995, 1996, 1997, 1998, 1999, 2000, 2001, 2002, 2003, 2004, 2005, 2006, 2007, 2008, 2009, 2010, 2011, 2012, 2013, 2014, 2015, 2016, 2017, 2018, 2019], \"y\": [0.22629051620648255, 0.4267707082833134, 0.5948379351740696, 0.48919561824729874, 1.1596638655462184, 1.729891956782713, 1.8013204081632654, 1.4003602641056427, 2.313925510204082, 2.5948378751500605, 2.487995258103242, 3.294718067226891, 2.7875148859543817, 3.5030010204081634, 4.0870348139255706, 4.548019207683073, 3.8217288115246104, 4.790516266506603, 5.234093697478992, 4.525810204081632, 4.531212576583368, 5.127850920641694, 6.085834516912233, 4.855342320033482, 3.1152459518963838, 4.413565572713461, 5.450180017075191, 4.708283221735961, 4.768907599660959, 5.478991743181648, 7.148859214095795, 6.35594256012952, 7.441776674048526, 8.89975946433261, 9.038415695868192, 11.681872675828144, 13.53601429585506, 13.830732402824411, 15.669868020450366, 20.212484627640116, 18.821128524652046, 24.035413945851776, 25.153060711589323, 26.998200012426842, 26.567226231312834, 35.97058779566513, 43.4621842877776, 57.24909920022695, 72.78331215298617, 87.19027611044415, 78.24850115827577, 67.9123623082045, 51.81032456928081, 65.74189939647731, 71.74430035686146, 73.92737329306719, 84.13205575198826, 87.13685386263876, 53.21668667466984, 65.93277164381374, 74.48859631743318, 74.48619301236116, 84.60563873987091, 109.94597751209854, 122.5834275116296, 121.685470672644, 133.38355811074425, 159.4807987648184, 149.4711943371098, 192.924371506415]}, {\"hovertemplate\": \"%{y:.2%} <extra></extra>\", \"mode\": \"lines\", \"name\": \"Nov to Apr return\", \"type\": \"scatter\", \"x\": [1950, 1951, 1952, 1953, 1954, 1955, 1956, 1957, 1958, 1959, 1960, 1961, 1962, 1963, 1964, 1965, 1966, 1967, 1968, 1969, 1970, 1971, 1972, 1973, 1974, 1975, 1976, 1977, 1978, 1979, 1980, 1981, 1982, 1983, 1984, 1985, 1986, 1987, 1988, 1989, 1990, 1991, 1992, 1993, 1994, 1995, 1996, 1997, 1998, 1999, 2000, 2001, 2002, 2003, 2004, 2005, 2006, 2007, 2008, 2009, 2010, 2011, 2012, 2013, 2014, 2015, 2016, 2017, 2018, 2019], \"y\": [0.10191488935061899, 0.2535587930598242, 0.3326471059811593, 0.2484289844412897, 0.6150472768722621, 0.830289867595104, 0.9935573547049501, 0.9029159313273569, 1.2233326252988954, 1.4147335078629926, 1.3859712043246857, 1.7961013495968654, 1.8463243239213303, 2.19151659136667, 2.3760221986808143, 2.5500873052453503, 2.5031371671338603, 3.239006203557376, 3.301143568869297, 3.0703782932024435, 2.9896892463682736, 3.875983035799292, 4.440681988578715, 3.4410766605511043, 2.8143729966909286, 3.91971412547249, 4.789986804398634, 4.4625196746323175, 4.738629122433154, 5.441188628276364, 5.7552251190173, 5.6442204726190015, 5.6396532371412516, 6.828285627504613, 6.64925973508338, 8.154988083152075, 9.129623816881216, 10.836058506077302, 11.462592869950136, 13.427343428490571, 13.669493131209062, 16.720746201293153, 17.34692665428809, 17.480896455279805, 16.37048472034845, 19.619974703482253, 22.00158463661839, 25.40172605661505, 32.84083798218969, 38.62505989537335, 35.18109680201376, 36.09321023779912, 33.56077807622366, 37.11639552137535, 39.702610963703755, 39.18185440002027, 42.42359465809872, 42.011923419678126, 36.84315245096215, 38.352604733886096, 43.51158900094776, 47.42776070256755, 53.3656447112566, 63.08192653685521, 65.63795534545066, 65.34942010386665, 69.59588848481924, 77.05090457741713, 70.46384432407523, 88.31989791378449]}, {\"hovertemplate\": \"%{y:.2%} <extra></extra>\", \"mode\": \"lines\", \"name\": \"May to Oct return\", \"type\": \"scatter\", \"x\": [1950, 1951, 1952, 1953, 1954, 1955, 1956, 1957, 1958, 1959, 1960, 1961, 1962, 1963, 1964, 1965, 1966, 1967, 1968, 1969, 1970, 1971, 1972, 1973, 1974, 1975, 1976, 1977, 1978, 1979, 1980, 1981, 1982, 1983, 1984, 1985, 1986, 1987, 1988, 1989, 1990, 1991, 1992, 1993, 1994, 1995, 1996, 1997, 1998, 1999, 2000, 2001, 2002, 2003, 2004, 2005, 2006, 2007, 2008, 2009, 2010, 2011, 2012, 2013, 2014, 2015, 2016, 2017, 2018, 2019], \"y\": [0.0874165972949108, 0.11214167763539251, 0.16937023737649315, 0.16557049671075874, 0.3066267988604683, 0.4573914678910356, 0.3730447426252914, 0.2325582868413345, 0.45642773446385876, 0.4546574628644062, 0.42843777664357097, 0.5008330656907254, 0.3002312610867923, 0.37865492976405823, 0.47234659187993344, 0.5270370053845053, 0.3449194590442042, 0.3347621199240336, 0.4162503342565478, 0.32651397491290357, 0.35466502648454057, 0.22799512978068792, 0.2725894042875099, 0.2882930371390251, 0.054200642056086545, 0.07521217471404706, 0.08854127393852718, 0.021087919100324592, -0.017718275083752788, -0.017139123117272614, 0.17871178941461818, 0.0817949095205186, 0.2423360837219779, 0.23568740092734353, 0.282319974892034, 0.3535560504229702, 0.4021764326105506, 0.22435154836947335, 0.30699640490262237, 0.4366659868953928, 0.32027350705205393, 0.3804586748403824, 0.3928676005991367, 0.48032719341910934, 0.5507142293757763, 0.7519385399298064, 0.8887900095586323, 1.155795357058194, 1.1304320033067028, 1.1747102921617882, 1.1402276390297228, 0.8153206832582593, 0.49308992359346426, 0.7109502296110191, 0.7463341286856864, 0.8220536959871099, 0.9156580456038919, 1.0022546879849097, 0.3998977163760189, 0.6619423892529728, 0.6571388187608862, 0.5230837151229437, 0.5386097092211535, 0.6917128198456088, 0.8121294233793244, 0.8067856854275361, 0.8600189404961047, 1.0090732711037353, 1.0573947743072294, 1.1214598349042855]}],\n",
       "                        {\"hovermode\": \"x\", \"template\": {\"data\": {\"bar\": [{\"error_x\": {\"color\": \"#2a3f5f\"}, \"error_y\": {\"color\": \"#2a3f5f\"}, \"marker\": {\"line\": {\"color\": \"#E5ECF6\", \"width\": 0.5}}, \"type\": \"bar\"}], \"barpolar\": [{\"marker\": {\"line\": {\"color\": \"#E5ECF6\", \"width\": 0.5}}, \"type\": \"barpolar\"}], \"carpet\": [{\"aaxis\": {\"endlinecolor\": \"#2a3f5f\", \"gridcolor\": \"white\", \"linecolor\": \"white\", \"minorgridcolor\": \"white\", \"startlinecolor\": \"#2a3f5f\"}, \"baxis\": {\"endlinecolor\": \"#2a3f5f\", \"gridcolor\": \"white\", \"linecolor\": \"white\", \"minorgridcolor\": \"white\", \"startlinecolor\": \"#2a3f5f\"}, \"type\": \"carpet\"}], \"choropleth\": [{\"colorbar\": {\"outlinewidth\": 0, \"ticks\": \"\"}, \"type\": \"choropleth\"}], \"contour\": [{\"colorbar\": {\"outlinewidth\": 0, \"ticks\": \"\"}, \"colorscale\": [[0.0, \"#0d0887\"], [0.1111111111111111, \"#46039f\"], [0.2222222222222222, \"#7201a8\"], [0.3333333333333333, \"#9c179e\"], [0.4444444444444444, \"#bd3786\"], [0.5555555555555556, \"#d8576b\"], [0.6666666666666666, \"#ed7953\"], [0.7777777777777778, \"#fb9f3a\"], [0.8888888888888888, \"#fdca26\"], [1.0, \"#f0f921\"]], \"type\": \"contour\"}], \"contourcarpet\": [{\"colorbar\": {\"outlinewidth\": 0, \"ticks\": \"\"}, \"type\": \"contourcarpet\"}], \"heatmap\": [{\"colorbar\": {\"outlinewidth\": 0, \"ticks\": \"\"}, \"colorscale\": [[0.0, \"#0d0887\"], [0.1111111111111111, \"#46039f\"], [0.2222222222222222, \"#7201a8\"], [0.3333333333333333, \"#9c179e\"], [0.4444444444444444, \"#bd3786\"], [0.5555555555555556, \"#d8576b\"], [0.6666666666666666, \"#ed7953\"], [0.7777777777777778, \"#fb9f3a\"], [0.8888888888888888, \"#fdca26\"], [1.0, \"#f0f921\"]], \"type\": \"heatmap\"}], \"heatmapgl\": [{\"colorbar\": {\"outlinewidth\": 0, \"ticks\": \"\"}, \"colorscale\": [[0.0, \"#0d0887\"], [0.1111111111111111, \"#46039f\"], [0.2222222222222222, \"#7201a8\"], [0.3333333333333333, \"#9c179e\"], [0.4444444444444444, \"#bd3786\"], [0.5555555555555556, \"#d8576b\"], [0.6666666666666666, \"#ed7953\"], [0.7777777777777778, \"#fb9f3a\"], [0.8888888888888888, \"#fdca26\"], [1.0, \"#f0f921\"]], \"type\": \"heatmapgl\"}], \"histogram\": [{\"marker\": {\"colorbar\": {\"outlinewidth\": 0, \"ticks\": \"\"}}, \"type\": \"histogram\"}], \"histogram2d\": [{\"colorbar\": {\"outlinewidth\": 0, \"ticks\": \"\"}, \"colorscale\": [[0.0, \"#0d0887\"], [0.1111111111111111, \"#46039f\"], [0.2222222222222222, \"#7201a8\"], [0.3333333333333333, \"#9c179e\"], [0.4444444444444444, \"#bd3786\"], [0.5555555555555556, \"#d8576b\"], [0.6666666666666666, \"#ed7953\"], [0.7777777777777778, \"#fb9f3a\"], [0.8888888888888888, \"#fdca26\"], [1.0, \"#f0f921\"]], \"type\": \"histogram2d\"}], \"histogram2dcontour\": [{\"colorbar\": {\"outlinewidth\": 0, \"ticks\": \"\"}, \"colorscale\": [[0.0, \"#0d0887\"], [0.1111111111111111, \"#46039f\"], [0.2222222222222222, \"#7201a8\"], [0.3333333333333333, \"#9c179e\"], [0.4444444444444444, \"#bd3786\"], [0.5555555555555556, \"#d8576b\"], [0.6666666666666666, \"#ed7953\"], [0.7777777777777778, \"#fb9f3a\"], [0.8888888888888888, \"#fdca26\"], [1.0, \"#f0f921\"]], \"type\": \"histogram2dcontour\"}], \"mesh3d\": [{\"colorbar\": {\"outlinewidth\": 0, \"ticks\": \"\"}, \"type\": \"mesh3d\"}], \"parcoords\": [{\"line\": {\"colorbar\": {\"outlinewidth\": 0, \"ticks\": \"\"}}, \"type\": \"parcoords\"}], \"pie\": [{\"automargin\": true, \"type\": \"pie\"}], \"scatter\": [{\"marker\": {\"colorbar\": {\"outlinewidth\": 0, \"ticks\": \"\"}}, \"type\": \"scatter\"}], \"scatter3d\": [{\"line\": {\"colorbar\": {\"outlinewidth\": 0, \"ticks\": \"\"}}, \"marker\": {\"colorbar\": {\"outlinewidth\": 0, \"ticks\": \"\"}}, \"type\": \"scatter3d\"}], \"scattercarpet\": [{\"marker\": {\"colorbar\": {\"outlinewidth\": 0, \"ticks\": \"\"}}, \"type\": \"scattercarpet\"}], \"scattergeo\": [{\"marker\": {\"colorbar\": {\"outlinewidth\": 0, \"ticks\": \"\"}}, \"type\": \"scattergeo\"}], \"scattergl\": [{\"marker\": {\"colorbar\": {\"outlinewidth\": 0, \"ticks\": \"\"}}, \"type\": \"scattergl\"}], \"scattermapbox\": [{\"marker\": {\"colorbar\": {\"outlinewidth\": 0, \"ticks\": \"\"}}, \"type\": \"scattermapbox\"}], \"scatterpolar\": [{\"marker\": {\"colorbar\": {\"outlinewidth\": 0, \"ticks\": \"\"}}, \"type\": \"scatterpolar\"}], \"scatterpolargl\": [{\"marker\": {\"colorbar\": {\"outlinewidth\": 0, \"ticks\": \"\"}}, \"type\": \"scatterpolargl\"}], \"scatterternary\": [{\"marker\": {\"colorbar\": {\"outlinewidth\": 0, \"ticks\": \"\"}}, \"type\": \"scatterternary\"}], \"surface\": [{\"colorbar\": {\"outlinewidth\": 0, \"ticks\": \"\"}, \"colorscale\": [[0.0, \"#0d0887\"], [0.1111111111111111, \"#46039f\"], [0.2222222222222222, \"#7201a8\"], [0.3333333333333333, \"#9c179e\"], [0.4444444444444444, \"#bd3786\"], [0.5555555555555556, \"#d8576b\"], [0.6666666666666666, \"#ed7953\"], [0.7777777777777778, \"#fb9f3a\"], [0.8888888888888888, \"#fdca26\"], [1.0, \"#f0f921\"]], \"type\": \"surface\"}], \"table\": [{\"cells\": {\"fill\": {\"color\": \"#EBF0F8\"}, \"line\": {\"color\": \"white\"}}, \"header\": {\"fill\": {\"color\": \"#C8D4E3\"}, \"line\": {\"color\": \"white\"}}, \"type\": \"table\"}]}, \"layout\": {\"annotationdefaults\": {\"arrowcolor\": \"#2a3f5f\", \"arrowhead\": 0, \"arrowwidth\": 1}, \"coloraxis\": {\"colorbar\": {\"outlinewidth\": 0, \"ticks\": \"\"}}, \"colorscale\": {\"diverging\": [[0, \"#8e0152\"], [0.1, \"#c51b7d\"], [0.2, \"#de77ae\"], [0.3, \"#f1b6da\"], [0.4, \"#fde0ef\"], [0.5, \"#f7f7f7\"], [0.6, \"#e6f5d0\"], [0.7, \"#b8e186\"], [0.8, \"#7fbc41\"], [0.9, \"#4d9221\"], [1, \"#276419\"]], \"sequential\": [[0.0, \"#0d0887\"], [0.1111111111111111, \"#46039f\"], [0.2222222222222222, \"#7201a8\"], [0.3333333333333333, \"#9c179e\"], [0.4444444444444444, \"#bd3786\"], [0.5555555555555556, \"#d8576b\"], [0.6666666666666666, \"#ed7953\"], [0.7777777777777778, \"#fb9f3a\"], [0.8888888888888888, \"#fdca26\"], [1.0, \"#f0f921\"]], \"sequentialminus\": [[0.0, \"#0d0887\"], [0.1111111111111111, \"#46039f\"], [0.2222222222222222, \"#7201a8\"], [0.3333333333333333, \"#9c179e\"], [0.4444444444444444, \"#bd3786\"], [0.5555555555555556, \"#d8576b\"], [0.6666666666666666, \"#ed7953\"], [0.7777777777777778, \"#fb9f3a\"], [0.8888888888888888, \"#fdca26\"], [1.0, \"#f0f921\"]]}, \"colorway\": [\"#636efa\", \"#EF553B\", \"#00cc96\", \"#ab63fa\", \"#FFA15A\", \"#19d3f3\", \"#FF6692\", \"#B6E880\", \"#FF97FF\", \"#FECB52\"], \"font\": {\"color\": \"#2a3f5f\"}, \"geo\": {\"bgcolor\": \"white\", \"lakecolor\": \"white\", \"landcolor\": \"#E5ECF6\", \"showlakes\": true, \"showland\": true, \"subunitcolor\": \"white\"}, \"hoverlabel\": {\"align\": \"left\"}, \"hovermode\": \"closest\", \"mapbox\": {\"style\": \"light\"}, \"paper_bgcolor\": \"white\", \"plot_bgcolor\": \"#E5ECF6\", \"polar\": {\"angularaxis\": {\"gridcolor\": \"white\", \"linecolor\": \"white\", \"ticks\": \"\"}, \"bgcolor\": \"#E5ECF6\", \"radialaxis\": {\"gridcolor\": \"white\", \"linecolor\": \"white\", \"ticks\": \"\"}}, \"scene\": {\"xaxis\": {\"backgroundcolor\": \"#E5ECF6\", \"gridcolor\": \"white\", \"gridwidth\": 2, \"linecolor\": \"white\", \"showbackground\": true, \"ticks\": \"\", \"zerolinecolor\": \"white\"}, \"yaxis\": {\"backgroundcolor\": \"#E5ECF6\", \"gridcolor\": \"white\", \"gridwidth\": 2, \"linecolor\": \"white\", \"showbackground\": true, \"ticks\": \"\", \"zerolinecolor\": \"white\"}, \"zaxis\": {\"backgroundcolor\": \"#E5ECF6\", \"gridcolor\": \"white\", \"gridwidth\": 2, \"linecolor\": \"white\", \"showbackground\": true, \"ticks\": \"\", \"zerolinecolor\": \"white\"}}, \"shapedefaults\": {\"line\": {\"color\": \"#2a3f5f\"}}, \"ternary\": {\"aaxis\": {\"gridcolor\": \"white\", \"linecolor\": \"white\", \"ticks\": \"\"}, \"baxis\": {\"gridcolor\": \"white\", \"linecolor\": \"white\", \"ticks\": \"\"}, \"bgcolor\": \"#E5ECF6\", \"caxis\": {\"gridcolor\": \"white\", \"linecolor\": \"white\", \"ticks\": \"\"}}, \"title\": {\"x\": 0.05}, \"xaxis\": {\"automargin\": true, \"gridcolor\": \"white\", \"linecolor\": \"white\", \"ticks\": \"\", \"title\": {\"standoff\": 15}, \"zerolinecolor\": \"white\", \"zerolinewidth\": 2}, \"yaxis\": {\"automargin\": true, \"gridcolor\": \"white\", \"linecolor\": \"white\", \"ticks\": \"\", \"title\": {\"standoff\": 15}, \"zerolinecolor\": \"white\", \"zerolinewidth\": 2}}}, \"title\": {\"text\": \"Comparison full-Sell in May and go away\"}, \"xaxis\": {\"rangeslider\": {\"visible\": true}, \"title\": {\"text\": \"Year\"}}, \"yaxis\": {\"tickformat\": \"%\", \"title\": {\"text\": \"Cumulative return\"}}},\n",
       "                        {\"responsive\": true}\n",
       "                    ).then(function(){\n",
       "                            \n",
       "var gd = document.getElementById('bcc2c49f-50eb-4180-9e58-18c284cf912c');\n",
       "var x = new MutationObserver(function (mutations, observer) {{\n",
       "        var display = window.getComputedStyle(gd).display;\n",
       "        if (!display || display === 'none') {{\n",
       "            console.log([gd, 'removed!']);\n",
       "            Plotly.purge(gd);\n",
       "            observer.disconnect();\n",
       "        }}\n",
       "}});\n",
       "\n",
       "// Listen for the removal of the full notebook cells\n",
       "var notebookContainer = gd.closest('#notebook-container');\n",
       "if (notebookContainer) {{\n",
       "    x.observe(notebookContainer, {childList: true});\n",
       "}}\n",
       "\n",
       "// Listen for the clearing of the current output cell\n",
       "var outputEl = gd.closest('.output');\n",
       "if (outputEl) {{\n",
       "    x.observe(outputEl, {childList: true});\n",
       "}}\n",
       "\n",
       "                        })\n",
       "                };\n",
       "                });\n",
       "            </script>\n",
       "        </div>"
      ]
     },
     "metadata": {},
     "output_type": "display_data"
    }
   ],
   "source": [
    "#Conclusion: Backtesting with historic data shows that investment returns can be improved by employing a seasonal \n",
    "#switching strategy.Doesn't hurt to stay but opportunity cost of switching to an alternate investment. \n",
    "#Only need to beat 1.51% but also need to consider the taxes costs\n",
    "\n",
    "SP500_month['Cumulative']= (1+SP500_month['Monthly_Change']).cumprod()-1\n",
    "SP500_month['Cumulative_no_5-10']= (1+SP500_month['Monthly_Change_no_5-10']).cumprod()-1\n",
    "SP500_month['Cumulative_no_11-4']= (1+SP500_month['Monthly_Change_no_11-4']).cumprod()-1\n",
    "SP500_year['Cumulative_no_5-10']=SP500_month['Cumulative_no_5-10'].asfreq('Y',method='ffill')\n",
    "SP500_year['Cumulative_no_11-4']=SP500_month['Cumulative_no_11-4'].asfreq('Y',method='ffill')\n",
    "\n",
    "\n",
    "\n",
    "fig = go.Figure()\n",
    "fig.add_trace(go.Scatter(x=SP500_year.index.year, y=SP500_year['Cumulative'],\n",
    "                    mode='lines',name='Full year return',hovertemplate ='%{y:.2%} <extra></extra>'))\n",
    "fig.add_trace(go.Scatter(x=SP500_year.index.year, y=SP500_year['Cumulative_no_5-10'],\n",
    "                    mode='lines',name='Nov to Apr return',hovertemplate ='%{y:.2%} <extra></extra>'))\n",
    "fig.add_trace(go.Scatter(x=SP500_year.index.year, y=SP500_year['Cumulative_no_11-4'],\n",
    "                    mode='lines', name='May to Oct return',hovertemplate ='%{y:.2%} <extra></extra>',))\n",
    "\n",
    "fig.layout=go.Layout(title='Comparison full-Sell in May and go away', xaxis=dict(title='Year',rangeslider=dict(visible=True)),\n",
    "                     yaxis=dict(title='Cumulative return',tickformat='%'),hovermode=\"x\")\n",
    "fig.show()\n",
    "\n"
   ]
  },
  {
   "cell_type": "code",
   "execution_count": 33,
   "metadata": {},
   "outputs": [
    {
     "data": {
      "application/vnd.plotly.v1+json": {
       "config": {
        "plotlyServerURL": "https://plot.ly"
       },
       "data": [
        {
         "hovertemplate": "%{y:.2%} <extra></extra>",
         "marker": {
          "color": [
           "darkblue",
           "red",
           "darkblue",
           "darkblue",
           "darkblue",
           "darkblue",
           "darkblue",
           "red",
           "red",
           "darkblue",
           "darkblue",
           "darkblue"
          ]
         },
         "type": "bar",
         "visible": true,
         "x": [
          1,
          2,
          3,
          4,
          5,
          6,
          7,
          8,
          9,
          10,
          11,
          12
         ],
         "y": [
          0.010901802745080433,
          -0.0003716195072293476,
          0.009895018438490038,
          0.016254108293695006,
          0.002361308491794316,
          0.0006864483057670845,
          0.010865400787629457,
          -0.000713137771336479,
          -0.004313036740421636,
          0.008118803362823113,
          0.015914114256957598,
          0.014781934799030687
         ]
        }
       ],
       "layout": {
        "hovermode": "x",
        "template": {
         "data": {
          "bar": [
           {
            "error_x": {
             "color": "#2a3f5f"
            },
            "error_y": {
             "color": "#2a3f5f"
            },
            "marker": {
             "line": {
              "color": "#E5ECF6",
              "width": 0.5
             }
            },
            "type": "bar"
           }
          ],
          "barpolar": [
           {
            "marker": {
             "line": {
              "color": "#E5ECF6",
              "width": 0.5
             }
            },
            "type": "barpolar"
           }
          ],
          "carpet": [
           {
            "aaxis": {
             "endlinecolor": "#2a3f5f",
             "gridcolor": "white",
             "linecolor": "white",
             "minorgridcolor": "white",
             "startlinecolor": "#2a3f5f"
            },
            "baxis": {
             "endlinecolor": "#2a3f5f",
             "gridcolor": "white",
             "linecolor": "white",
             "minorgridcolor": "white",
             "startlinecolor": "#2a3f5f"
            },
            "type": "carpet"
           }
          ],
          "choropleth": [
           {
            "colorbar": {
             "outlinewidth": 0,
             "ticks": ""
            },
            "type": "choropleth"
           }
          ],
          "contour": [
           {
            "colorbar": {
             "outlinewidth": 0,
             "ticks": ""
            },
            "colorscale": [
             [
              0,
              "#0d0887"
             ],
             [
              0.1111111111111111,
              "#46039f"
             ],
             [
              0.2222222222222222,
              "#7201a8"
             ],
             [
              0.3333333333333333,
              "#9c179e"
             ],
             [
              0.4444444444444444,
              "#bd3786"
             ],
             [
              0.5555555555555556,
              "#d8576b"
             ],
             [
              0.6666666666666666,
              "#ed7953"
             ],
             [
              0.7777777777777778,
              "#fb9f3a"
             ],
             [
              0.8888888888888888,
              "#fdca26"
             ],
             [
              1,
              "#f0f921"
             ]
            ],
            "type": "contour"
           }
          ],
          "contourcarpet": [
           {
            "colorbar": {
             "outlinewidth": 0,
             "ticks": ""
            },
            "type": "contourcarpet"
           }
          ],
          "heatmap": [
           {
            "colorbar": {
             "outlinewidth": 0,
             "ticks": ""
            },
            "colorscale": [
             [
              0,
              "#0d0887"
             ],
             [
              0.1111111111111111,
              "#46039f"
             ],
             [
              0.2222222222222222,
              "#7201a8"
             ],
             [
              0.3333333333333333,
              "#9c179e"
             ],
             [
              0.4444444444444444,
              "#bd3786"
             ],
             [
              0.5555555555555556,
              "#d8576b"
             ],
             [
              0.6666666666666666,
              "#ed7953"
             ],
             [
              0.7777777777777778,
              "#fb9f3a"
             ],
             [
              0.8888888888888888,
              "#fdca26"
             ],
             [
              1,
              "#f0f921"
             ]
            ],
            "type": "heatmap"
           }
          ],
          "heatmapgl": [
           {
            "colorbar": {
             "outlinewidth": 0,
             "ticks": ""
            },
            "colorscale": [
             [
              0,
              "#0d0887"
             ],
             [
              0.1111111111111111,
              "#46039f"
             ],
             [
              0.2222222222222222,
              "#7201a8"
             ],
             [
              0.3333333333333333,
              "#9c179e"
             ],
             [
              0.4444444444444444,
              "#bd3786"
             ],
             [
              0.5555555555555556,
              "#d8576b"
             ],
             [
              0.6666666666666666,
              "#ed7953"
             ],
             [
              0.7777777777777778,
              "#fb9f3a"
             ],
             [
              0.8888888888888888,
              "#fdca26"
             ],
             [
              1,
              "#f0f921"
             ]
            ],
            "type": "heatmapgl"
           }
          ],
          "histogram": [
           {
            "marker": {
             "colorbar": {
              "outlinewidth": 0,
              "ticks": ""
             }
            },
            "type": "histogram"
           }
          ],
          "histogram2d": [
           {
            "colorbar": {
             "outlinewidth": 0,
             "ticks": ""
            },
            "colorscale": [
             [
              0,
              "#0d0887"
             ],
             [
              0.1111111111111111,
              "#46039f"
             ],
             [
              0.2222222222222222,
              "#7201a8"
             ],
             [
              0.3333333333333333,
              "#9c179e"
             ],
             [
              0.4444444444444444,
              "#bd3786"
             ],
             [
              0.5555555555555556,
              "#d8576b"
             ],
             [
              0.6666666666666666,
              "#ed7953"
             ],
             [
              0.7777777777777778,
              "#fb9f3a"
             ],
             [
              0.8888888888888888,
              "#fdca26"
             ],
             [
              1,
              "#f0f921"
             ]
            ],
            "type": "histogram2d"
           }
          ],
          "histogram2dcontour": [
           {
            "colorbar": {
             "outlinewidth": 0,
             "ticks": ""
            },
            "colorscale": [
             [
              0,
              "#0d0887"
             ],
             [
              0.1111111111111111,
              "#46039f"
             ],
             [
              0.2222222222222222,
              "#7201a8"
             ],
             [
              0.3333333333333333,
              "#9c179e"
             ],
             [
              0.4444444444444444,
              "#bd3786"
             ],
             [
              0.5555555555555556,
              "#d8576b"
             ],
             [
              0.6666666666666666,
              "#ed7953"
             ],
             [
              0.7777777777777778,
              "#fb9f3a"
             ],
             [
              0.8888888888888888,
              "#fdca26"
             ],
             [
              1,
              "#f0f921"
             ]
            ],
            "type": "histogram2dcontour"
           }
          ],
          "mesh3d": [
           {
            "colorbar": {
             "outlinewidth": 0,
             "ticks": ""
            },
            "type": "mesh3d"
           }
          ],
          "parcoords": [
           {
            "line": {
             "colorbar": {
              "outlinewidth": 0,
              "ticks": ""
             }
            },
            "type": "parcoords"
           }
          ],
          "pie": [
           {
            "automargin": true,
            "type": "pie"
           }
          ],
          "scatter": [
           {
            "marker": {
             "colorbar": {
              "outlinewidth": 0,
              "ticks": ""
             }
            },
            "type": "scatter"
           }
          ],
          "scatter3d": [
           {
            "line": {
             "colorbar": {
              "outlinewidth": 0,
              "ticks": ""
             }
            },
            "marker": {
             "colorbar": {
              "outlinewidth": 0,
              "ticks": ""
             }
            },
            "type": "scatter3d"
           }
          ],
          "scattercarpet": [
           {
            "marker": {
             "colorbar": {
              "outlinewidth": 0,
              "ticks": ""
             }
            },
            "type": "scattercarpet"
           }
          ],
          "scattergeo": [
           {
            "marker": {
             "colorbar": {
              "outlinewidth": 0,
              "ticks": ""
             }
            },
            "type": "scattergeo"
           }
          ],
          "scattergl": [
           {
            "marker": {
             "colorbar": {
              "outlinewidth": 0,
              "ticks": ""
             }
            },
            "type": "scattergl"
           }
          ],
          "scattermapbox": [
           {
            "marker": {
             "colorbar": {
              "outlinewidth": 0,
              "ticks": ""
             }
            },
            "type": "scattermapbox"
           }
          ],
          "scatterpolar": [
           {
            "marker": {
             "colorbar": {
              "outlinewidth": 0,
              "ticks": ""
             }
            },
            "type": "scatterpolar"
           }
          ],
          "scatterpolargl": [
           {
            "marker": {
             "colorbar": {
              "outlinewidth": 0,
              "ticks": ""
             }
            },
            "type": "scatterpolargl"
           }
          ],
          "scatterternary": [
           {
            "marker": {
             "colorbar": {
              "outlinewidth": 0,
              "ticks": ""
             }
            },
            "type": "scatterternary"
           }
          ],
          "surface": [
           {
            "colorbar": {
             "outlinewidth": 0,
             "ticks": ""
            },
            "colorscale": [
             [
              0,
              "#0d0887"
             ],
             [
              0.1111111111111111,
              "#46039f"
             ],
             [
              0.2222222222222222,
              "#7201a8"
             ],
             [
              0.3333333333333333,
              "#9c179e"
             ],
             [
              0.4444444444444444,
              "#bd3786"
             ],
             [
              0.5555555555555556,
              "#d8576b"
             ],
             [
              0.6666666666666666,
              "#ed7953"
             ],
             [
              0.7777777777777778,
              "#fb9f3a"
             ],
             [
              0.8888888888888888,
              "#fdca26"
             ],
             [
              1,
              "#f0f921"
             ]
            ],
            "type": "surface"
           }
          ],
          "table": [
           {
            "cells": {
             "fill": {
              "color": "#EBF0F8"
             },
             "line": {
              "color": "white"
             }
            },
            "header": {
             "fill": {
              "color": "#C8D4E3"
             },
             "line": {
              "color": "white"
             }
            },
            "type": "table"
           }
          ]
         },
         "layout": {
          "annotationdefaults": {
           "arrowcolor": "#2a3f5f",
           "arrowhead": 0,
           "arrowwidth": 1
          },
          "coloraxis": {
           "colorbar": {
            "outlinewidth": 0,
            "ticks": ""
           }
          },
          "colorscale": {
           "diverging": [
            [
             0,
             "#8e0152"
            ],
            [
             0.1,
             "#c51b7d"
            ],
            [
             0.2,
             "#de77ae"
            ],
            [
             0.3,
             "#f1b6da"
            ],
            [
             0.4,
             "#fde0ef"
            ],
            [
             0.5,
             "#f7f7f7"
            ],
            [
             0.6,
             "#e6f5d0"
            ],
            [
             0.7,
             "#b8e186"
            ],
            [
             0.8,
             "#7fbc41"
            ],
            [
             0.9,
             "#4d9221"
            ],
            [
             1,
             "#276419"
            ]
           ],
           "sequential": [
            [
             0,
             "#0d0887"
            ],
            [
             0.1111111111111111,
             "#46039f"
            ],
            [
             0.2222222222222222,
             "#7201a8"
            ],
            [
             0.3333333333333333,
             "#9c179e"
            ],
            [
             0.4444444444444444,
             "#bd3786"
            ],
            [
             0.5555555555555556,
             "#d8576b"
            ],
            [
             0.6666666666666666,
             "#ed7953"
            ],
            [
             0.7777777777777778,
             "#fb9f3a"
            ],
            [
             0.8888888888888888,
             "#fdca26"
            ],
            [
             1,
             "#f0f921"
            ]
           ],
           "sequentialminus": [
            [
             0,
             "#0d0887"
            ],
            [
             0.1111111111111111,
             "#46039f"
            ],
            [
             0.2222222222222222,
             "#7201a8"
            ],
            [
             0.3333333333333333,
             "#9c179e"
            ],
            [
             0.4444444444444444,
             "#bd3786"
            ],
            [
             0.5555555555555556,
             "#d8576b"
            ],
            [
             0.6666666666666666,
             "#ed7953"
            ],
            [
             0.7777777777777778,
             "#fb9f3a"
            ],
            [
             0.8888888888888888,
             "#fdca26"
            ],
            [
             1,
             "#f0f921"
            ]
           ]
          },
          "colorway": [
           "#636efa",
           "#EF553B",
           "#00cc96",
           "#ab63fa",
           "#FFA15A",
           "#19d3f3",
           "#FF6692",
           "#B6E880",
           "#FF97FF",
           "#FECB52"
          ],
          "font": {
           "color": "#2a3f5f"
          },
          "geo": {
           "bgcolor": "white",
           "lakecolor": "white",
           "landcolor": "#E5ECF6",
           "showlakes": true,
           "showland": true,
           "subunitcolor": "white"
          },
          "hoverlabel": {
           "align": "left"
          },
          "hovermode": "closest",
          "mapbox": {
           "style": "light"
          },
          "paper_bgcolor": "white",
          "plot_bgcolor": "#E5ECF6",
          "polar": {
           "angularaxis": {
            "gridcolor": "white",
            "linecolor": "white",
            "ticks": ""
           },
           "bgcolor": "#E5ECF6",
           "radialaxis": {
            "gridcolor": "white",
            "linecolor": "white",
            "ticks": ""
           }
          },
          "scene": {
           "xaxis": {
            "backgroundcolor": "#E5ECF6",
            "gridcolor": "white",
            "gridwidth": 2,
            "linecolor": "white",
            "showbackground": true,
            "ticks": "",
            "zerolinecolor": "white"
           },
           "yaxis": {
            "backgroundcolor": "#E5ECF6",
            "gridcolor": "white",
            "gridwidth": 2,
            "linecolor": "white",
            "showbackground": true,
            "ticks": "",
            "zerolinecolor": "white"
           },
           "zaxis": {
            "backgroundcolor": "#E5ECF6",
            "gridcolor": "white",
            "gridwidth": 2,
            "linecolor": "white",
            "showbackground": true,
            "ticks": "",
            "zerolinecolor": "white"
           }
          },
          "shapedefaults": {
           "line": {
            "color": "#2a3f5f"
           }
          },
          "ternary": {
           "aaxis": {
            "gridcolor": "white",
            "linecolor": "white",
            "ticks": ""
           },
           "baxis": {
            "gridcolor": "white",
            "linecolor": "white",
            "ticks": ""
           },
           "bgcolor": "#E5ECF6",
           "caxis": {
            "gridcolor": "white",
            "linecolor": "white",
            "ticks": ""
           }
          },
          "title": {
           "x": 0.05
          },
          "xaxis": {
           "automargin": true,
           "gridcolor": "white",
           "linecolor": "white",
           "ticks": "",
           "title": {
            "standoff": 15
           },
           "zerolinecolor": "white",
           "zerolinewidth": 2
          },
          "yaxis": {
           "automargin": true,
           "gridcolor": "white",
           "linecolor": "white",
           "ticks": "",
           "title": {
            "standoff": 15
           },
           "zerolinecolor": "white",
           "zerolinewidth": 2
          }
         }
        },
        "title": {
         "text": "S&P500 average monthly return 1950-2020"
        },
        "xaxis": {
         "tickmode": "linear",
         "title": {
          "text": "Month"
         }
        },
        "yaxis": {
         "tickformat": ".2%",
         "title": {
          "text": "% return"
         }
        }
       }
      },
      "text/html": [
       "<div>\n",
       "        \n",
       "        \n",
       "            <div id=\"956be5d1-33b6-490b-8d39-f6590895ff50\" class=\"plotly-graph-div\" style=\"height:525px; width:100%;\"></div>\n",
       "            <script type=\"text/javascript\">\n",
       "                require([\"plotly\"], function(Plotly) {\n",
       "                    window.PLOTLYENV=window.PLOTLYENV || {};\n",
       "                    \n",
       "                if (document.getElementById(\"956be5d1-33b6-490b-8d39-f6590895ff50\")) {\n",
       "                    Plotly.newPlot(\n",
       "                        '956be5d1-33b6-490b-8d39-f6590895ff50',\n",
       "                        [{\"hovertemplate\": \"%{y:.2%} <extra></extra>\", \"marker\": {\"color\": [\"darkblue\", \"red\", \"darkblue\", \"darkblue\", \"darkblue\", \"darkblue\", \"darkblue\", \"red\", \"red\", \"darkblue\", \"darkblue\", \"darkblue\"]}, \"type\": \"bar\", \"visible\": true, \"x\": [1, 2, 3, 4, 5, 6, 7, 8, 9, 10, 11, 12], \"y\": [0.010901802745080433, -0.0003716195072293476, 0.009895018438490038, 0.016254108293695006, 0.002361308491794316, 0.0006864483057670845, 0.010865400787629457, -0.000713137771336479, -0.004313036740421636, 0.008118803362823113, 0.015914114256957598, 0.014781934799030687]}],\n",
       "                        {\"hovermode\": \"x\", \"template\": {\"data\": {\"bar\": [{\"error_x\": {\"color\": \"#2a3f5f\"}, \"error_y\": {\"color\": \"#2a3f5f\"}, \"marker\": {\"line\": {\"color\": \"#E5ECF6\", \"width\": 0.5}}, \"type\": \"bar\"}], \"barpolar\": [{\"marker\": {\"line\": {\"color\": \"#E5ECF6\", \"width\": 0.5}}, \"type\": \"barpolar\"}], \"carpet\": [{\"aaxis\": {\"endlinecolor\": \"#2a3f5f\", \"gridcolor\": \"white\", \"linecolor\": \"white\", \"minorgridcolor\": \"white\", \"startlinecolor\": \"#2a3f5f\"}, \"baxis\": {\"endlinecolor\": \"#2a3f5f\", \"gridcolor\": \"white\", \"linecolor\": \"white\", \"minorgridcolor\": \"white\", \"startlinecolor\": \"#2a3f5f\"}, \"type\": \"carpet\"}], \"choropleth\": [{\"colorbar\": {\"outlinewidth\": 0, \"ticks\": \"\"}, \"type\": \"choropleth\"}], \"contour\": [{\"colorbar\": {\"outlinewidth\": 0, \"ticks\": \"\"}, \"colorscale\": [[0.0, \"#0d0887\"], [0.1111111111111111, \"#46039f\"], [0.2222222222222222, \"#7201a8\"], [0.3333333333333333, \"#9c179e\"], [0.4444444444444444, \"#bd3786\"], [0.5555555555555556, \"#d8576b\"], [0.6666666666666666, \"#ed7953\"], [0.7777777777777778, \"#fb9f3a\"], [0.8888888888888888, \"#fdca26\"], [1.0, \"#f0f921\"]], \"type\": \"contour\"}], \"contourcarpet\": [{\"colorbar\": {\"outlinewidth\": 0, \"ticks\": \"\"}, \"type\": \"contourcarpet\"}], \"heatmap\": [{\"colorbar\": {\"outlinewidth\": 0, \"ticks\": \"\"}, \"colorscale\": [[0.0, \"#0d0887\"], [0.1111111111111111, \"#46039f\"], [0.2222222222222222, \"#7201a8\"], [0.3333333333333333, \"#9c179e\"], [0.4444444444444444, \"#bd3786\"], [0.5555555555555556, \"#d8576b\"], [0.6666666666666666, \"#ed7953\"], [0.7777777777777778, \"#fb9f3a\"], [0.8888888888888888, \"#fdca26\"], [1.0, \"#f0f921\"]], \"type\": \"heatmap\"}], \"heatmapgl\": [{\"colorbar\": {\"outlinewidth\": 0, \"ticks\": \"\"}, \"colorscale\": [[0.0, \"#0d0887\"], [0.1111111111111111, \"#46039f\"], [0.2222222222222222, \"#7201a8\"], [0.3333333333333333, \"#9c179e\"], [0.4444444444444444, \"#bd3786\"], [0.5555555555555556, \"#d8576b\"], [0.6666666666666666, \"#ed7953\"], [0.7777777777777778, \"#fb9f3a\"], [0.8888888888888888, \"#fdca26\"], [1.0, \"#f0f921\"]], \"type\": \"heatmapgl\"}], \"histogram\": [{\"marker\": {\"colorbar\": {\"outlinewidth\": 0, \"ticks\": \"\"}}, \"type\": \"histogram\"}], \"histogram2d\": [{\"colorbar\": {\"outlinewidth\": 0, \"ticks\": \"\"}, \"colorscale\": [[0.0, \"#0d0887\"], [0.1111111111111111, \"#46039f\"], [0.2222222222222222, \"#7201a8\"], [0.3333333333333333, \"#9c179e\"], [0.4444444444444444, \"#bd3786\"], [0.5555555555555556, \"#d8576b\"], [0.6666666666666666, \"#ed7953\"], [0.7777777777777778, \"#fb9f3a\"], [0.8888888888888888, \"#fdca26\"], [1.0, \"#f0f921\"]], \"type\": \"histogram2d\"}], \"histogram2dcontour\": [{\"colorbar\": {\"outlinewidth\": 0, \"ticks\": \"\"}, \"colorscale\": [[0.0, \"#0d0887\"], [0.1111111111111111, \"#46039f\"], [0.2222222222222222, \"#7201a8\"], [0.3333333333333333, \"#9c179e\"], [0.4444444444444444, \"#bd3786\"], [0.5555555555555556, \"#d8576b\"], [0.6666666666666666, \"#ed7953\"], [0.7777777777777778, \"#fb9f3a\"], [0.8888888888888888, \"#fdca26\"], [1.0, \"#f0f921\"]], \"type\": \"histogram2dcontour\"}], \"mesh3d\": [{\"colorbar\": {\"outlinewidth\": 0, \"ticks\": \"\"}, \"type\": \"mesh3d\"}], \"parcoords\": [{\"line\": {\"colorbar\": {\"outlinewidth\": 0, \"ticks\": \"\"}}, \"type\": \"parcoords\"}], \"pie\": [{\"automargin\": true, \"type\": \"pie\"}], \"scatter\": [{\"marker\": {\"colorbar\": {\"outlinewidth\": 0, \"ticks\": \"\"}}, \"type\": \"scatter\"}], \"scatter3d\": [{\"line\": {\"colorbar\": {\"outlinewidth\": 0, \"ticks\": \"\"}}, \"marker\": {\"colorbar\": {\"outlinewidth\": 0, \"ticks\": \"\"}}, \"type\": \"scatter3d\"}], \"scattercarpet\": [{\"marker\": {\"colorbar\": {\"outlinewidth\": 0, \"ticks\": \"\"}}, \"type\": \"scattercarpet\"}], \"scattergeo\": [{\"marker\": {\"colorbar\": {\"outlinewidth\": 0, \"ticks\": \"\"}}, \"type\": \"scattergeo\"}], \"scattergl\": [{\"marker\": {\"colorbar\": {\"outlinewidth\": 0, \"ticks\": \"\"}}, \"type\": \"scattergl\"}], \"scattermapbox\": [{\"marker\": {\"colorbar\": {\"outlinewidth\": 0, \"ticks\": \"\"}}, \"type\": \"scattermapbox\"}], \"scatterpolar\": [{\"marker\": {\"colorbar\": {\"outlinewidth\": 0, \"ticks\": \"\"}}, \"type\": \"scatterpolar\"}], \"scatterpolargl\": [{\"marker\": {\"colorbar\": {\"outlinewidth\": 0, \"ticks\": \"\"}}, \"type\": \"scatterpolargl\"}], \"scatterternary\": [{\"marker\": {\"colorbar\": {\"outlinewidth\": 0, \"ticks\": \"\"}}, \"type\": \"scatterternary\"}], \"surface\": [{\"colorbar\": {\"outlinewidth\": 0, \"ticks\": \"\"}, \"colorscale\": [[0.0, \"#0d0887\"], [0.1111111111111111, \"#46039f\"], [0.2222222222222222, \"#7201a8\"], [0.3333333333333333, \"#9c179e\"], [0.4444444444444444, \"#bd3786\"], [0.5555555555555556, \"#d8576b\"], [0.6666666666666666, \"#ed7953\"], [0.7777777777777778, \"#fb9f3a\"], [0.8888888888888888, \"#fdca26\"], [1.0, \"#f0f921\"]], \"type\": \"surface\"}], \"table\": [{\"cells\": {\"fill\": {\"color\": \"#EBF0F8\"}, \"line\": {\"color\": \"white\"}}, \"header\": {\"fill\": {\"color\": \"#C8D4E3\"}, \"line\": {\"color\": \"white\"}}, \"type\": \"table\"}]}, \"layout\": {\"annotationdefaults\": {\"arrowcolor\": \"#2a3f5f\", \"arrowhead\": 0, \"arrowwidth\": 1}, \"coloraxis\": {\"colorbar\": {\"outlinewidth\": 0, \"ticks\": \"\"}}, \"colorscale\": {\"diverging\": [[0, \"#8e0152\"], [0.1, \"#c51b7d\"], [0.2, \"#de77ae\"], [0.3, \"#f1b6da\"], [0.4, \"#fde0ef\"], [0.5, \"#f7f7f7\"], [0.6, \"#e6f5d0\"], [0.7, \"#b8e186\"], [0.8, \"#7fbc41\"], [0.9, \"#4d9221\"], [1, \"#276419\"]], \"sequential\": [[0.0, \"#0d0887\"], [0.1111111111111111, \"#46039f\"], [0.2222222222222222, \"#7201a8\"], [0.3333333333333333, \"#9c179e\"], [0.4444444444444444, \"#bd3786\"], [0.5555555555555556, \"#d8576b\"], [0.6666666666666666, \"#ed7953\"], [0.7777777777777778, \"#fb9f3a\"], [0.8888888888888888, \"#fdca26\"], [1.0, \"#f0f921\"]], \"sequentialminus\": [[0.0, \"#0d0887\"], [0.1111111111111111, \"#46039f\"], [0.2222222222222222, \"#7201a8\"], [0.3333333333333333, \"#9c179e\"], [0.4444444444444444, \"#bd3786\"], [0.5555555555555556, \"#d8576b\"], [0.6666666666666666, \"#ed7953\"], [0.7777777777777778, \"#fb9f3a\"], [0.8888888888888888, \"#fdca26\"], [1.0, \"#f0f921\"]]}, \"colorway\": [\"#636efa\", \"#EF553B\", \"#00cc96\", \"#ab63fa\", \"#FFA15A\", \"#19d3f3\", \"#FF6692\", \"#B6E880\", \"#FF97FF\", \"#FECB52\"], \"font\": {\"color\": \"#2a3f5f\"}, \"geo\": {\"bgcolor\": \"white\", \"lakecolor\": \"white\", \"landcolor\": \"#E5ECF6\", \"showlakes\": true, \"showland\": true, \"subunitcolor\": \"white\"}, \"hoverlabel\": {\"align\": \"left\"}, \"hovermode\": \"closest\", \"mapbox\": {\"style\": \"light\"}, \"paper_bgcolor\": \"white\", \"plot_bgcolor\": \"#E5ECF6\", \"polar\": {\"angularaxis\": {\"gridcolor\": \"white\", \"linecolor\": \"white\", \"ticks\": \"\"}, \"bgcolor\": \"#E5ECF6\", \"radialaxis\": {\"gridcolor\": \"white\", \"linecolor\": \"white\", \"ticks\": \"\"}}, \"scene\": {\"xaxis\": {\"backgroundcolor\": \"#E5ECF6\", \"gridcolor\": \"white\", \"gridwidth\": 2, \"linecolor\": \"white\", \"showbackground\": true, \"ticks\": \"\", \"zerolinecolor\": \"white\"}, \"yaxis\": {\"backgroundcolor\": \"#E5ECF6\", \"gridcolor\": \"white\", \"gridwidth\": 2, \"linecolor\": \"white\", \"showbackground\": true, \"ticks\": \"\", \"zerolinecolor\": \"white\"}, \"zaxis\": {\"backgroundcolor\": \"#E5ECF6\", \"gridcolor\": \"white\", \"gridwidth\": 2, \"linecolor\": \"white\", \"showbackground\": true, \"ticks\": \"\", \"zerolinecolor\": \"white\"}}, \"shapedefaults\": {\"line\": {\"color\": \"#2a3f5f\"}}, \"ternary\": {\"aaxis\": {\"gridcolor\": \"white\", \"linecolor\": \"white\", \"ticks\": \"\"}, \"baxis\": {\"gridcolor\": \"white\", \"linecolor\": \"white\", \"ticks\": \"\"}, \"bgcolor\": \"#E5ECF6\", \"caxis\": {\"gridcolor\": \"white\", \"linecolor\": \"white\", \"ticks\": \"\"}}, \"title\": {\"x\": 0.05}, \"xaxis\": {\"automargin\": true, \"gridcolor\": \"white\", \"linecolor\": \"white\", \"ticks\": \"\", \"title\": {\"standoff\": 15}, \"zerolinecolor\": \"white\", \"zerolinewidth\": 2}, \"yaxis\": {\"automargin\": true, \"gridcolor\": \"white\", \"linecolor\": \"white\", \"ticks\": \"\", \"title\": {\"standoff\": 15}, \"zerolinecolor\": \"white\", \"zerolinewidth\": 2}}}, \"title\": {\"text\": \"S&P500 average monthly return 1950-2020\"}, \"xaxis\": {\"tickmode\": \"linear\", \"title\": {\"text\": \"Month\"}}, \"yaxis\": {\"tickformat\": \".2%\", \"title\": {\"text\": \"% return\"}}},\n",
       "                        {\"responsive\": true}\n",
       "                    ).then(function(){\n",
       "                            \n",
       "var gd = document.getElementById('956be5d1-33b6-490b-8d39-f6590895ff50');\n",
       "var x = new MutationObserver(function (mutations, observer) {{\n",
       "        var display = window.getComputedStyle(gd).display;\n",
       "        if (!display || display === 'none') {{\n",
       "            console.log([gd, 'removed!']);\n",
       "            Plotly.purge(gd);\n",
       "            observer.disconnect();\n",
       "        }}\n",
       "}});\n",
       "\n",
       "// Listen for the removal of the full notebook cells\n",
       "var notebookContainer = gd.closest('#notebook-container');\n",
       "if (notebookContainer) {{\n",
       "    x.observe(notebookContainer, {childList: true});\n",
       "}}\n",
       "\n",
       "// Listen for the clearing of the current output cell\n",
       "var outputEl = gd.closest('.output');\n",
       "if (outputEl) {{\n",
       "    x.observe(outputEl, {childList: true});\n",
       "}}\n",
       "\n",
       "                        })\n",
       "                };\n",
       "                });\n",
       "            </script>\n",
       "        </div>"
      ]
     },
     "metadata": {},
     "output_type": "display_data"
    }
   ],
   "source": [
    "#####1.b - Other times############################################################################\n",
    "#Count the minimum each year and sum total total\n",
    "\n",
    "#Initial EDA to identify historical negative months\n",
    "SP500_month_avg=SP500_month.groupby(SP500_month.index.month).mean()\n",
    "fig=go.Figure()\n",
    "fig.add_trace(\n",
    "    go.Bar(x=SP500_month_avg.index,y=SP500_month_avg['Monthly_Change'],\n",
    "           visible=True, hovertemplate ='%{y:.2%} <extra></extra>',\n",
    "           marker_color=np.where(SP500_month_avg['Monthly_Change']<0,'red','darkblue')\n",
    "          )\n",
    "        )\n",
    "fig.layout=go.Layout(title='S&P500 average monthly return {}-{}'.format(SP500_month.index.year.min(),\n",
    "                    SP500_month.index.year.max()), xaxis=dict(title='Month',tickmode='linear'),yaxis=dict(title='% return',\n",
    "                    tickformat='.2%'),hovermode=\"x\")\n",
    "fig.show()\n",
    "\n",
    "\n",
    "\n"
   ]
  },
  {
   "cell_type": "code",
   "execution_count": 34,
   "metadata": {},
   "outputs": [
    {
     "data": {
      "text/plain": [
       "Date\n",
       "1     28\n",
       "2     32\n",
       "3     26\n",
       "4     20\n",
       "5     29\n",
       "6     33\n",
       "7     30\n",
       "8     32\n",
       "9     37\n",
       "10    28\n",
       "11    22\n",
       "12    18\n",
       "Name: Monthly_Change, dtype: int64"
      ]
     },
     "execution_count": 34,
     "metadata": {},
     "output_type": "execute_result"
    }
   ],
   "source": [
    "SP500_month[SP500_month['Monthly_Change']<0].groupby(SP500_month[SP500_month['Monthly_Change']<0].index.month)['Monthly_Change'].count()"
   ]
  },
  {
   "cell_type": "code",
   "execution_count": 36,
   "metadata": {},
   "outputs": [
    {
     "data": {
      "text/html": [
       "<style  type=\"text/css\" >\n",
       "</style><table id=\"T_a9189b5c_a58f_11ea_ac96_34f64b76679e\" ><thead>    <tr>        <th class=\"blank level0\" ></th>        <th class=\"col_heading level0 col0\" >count</th>        <th class=\"col_heading level0 col1\" ># Negative returns</th>        <th class=\"col_heading level0 col2\" >mean</th>        <th class=\"col_heading level0 col3\" >max</th>        <th class=\"col_heading level0 col4\" >min</th>    </tr></thead><tbody>\n",
       "                <tr>\n",
       "                        <th id=\"T_a9189b5c_a58f_11ea_ac96_34f64b76679elevel0_row0\" class=\"row_heading level0 row0\" >Total year</th>\n",
       "                        <td id=\"T_a9189b5c_a58f_11ea_ac96_34f64b76679erow0_col0\" class=\"data row0 col0\" >70</td>\n",
       "                        <td id=\"T_a9189b5c_a58f_11ea_ac96_34f64b76679erow0_col1\" class=\"data row0 col1\" >19</td>\n",
       "                        <td id=\"T_a9189b5c_a58f_11ea_ac96_34f64b76679erow0_col2\" class=\"data row0 col2\" >9.15%</td>\n",
       "                        <td id=\"T_a9189b5c_a58f_11ea_ac96_34f64b76679erow0_col3\" class=\"data row0 col3\" >45.02%</td>\n",
       "                        <td id=\"T_a9189b5c_a58f_11ea_ac96_34f64b76679erow0_col4\" class=\"data row0 col4\" >-38.49%</td>\n",
       "            </tr>\n",
       "            <tr>\n",
       "                        <th id=\"T_a9189b5c_a58f_11ea_ac96_34f64b76679elevel0_row1\" class=\"row_heading level0 row1\" >No August and Septemeber</th>\n",
       "                        <td id=\"T_a9189b5c_a58f_11ea_ac96_34f64b76679erow1_col0\" class=\"data row1 col0\" >69</td>\n",
       "                        <td id=\"T_a9189b5c_a58f_11ea_ac96_34f64b76679erow1_col1\" class=\"data row1 col1\" >17</td>\n",
       "                        <td id=\"T_a9189b5c_a58f_11ea_ac96_34f64b76679erow1_col2\" class=\"data row1 col2\" >9.53%</td>\n",
       "                        <td id=\"T_a9189b5c_a58f_11ea_ac96_34f64b76679erow1_col3\" class=\"data row1 col3\" >39.58%</td>\n",
       "                        <td id=\"T_a9189b5c_a58f_11ea_ac96_34f64b76679erow1_col4\" class=\"data row1 col4\" >-33.16%</td>\n",
       "            </tr>\n",
       "            <tr>\n",
       "                        <th id=\"T_a9189b5c_a58f_11ea_ac96_34f64b76679elevel0_row2\" class=\"row_heading level0 row2\" >August and Septemeber</th>\n",
       "                        <td id=\"T_a9189b5c_a58f_11ea_ac96_34f64b76679erow2_col0\" class=\"data row2 col0\" >70</td>\n",
       "                        <td id=\"T_a9189b5c_a58f_11ea_ac96_34f64b76679erow2_col1\" class=\"data row2 col1\" >30</td>\n",
       "                        <td id=\"T_a9189b5c_a58f_11ea_ac96_34f64b76679erow2_col2\" class=\"data row2 col2\" >-0.50%</td>\n",
       "                        <td id=\"T_a9189b5c_a58f_11ea_ac96_34f64b76679erow2_col3\" class=\"data row2 col3\" >12.45%</td>\n",
       "                        <td id=\"T_a9189b5c_a58f_11ea_ac96_34f64b76679erow2_col4\" class=\"data row2 col4\" >-19.88%</td>\n",
       "            </tr>\n",
       "            <tr>\n",
       "                        <th id=\"T_a9189b5c_a58f_11ea_ac96_34f64b76679elevel0_row3\" class=\"row_heading level0 row3\" >September</th>\n",
       "                        <td id=\"T_a9189b5c_a58f_11ea_ac96_34f64b76679erow3_col0\" class=\"data row3 col0\" >70</td>\n",
       "                        <td id=\"T_a9189b5c_a58f_11ea_ac96_34f64b76679erow3_col1\" class=\"data row3 col1\" >37</td>\n",
       "                        <td id=\"T_a9189b5c_a58f_11ea_ac96_34f64b76679erow3_col2\" class=\"data row3 col2\" >-0.43%</td>\n",
       "                        <td id=\"T_a9189b5c_a58f_11ea_ac96_34f64b76679erow3_col3\" class=\"data row3 col3\" >8.76%</td>\n",
       "                        <td id=\"T_a9189b5c_a58f_11ea_ac96_34f64b76679erow3_col4\" class=\"data row3 col4\" >-11.93%</td>\n",
       "            </tr>\n",
       "    </tbody></table>"
      ],
      "text/plain": [
       "<pandas.io.formats.style.Styler at 0x2199637fd68>"
      ]
     },
     "execution_count": 36,
     "metadata": {},
     "output_type": "execute_result"
    }
   ],
   "source": [
    "SP500_month['Monthly_Change_no_8-9']=SP500_month['Monthly_Change']\n",
    "SP500_month.loc[SP500_month['Monthly_Change_no_8-9'].index.month.isin([8,9]),'Monthly_Change_no_8-9']=0\n",
    "SP500_year['Yearly_Change_no_8-9']=((1+SP500_month['Monthly_Change_no_8-9']).rolling(12)).apply(np.prod)-1\n",
    "\n",
    "SP500_month['Monthly_Change_only_8-9']=SP500_month['Monthly_Change']\n",
    "SP500_month.loc[SP500_month['Monthly_Change_only_8-9'].index.month.isin([1,2,3,4,5,6,7,10,11,12]),'Monthly_Change_only_8-9']=0\n",
    "SP500_year['Yearly_Change_only_8-9']=((1+SP500_month['Monthly_Change_only_8-9']).rolling(12)).apply(np.prod)-1\n",
    "\n",
    "SP500_month['Monthly_Change_only_9']=SP500_month['Monthly_Change']\n",
    "SP500_month.loc[SP500_month['Monthly_Change_only_9'].index.month.isin([1,2,3,4,5,6,7,8,10,11,12]),'Monthly_Change_only_9']=0\n",
    "SP500_year['Yearly_Change_only_9']=((1+SP500_month['Monthly_Change_only_9']).rolling(12)).apply(np.prod)-1\n",
    "\n",
    "SP500_year[['Yearly_Change','Yearly_Change_no_8-9','Yearly_Change_only_8-9','Yearly_Change_only_9']].agg(['count',negative_returns,'mean','max','min']\n",
    "            ).rename(columns={'Yearly_Change': 'Total year', 'Yearly_Change_no_8-9':'No August and Septemeber',\n",
    "                              'Yearly_Change_only_8-9':'August and Septemeber','Yearly_Change_only_9':'September'\n",
    "            }).transpose().style.format({'count':'{0:,.0f}', \n",
    "            '# Negative returns': '{0:,.0f}', 'mean': '{:.2%}','max':'{:.2%}','min':'{:.2%}'})"
   ]
  },
  {
   "cell_type": "code",
   "execution_count": 41,
   "metadata": {},
   "outputs": [
    {
     "name": "stdout",
     "output_type": "stream",
     "text": [
      "There are 30 years out of the total of 70 when a sell in August and September strategy outperforms the hold strategy.\n"
     ]
    }
   ],
   "source": [
    "tot_years_sell_8_9=len(SP500_year[SP500_year['Yearly_Change_no_8-9']>SP500_year['Yearly_Change']])\n",
    "\n",
    "print('There are {} years out of the total of {} when a sell in August and September strategy outperforms the hold strategy.'.format(tot_years_sell_8_9,tot_years))\n"
   ]
  },
  {
   "cell_type": "code",
   "execution_count": 43,
   "metadata": {},
   "outputs": [
    {
     "data": {
      "text/html": [
       "<style  type=\"text/css\" >\n",
       "</style><table id=\"T_16c272e2_a590_11ea_9617_34f64b76679e\" ><thead>    <tr>        <th class=\"blank level0\" ></th>        <th class=\"col_heading level0 col0\" colspan=5>Total year</th>        <th class=\"col_heading level0 col5\" colspan=5>No August and Septemeber</th>        <th class=\"col_heading level0 col10\" colspan=5>August and Septemeber</th>    </tr>    <tr>        <th class=\"blank level1\" ></th>        <th class=\"col_heading level1 col0\" >count</th>        <th class=\"col_heading level1 col1\" ># Negative returns</th>        <th class=\"col_heading level1 col2\" >mean</th>        <th class=\"col_heading level1 col3\" >max</th>        <th class=\"col_heading level1 col4\" >min</th>        <th class=\"col_heading level1 col5\" >count</th>        <th class=\"col_heading level1 col6\" ># Negative returns</th>        <th class=\"col_heading level1 col7\" >mean</th>        <th class=\"col_heading level1 col8\" >max</th>        <th class=\"col_heading level1 col9\" >min</th>        <th class=\"col_heading level1 col10\" >count</th>        <th class=\"col_heading level1 col11\" ># Negative returns</th>        <th class=\"col_heading level1 col12\" >mean</th>        <th class=\"col_heading level1 col13\" >max</th>        <th class=\"col_heading level1 col14\" >min</th>    </tr>    <tr>        <th class=\"index_name level0\" >Date</th>        <th class=\"blank\" ></th>        <th class=\"blank\" ></th>        <th class=\"blank\" ></th>        <th class=\"blank\" ></th>        <th class=\"blank\" ></th>        <th class=\"blank\" ></th>        <th class=\"blank\" ></th>        <th class=\"blank\" ></th>        <th class=\"blank\" ></th>        <th class=\"blank\" ></th>        <th class=\"blank\" ></th>        <th class=\"blank\" ></th>        <th class=\"blank\" ></th>        <th class=\"blank\" ></th>        <th class=\"blank\" ></th>    </tr></thead><tbody>\n",
       "                <tr>\n",
       "                        <th id=\"T_16c272e2_a590_11ea_9617_34f64b76679elevel0_row0\" class=\"row_heading level0 row0\" >1950</th>\n",
       "                        <td id=\"T_16c272e2_a590_11ea_9617_34f64b76679erow0_col0\" class=\"data row0 col0\" >10</td>\n",
       "                        <td id=\"T_16c272e2_a590_11ea_9617_34f64b76679erow0_col1\" class=\"data row0 col1\" >2</td>\n",
       "                        <td id=\"T_16c272e2_a590_11ea_9617_34f64b76679erow0_col2\" class=\"data row0 col2\" >15.04%</td>\n",
       "                        <td id=\"T_16c272e2_a590_11ea_9617_34f64b76679erow0_col3\" class=\"data row0 col3\" >45.02%</td>\n",
       "                        <td id=\"T_16c272e2_a590_11ea_9617_34f64b76679erow0_col4\" class=\"data row0 col4\" >-14.31%</td>\n",
       "                        <td id=\"T_16c272e2_a590_11ea_9617_34f64b76679erow0_col5\" class=\"data row0 col5\" >9</td>\n",
       "                        <td id=\"T_16c272e2_a590_11ea_9617_34f64b76679erow0_col6\" class=\"data row0 col6\" >2</td>\n",
       "                        <td id=\"T_16c272e2_a590_11ea_9617_34f64b76679erow0_col7\" class=\"data row0 col7\" >16.15%</td>\n",
       "                        <td id=\"T_16c272e2_a590_11ea_9617_34f64b76679erow0_col8\" class=\"data row0 col8\" >38.60%</td>\n",
       "                        <td id=\"T_16c272e2_a590_11ea_9617_34f64b76679erow0_col9\" class=\"data row0 col9\" >-3.22%</td>\n",
       "                        <td id=\"T_16c272e2_a590_11ea_9617_34f64b76679erow0_col10\" class=\"data row0 col10\" >10</td>\n",
       "                        <td id=\"T_16c272e2_a590_11ea_9617_34f64b76679erow0_col11\" class=\"data row0 col11\" >5</td>\n",
       "                        <td id=\"T_16c272e2_a590_11ea_9617_34f64b76679erow0_col12\" class=\"data row0 col12\" >-1.08%</td>\n",
       "                        <td id=\"T_16c272e2_a590_11ea_9617_34f64b76679erow0_col13\" class=\"data row0 col13\" >9.02%</td>\n",
       "                        <td id=\"T_16c272e2_a590_11ea_9617_34f64b76679erow0_col14\" class=\"data row0 col14\" >-11.46%</td>\n",
       "            </tr>\n",
       "            <tr>\n",
       "                        <th id=\"T_16c272e2_a590_11ea_9617_34f64b76679elevel0_row1\" class=\"row_heading level0 row1\" >1960</th>\n",
       "                        <td id=\"T_16c272e2_a590_11ea_9617_34f64b76679erow1_col0\" class=\"data row1 col0\" >10</td>\n",
       "                        <td id=\"T_16c272e2_a590_11ea_9617_34f64b76679erow1_col1\" class=\"data row1 col1\" >4</td>\n",
       "                        <td id=\"T_16c272e2_a590_11ea_9617_34f64b76679erow1_col2\" class=\"data row1 col2\" >5.26%</td>\n",
       "                        <td id=\"T_16c272e2_a590_11ea_9617_34f64b76679erow1_col3\" class=\"data row1 col3\" >23.13%</td>\n",
       "                        <td id=\"T_16c272e2_a590_11ea_9617_34f64b76679erow1_col4\" class=\"data row1 col4\" >-13.09%</td>\n",
       "                        <td id=\"T_16c272e2_a590_11ea_9617_34f64b76679erow1_col5\" class=\"data row1 col5\" >10</td>\n",
       "                        <td id=\"T_16c272e2_a590_11ea_9617_34f64b76679erow1_col6\" class=\"data row1 col6\" >3</td>\n",
       "                        <td id=\"T_16c272e2_a590_11ea_9617_34f64b76679erow1_col7\" class=\"data row1 col7\" >4.72%</td>\n",
       "                        <td id=\"T_16c272e2_a590_11ea_9617_34f64b76679erow1_col8\" class=\"data row1 col8\" >23.18%</td>\n",
       "                        <td id=\"T_16c272e2_a590_11ea_9617_34f64b76679erow1_col9\" class=\"data row1 col9\" >-12.59%</td>\n",
       "                        <td id=\"T_16c272e2_a590_11ea_9617_34f64b76679erow1_col10\" class=\"data row1 col10\" >10</td>\n",
       "                        <td id=\"T_16c272e2_a590_11ea_9617_34f64b76679erow1_col11\" class=\"data row1 col11\" >4</td>\n",
       "                        <td id=\"T_16c272e2_a590_11ea_9617_34f64b76679erow1_col12\" class=\"data row1 col12\" >0.35%</td>\n",
       "                        <td id=\"T_16c272e2_a590_11ea_9617_34f64b76679erow1_col13\" class=\"data row1 col13\" >5.52%</td>\n",
       "                        <td id=\"T_16c272e2_a590_11ea_9617_34f64b76679erow1_col14\" class=\"data row1 col14\" >-8.42%</td>\n",
       "            </tr>\n",
       "            <tr>\n",
       "                        <th id=\"T_16c272e2_a590_11ea_9617_34f64b76679elevel0_row2\" class=\"row_heading level0 row2\" >1970</th>\n",
       "                        <td id=\"T_16c272e2_a590_11ea_9617_34f64b76679erow2_col0\" class=\"data row2 col0\" >10</td>\n",
       "                        <td id=\"T_16c272e2_a590_11ea_9617_34f64b76679erow2_col1\" class=\"data row2 col1\" >3</td>\n",
       "                        <td id=\"T_16c272e2_a590_11ea_9617_34f64b76679erow2_col2\" class=\"data row2 col2\" >3.20%</td>\n",
       "                        <td id=\"T_16c272e2_a590_11ea_9617_34f64b76679erow2_col3\" class=\"data row2 col3\" >31.55%</td>\n",
       "                        <td id=\"T_16c272e2_a590_11ea_9617_34f64b76679erow2_col4\" class=\"data row2 col4\" >-29.72%</td>\n",
       "                        <td id=\"T_16c272e2_a590_11ea_9617_34f64b76679erow2_col5\" class=\"data row2 col5\" >10</td>\n",
       "                        <td id=\"T_16c272e2_a590_11ea_9617_34f64b76679erow2_col6\" class=\"data row2 col6\" >5</td>\n",
       "                        <td id=\"T_16c272e2_a590_11ea_9617_34f64b76679erow2_col7\" class=\"data row2 col7\" >3.57%</td>\n",
       "                        <td id=\"T_16c272e2_a590_11ea_9617_34f64b76679erow2_col8\" class=\"data row2 col8\" >39.20%</td>\n",
       "                        <td id=\"T_16c272e2_a590_11ea_9617_34f64b76679erow2_col9\" class=\"data row2 col9\" >-17.53%</td>\n",
       "                        <td id=\"T_16c272e2_a590_11ea_9617_34f64b76679erow2_col10\" class=\"data row2 col10\" >10</td>\n",
       "                        <td id=\"T_16c272e2_a590_11ea_9617_34f64b76679erow2_col11\" class=\"data row2 col11\" >3</td>\n",
       "                        <td id=\"T_16c272e2_a590_11ea_9617_34f64b76679erow2_col12\" class=\"data row2 col12\" >-0.48%</td>\n",
       "                        <td id=\"T_16c272e2_a590_11ea_9617_34f64b76679erow2_col13\" class=\"data row2 col13\" >8.01%</td>\n",
       "                        <td id=\"T_16c272e2_a590_11ea_9617_34f64b76679erow2_col14\" class=\"data row2 col14\" >-19.88%</td>\n",
       "            </tr>\n",
       "            <tr>\n",
       "                        <th id=\"T_16c272e2_a590_11ea_9617_34f64b76679elevel0_row3\" class=\"row_heading level0 row3\" >1980</th>\n",
       "                        <td id=\"T_16c272e2_a590_11ea_9617_34f64b76679erow3_col0\" class=\"data row3 col0\" >10</td>\n",
       "                        <td id=\"T_16c272e2_a590_11ea_9617_34f64b76679erow3_col1\" class=\"data row3 col1\" >1</td>\n",
       "                        <td id=\"T_16c272e2_a590_11ea_9617_34f64b76679erow3_col2\" class=\"data row3 col2\" >13.21%</td>\n",
       "                        <td id=\"T_16c272e2_a590_11ea_9617_34f64b76679erow3_col3\" class=\"data row3 col3\" >27.25%</td>\n",
       "                        <td id=\"T_16c272e2_a590_11ea_9617_34f64b76679erow3_col4\" class=\"data row3 col4\" >-9.73%</td>\n",
       "                        <td id=\"T_16c272e2_a590_11ea_9617_34f64b76679erow3_col5\" class=\"data row3 col5\" >10</td>\n",
       "                        <td id=\"T_16c272e2_a590_11ea_9617_34f64b76679erow3_col6\" class=\"data row3 col6\" >1</td>\n",
       "                        <td id=\"T_16c272e2_a590_11ea_9617_34f64b76679erow3_col7\" class=\"data row3 col7\" >12.16%</td>\n",
       "                        <td id=\"T_16c272e2_a590_11ea_9617_34f64b76679erow3_col8\" class=\"data row3 col8\" >32.47%</td>\n",
       "                        <td id=\"T_16c272e2_a590_11ea_9617_34f64b76679erow3_col9\" class=\"data row3 col9\" >-8.03%</td>\n",
       "                        <td id=\"T_16c272e2_a590_11ea_9617_34f64b76679erow3_col10\" class=\"data row3 col10\" >10</td>\n",
       "                        <td id=\"T_16c272e2_a590_11ea_9617_34f64b76679erow3_col11\" class=\"data row3 col11\" >4</td>\n",
       "                        <td id=\"T_16c272e2_a590_11ea_9617_34f64b76679erow3_col12\" class=\"data row3 col12\" >1.19%</td>\n",
       "                        <td id=\"T_16c272e2_a590_11ea_9617_34f64b76679erow3_col13\" class=\"data row3 col13\" >12.45%</td>\n",
       "                        <td id=\"T_16c272e2_a590_11ea_9617_34f64b76679erow3_col14\" class=\"data row3 col14\" >-11.26%</td>\n",
       "            </tr>\n",
       "            <tr>\n",
       "                        <th id=\"T_16c272e2_a590_11ea_9617_34f64b76679elevel0_row4\" class=\"row_heading level0 row4\" >1990</th>\n",
       "                        <td id=\"T_16c272e2_a590_11ea_9617_34f64b76679erow4_col0\" class=\"data row4 col0\" >10</td>\n",
       "                        <td id=\"T_16c272e2_a590_11ea_9617_34f64b76679erow4_col1\" class=\"data row4 col1\" >2</td>\n",
       "                        <td id=\"T_16c272e2_a590_11ea_9617_34f64b76679erow4_col2\" class=\"data row4 col2\" >16.13%</td>\n",
       "                        <td id=\"T_16c272e2_a590_11ea_9617_34f64b76679erow4_col3\" class=\"data row4 col3\" >34.11%</td>\n",
       "                        <td id=\"T_16c272e2_a590_11ea_9617_34f64b76679erow4_col4\" class=\"data row4 col4\" >-6.56%</td>\n",
       "                        <td id=\"T_16c272e2_a590_11ea_9617_34f64b76679erow4_col5\" class=\"data row4 col5\" >10</td>\n",
       "                        <td id=\"T_16c272e2_a590_11ea_9617_34f64b76679erow4_col6\" class=\"data row4 col6\" >1</td>\n",
       "                        <td id=\"T_16c272e2_a590_11ea_9617_34f64b76679erow4_col7\" class=\"data row4 col7\" >17.95%</td>\n",
       "                        <td id=\"T_16c272e2_a590_11ea_9617_34f64b76679erow4_col8\" class=\"data row4 col8\" >39.58%</td>\n",
       "                        <td id=\"T_16c272e2_a590_11ea_9617_34f64b76679erow4_col9\" class=\"data row4 col9\" >-2.49%</td>\n",
       "                        <td id=\"T_16c272e2_a590_11ea_9617_34f64b76679erow4_col10\" class=\"data row4 col10\" >10</td>\n",
       "                        <td id=\"T_16c272e2_a590_11ea_9617_34f64b76679erow4_col11\" class=\"data row4 col11\" >5</td>\n",
       "                        <td id=\"T_16c272e2_a590_11ea_9617_34f64b76679erow4_col12\" class=\"data row4 col12\" >-1.43%</td>\n",
       "                        <td id=\"T_16c272e2_a590_11ea_9617_34f64b76679erow4_col13\" class=\"data row4 col13\" >7.40%</td>\n",
       "                        <td id=\"T_16c272e2_a590_11ea_9617_34f64b76679erow4_col14\" class=\"data row4 col14\" >-14.07%</td>\n",
       "            </tr>\n",
       "            <tr>\n",
       "                        <th id=\"T_16c272e2_a590_11ea_9617_34f64b76679elevel0_row5\" class=\"row_heading level0 row5\" >2000</th>\n",
       "                        <td id=\"T_16c272e2_a590_11ea_9617_34f64b76679erow5_col0\" class=\"data row5 col0\" >10</td>\n",
       "                        <td id=\"T_16c272e2_a590_11ea_9617_34f64b76679erow5_col1\" class=\"data row5 col1\" >4</td>\n",
       "                        <td id=\"T_16c272e2_a590_11ea_9617_34f64b76679erow5_col2\" class=\"data row5 col2\" >-0.61%</td>\n",
       "                        <td id=\"T_16c272e2_a590_11ea_9617_34f64b76679erow5_col3\" class=\"data row5 col3\" >26.38%</td>\n",
       "                        <td id=\"T_16c272e2_a590_11ea_9617_34f64b76679erow5_col4\" class=\"data row5 col4\" >-38.49%</td>\n",
       "                        <td id=\"T_16c272e2_a590_11ea_9617_34f64b76679erow5_col5\" class=\"data row5 col5\" >10</td>\n",
       "                        <td id=\"T_16c272e2_a590_11ea_9617_34f64b76679erow5_col6\" class=\"data row5 col6\" >4</td>\n",
       "                        <td id=\"T_16c272e2_a590_11ea_9617_34f64b76679erow5_col7\" class=\"data row5 col7\" >0.27%</td>\n",
       "                        <td id=\"T_16c272e2_a590_11ea_9617_34f64b76679erow5_col8\" class=\"data row5 col8\" >25.66%</td>\n",
       "                        <td id=\"T_16c272e2_a590_11ea_9617_34f64b76679erow5_col9\" class=\"data row5 col9\" >-33.16%</td>\n",
       "                        <td id=\"T_16c272e2_a590_11ea_9617_34f64b76679erow5_col10\" class=\"data row5 col10\" >10</td>\n",
       "                        <td id=\"T_16c272e2_a590_11ea_9617_34f64b76679erow5_col11\" class=\"data row5 col11\" >4</td>\n",
       "                        <td id=\"T_16c272e2_a590_11ea_9617_34f64b76679erow5_col12\" class=\"data row5 col12\" >-1.43%</td>\n",
       "                        <td id=\"T_16c272e2_a590_11ea_9617_34f64b76679erow5_col13\" class=\"data row5 col13\" >7.05%</td>\n",
       "                        <td id=\"T_16c272e2_a590_11ea_9617_34f64b76679erow5_col14\" class=\"data row5 col14\" >-14.06%</td>\n",
       "            </tr>\n",
       "            <tr>\n",
       "                        <th id=\"T_16c272e2_a590_11ea_9617_34f64b76679elevel0_row6\" class=\"row_heading level0 row6\" >2010</th>\n",
       "                        <td id=\"T_16c272e2_a590_11ea_9617_34f64b76679erow6_col0\" class=\"data row6 col0\" >10</td>\n",
       "                        <td id=\"T_16c272e2_a590_11ea_9617_34f64b76679erow6_col1\" class=\"data row6 col1\" >3</td>\n",
       "                        <td id=\"T_16c272e2_a590_11ea_9617_34f64b76679erow6_col2\" class=\"data row6 col2\" >11.80%</td>\n",
       "                        <td id=\"T_16c272e2_a590_11ea_9617_34f64b76679erow6_col3\" class=\"data row6 col3\" >29.60%</td>\n",
       "                        <td id=\"T_16c272e2_a590_11ea_9617_34f64b76679erow6_col4\" class=\"data row6 col4\" >-6.24%</td>\n",
       "                        <td id=\"T_16c272e2_a590_11ea_9617_34f64b76679erow6_col5\" class=\"data row6 col5\" >10</td>\n",
       "                        <td id=\"T_16c272e2_a590_11ea_9617_34f64b76679erow6_col6\" class=\"data row6 col6\" >1</td>\n",
       "                        <td id=\"T_16c272e2_a590_11ea_9617_34f64b76679erow6_col7\" class=\"data row6 col7\" >12.60%</td>\n",
       "                        <td id=\"T_16c272e2_a590_11ea_9617_34f64b76679erow6_col8\" class=\"data row6 col8\" >29.92%</td>\n",
       "                        <td id=\"T_16c272e2_a590_11ea_9617_34f64b76679erow6_col9\" class=\"data row6 col9\" >-9.38%</td>\n",
       "                        <td id=\"T_16c272e2_a590_11ea_9617_34f64b76679erow6_col10\" class=\"data row6 col10\" >10</td>\n",
       "                        <td id=\"T_16c272e2_a590_11ea_9617_34f64b76679erow6_col11\" class=\"data row6 col11\" >5</td>\n",
       "                        <td id=\"T_16c272e2_a590_11ea_9617_34f64b76679erow6_col12\" class=\"data row6 col12\" >-0.61%</td>\n",
       "                        <td id=\"T_16c272e2_a590_11ea_9617_34f64b76679erow6_col13\" class=\"data row6 col13\" >4.45%</td>\n",
       "                        <td id=\"T_16c272e2_a590_11ea_9617_34f64b76679erow6_col14\" class=\"data row6 col14\" >-12.45%</td>\n",
       "            </tr>\n",
       "    </tbody></table>"
      ],
      "text/plain": [
       "<pandas.io.formats.style.Styler at 0x219962440f0>"
      ]
     },
     "execution_count": 43,
     "metadata": {},
     "output_type": "execute_result"
    }
   ],
   "source": [
    "SP500_year[['Yearly_Change','Yearly_Change_no_8-9','Yearly_Change_only_8-9']].groupby((SP500_year.index.year//10)*10).agg(['count'\n",
    "            ,negative_returns,'mean','max','min']).rename(columns={'Date':'Decade','Yearly_Change': 'Total year', \n",
    "            'Yearly_Change_no_8-9':'No August and Septemeber','Yearly_Change_only_8-9':'August and Septemeber'}).style.format(\n",
    "            {('Total year','count'):'{0:,.0f}', ('Total year','# Negative returns'): '{0:,.0f}', ('Total year','mean'): '{:.2%}',\n",
    "             ('Total year','max'):'{:.2%}',('Total year','min'):'{:.2%}',('No August and Septemeber','count'):'{0:,.0f}', \n",
    "             ('No August and Septemeber','# Negative returns'): '{0:,.0f}', ('No August and Septemeber','mean'): '{:.2%}',\n",
    "             ('No August and Septemeber','max'):'{:.2%}',('No August and Septemeber','min'):'{:.2%}',\n",
    "             ('August and Septemeber','count'):'{0:,.0f}', ('August and Septemeber','# Negative returns'): '{0:,.0f}', \n",
    "             ('August and Septemeber','mean'): '{:.2%}',('August and Septemeber','max'):'{:.2%}',\n",
    "             ('August and Septemeber','min'):'{:.2%}'\n",
    "            })"
   ]
  },
  {
   "cell_type": "code",
   "execution_count": 47,
   "metadata": {},
   "outputs": [
    {
     "data": {
      "application/vnd.plotly.v1+json": {
       "config": {
        "plotlyServerURL": "https://plot.ly"
       },
       "data": [
        {
         "hovertemplate": "%{y:.2%} <extra></extra>",
         "mode": "lines",
         "name": "Full year",
         "type": "scatter",
         "x": [
          1950,
          1951,
          1952,
          1953,
          1954,
          1955,
          1956,
          1957,
          1958,
          1959,
          1960,
          1961,
          1962,
          1963,
          1964,
          1965,
          1966,
          1967,
          1968,
          1969,
          1970,
          1971,
          1972,
          1973,
          1974,
          1975,
          1976,
          1977,
          1978,
          1979,
          1980,
          1981,
          1982,
          1983,
          1984,
          1985,
          1986,
          1987,
          1988,
          1989,
          1990,
          1991,
          1992,
          1993,
          1994,
          1995,
          1996,
          1997,
          1998,
          1999,
          2000,
          2001,
          2002,
          2003,
          2004,
          2005,
          2006,
          2007,
          2008,
          2009,
          2010,
          2011,
          2012,
          2013,
          2014,
          2015,
          2016,
          2017,
          2018,
          2019
         ],
         "y": [
          0.22629051620648255,
          0.4267707082833134,
          0.5948379351740696,
          0.48919561824729874,
          1.1596638655462184,
          1.729891956782713,
          1.8013204081632654,
          1.4003602641056427,
          2.313925510204082,
          2.5948378751500605,
          2.487995258103242,
          3.294718067226891,
          2.7875148859543817,
          3.5030010204081634,
          4.0870348139255706,
          4.548019207683073,
          3.8217288115246104,
          4.790516266506603,
          5.234093697478992,
          4.525810204081632,
          4.531212576583368,
          5.127850920641694,
          6.085834516912233,
          4.855342320033482,
          3.1152459518963838,
          4.413565572713461,
          5.450180017075191,
          4.708283221735961,
          4.768907599660959,
          5.478991743181648,
          7.148859214095795,
          6.35594256012952,
          7.441776674048526,
          8.89975946433261,
          9.038415695868192,
          11.681872675828144,
          13.53601429585506,
          13.830732402824411,
          15.669868020450366,
          20.212484627640116,
          18.821128524652046,
          24.035413945851776,
          25.153060711589323,
          26.998200012426842,
          26.567226231312834,
          35.97058779566513,
          43.4621842877776,
          57.24909920022695,
          72.78331215298617,
          87.19027611044415,
          78.24850115827577,
          67.9123623082045,
          51.81032456928081,
          65.74189939647731,
          71.74430035686146,
          73.92737329306719,
          84.13205575198826,
          87.13685386263876,
          53.21668667466984,
          65.93277164381374,
          74.48859631743318,
          74.48619301236116,
          84.60563873987091,
          109.94597751209854,
          122.5834275116296,
          121.685470672644,
          133.38355811074425,
          159.4807987648184,
          149.4711943371098,
          192.924371506415
         ]
        },
        {
         "hovertemplate": "%{y:.2%} <extra></extra>",
         "mode": "lines",
         "name": "Without August and September",
         "type": "scatter",
         "x": [
          1950,
          1951,
          1952,
          1953,
          1954,
          1955,
          1956,
          1957,
          1958,
          1959,
          1960,
          1961,
          1962,
          1963,
          1964,
          1965,
          1966,
          1967,
          1968,
          1969,
          1970,
          1971,
          1972,
          1973,
          1974,
          1975,
          1976,
          1977,
          1978,
          1979,
          1980,
          1981,
          1982,
          1983,
          1984,
          1985,
          1986,
          1987,
          1988,
          1989,
          1990,
          1991,
          1992,
          1993,
          1994,
          1995,
          1996,
          1997,
          1998,
          1999,
          2000,
          2001,
          2002,
          2003,
          2004,
          2005,
          2006,
          2007,
          2008,
          2009,
          2010,
          2011,
          2012,
          2013,
          2014,
          2015,
          2016,
          2017,
          2018,
          2019
         ],
         "y": [
          0.09905450516093373,
          0.2314544540107566,
          0.42475394142841694,
          0.4101437205371705,
          0.9545108973750742,
          1.4620853718523978,
          1.7515802226042827,
          1.6628784924345643,
          2.4655867744999282,
          2.9992714918558763,
          3.0246912669526225,
          3.957771897420919,
          3.5245574347987256,
          4.186462033007122,
          4.789537377200503,
          4.983593117478341,
          4.678468648458773,
          5.681186231025132,
          5.847600091786511,
          4.985530391083404,
          4.547181295215386,
          4.973062349235059,
          5.709419452940107,
          4.533555927382922,
          3.8543214270367683,
          5.757372177179295,
          6.913597631253679,
          6.1716982513835035,
          6.11639375055852,
          6.589503615339095,
          8.25722845996921,
          8.4166648532345,
          8.610432454651473,
          10.032049296243137,
          9.146705429592814,
          12.441026504612982,
          14.725843830288285,
          14.88664772712704,
          16.863948628558106,
          21.532080117924604,
          23.500711617150664,
          29.942052708718027,
          31.819301776486213,
          33.307929514217456,
          32.45496272307195,
          42.150804188318645,
          47.31745754447802,
          62.769584154661246,
          88.00923205157044,
          109.20533135369386,
          97.63983268332548,
          98.80661962396856,
          84.52401550625316,
          106.47135588976427,
          114.785221430542,
          118.78113743077031,
          129.06445389247673,
          127.3508350703691,
          84.79231112103369,
          97.94062857214273,
          106.71579199548923,
          122.02640027443904,
          132.57760620209118,
          172.54857738559255,
          188.23741627023597,
          204.8470333290413,
          225.02886008830225,
          263.66730486967543,
          238.839881596879,
          308.47897299062527
         ]
        },
        {
         "hovertemplate": "%{y:.2%} <extra></extra>",
         "mode": "lines",
         "name": "August and September",
         "type": "scatter",
         "x": [
          1950,
          1951,
          1952,
          1953,
          1954,
          1955,
          1956,
          1957,
          1958,
          1959,
          1960,
          1961,
          1962,
          1963,
          1964,
          1965,
          1966,
          1967,
          1968,
          1969,
          1970,
          1971,
          1972,
          1973,
          1974,
          1975,
          1976,
          1977,
          1978,
          1979,
          1980,
          1981,
          1982,
          1983,
          1984,
          1985,
          1986,
          1987,
          1988,
          1989,
          1990,
          1991,
          1992,
          1993,
          1994,
          1995,
          1996,
          1997,
          1998,
          1999,
          2000,
          2001,
          2002,
          2003,
          2004,
          2005,
          2006,
          2007,
          2008,
          2009,
          2010,
          2011,
          2012,
          2013,
          2014,
          2015,
          2016,
          2017,
          2018,
          2019
         ],
         "y": [
          0.09024669282511222,
          0.1321043783532192,
          0.09377332979891251,
          0.03190332326483247,
          0.07968907015152626,
          0.08341037532488538,
          -0.005210379652714647,
          -0.11920322050610288,
          -0.06563491001003696,
          -0.12168750603835421,
          -0.1531744483790598,
          -0.15355497442702315,
          -0.1820459970978634,
          -0.15163746420788682,
          -0.14143834740346128,
          -0.09400345561263379,
          -0.17029790328100647,
          -0.15313468132990216,
          -0.1104188423031448,
          -0.09792226647806646,
          -0.02568670447849397,
          0.0024478350910885904,
          0.031945356722202334,
          0.03394782925678963,
          -0.17164231446297373,
          -0.2171902945223354,
          -0.20356835085272362,
          -0.22226052294672483,
          -0.20789226810337214,
          -0.1658489640139793,
          -0.1398652931201465,
          -0.23670598911223084,
          -0.14169514859764376,
          -0.12316255475197968,
          -0.033302127523338276,
          -0.07806226650562731,
          -0.09680396546447234,
          -0.0878191039785784,
          -0.08818792443512391,
          -0.08009941929496689,
          -0.20950283217652088,
          -0.20940093895815026,
          -0.2213472461612307,
          -0.20258161979211642,
          -0.19483820532186125,
          -0.16282143392387527,
          -0.10083921063790935,
          -0.10746291973408206,
          -0.19002105069052821,
          -0.21806844983359885,
          -0.21496436804915797,
          -0.32533461200450264,
          -0.39663322411017365,
          -0.393184768822175,
          -0.38610163046436574,
          -0.3887727409210153,
          -0.360434338619549,
          -0.3290201403124312,
          -0.38250244101906183,
          -0.33897972068092586,
          -0.31521756790044697,
          -0.40045767801533894,
          -0.3737909281421333,
          -0.3753436745151777,
          -0.36187778307602136,
          -0.4176297780864273,
          -0.4190578599050746,
          -0.4075203726082759,
          -0.38696876063596575,
          -0.38771744635592653
         ]
        }
       ],
       "layout": {
        "hovermode": "x",
        "template": {
         "data": {
          "bar": [
           {
            "error_x": {
             "color": "#2a3f5f"
            },
            "error_y": {
             "color": "#2a3f5f"
            },
            "marker": {
             "line": {
              "color": "#E5ECF6",
              "width": 0.5
             }
            },
            "type": "bar"
           }
          ],
          "barpolar": [
           {
            "marker": {
             "line": {
              "color": "#E5ECF6",
              "width": 0.5
             }
            },
            "type": "barpolar"
           }
          ],
          "carpet": [
           {
            "aaxis": {
             "endlinecolor": "#2a3f5f",
             "gridcolor": "white",
             "linecolor": "white",
             "minorgridcolor": "white",
             "startlinecolor": "#2a3f5f"
            },
            "baxis": {
             "endlinecolor": "#2a3f5f",
             "gridcolor": "white",
             "linecolor": "white",
             "minorgridcolor": "white",
             "startlinecolor": "#2a3f5f"
            },
            "type": "carpet"
           }
          ],
          "choropleth": [
           {
            "colorbar": {
             "outlinewidth": 0,
             "ticks": ""
            },
            "type": "choropleth"
           }
          ],
          "contour": [
           {
            "colorbar": {
             "outlinewidth": 0,
             "ticks": ""
            },
            "colorscale": [
             [
              0,
              "#0d0887"
             ],
             [
              0.1111111111111111,
              "#46039f"
             ],
             [
              0.2222222222222222,
              "#7201a8"
             ],
             [
              0.3333333333333333,
              "#9c179e"
             ],
             [
              0.4444444444444444,
              "#bd3786"
             ],
             [
              0.5555555555555556,
              "#d8576b"
             ],
             [
              0.6666666666666666,
              "#ed7953"
             ],
             [
              0.7777777777777778,
              "#fb9f3a"
             ],
             [
              0.8888888888888888,
              "#fdca26"
             ],
             [
              1,
              "#f0f921"
             ]
            ],
            "type": "contour"
           }
          ],
          "contourcarpet": [
           {
            "colorbar": {
             "outlinewidth": 0,
             "ticks": ""
            },
            "type": "contourcarpet"
           }
          ],
          "heatmap": [
           {
            "colorbar": {
             "outlinewidth": 0,
             "ticks": ""
            },
            "colorscale": [
             [
              0,
              "#0d0887"
             ],
             [
              0.1111111111111111,
              "#46039f"
             ],
             [
              0.2222222222222222,
              "#7201a8"
             ],
             [
              0.3333333333333333,
              "#9c179e"
             ],
             [
              0.4444444444444444,
              "#bd3786"
             ],
             [
              0.5555555555555556,
              "#d8576b"
             ],
             [
              0.6666666666666666,
              "#ed7953"
             ],
             [
              0.7777777777777778,
              "#fb9f3a"
             ],
             [
              0.8888888888888888,
              "#fdca26"
             ],
             [
              1,
              "#f0f921"
             ]
            ],
            "type": "heatmap"
           }
          ],
          "heatmapgl": [
           {
            "colorbar": {
             "outlinewidth": 0,
             "ticks": ""
            },
            "colorscale": [
             [
              0,
              "#0d0887"
             ],
             [
              0.1111111111111111,
              "#46039f"
             ],
             [
              0.2222222222222222,
              "#7201a8"
             ],
             [
              0.3333333333333333,
              "#9c179e"
             ],
             [
              0.4444444444444444,
              "#bd3786"
             ],
             [
              0.5555555555555556,
              "#d8576b"
             ],
             [
              0.6666666666666666,
              "#ed7953"
             ],
             [
              0.7777777777777778,
              "#fb9f3a"
             ],
             [
              0.8888888888888888,
              "#fdca26"
             ],
             [
              1,
              "#f0f921"
             ]
            ],
            "type": "heatmapgl"
           }
          ],
          "histogram": [
           {
            "marker": {
             "colorbar": {
              "outlinewidth": 0,
              "ticks": ""
             }
            },
            "type": "histogram"
           }
          ],
          "histogram2d": [
           {
            "colorbar": {
             "outlinewidth": 0,
             "ticks": ""
            },
            "colorscale": [
             [
              0,
              "#0d0887"
             ],
             [
              0.1111111111111111,
              "#46039f"
             ],
             [
              0.2222222222222222,
              "#7201a8"
             ],
             [
              0.3333333333333333,
              "#9c179e"
             ],
             [
              0.4444444444444444,
              "#bd3786"
             ],
             [
              0.5555555555555556,
              "#d8576b"
             ],
             [
              0.6666666666666666,
              "#ed7953"
             ],
             [
              0.7777777777777778,
              "#fb9f3a"
             ],
             [
              0.8888888888888888,
              "#fdca26"
             ],
             [
              1,
              "#f0f921"
             ]
            ],
            "type": "histogram2d"
           }
          ],
          "histogram2dcontour": [
           {
            "colorbar": {
             "outlinewidth": 0,
             "ticks": ""
            },
            "colorscale": [
             [
              0,
              "#0d0887"
             ],
             [
              0.1111111111111111,
              "#46039f"
             ],
             [
              0.2222222222222222,
              "#7201a8"
             ],
             [
              0.3333333333333333,
              "#9c179e"
             ],
             [
              0.4444444444444444,
              "#bd3786"
             ],
             [
              0.5555555555555556,
              "#d8576b"
             ],
             [
              0.6666666666666666,
              "#ed7953"
             ],
             [
              0.7777777777777778,
              "#fb9f3a"
             ],
             [
              0.8888888888888888,
              "#fdca26"
             ],
             [
              1,
              "#f0f921"
             ]
            ],
            "type": "histogram2dcontour"
           }
          ],
          "mesh3d": [
           {
            "colorbar": {
             "outlinewidth": 0,
             "ticks": ""
            },
            "type": "mesh3d"
           }
          ],
          "parcoords": [
           {
            "line": {
             "colorbar": {
              "outlinewidth": 0,
              "ticks": ""
             }
            },
            "type": "parcoords"
           }
          ],
          "pie": [
           {
            "automargin": true,
            "type": "pie"
           }
          ],
          "scatter": [
           {
            "marker": {
             "colorbar": {
              "outlinewidth": 0,
              "ticks": ""
             }
            },
            "type": "scatter"
           }
          ],
          "scatter3d": [
           {
            "line": {
             "colorbar": {
              "outlinewidth": 0,
              "ticks": ""
             }
            },
            "marker": {
             "colorbar": {
              "outlinewidth": 0,
              "ticks": ""
             }
            },
            "type": "scatter3d"
           }
          ],
          "scattercarpet": [
           {
            "marker": {
             "colorbar": {
              "outlinewidth": 0,
              "ticks": ""
             }
            },
            "type": "scattercarpet"
           }
          ],
          "scattergeo": [
           {
            "marker": {
             "colorbar": {
              "outlinewidth": 0,
              "ticks": ""
             }
            },
            "type": "scattergeo"
           }
          ],
          "scattergl": [
           {
            "marker": {
             "colorbar": {
              "outlinewidth": 0,
              "ticks": ""
             }
            },
            "type": "scattergl"
           }
          ],
          "scattermapbox": [
           {
            "marker": {
             "colorbar": {
              "outlinewidth": 0,
              "ticks": ""
             }
            },
            "type": "scattermapbox"
           }
          ],
          "scatterpolar": [
           {
            "marker": {
             "colorbar": {
              "outlinewidth": 0,
              "ticks": ""
             }
            },
            "type": "scatterpolar"
           }
          ],
          "scatterpolargl": [
           {
            "marker": {
             "colorbar": {
              "outlinewidth": 0,
              "ticks": ""
             }
            },
            "type": "scatterpolargl"
           }
          ],
          "scatterternary": [
           {
            "marker": {
             "colorbar": {
              "outlinewidth": 0,
              "ticks": ""
             }
            },
            "type": "scatterternary"
           }
          ],
          "surface": [
           {
            "colorbar": {
             "outlinewidth": 0,
             "ticks": ""
            },
            "colorscale": [
             [
              0,
              "#0d0887"
             ],
             [
              0.1111111111111111,
              "#46039f"
             ],
             [
              0.2222222222222222,
              "#7201a8"
             ],
             [
              0.3333333333333333,
              "#9c179e"
             ],
             [
              0.4444444444444444,
              "#bd3786"
             ],
             [
              0.5555555555555556,
              "#d8576b"
             ],
             [
              0.6666666666666666,
              "#ed7953"
             ],
             [
              0.7777777777777778,
              "#fb9f3a"
             ],
             [
              0.8888888888888888,
              "#fdca26"
             ],
             [
              1,
              "#f0f921"
             ]
            ],
            "type": "surface"
           }
          ],
          "table": [
           {
            "cells": {
             "fill": {
              "color": "#EBF0F8"
             },
             "line": {
              "color": "white"
             }
            },
            "header": {
             "fill": {
              "color": "#C8D4E3"
             },
             "line": {
              "color": "white"
             }
            },
            "type": "table"
           }
          ]
         },
         "layout": {
          "annotationdefaults": {
           "arrowcolor": "#2a3f5f",
           "arrowhead": 0,
           "arrowwidth": 1
          },
          "coloraxis": {
           "colorbar": {
            "outlinewidth": 0,
            "ticks": ""
           }
          },
          "colorscale": {
           "diverging": [
            [
             0,
             "#8e0152"
            ],
            [
             0.1,
             "#c51b7d"
            ],
            [
             0.2,
             "#de77ae"
            ],
            [
             0.3,
             "#f1b6da"
            ],
            [
             0.4,
             "#fde0ef"
            ],
            [
             0.5,
             "#f7f7f7"
            ],
            [
             0.6,
             "#e6f5d0"
            ],
            [
             0.7,
             "#b8e186"
            ],
            [
             0.8,
             "#7fbc41"
            ],
            [
             0.9,
             "#4d9221"
            ],
            [
             1,
             "#276419"
            ]
           ],
           "sequential": [
            [
             0,
             "#0d0887"
            ],
            [
             0.1111111111111111,
             "#46039f"
            ],
            [
             0.2222222222222222,
             "#7201a8"
            ],
            [
             0.3333333333333333,
             "#9c179e"
            ],
            [
             0.4444444444444444,
             "#bd3786"
            ],
            [
             0.5555555555555556,
             "#d8576b"
            ],
            [
             0.6666666666666666,
             "#ed7953"
            ],
            [
             0.7777777777777778,
             "#fb9f3a"
            ],
            [
             0.8888888888888888,
             "#fdca26"
            ],
            [
             1,
             "#f0f921"
            ]
           ],
           "sequentialminus": [
            [
             0,
             "#0d0887"
            ],
            [
             0.1111111111111111,
             "#46039f"
            ],
            [
             0.2222222222222222,
             "#7201a8"
            ],
            [
             0.3333333333333333,
             "#9c179e"
            ],
            [
             0.4444444444444444,
             "#bd3786"
            ],
            [
             0.5555555555555556,
             "#d8576b"
            ],
            [
             0.6666666666666666,
             "#ed7953"
            ],
            [
             0.7777777777777778,
             "#fb9f3a"
            ],
            [
             0.8888888888888888,
             "#fdca26"
            ],
            [
             1,
             "#f0f921"
            ]
           ]
          },
          "colorway": [
           "#636efa",
           "#EF553B",
           "#00cc96",
           "#ab63fa",
           "#FFA15A",
           "#19d3f3",
           "#FF6692",
           "#B6E880",
           "#FF97FF",
           "#FECB52"
          ],
          "font": {
           "color": "#2a3f5f"
          },
          "geo": {
           "bgcolor": "white",
           "lakecolor": "white",
           "landcolor": "#E5ECF6",
           "showlakes": true,
           "showland": true,
           "subunitcolor": "white"
          },
          "hoverlabel": {
           "align": "left"
          },
          "hovermode": "closest",
          "mapbox": {
           "style": "light"
          },
          "paper_bgcolor": "white",
          "plot_bgcolor": "#E5ECF6",
          "polar": {
           "angularaxis": {
            "gridcolor": "white",
            "linecolor": "white",
            "ticks": ""
           },
           "bgcolor": "#E5ECF6",
           "radialaxis": {
            "gridcolor": "white",
            "linecolor": "white",
            "ticks": ""
           }
          },
          "scene": {
           "xaxis": {
            "backgroundcolor": "#E5ECF6",
            "gridcolor": "white",
            "gridwidth": 2,
            "linecolor": "white",
            "showbackground": true,
            "ticks": "",
            "zerolinecolor": "white"
           },
           "yaxis": {
            "backgroundcolor": "#E5ECF6",
            "gridcolor": "white",
            "gridwidth": 2,
            "linecolor": "white",
            "showbackground": true,
            "ticks": "",
            "zerolinecolor": "white"
           },
           "zaxis": {
            "backgroundcolor": "#E5ECF6",
            "gridcolor": "white",
            "gridwidth": 2,
            "linecolor": "white",
            "showbackground": true,
            "ticks": "",
            "zerolinecolor": "white"
           }
          },
          "shapedefaults": {
           "line": {
            "color": "#2a3f5f"
           }
          },
          "ternary": {
           "aaxis": {
            "gridcolor": "white",
            "linecolor": "white",
            "ticks": ""
           },
           "baxis": {
            "gridcolor": "white",
            "linecolor": "white",
            "ticks": ""
           },
           "bgcolor": "#E5ECF6",
           "caxis": {
            "gridcolor": "white",
            "linecolor": "white",
            "ticks": ""
           }
          },
          "title": {
           "x": 0.05
          },
          "xaxis": {
           "automargin": true,
           "gridcolor": "white",
           "linecolor": "white",
           "ticks": "",
           "title": {
            "standoff": 15
           },
           "zerolinecolor": "white",
           "zerolinewidth": 2
          },
          "yaxis": {
           "automargin": true,
           "gridcolor": "white",
           "linecolor": "white",
           "ticks": "",
           "title": {
            "standoff": 15
           },
           "zerolinecolor": "white",
           "zerolinewidth": 2
          }
         }
        },
        "title": {
         "text": "Comparison total vs Sell August and September"
        },
        "xaxis": {
         "rangeslider": {
          "visible": true
         },
         "title": {
          "text": "Year"
         }
        },
        "yaxis": {
         "tickformat": "%",
         "title": {
          "text": "return"
         }
        }
       }
      },
      "text/html": [
       "<div>\n",
       "        \n",
       "        \n",
       "            <div id=\"aff20e4f-1a24-40e5-b4c6-b90bdaf9a9cd\" class=\"plotly-graph-div\" style=\"height:525px; width:100%;\"></div>\n",
       "            <script type=\"text/javascript\">\n",
       "                require([\"plotly\"], function(Plotly) {\n",
       "                    window.PLOTLYENV=window.PLOTLYENV || {};\n",
       "                    \n",
       "                if (document.getElementById(\"aff20e4f-1a24-40e5-b4c6-b90bdaf9a9cd\")) {\n",
       "                    Plotly.newPlot(\n",
       "                        'aff20e4f-1a24-40e5-b4c6-b90bdaf9a9cd',\n",
       "                        [{\"hovertemplate\": \"%{y:.2%} <extra></extra>\", \"mode\": \"lines\", \"name\": \"Full year\", \"type\": \"scatter\", \"x\": [1950, 1951, 1952, 1953, 1954, 1955, 1956, 1957, 1958, 1959, 1960, 1961, 1962, 1963, 1964, 1965, 1966, 1967, 1968, 1969, 1970, 1971, 1972, 1973, 1974, 1975, 1976, 1977, 1978, 1979, 1980, 1981, 1982, 1983, 1984, 1985, 1986, 1987, 1988, 1989, 1990, 1991, 1992, 1993, 1994, 1995, 1996, 1997, 1998, 1999, 2000, 2001, 2002, 2003, 2004, 2005, 2006, 2007, 2008, 2009, 2010, 2011, 2012, 2013, 2014, 2015, 2016, 2017, 2018, 2019], \"y\": [0.22629051620648255, 0.4267707082833134, 0.5948379351740696, 0.48919561824729874, 1.1596638655462184, 1.729891956782713, 1.8013204081632654, 1.4003602641056427, 2.313925510204082, 2.5948378751500605, 2.487995258103242, 3.294718067226891, 2.7875148859543817, 3.5030010204081634, 4.0870348139255706, 4.548019207683073, 3.8217288115246104, 4.790516266506603, 5.234093697478992, 4.525810204081632, 4.531212576583368, 5.127850920641694, 6.085834516912233, 4.855342320033482, 3.1152459518963838, 4.413565572713461, 5.450180017075191, 4.708283221735961, 4.768907599660959, 5.478991743181648, 7.148859214095795, 6.35594256012952, 7.441776674048526, 8.89975946433261, 9.038415695868192, 11.681872675828144, 13.53601429585506, 13.830732402824411, 15.669868020450366, 20.212484627640116, 18.821128524652046, 24.035413945851776, 25.153060711589323, 26.998200012426842, 26.567226231312834, 35.97058779566513, 43.4621842877776, 57.24909920022695, 72.78331215298617, 87.19027611044415, 78.24850115827577, 67.9123623082045, 51.81032456928081, 65.74189939647731, 71.74430035686146, 73.92737329306719, 84.13205575198826, 87.13685386263876, 53.21668667466984, 65.93277164381374, 74.48859631743318, 74.48619301236116, 84.60563873987091, 109.94597751209854, 122.5834275116296, 121.685470672644, 133.38355811074425, 159.4807987648184, 149.4711943371098, 192.924371506415]}, {\"hovertemplate\": \"%{y:.2%} <extra></extra>\", \"mode\": \"lines\", \"name\": \"Without August and September\", \"type\": \"scatter\", \"x\": [1950, 1951, 1952, 1953, 1954, 1955, 1956, 1957, 1958, 1959, 1960, 1961, 1962, 1963, 1964, 1965, 1966, 1967, 1968, 1969, 1970, 1971, 1972, 1973, 1974, 1975, 1976, 1977, 1978, 1979, 1980, 1981, 1982, 1983, 1984, 1985, 1986, 1987, 1988, 1989, 1990, 1991, 1992, 1993, 1994, 1995, 1996, 1997, 1998, 1999, 2000, 2001, 2002, 2003, 2004, 2005, 2006, 2007, 2008, 2009, 2010, 2011, 2012, 2013, 2014, 2015, 2016, 2017, 2018, 2019], \"y\": [0.09905450516093373, 0.2314544540107566, 0.42475394142841694, 0.4101437205371705, 0.9545108973750742, 1.4620853718523978, 1.7515802226042827, 1.6628784924345643, 2.4655867744999282, 2.9992714918558763, 3.0246912669526225, 3.957771897420919, 3.5245574347987256, 4.186462033007122, 4.789537377200503, 4.983593117478341, 4.678468648458773, 5.681186231025132, 5.847600091786511, 4.985530391083404, 4.547181295215386, 4.973062349235059, 5.709419452940107, 4.533555927382922, 3.8543214270367683, 5.757372177179295, 6.913597631253679, 6.1716982513835035, 6.11639375055852, 6.589503615339095, 8.25722845996921, 8.4166648532345, 8.610432454651473, 10.032049296243137, 9.146705429592814, 12.441026504612982, 14.725843830288285, 14.88664772712704, 16.863948628558106, 21.532080117924604, 23.500711617150664, 29.942052708718027, 31.819301776486213, 33.307929514217456, 32.45496272307195, 42.150804188318645, 47.31745754447802, 62.769584154661246, 88.00923205157044, 109.20533135369386, 97.63983268332548, 98.80661962396856, 84.52401550625316, 106.47135588976427, 114.785221430542, 118.78113743077031, 129.06445389247673, 127.3508350703691, 84.79231112103369, 97.94062857214273, 106.71579199548923, 122.02640027443904, 132.57760620209118, 172.54857738559255, 188.23741627023597, 204.8470333290413, 225.02886008830225, 263.66730486967543, 238.839881596879, 308.47897299062527]}, {\"hovertemplate\": \"%{y:.2%} <extra></extra>\", \"mode\": \"lines\", \"name\": \"August and September\", \"type\": \"scatter\", \"x\": [1950, 1951, 1952, 1953, 1954, 1955, 1956, 1957, 1958, 1959, 1960, 1961, 1962, 1963, 1964, 1965, 1966, 1967, 1968, 1969, 1970, 1971, 1972, 1973, 1974, 1975, 1976, 1977, 1978, 1979, 1980, 1981, 1982, 1983, 1984, 1985, 1986, 1987, 1988, 1989, 1990, 1991, 1992, 1993, 1994, 1995, 1996, 1997, 1998, 1999, 2000, 2001, 2002, 2003, 2004, 2005, 2006, 2007, 2008, 2009, 2010, 2011, 2012, 2013, 2014, 2015, 2016, 2017, 2018, 2019], \"y\": [0.09024669282511222, 0.1321043783532192, 0.09377332979891251, 0.03190332326483247, 0.07968907015152626, 0.08341037532488538, -0.005210379652714647, -0.11920322050610288, -0.06563491001003696, -0.12168750603835421, -0.1531744483790598, -0.15355497442702315, -0.1820459970978634, -0.15163746420788682, -0.14143834740346128, -0.09400345561263379, -0.17029790328100647, -0.15313468132990216, -0.1104188423031448, -0.09792226647806646, -0.02568670447849397, 0.0024478350910885904, 0.031945356722202334, 0.03394782925678963, -0.17164231446297373, -0.2171902945223354, -0.20356835085272362, -0.22226052294672483, -0.20789226810337214, -0.1658489640139793, -0.1398652931201465, -0.23670598911223084, -0.14169514859764376, -0.12316255475197968, -0.033302127523338276, -0.07806226650562731, -0.09680396546447234, -0.0878191039785784, -0.08818792443512391, -0.08009941929496689, -0.20950283217652088, -0.20940093895815026, -0.2213472461612307, -0.20258161979211642, -0.19483820532186125, -0.16282143392387527, -0.10083921063790935, -0.10746291973408206, -0.19002105069052821, -0.21806844983359885, -0.21496436804915797, -0.32533461200450264, -0.39663322411017365, -0.393184768822175, -0.38610163046436574, -0.3887727409210153, -0.360434338619549, -0.3290201403124312, -0.38250244101906183, -0.33897972068092586, -0.31521756790044697, -0.40045767801533894, -0.3737909281421333, -0.3753436745151777, -0.36187778307602136, -0.4176297780864273, -0.4190578599050746, -0.4075203726082759, -0.38696876063596575, -0.38771744635592653]}],\n",
       "                        {\"hovermode\": \"x\", \"template\": {\"data\": {\"bar\": [{\"error_x\": {\"color\": \"#2a3f5f\"}, \"error_y\": {\"color\": \"#2a3f5f\"}, \"marker\": {\"line\": {\"color\": \"#E5ECF6\", \"width\": 0.5}}, \"type\": \"bar\"}], \"barpolar\": [{\"marker\": {\"line\": {\"color\": \"#E5ECF6\", \"width\": 0.5}}, \"type\": \"barpolar\"}], \"carpet\": [{\"aaxis\": {\"endlinecolor\": \"#2a3f5f\", \"gridcolor\": \"white\", \"linecolor\": \"white\", \"minorgridcolor\": \"white\", \"startlinecolor\": \"#2a3f5f\"}, \"baxis\": {\"endlinecolor\": \"#2a3f5f\", \"gridcolor\": \"white\", \"linecolor\": \"white\", \"minorgridcolor\": \"white\", \"startlinecolor\": \"#2a3f5f\"}, \"type\": \"carpet\"}], \"choropleth\": [{\"colorbar\": {\"outlinewidth\": 0, \"ticks\": \"\"}, \"type\": \"choropleth\"}], \"contour\": [{\"colorbar\": {\"outlinewidth\": 0, \"ticks\": \"\"}, \"colorscale\": [[0.0, \"#0d0887\"], [0.1111111111111111, \"#46039f\"], [0.2222222222222222, \"#7201a8\"], [0.3333333333333333, \"#9c179e\"], [0.4444444444444444, \"#bd3786\"], [0.5555555555555556, \"#d8576b\"], [0.6666666666666666, \"#ed7953\"], [0.7777777777777778, \"#fb9f3a\"], [0.8888888888888888, \"#fdca26\"], [1.0, \"#f0f921\"]], \"type\": \"contour\"}], \"contourcarpet\": [{\"colorbar\": {\"outlinewidth\": 0, \"ticks\": \"\"}, \"type\": \"contourcarpet\"}], \"heatmap\": [{\"colorbar\": {\"outlinewidth\": 0, \"ticks\": \"\"}, \"colorscale\": [[0.0, \"#0d0887\"], [0.1111111111111111, \"#46039f\"], [0.2222222222222222, \"#7201a8\"], [0.3333333333333333, \"#9c179e\"], [0.4444444444444444, \"#bd3786\"], [0.5555555555555556, \"#d8576b\"], [0.6666666666666666, \"#ed7953\"], [0.7777777777777778, \"#fb9f3a\"], [0.8888888888888888, \"#fdca26\"], [1.0, \"#f0f921\"]], \"type\": \"heatmap\"}], \"heatmapgl\": [{\"colorbar\": {\"outlinewidth\": 0, \"ticks\": \"\"}, \"colorscale\": [[0.0, \"#0d0887\"], [0.1111111111111111, \"#46039f\"], [0.2222222222222222, \"#7201a8\"], [0.3333333333333333, \"#9c179e\"], [0.4444444444444444, \"#bd3786\"], [0.5555555555555556, \"#d8576b\"], [0.6666666666666666, \"#ed7953\"], [0.7777777777777778, \"#fb9f3a\"], [0.8888888888888888, \"#fdca26\"], [1.0, \"#f0f921\"]], \"type\": \"heatmapgl\"}], \"histogram\": [{\"marker\": {\"colorbar\": {\"outlinewidth\": 0, \"ticks\": \"\"}}, \"type\": \"histogram\"}], \"histogram2d\": [{\"colorbar\": {\"outlinewidth\": 0, \"ticks\": \"\"}, \"colorscale\": [[0.0, \"#0d0887\"], [0.1111111111111111, \"#46039f\"], [0.2222222222222222, \"#7201a8\"], [0.3333333333333333, \"#9c179e\"], [0.4444444444444444, \"#bd3786\"], [0.5555555555555556, \"#d8576b\"], [0.6666666666666666, \"#ed7953\"], [0.7777777777777778, \"#fb9f3a\"], [0.8888888888888888, \"#fdca26\"], [1.0, \"#f0f921\"]], \"type\": \"histogram2d\"}], \"histogram2dcontour\": [{\"colorbar\": {\"outlinewidth\": 0, \"ticks\": \"\"}, \"colorscale\": [[0.0, \"#0d0887\"], [0.1111111111111111, \"#46039f\"], [0.2222222222222222, \"#7201a8\"], [0.3333333333333333, \"#9c179e\"], [0.4444444444444444, \"#bd3786\"], [0.5555555555555556, \"#d8576b\"], [0.6666666666666666, \"#ed7953\"], [0.7777777777777778, \"#fb9f3a\"], [0.8888888888888888, \"#fdca26\"], [1.0, \"#f0f921\"]], \"type\": \"histogram2dcontour\"}], \"mesh3d\": [{\"colorbar\": {\"outlinewidth\": 0, \"ticks\": \"\"}, \"type\": \"mesh3d\"}], \"parcoords\": [{\"line\": {\"colorbar\": {\"outlinewidth\": 0, \"ticks\": \"\"}}, \"type\": \"parcoords\"}], \"pie\": [{\"automargin\": true, \"type\": \"pie\"}], \"scatter\": [{\"marker\": {\"colorbar\": {\"outlinewidth\": 0, \"ticks\": \"\"}}, \"type\": \"scatter\"}], \"scatter3d\": [{\"line\": {\"colorbar\": {\"outlinewidth\": 0, \"ticks\": \"\"}}, \"marker\": {\"colorbar\": {\"outlinewidth\": 0, \"ticks\": \"\"}}, \"type\": \"scatter3d\"}], \"scattercarpet\": [{\"marker\": {\"colorbar\": {\"outlinewidth\": 0, \"ticks\": \"\"}}, \"type\": \"scattercarpet\"}], \"scattergeo\": [{\"marker\": {\"colorbar\": {\"outlinewidth\": 0, \"ticks\": \"\"}}, \"type\": \"scattergeo\"}], \"scattergl\": [{\"marker\": {\"colorbar\": {\"outlinewidth\": 0, \"ticks\": \"\"}}, \"type\": \"scattergl\"}], \"scattermapbox\": [{\"marker\": {\"colorbar\": {\"outlinewidth\": 0, \"ticks\": \"\"}}, \"type\": \"scattermapbox\"}], \"scatterpolar\": [{\"marker\": {\"colorbar\": {\"outlinewidth\": 0, \"ticks\": \"\"}}, \"type\": \"scatterpolar\"}], \"scatterpolargl\": [{\"marker\": {\"colorbar\": {\"outlinewidth\": 0, \"ticks\": \"\"}}, \"type\": \"scatterpolargl\"}], \"scatterternary\": [{\"marker\": {\"colorbar\": {\"outlinewidth\": 0, \"ticks\": \"\"}}, \"type\": \"scatterternary\"}], \"surface\": [{\"colorbar\": {\"outlinewidth\": 0, \"ticks\": \"\"}, \"colorscale\": [[0.0, \"#0d0887\"], [0.1111111111111111, \"#46039f\"], [0.2222222222222222, \"#7201a8\"], [0.3333333333333333, \"#9c179e\"], [0.4444444444444444, \"#bd3786\"], [0.5555555555555556, \"#d8576b\"], [0.6666666666666666, \"#ed7953\"], [0.7777777777777778, \"#fb9f3a\"], [0.8888888888888888, \"#fdca26\"], [1.0, \"#f0f921\"]], \"type\": \"surface\"}], \"table\": [{\"cells\": {\"fill\": {\"color\": \"#EBF0F8\"}, \"line\": {\"color\": \"white\"}}, \"header\": {\"fill\": {\"color\": \"#C8D4E3\"}, \"line\": {\"color\": \"white\"}}, \"type\": \"table\"}]}, \"layout\": {\"annotationdefaults\": {\"arrowcolor\": \"#2a3f5f\", \"arrowhead\": 0, \"arrowwidth\": 1}, \"coloraxis\": {\"colorbar\": {\"outlinewidth\": 0, \"ticks\": \"\"}}, \"colorscale\": {\"diverging\": [[0, \"#8e0152\"], [0.1, \"#c51b7d\"], [0.2, \"#de77ae\"], [0.3, \"#f1b6da\"], [0.4, \"#fde0ef\"], [0.5, \"#f7f7f7\"], [0.6, \"#e6f5d0\"], [0.7, \"#b8e186\"], [0.8, \"#7fbc41\"], [0.9, \"#4d9221\"], [1, \"#276419\"]], \"sequential\": [[0.0, \"#0d0887\"], [0.1111111111111111, \"#46039f\"], [0.2222222222222222, \"#7201a8\"], [0.3333333333333333, \"#9c179e\"], [0.4444444444444444, \"#bd3786\"], [0.5555555555555556, \"#d8576b\"], [0.6666666666666666, \"#ed7953\"], [0.7777777777777778, \"#fb9f3a\"], [0.8888888888888888, \"#fdca26\"], [1.0, \"#f0f921\"]], \"sequentialminus\": [[0.0, \"#0d0887\"], [0.1111111111111111, \"#46039f\"], [0.2222222222222222, \"#7201a8\"], [0.3333333333333333, \"#9c179e\"], [0.4444444444444444, \"#bd3786\"], [0.5555555555555556, \"#d8576b\"], [0.6666666666666666, \"#ed7953\"], [0.7777777777777778, \"#fb9f3a\"], [0.8888888888888888, \"#fdca26\"], [1.0, \"#f0f921\"]]}, \"colorway\": [\"#636efa\", \"#EF553B\", \"#00cc96\", \"#ab63fa\", \"#FFA15A\", \"#19d3f3\", \"#FF6692\", \"#B6E880\", \"#FF97FF\", \"#FECB52\"], \"font\": {\"color\": \"#2a3f5f\"}, \"geo\": {\"bgcolor\": \"white\", \"lakecolor\": \"white\", \"landcolor\": \"#E5ECF6\", \"showlakes\": true, \"showland\": true, \"subunitcolor\": \"white\"}, \"hoverlabel\": {\"align\": \"left\"}, \"hovermode\": \"closest\", \"mapbox\": {\"style\": \"light\"}, \"paper_bgcolor\": \"white\", \"plot_bgcolor\": \"#E5ECF6\", \"polar\": {\"angularaxis\": {\"gridcolor\": \"white\", \"linecolor\": \"white\", \"ticks\": \"\"}, \"bgcolor\": \"#E5ECF6\", \"radialaxis\": {\"gridcolor\": \"white\", \"linecolor\": \"white\", \"ticks\": \"\"}}, \"scene\": {\"xaxis\": {\"backgroundcolor\": \"#E5ECF6\", \"gridcolor\": \"white\", \"gridwidth\": 2, \"linecolor\": \"white\", \"showbackground\": true, \"ticks\": \"\", \"zerolinecolor\": \"white\"}, \"yaxis\": {\"backgroundcolor\": \"#E5ECF6\", \"gridcolor\": \"white\", \"gridwidth\": 2, \"linecolor\": \"white\", \"showbackground\": true, \"ticks\": \"\", \"zerolinecolor\": \"white\"}, \"zaxis\": {\"backgroundcolor\": \"#E5ECF6\", \"gridcolor\": \"white\", \"gridwidth\": 2, \"linecolor\": \"white\", \"showbackground\": true, \"ticks\": \"\", \"zerolinecolor\": \"white\"}}, \"shapedefaults\": {\"line\": {\"color\": \"#2a3f5f\"}}, \"ternary\": {\"aaxis\": {\"gridcolor\": \"white\", \"linecolor\": \"white\", \"ticks\": \"\"}, \"baxis\": {\"gridcolor\": \"white\", \"linecolor\": \"white\", \"ticks\": \"\"}, \"bgcolor\": \"#E5ECF6\", \"caxis\": {\"gridcolor\": \"white\", \"linecolor\": \"white\", \"ticks\": \"\"}}, \"title\": {\"x\": 0.05}, \"xaxis\": {\"automargin\": true, \"gridcolor\": \"white\", \"linecolor\": \"white\", \"ticks\": \"\", \"title\": {\"standoff\": 15}, \"zerolinecolor\": \"white\", \"zerolinewidth\": 2}, \"yaxis\": {\"automargin\": true, \"gridcolor\": \"white\", \"linecolor\": \"white\", \"ticks\": \"\", \"title\": {\"standoff\": 15}, \"zerolinecolor\": \"white\", \"zerolinewidth\": 2}}}, \"title\": {\"text\": \"Comparison total vs Sell August and September\"}, \"xaxis\": {\"rangeslider\": {\"visible\": true}, \"title\": {\"text\": \"Year\"}}, \"yaxis\": {\"tickformat\": \"%\", \"title\": {\"text\": \"return\"}}},\n",
       "                        {\"responsive\": true}\n",
       "                    ).then(function(){\n",
       "                            \n",
       "var gd = document.getElementById('aff20e4f-1a24-40e5-b4c6-b90bdaf9a9cd');\n",
       "var x = new MutationObserver(function (mutations, observer) {{\n",
       "        var display = window.getComputedStyle(gd).display;\n",
       "        if (!display || display === 'none') {{\n",
       "            console.log([gd, 'removed!']);\n",
       "            Plotly.purge(gd);\n",
       "            observer.disconnect();\n",
       "        }}\n",
       "}});\n",
       "\n",
       "// Listen for the removal of the full notebook cells\n",
       "var notebookContainer = gd.closest('#notebook-container');\n",
       "if (notebookContainer) {{\n",
       "    x.observe(notebookContainer, {childList: true});\n",
       "}}\n",
       "\n",
       "// Listen for the clearing of the current output cell\n",
       "var outputEl = gd.closest('.output');\n",
       "if (outputEl) {{\n",
       "    x.observe(outputEl, {childList: true});\n",
       "}}\n",
       "\n",
       "                        })\n",
       "                };\n",
       "                });\n",
       "            </script>\n",
       "        </div>"
      ]
     },
     "metadata": {},
     "output_type": "display_data"
    }
   ],
   "source": [
    "SP500_month['Cumulative_no_8-9']= (1+SP500_month['Monthly_Change_no_8-9']).cumprod()-1\n",
    "SP500_month['Cumulative_only_8-9']= (1+SP500_month['Monthly_Change_only_8-9']).cumprod()-1\n",
    "SP500_year['Cumulative_no_8-9']=SP500_month['Cumulative_no_8-9'].asfreq('Y',method='ffill')\n",
    "SP500_year['Cumulative_only_8-9']=SP500_month['Cumulative_only_8-9'].asfreq('Y',method='ffill')\n",
    "\n",
    "\n",
    "\n",
    "fig = go.Figure()\n",
    "fig.add_trace(go.Scatter(x=SP500_year.index.year, y=SP500_year['Cumulative'],\n",
    "                    mode='lines',name='Full year',hovertemplate ='%{y:.2%} <extra></extra>'))\n",
    "fig.add_trace(go.Scatter(x=SP500_year.index.year, y=SP500_year['Cumulative_no_8-9'],\n",
    "                    mode='lines',name='Without August and September',hovertemplate ='%{y:.2%} <extra></extra>'))\n",
    "fig.add_trace(go.Scatter(x=SP500_year.index.year, y=SP500_year['Cumulative_only_8-9'],\n",
    "                    mode='lines', name='August and September',hovertemplate ='%{y:.2%} <extra></extra>',))\n",
    "\n",
    "fig.layout=go.Layout(title='Comparison total vs Sell August and September', xaxis=dict(title='Year',rangeslider=dict(visible=True)),\n",
    "                     yaxis=dict(title='return',tickformat='%'),hovermode=\"x\" )\n",
    "\n",
    "fig.show()\n",
    "\n"
   ]
  },
  {
   "cell_type": "code",
   "execution_count": 48,
   "metadata": {},
   "outputs": [],
   "source": [
    "'''DCA. Given an initial balance and a periodical contribution amount, calculate the final balance\n",
    "on a period (full series, 5 year windows, 10 year window...) using different strategies.\n",
    "strategies on when to invest :\n",
    "    1. One time contribution per year: Lump sum of the contribution at the begining of the year.\n",
    "    2. Monthly contributon: Split the total annual contribution among the 12 months of the year.\n",
    "    3. Semester contribution: Split the total annual contribution in 2 and invest in January and July\n",
    "    4. Quarterly Contributio: Split the total annual contribution in 4 and invest in \n",
    "    January (1Q), April (2Q),  July (3Q), October (4Q)\n",
    "    5. Every two years: Lump sump amount at the begining of every other year.'''\n",
    "\n",
    "\n",
    "SP500_DCA=pd.DataFrame()\n",
    "SP500_DCA=SP500_day.asfreq('M',method='ffill').loc[:,['Close']]\n",
    "SP500_DCA['Monthly_Change']=SP500_DCA.Close.pct_change()\n"
   ]
  },
  {
   "cell_type": "code",
   "execution_count": 49,
   "metadata": {},
   "outputs": [],
   "source": [
    "@njit\n",
    "def calculate_balance (a,b,c):\n",
    "#a:current balance;b:percent change from previous period;c:contribution\n",
    "    balance=[]\n",
    "    balance.append(a[0])\n",
    "    for i in range (1,len(a)):\n",
    "       a[i]=a[i-1]*(1+b[i])+c[i]\n",
    "       balance.append(a[i])\n",
    "    return balance"
   ]
  },
  {
   "cell_type": "code",
   "execution_count": 50,
   "metadata": {},
   "outputs": [
    {
     "data": {
      "text/plain": [
       "Balance             8.620000e+05\n",
       "Balance_Annual      2.611891e+07\n",
       "Balance_Monthly     2.542098e+07\n",
       "Balance_Semester    2.589041e+07\n",
       "Balance_Quarter     2.552230e+07\n",
       "Balance_Biannual    2.340507e+07\n",
       "Name: 2020-05-31 00:00:00, dtype: float64"
      ]
     },
     "execution_count": 50,
     "metadata": {},
     "output_type": "execute_result"
    }
   ],
   "source": [
    "#CHECK Initial contribution. \n",
    "#CHECK CAPTURING THE PERCENTAGE OF JANUARY\n",
    "\n",
    "Initial_amount=10000\n",
    "Annual_Contribution=12000\n",
    "\n",
    "#Baseline: No investment\n",
    "SP500_DCA['Balance']=0\n",
    "SP500_DCA['Deposit']=0\n",
    "SP500_DCA.loc[SP500_DCA.index.month.isin([1]),'Deposit']=Annual_Contribution\n",
    "SP500_DCA.loc[SP500_DCA.index.min(),'Balance'] =Initial_amount+SP500_DCA['Deposit'][0]\n",
    "\n",
    "SP500_DCA['Balance']=calculate_balance(SP500_DCA['Balance'].values.astype(float),\n",
    "                                            np.array([0]*len(SP500_DCA['Monthly_Change'])),\n",
    "                                            SP500_DCA['Deposit'].values.astype(float))\n",
    "\n",
    "#Scenario 1. Annual lump sum contribution.\n",
    "SP500_DCA['Balance_Annual']=0\n",
    "SP500_DCA['Deposit_Annual']=0\n",
    "\n",
    "#Updating the anual contribution, in this case at the beginning (January) of each year of the series\n",
    "SP500_DCA.loc[SP500_DCA.index.month.isin([1]),'Deposit_Annual']=Annual_Contribution\n",
    "SP500_DCA.loc[SP500_DCA.index.min(),'Balance_Annual'] =Initial_amount+SP500_DCA['Deposit_Annual'][0]\n",
    "SP500_DCA['Balance_Annual']=calculate_balance(SP500_DCA['Balance_Annual'].values.astype(float),\n",
    "                                            SP500_DCA['Monthly_Change'].fillna(1).values,\n",
    "                                            SP500_DCA['Deposit_Annual'].values.astype(float))\n",
    "\n",
    "#Scenario 2. Monthly contributon.\n",
    "SP500_DCA['Balance_Monthly']=0\n",
    "SP500_DCA['Deposit_Monthly']=0\n",
    "SP500_DCA.loc[SP500_DCA.index.month.isin(range(1,13)),'Deposit_Monthly']=Annual_Contribution/12\n",
    "SP500_DCA.loc[SP500_DCA.index.min(),'Balance_Monthly'] =Initial_amount+SP500_DCA['Deposit_Monthly'][0]\n",
    "SP500_DCA['Balance_Monthly']=calculate_balance(SP500_DCA['Balance_Monthly'].values.astype(float),\n",
    "                                         SP500_DCA['Monthly_Change'].fillna(1).values,\n",
    "                                        SP500_DCA['Deposit_Monthly'].values.astype(float))\n",
    "\n",
    "\n",
    "#Scenario 3. Semester contribution.\n",
    "SP500_DCA['Balance_Semester']=0\n",
    "SP500_DCA['Deposit_Semester']=0\n",
    "SP500_DCA.loc[SP500_DCA.index.month.isin([1,6]),'Deposit_Semester']=Annual_Contribution/2\n",
    "SP500_DCA.loc[SP500_DCA.index.min(),'Balance_Semester'] =Initial_amount+SP500_DCA['Deposit_Semester'][0]\n",
    "SP500_DCA['Balance_Semester']=calculate_balance(SP500_DCA['Balance_Semester'].values.astype(float),\n",
    "                                         SP500_DCA['Monthly_Change'].fillna(1).values,\n",
    "                                         SP500_DCA['Deposit_Semester'].values.astype(float))\n",
    "\n",
    "\n",
    "#Scenario 4. Quarterly contribution.\n",
    "SP500_DCA['Balance_Quarter']=0\n",
    "SP500_DCA['Deposit_Quarter']=0\n",
    "SP500_DCA.loc[SP500_DCA.index.month.isin([1,4,7,10]),'Deposit_Quarter']=Annual_Contribution/4\n",
    "SP500_DCA.loc[SP500_DCA.index.min(),'Balance_Quarter'] =Initial_amount+SP500_DCA['Deposit_Quarter'][0]\n",
    "SP500_DCA['Balance_Quarter']=calculate_balance(SP500_DCA['Balance_Quarter'].values.astype(float),\n",
    "                                         SP500_DCA['Monthly_Change'].fillna(1).values,\n",
    "                                         SP500_DCA['Deposit_Quarter'].values.astype(float))\n",
    "\n",
    "#Scenario 5. Two years lump sum\n",
    "SP500_DCA['Balance_Biannual']=0\n",
    "SP500_DCA['Deposit_Biannual']=0\n",
    "SP500_DCA.loc[SP500_DCA.index.year.isin(range(SP500_DCA.index.year.min()+2,SP500_DCA.index.year.max()+1,2))&\n",
    "              SP500_DCA.index.month.isin([1]),'Deposit_Biannual']=Annual_Contribution*2\n",
    "SP500_DCA.loc[SP500_DCA.index.min(),'Balance_Biannual'] =Initial_amount+SP500_DCA['Deposit_Biannual'][0]\n",
    "SP500_DCA['Balance_Biannual']=calculate_balance(SP500_DCA['Balance_Biannual'].values.astype(float),\n",
    "                                         SP500_DCA['Monthly_Change'].fillna(1).values,\n",
    "                                         SP500_DCA['Deposit_Biannual'].values.astype(float))\n",
    "\n",
    "\n",
    "SP500_DCA.loc[SP500_DCA.index.max(),['Balance','Balance_Annual','Balance_Monthly','Balance_Semester','Balance_Quarter','Balance_Biannual']]\n",
    "\n",
    "#SP500_DCA[['Balance_Annual','Balance_Monthly','Balance_Semester','Balance_Quarter','Balance_Biannual']].plot()\n",
    "#plt.show()"
   ]
  },
  {
   "cell_type": "code",
   "execution_count": 51,
   "metadata": {},
   "outputs": [
    {
     "data": {
      "text/plain": [
       "Balance             22000.0\n",
       "Balance_Annual      22000.0\n",
       "Balance_Monthly     11000.0\n",
       "Balance_Semester    16000.0\n",
       "Balance_Quarter     13000.0\n",
       "Balance_Biannual    10000.0\n",
       "Name: 1950-01-31 00:00:00, dtype: float64"
      ]
     },
     "execution_count": 51,
     "metadata": {},
     "output_type": "execute_result"
    }
   ],
   "source": [
    "SP500_DCA.loc[SP500_DCA.index.min(),['Balance','Balance_Annual','Balance_Monthly','Balance_Semester','Balance_Quarter','Balance_Biannual']]"
   ]
  },
  {
   "cell_type": "code",
   "execution_count": 52,
   "metadata": {},
   "outputs": [
    {
     "data": {
      "application/vnd.plotly.v1+json": {
       "config": {
        "plotlyServerURL": "https://plot.ly"
       },
       "data": [
        {
         "mode": "lines",
         "name": "Balance",
         "type": "scatter",
         "x": [
          1950,
          1951,
          1952,
          1953,
          1954,
          1955,
          1956,
          1957,
          1958,
          1959,
          1960,
          1961,
          1962,
          1963,
          1964,
          1965,
          1966,
          1967,
          1968,
          1969,
          1970,
          1971,
          1972,
          1973,
          1974,
          1975,
          1976,
          1977,
          1978,
          1979,
          1980,
          1981,
          1982,
          1983,
          1984,
          1985,
          1986,
          1987,
          1988,
          1989,
          1990,
          1991,
          1992,
          1993,
          1994,
          1995,
          1996,
          1997,
          1998,
          1999,
          2000,
          2001,
          2002,
          2003,
          2004,
          2005,
          2006,
          2007,
          2008,
          2009,
          2010,
          2011,
          2012,
          2013,
          2014,
          2015,
          2016,
          2017,
          2018,
          2019
         ],
         "y": [
          22000,
          34000,
          46000,
          58000,
          70000,
          82000,
          94000,
          106000,
          118000,
          130000,
          142000,
          154000,
          166000,
          178000,
          190000,
          202000,
          214000,
          226000,
          238000,
          250000,
          262000,
          274000,
          286000,
          298000,
          310000,
          322000,
          334000,
          346000,
          358000,
          370000,
          382000,
          394000,
          406000,
          418000,
          430000,
          442000,
          454000,
          466000,
          478000,
          490000,
          502000,
          514000,
          526000,
          538000,
          550000,
          562000,
          574000,
          586000,
          598000,
          610000,
          622000,
          634000,
          646000,
          658000,
          670000,
          682000,
          694000,
          706000,
          718000,
          730000,
          742000,
          754000,
          766000,
          778000,
          790000,
          802000,
          814000,
          826000,
          838000,
          850000
         ]
        },
        {
         "mode": "lines",
         "name": "Balance_Annual",
         "type": "scatter",
         "x": [
          1950,
          1951,
          1952,
          1953,
          1954,
          1955,
          1956,
          1957,
          1958,
          1959,
          1960,
          1961,
          1962,
          1963,
          1964,
          1965,
          1966,
          1967,
          1968,
          1969,
          1970,
          1971,
          1972,
          1973,
          1974,
          1975,
          1976,
          1977,
          1978,
          1979,
          1980,
          1981,
          1982,
          1983,
          1984,
          1985,
          1986,
          1987,
          1988,
          1989,
          1990,
          1991,
          1992,
          1993,
          1994,
          1995,
          1996,
          1997,
          1998,
          1999,
          2000,
          2001,
          2002,
          2003,
          2004,
          2005,
          2006,
          2007,
          2008,
          2009,
          2010,
          2011,
          2012,
          2013,
          2014,
          2015,
          2016,
          2017,
          2018,
          2019
         ],
         "y": [
          26361.29186869747,
          43839.9446100714,
          62212.048736291064,
          69376.93535975374,
          117167.15486322023,
          163002.71449860648,
          180048.19497654293,
          165008.20654834044,
          243697.283066555,
          277315.69771610154,
          281613.0351867163,
          360643.7557744304,
          329051.40125845047,
          404810.1373767479,
          470514.45766348543,
          525819.6563249455,
          467363.23434224294,
          574632.5320778467,
          632163.4633121071,
          571064.9171804121,
          584629.5776024959,
          660469.3586908188,
          777351.3461474793,
          652448.9927499323,
          467072.9774610801,
          628489.1437157257,
          761620.3834028606,
          685204.0960941801,
          705403.6059198714,
          805192.3018411393,
          1026989.5997402035,
          938410.9982571758,
          1090950.1105607662,
          1292989.758386896,
          1323380.6549922156,
          1685986.2303322114,
          1946206.2839756762,
          1996483.5362387113,
          2257028.2344856365,
          2886335.1584593817,
          2709058.0282782703,
          3436274.4917335785,
          3602469.375763566,
          3869385.954512684,
          3821268.210745821,
          5140439.6763133975,
          6196056.998318876,
          8132154.323753864,
          10315932.64582967,
          12344004.561234005,
          11103784.789546983,
          9665637.756848605,
          7416509.890704613,
          9388607.98975632,
          10245825.07158895,
          10565985.430254616,
          12018308.33583367,
          12454754.617000062,
          7669306.137842557,
          9484282.161948493,
          10710684.35667742,
          10722077.261339296,
          12172486.144656286,
          15790499.682615826,
          17602997.73172527,
          17487388.83666628,
          19168662.04670472,
          22905288.216427267,
          21487278.925110877,
          27706727.673033614
         ]
        },
        {
         "mode": "lines",
         "name": "Balance_Monthly",
         "type": "scatter",
         "x": [
          1950,
          1951,
          1952,
          1953,
          1954,
          1955,
          1956,
          1957,
          1958,
          1959,
          1960,
          1961,
          1962,
          1963,
          1964,
          1965,
          1966,
          1967,
          1968,
          1969,
          1970,
          1971,
          1972,
          1973,
          1974,
          1975,
          1976,
          1977,
          1978,
          1979,
          1980,
          1981,
          1982,
          1983,
          1984,
          1985,
          1986,
          1987,
          1988,
          1989,
          1990,
          1991,
          1992,
          1993,
          1994,
          1995,
          1996,
          1997,
          1998,
          1999,
          2000,
          2001,
          2002,
          2003,
          2004,
          2005,
          2006,
          2007,
          2008,
          2009,
          2010,
          2011,
          2012,
          2013,
          2014,
          2015,
          2016,
          2017,
          2018,
          2019
         ],
         "y": [
          25326.8655676658,
          42239.397433552396,
          60175.080105770656,
          68256.83420307796,
          113487.63735235801,
          156894.02873458905,
          173062.57490529894,
          159172.78001576196,
          234040.6031567338,
          266321.9831903894,
          270955.06714587525,
          346527.2280355534,
          317908.57523411245,
          390810.82545065676,
          453983.45674225176,
          507671.25280335714,
          452672.7726576567,
          556198.932601322,
          611494.4056654543,
          553362.5888860958,
          567214.3963333433,
          640884.0102356751,
          753995.4315928358,
          634080.3800419309,
          455938.93562231393,
          612243.2590102783,
          742028.6221955032,
          668396.5304118926,
          687609.666327947,
          784800.4751764328,
          1000809.4842950612,
          914952.6583137577,
          1064152.3702815475,
          1260282.926600682,
          1290470.50528214,
          1643743.1958193611,
          1896256.5680225145,
          1945188.893685914,
          2198850.686591939,
          2811111.5745686092,
          2638672.4759203373,
          3345965.7017717077,
          3507879.0908227926,
          3767715.0117887855,
          3721689.600393281,
          5004790.1521415105,
          6032156.9709782135,
          7916010.754032854,
          10040721.760429768,
          12014553.696390865,
          10807555.49546078,
          9409640.237975156,
          7221795.311492711,
          9140825.02147534,
          9975734.639822537,
          10287517.869141622,
          11701547.951551389,
          12126493.361336894,
          7468667.116042325,
          9234721.657064429,
          10428559.660556754,
          10440039.369315863,
          11851952.894923553,
          15373755.600300048,
          17137653.362971444,
          17025093.951984905,
          18661223.425777826,
          22298268.965042412,
          20918471.299531735,
          26972551.499687117
         ]
        },
        {
         "mode": "lines",
         "name": "Balance_Semester",
         "type": "scatter",
         "x": [
          1950,
          1951,
          1952,
          1953,
          1954,
          1955,
          1956,
          1957,
          1958,
          1959,
          1960,
          1961,
          1962,
          1963,
          1964,
          1965,
          1966,
          1967,
          1968,
          1969,
          1970,
          1971,
          1972,
          1973,
          1974,
          1975,
          1976,
          1977,
          1978,
          1979,
          1980,
          1981,
          1982,
          1983,
          1984,
          1985,
          1986,
          1987,
          1988,
          1989,
          1990,
          1991,
          1992,
          1993,
          1994,
          1995,
          1996,
          1997,
          1998,
          1999,
          2000,
          2001,
          2002,
          2003,
          2004,
          2005,
          2006,
          2007,
          2008,
          2009,
          2010,
          2011,
          2012,
          2013,
          2014,
          2015,
          2016,
          2017,
          2018,
          2019
         ],
         "y": [
          26101.186849454476,
          43757.21840628472,
          61902.62016570889,
          69611.62069386162,
          116620.51317942525,
          161512.85223769347,
          178090.79480511547,
          163030.82081774724,
          240345.71025867053,
          273345.3042318869,
          277616.3501331987,
          355415.2430576376,
          325855.7308713604,
          400700.07164318435,
          465495.6061237103,
          520605.009398084,
          463329.71035452967,
          569491.4481530366,
          626130.5796914491,
          566008.3139384313,
          580667.9899376328,
          655897.912553424,
          771861.70152045,
          648482.1183704671,
          464808.53049472516,
          624165.5088906304,
          756259.1846920903,
          680545.8090183152,
          700271.0978194376,
          799240.3719284375,
          1019498.6486959163,
          931577.1393598183,
          1083797.4138002114,
          1283694.1242546556,
          1314364.9232535088,
          1674146.8382967133,
          1931567.5534763322,
          1981015.6520380804,
          2239252.810470884,
          2863256.0786528233,
          2687006.0560680716,
          3407887.5492627113,
          3572825.193584845,
          3837483.9786196915,
          3790338.195066319,
          5097887.306450653,
          6144521.32592196,
          8063810.166929746,
          10228343.098946247,
          12238845.160123428,
          11009052.822328374,
          9583844.711704401,
          7354491.006939602,
          9309277.807711009,
          10159305.652493797,
          10476816.003494725,
          11917046.249007627,
          12349653.109191412,
          7604956.458715605,
          9404016.38010802,
          10620452.669272382,
          10631695.091284994,
          12069749.484794287,
          15656853.170798935,
          17453500.021939714,
          17338774.406921465,
          19005353.96851947,
          22709845.91948556,
          21304233.477026336,
          27470243.090564772
         ]
        },
        {
         "mode": "lines",
         "name": "Balance_Quarter",
         "type": "scatter",
         "x": [
          1950,
          1951,
          1952,
          1953,
          1954,
          1955,
          1956,
          1957,
          1958,
          1959,
          1960,
          1961,
          1962,
          1963,
          1964,
          1965,
          1966,
          1967,
          1968,
          1969,
          1970,
          1971,
          1972,
          1973,
          1974,
          1975,
          1976,
          1977,
          1978,
          1979,
          1980,
          1981,
          1982,
          1983,
          1984,
          1985,
          1986,
          1987,
          1988,
          1989,
          1990,
          1991,
          1992,
          1993,
          1994,
          1995,
          1996,
          1997,
          1998,
          1999,
          2000,
          2001,
          2002,
          2003,
          2004,
          2005,
          2006,
          2007,
          2008,
          2009,
          2010,
          2011,
          2012,
          2013,
          2014,
          2015,
          2016,
          2017,
          2018,
          2019
         ],
         "y": [
          25563.497526091993,
          42506.241789284024,
          60622.37674934695,
          68491.62793171103,
          114189.04805150091,
          158015.7395087877,
          174145.87582323526,
          159951.3847222538,
          235349.49992797745,
          267752.3298995448,
          272541.39554615424,
          348680.6791331785,
          319753.3435237768,
          393077.4231377469,
          456611.7823193156,
          510521.3218930318,
          454817.7031081302,
          558776.6354613967,
          614357.0619599292,
          555753.0131976858,
          569801.8131463191,
          643860.1336944989,
          757684.759590647,
          636773.5269977389,
          457320.47703976405,
          614302.1338971619,
          744549.161165109,
          670581.7608434835,
          689871.0594285227,
          787508.3423176436,
          1004419.280563057,
          918115.848590217,
          1067864.7830739724,
          1264779.630032907,
          1295050.1629543083,
          1649793.3449015205,
          1903569.6869999864,
          1952709.617514869,
          2207340.6008266755,
          2822017.609818957,
          2648963.049078681,
          3359204.6005256223,
          3521719.415555896,
          3782664.169281051,
          3736277.95932854,
          5024729.940966774,
          6056438.763864098,
          7948000.242698068,
          10081345.77645891,
          12063131.135678126,
          10851134.64088485,
          9447225.959738232,
          7250452.10604018,
          9177229.824183138,
          10015594.333882181,
          10328708.821479335,
          11748411.413466197,
          12174984.76087481,
          7498201.871523407,
          9271343.97912927,
          10469779.627606025,
          10481076.336157866,
          11898589.558891742,
          15434339.323411185,
          17205411.976130564,
          17092274.79373952,
          18734989.837118704,
          22386563.692982588,
          21001202.545931265,
          27079261.947010275
         ]
        },
        {
         "mode": "lines",
         "name": "Balance_Biannual",
         "type": "scatter",
         "x": [
          1950,
          1951,
          1952,
          1953,
          1954,
          1955,
          1956,
          1957,
          1958,
          1959,
          1960,
          1961,
          1962,
          1963,
          1964,
          1965,
          1966,
          1967,
          1968,
          1969,
          1970,
          1971,
          1972,
          1973,
          1974,
          1975,
          1976,
          1977,
          1978,
          1979,
          1980,
          1981,
          1982,
          1983,
          1984,
          1985,
          1986,
          1987,
          1988,
          1989,
          1990,
          1991,
          1992,
          1993,
          1994,
          1995,
          1996,
          1997,
          1998,
          1999,
          2000,
          2001,
          2002,
          2003,
          2004,
          2005,
          2006,
          2007,
          2008,
          2009,
          2010,
          2011,
          2012,
          2013,
          2014,
          2015,
          2016,
          2017,
          2018,
          2019
         ],
         "y": [
          11982.405394862482,
          13941.349791281506,
          41999.486928836,
          39217.434275684376,
          89984.40534922722,
          113743.48958540455,
          142280.55248991033,
          121915.57365467679,
          200091.57631349957,
          217052.78975505708,
          235680.67980701153,
          290190.2092074256,
          277917.78819132544,
          330418.26144526777,
          399674.9796840207,
          435893.3141261833,
          399587.69022617734,
          479873.32149832416,
          543657.0153448917,
          481889.6905781533,
          508373.5199802373,
          563210.5255960057,
          678516.7919973254,
          560688.8049040373,
          411101.5878434492,
          540800.0952680777,
          669925.4791806391,
          592870.9528256392,
          625012.1987088254,
          701943.7917605537,
          911400.7591730062,
          822717.8133275651,
          972196.3615679438,
          1140104.8029627907,
          1180635.645651659,
          1491537.2493351954,
          1737050.0427929035,
          1772268.7822563709,
          2017972.9037270665,
          2567879.910434241,
          2423532.269859014,
          3061083.7072968986,
          3223319.6345677353,
          3450729.8716520173,
          3420499.830525646,
          4587254.743310599,
          5544752.303499486,
          7264079.175165777,
          9231401.5982444,
          11033929.381586047,
          9937902.19756359,
          8641732.106128126,
          6641191.2336316705,
          8393164.041367078,
          9173713.435647223,
          9449018.654442685,
          10762512.764881939,
          11142383.516693471,
          6869874.07237597,
          8481147.423620163,
          9593375.320064746,
          9593069.898998663,
          10905167.88952981,
          14133233.852899564,
          15770818.877638178,
          15656228.151739707,
          17176746.495942302,
          20512464.743476853,
          19254355.123957824,
          24814641.31805576
         ]
        }
       ],
       "layout": {
        "hovermode": "x",
        "template": {
         "data": {
          "bar": [
           {
            "error_x": {
             "color": "#2a3f5f"
            },
            "error_y": {
             "color": "#2a3f5f"
            },
            "marker": {
             "line": {
              "color": "#E5ECF6",
              "width": 0.5
             }
            },
            "type": "bar"
           }
          ],
          "barpolar": [
           {
            "marker": {
             "line": {
              "color": "#E5ECF6",
              "width": 0.5
             }
            },
            "type": "barpolar"
           }
          ],
          "carpet": [
           {
            "aaxis": {
             "endlinecolor": "#2a3f5f",
             "gridcolor": "white",
             "linecolor": "white",
             "minorgridcolor": "white",
             "startlinecolor": "#2a3f5f"
            },
            "baxis": {
             "endlinecolor": "#2a3f5f",
             "gridcolor": "white",
             "linecolor": "white",
             "minorgridcolor": "white",
             "startlinecolor": "#2a3f5f"
            },
            "type": "carpet"
           }
          ],
          "choropleth": [
           {
            "colorbar": {
             "outlinewidth": 0,
             "ticks": ""
            },
            "type": "choropleth"
           }
          ],
          "contour": [
           {
            "colorbar": {
             "outlinewidth": 0,
             "ticks": ""
            },
            "colorscale": [
             [
              0,
              "#0d0887"
             ],
             [
              0.1111111111111111,
              "#46039f"
             ],
             [
              0.2222222222222222,
              "#7201a8"
             ],
             [
              0.3333333333333333,
              "#9c179e"
             ],
             [
              0.4444444444444444,
              "#bd3786"
             ],
             [
              0.5555555555555556,
              "#d8576b"
             ],
             [
              0.6666666666666666,
              "#ed7953"
             ],
             [
              0.7777777777777778,
              "#fb9f3a"
             ],
             [
              0.8888888888888888,
              "#fdca26"
             ],
             [
              1,
              "#f0f921"
             ]
            ],
            "type": "contour"
           }
          ],
          "contourcarpet": [
           {
            "colorbar": {
             "outlinewidth": 0,
             "ticks": ""
            },
            "type": "contourcarpet"
           }
          ],
          "heatmap": [
           {
            "colorbar": {
             "outlinewidth": 0,
             "ticks": ""
            },
            "colorscale": [
             [
              0,
              "#0d0887"
             ],
             [
              0.1111111111111111,
              "#46039f"
             ],
             [
              0.2222222222222222,
              "#7201a8"
             ],
             [
              0.3333333333333333,
              "#9c179e"
             ],
             [
              0.4444444444444444,
              "#bd3786"
             ],
             [
              0.5555555555555556,
              "#d8576b"
             ],
             [
              0.6666666666666666,
              "#ed7953"
             ],
             [
              0.7777777777777778,
              "#fb9f3a"
             ],
             [
              0.8888888888888888,
              "#fdca26"
             ],
             [
              1,
              "#f0f921"
             ]
            ],
            "type": "heatmap"
           }
          ],
          "heatmapgl": [
           {
            "colorbar": {
             "outlinewidth": 0,
             "ticks": ""
            },
            "colorscale": [
             [
              0,
              "#0d0887"
             ],
             [
              0.1111111111111111,
              "#46039f"
             ],
             [
              0.2222222222222222,
              "#7201a8"
             ],
             [
              0.3333333333333333,
              "#9c179e"
             ],
             [
              0.4444444444444444,
              "#bd3786"
             ],
             [
              0.5555555555555556,
              "#d8576b"
             ],
             [
              0.6666666666666666,
              "#ed7953"
             ],
             [
              0.7777777777777778,
              "#fb9f3a"
             ],
             [
              0.8888888888888888,
              "#fdca26"
             ],
             [
              1,
              "#f0f921"
             ]
            ],
            "type": "heatmapgl"
           }
          ],
          "histogram": [
           {
            "marker": {
             "colorbar": {
              "outlinewidth": 0,
              "ticks": ""
             }
            },
            "type": "histogram"
           }
          ],
          "histogram2d": [
           {
            "colorbar": {
             "outlinewidth": 0,
             "ticks": ""
            },
            "colorscale": [
             [
              0,
              "#0d0887"
             ],
             [
              0.1111111111111111,
              "#46039f"
             ],
             [
              0.2222222222222222,
              "#7201a8"
             ],
             [
              0.3333333333333333,
              "#9c179e"
             ],
             [
              0.4444444444444444,
              "#bd3786"
             ],
             [
              0.5555555555555556,
              "#d8576b"
             ],
             [
              0.6666666666666666,
              "#ed7953"
             ],
             [
              0.7777777777777778,
              "#fb9f3a"
             ],
             [
              0.8888888888888888,
              "#fdca26"
             ],
             [
              1,
              "#f0f921"
             ]
            ],
            "type": "histogram2d"
           }
          ],
          "histogram2dcontour": [
           {
            "colorbar": {
             "outlinewidth": 0,
             "ticks": ""
            },
            "colorscale": [
             [
              0,
              "#0d0887"
             ],
             [
              0.1111111111111111,
              "#46039f"
             ],
             [
              0.2222222222222222,
              "#7201a8"
             ],
             [
              0.3333333333333333,
              "#9c179e"
             ],
             [
              0.4444444444444444,
              "#bd3786"
             ],
             [
              0.5555555555555556,
              "#d8576b"
             ],
             [
              0.6666666666666666,
              "#ed7953"
             ],
             [
              0.7777777777777778,
              "#fb9f3a"
             ],
             [
              0.8888888888888888,
              "#fdca26"
             ],
             [
              1,
              "#f0f921"
             ]
            ],
            "type": "histogram2dcontour"
           }
          ],
          "mesh3d": [
           {
            "colorbar": {
             "outlinewidth": 0,
             "ticks": ""
            },
            "type": "mesh3d"
           }
          ],
          "parcoords": [
           {
            "line": {
             "colorbar": {
              "outlinewidth": 0,
              "ticks": ""
             }
            },
            "type": "parcoords"
           }
          ],
          "pie": [
           {
            "automargin": true,
            "type": "pie"
           }
          ],
          "scatter": [
           {
            "marker": {
             "colorbar": {
              "outlinewidth": 0,
              "ticks": ""
             }
            },
            "type": "scatter"
           }
          ],
          "scatter3d": [
           {
            "line": {
             "colorbar": {
              "outlinewidth": 0,
              "ticks": ""
             }
            },
            "marker": {
             "colorbar": {
              "outlinewidth": 0,
              "ticks": ""
             }
            },
            "type": "scatter3d"
           }
          ],
          "scattercarpet": [
           {
            "marker": {
             "colorbar": {
              "outlinewidth": 0,
              "ticks": ""
             }
            },
            "type": "scattercarpet"
           }
          ],
          "scattergeo": [
           {
            "marker": {
             "colorbar": {
              "outlinewidth": 0,
              "ticks": ""
             }
            },
            "type": "scattergeo"
           }
          ],
          "scattergl": [
           {
            "marker": {
             "colorbar": {
              "outlinewidth": 0,
              "ticks": ""
             }
            },
            "type": "scattergl"
           }
          ],
          "scattermapbox": [
           {
            "marker": {
             "colorbar": {
              "outlinewidth": 0,
              "ticks": ""
             }
            },
            "type": "scattermapbox"
           }
          ],
          "scatterpolar": [
           {
            "marker": {
             "colorbar": {
              "outlinewidth": 0,
              "ticks": ""
             }
            },
            "type": "scatterpolar"
           }
          ],
          "scatterpolargl": [
           {
            "marker": {
             "colorbar": {
              "outlinewidth": 0,
              "ticks": ""
             }
            },
            "type": "scatterpolargl"
           }
          ],
          "scatterternary": [
           {
            "marker": {
             "colorbar": {
              "outlinewidth": 0,
              "ticks": ""
             }
            },
            "type": "scatterternary"
           }
          ],
          "surface": [
           {
            "colorbar": {
             "outlinewidth": 0,
             "ticks": ""
            },
            "colorscale": [
             [
              0,
              "#0d0887"
             ],
             [
              0.1111111111111111,
              "#46039f"
             ],
             [
              0.2222222222222222,
              "#7201a8"
             ],
             [
              0.3333333333333333,
              "#9c179e"
             ],
             [
              0.4444444444444444,
              "#bd3786"
             ],
             [
              0.5555555555555556,
              "#d8576b"
             ],
             [
              0.6666666666666666,
              "#ed7953"
             ],
             [
              0.7777777777777778,
              "#fb9f3a"
             ],
             [
              0.8888888888888888,
              "#fdca26"
             ],
             [
              1,
              "#f0f921"
             ]
            ],
            "type": "surface"
           }
          ],
          "table": [
           {
            "cells": {
             "fill": {
              "color": "#EBF0F8"
             },
             "line": {
              "color": "white"
             }
            },
            "header": {
             "fill": {
              "color": "#C8D4E3"
             },
             "line": {
              "color": "white"
             }
            },
            "type": "table"
           }
          ]
         },
         "layout": {
          "annotationdefaults": {
           "arrowcolor": "#2a3f5f",
           "arrowhead": 0,
           "arrowwidth": 1
          },
          "coloraxis": {
           "colorbar": {
            "outlinewidth": 0,
            "ticks": ""
           }
          },
          "colorscale": {
           "diverging": [
            [
             0,
             "#8e0152"
            ],
            [
             0.1,
             "#c51b7d"
            ],
            [
             0.2,
             "#de77ae"
            ],
            [
             0.3,
             "#f1b6da"
            ],
            [
             0.4,
             "#fde0ef"
            ],
            [
             0.5,
             "#f7f7f7"
            ],
            [
             0.6,
             "#e6f5d0"
            ],
            [
             0.7,
             "#b8e186"
            ],
            [
             0.8,
             "#7fbc41"
            ],
            [
             0.9,
             "#4d9221"
            ],
            [
             1,
             "#276419"
            ]
           ],
           "sequential": [
            [
             0,
             "#0d0887"
            ],
            [
             0.1111111111111111,
             "#46039f"
            ],
            [
             0.2222222222222222,
             "#7201a8"
            ],
            [
             0.3333333333333333,
             "#9c179e"
            ],
            [
             0.4444444444444444,
             "#bd3786"
            ],
            [
             0.5555555555555556,
             "#d8576b"
            ],
            [
             0.6666666666666666,
             "#ed7953"
            ],
            [
             0.7777777777777778,
             "#fb9f3a"
            ],
            [
             0.8888888888888888,
             "#fdca26"
            ],
            [
             1,
             "#f0f921"
            ]
           ],
           "sequentialminus": [
            [
             0,
             "#0d0887"
            ],
            [
             0.1111111111111111,
             "#46039f"
            ],
            [
             0.2222222222222222,
             "#7201a8"
            ],
            [
             0.3333333333333333,
             "#9c179e"
            ],
            [
             0.4444444444444444,
             "#bd3786"
            ],
            [
             0.5555555555555556,
             "#d8576b"
            ],
            [
             0.6666666666666666,
             "#ed7953"
            ],
            [
             0.7777777777777778,
             "#fb9f3a"
            ],
            [
             0.8888888888888888,
             "#fdca26"
            ],
            [
             1,
             "#f0f921"
            ]
           ]
          },
          "colorway": [
           "#636efa",
           "#EF553B",
           "#00cc96",
           "#ab63fa",
           "#FFA15A",
           "#19d3f3",
           "#FF6692",
           "#B6E880",
           "#FF97FF",
           "#FECB52"
          ],
          "font": {
           "color": "#2a3f5f"
          },
          "geo": {
           "bgcolor": "white",
           "lakecolor": "white",
           "landcolor": "#E5ECF6",
           "showlakes": true,
           "showland": true,
           "subunitcolor": "white"
          },
          "hoverlabel": {
           "align": "left"
          },
          "hovermode": "closest",
          "mapbox": {
           "style": "light"
          },
          "paper_bgcolor": "white",
          "plot_bgcolor": "#E5ECF6",
          "polar": {
           "angularaxis": {
            "gridcolor": "white",
            "linecolor": "white",
            "ticks": ""
           },
           "bgcolor": "#E5ECF6",
           "radialaxis": {
            "gridcolor": "white",
            "linecolor": "white",
            "ticks": ""
           }
          },
          "scene": {
           "xaxis": {
            "backgroundcolor": "#E5ECF6",
            "gridcolor": "white",
            "gridwidth": 2,
            "linecolor": "white",
            "showbackground": true,
            "ticks": "",
            "zerolinecolor": "white"
           },
           "yaxis": {
            "backgroundcolor": "#E5ECF6",
            "gridcolor": "white",
            "gridwidth": 2,
            "linecolor": "white",
            "showbackground": true,
            "ticks": "",
            "zerolinecolor": "white"
           },
           "zaxis": {
            "backgroundcolor": "#E5ECF6",
            "gridcolor": "white",
            "gridwidth": 2,
            "linecolor": "white",
            "showbackground": true,
            "ticks": "",
            "zerolinecolor": "white"
           }
          },
          "shapedefaults": {
           "line": {
            "color": "#2a3f5f"
           }
          },
          "ternary": {
           "aaxis": {
            "gridcolor": "white",
            "linecolor": "white",
            "ticks": ""
           },
           "baxis": {
            "gridcolor": "white",
            "linecolor": "white",
            "ticks": ""
           },
           "bgcolor": "#E5ECF6",
           "caxis": {
            "gridcolor": "white",
            "linecolor": "white",
            "ticks": ""
           }
          },
          "title": {
           "x": 0.05
          },
          "xaxis": {
           "automargin": true,
           "gridcolor": "white",
           "linecolor": "white",
           "ticks": "",
           "title": {
            "standoff": 15
           },
           "zerolinecolor": "white",
           "zerolinewidth": 2
          },
          "yaxis": {
           "automargin": true,
           "gridcolor": "white",
           "linecolor": "white",
           "ticks": "",
           "title": {
            "standoff": 15
           },
           "zerolinecolor": "white",
           "zerolinewidth": 2
          }
         }
        },
        "title": {
         "text": "DCA Strategies comparison"
        },
        "xaxis": {
         "rangeslider": {
          "visible": true
         },
         "title": {
          "text": "Year"
         }
        },
        "yaxis": {
         "title": {
          "text": "Balance"
         }
        }
       }
      },
      "text/html": [
       "<div>\n",
       "        \n",
       "        \n",
       "            <div id=\"4ccce5d8-9dfe-4cbc-b4a0-301384b36355\" class=\"plotly-graph-div\" style=\"height:525px; width:100%;\"></div>\n",
       "            <script type=\"text/javascript\">\n",
       "                require([\"plotly\"], function(Plotly) {\n",
       "                    window.PLOTLYENV=window.PLOTLYENV || {};\n",
       "                    \n",
       "                if (document.getElementById(\"4ccce5d8-9dfe-4cbc-b4a0-301384b36355\")) {\n",
       "                    Plotly.newPlot(\n",
       "                        '4ccce5d8-9dfe-4cbc-b4a0-301384b36355',\n",
       "                        [{\"mode\": \"lines\", \"name\": \"Balance\", \"type\": \"scatter\", \"x\": [1950, 1951, 1952, 1953, 1954, 1955, 1956, 1957, 1958, 1959, 1960, 1961, 1962, 1963, 1964, 1965, 1966, 1967, 1968, 1969, 1970, 1971, 1972, 1973, 1974, 1975, 1976, 1977, 1978, 1979, 1980, 1981, 1982, 1983, 1984, 1985, 1986, 1987, 1988, 1989, 1990, 1991, 1992, 1993, 1994, 1995, 1996, 1997, 1998, 1999, 2000, 2001, 2002, 2003, 2004, 2005, 2006, 2007, 2008, 2009, 2010, 2011, 2012, 2013, 2014, 2015, 2016, 2017, 2018, 2019], \"y\": [22000.0, 34000.0, 46000.0, 58000.0, 70000.0, 82000.0, 94000.0, 106000.0, 118000.0, 130000.0, 142000.0, 154000.0, 166000.0, 178000.0, 190000.0, 202000.0, 214000.0, 226000.0, 238000.0, 250000.0, 262000.0, 274000.0, 286000.0, 298000.0, 310000.0, 322000.0, 334000.0, 346000.0, 358000.0, 370000.0, 382000.0, 394000.0, 406000.0, 418000.0, 430000.0, 442000.0, 454000.0, 466000.0, 478000.0, 490000.0, 502000.0, 514000.0, 526000.0, 538000.0, 550000.0, 562000.0, 574000.0, 586000.0, 598000.0, 610000.0, 622000.0, 634000.0, 646000.0, 658000.0, 670000.0, 682000.0, 694000.0, 706000.0, 718000.0, 730000.0, 742000.0, 754000.0, 766000.0, 778000.0, 790000.0, 802000.0, 814000.0, 826000.0, 838000.0, 850000.0]}, {\"mode\": \"lines\", \"name\": \"Balance_Annual\", \"type\": \"scatter\", \"x\": [1950, 1951, 1952, 1953, 1954, 1955, 1956, 1957, 1958, 1959, 1960, 1961, 1962, 1963, 1964, 1965, 1966, 1967, 1968, 1969, 1970, 1971, 1972, 1973, 1974, 1975, 1976, 1977, 1978, 1979, 1980, 1981, 1982, 1983, 1984, 1985, 1986, 1987, 1988, 1989, 1990, 1991, 1992, 1993, 1994, 1995, 1996, 1997, 1998, 1999, 2000, 2001, 2002, 2003, 2004, 2005, 2006, 2007, 2008, 2009, 2010, 2011, 2012, 2013, 2014, 2015, 2016, 2017, 2018, 2019], \"y\": [26361.29186869747, 43839.9446100714, 62212.048736291064, 69376.93535975374, 117167.15486322023, 163002.71449860648, 180048.19497654293, 165008.20654834044, 243697.283066555, 277315.69771610154, 281613.0351867163, 360643.7557744304, 329051.40125845047, 404810.1373767479, 470514.45766348543, 525819.6563249455, 467363.23434224294, 574632.5320778467, 632163.4633121071, 571064.9171804121, 584629.5776024959, 660469.3586908188, 777351.3461474793, 652448.9927499323, 467072.9774610801, 628489.1437157257, 761620.3834028606, 685204.0960941801, 705403.6059198714, 805192.3018411393, 1026989.5997402035, 938410.9982571758, 1090950.1105607662, 1292989.758386896, 1323380.6549922156, 1685986.2303322114, 1946206.2839756762, 1996483.5362387113, 2257028.2344856365, 2886335.1584593817, 2709058.0282782703, 3436274.4917335785, 3602469.375763566, 3869385.954512684, 3821268.210745821, 5140439.6763133975, 6196056.998318876, 8132154.323753864, 10315932.64582967, 12344004.561234005, 11103784.789546983, 9665637.756848605, 7416509.890704613, 9388607.98975632, 10245825.07158895, 10565985.430254616, 12018308.33583367, 12454754.617000062, 7669306.137842557, 9484282.161948493, 10710684.35667742, 10722077.261339296, 12172486.144656286, 15790499.682615826, 17602997.73172527, 17487388.83666628, 19168662.04670472, 22905288.216427267, 21487278.925110877, 27706727.673033614]}, {\"mode\": \"lines\", \"name\": \"Balance_Monthly\", \"type\": \"scatter\", \"x\": [1950, 1951, 1952, 1953, 1954, 1955, 1956, 1957, 1958, 1959, 1960, 1961, 1962, 1963, 1964, 1965, 1966, 1967, 1968, 1969, 1970, 1971, 1972, 1973, 1974, 1975, 1976, 1977, 1978, 1979, 1980, 1981, 1982, 1983, 1984, 1985, 1986, 1987, 1988, 1989, 1990, 1991, 1992, 1993, 1994, 1995, 1996, 1997, 1998, 1999, 2000, 2001, 2002, 2003, 2004, 2005, 2006, 2007, 2008, 2009, 2010, 2011, 2012, 2013, 2014, 2015, 2016, 2017, 2018, 2019], \"y\": [25326.8655676658, 42239.397433552396, 60175.080105770656, 68256.83420307796, 113487.63735235801, 156894.02873458905, 173062.57490529894, 159172.78001576196, 234040.6031567338, 266321.9831903894, 270955.06714587525, 346527.2280355534, 317908.57523411245, 390810.82545065676, 453983.45674225176, 507671.25280335714, 452672.7726576567, 556198.932601322, 611494.4056654543, 553362.5888860958, 567214.3963333433, 640884.0102356751, 753995.4315928358, 634080.3800419309, 455938.93562231393, 612243.2590102783, 742028.6221955032, 668396.5304118926, 687609.666327947, 784800.4751764328, 1000809.4842950612, 914952.6583137577, 1064152.3702815475, 1260282.926600682, 1290470.50528214, 1643743.1958193611, 1896256.5680225145, 1945188.893685914, 2198850.686591939, 2811111.5745686092, 2638672.4759203373, 3345965.7017717077, 3507879.0908227926, 3767715.0117887855, 3721689.600393281, 5004790.1521415105, 6032156.9709782135, 7916010.754032854, 10040721.760429768, 12014553.696390865, 10807555.49546078, 9409640.237975156, 7221795.311492711, 9140825.02147534, 9975734.639822537, 10287517.869141622, 11701547.951551389, 12126493.361336894, 7468667.116042325, 9234721.657064429, 10428559.660556754, 10440039.369315863, 11851952.894923553, 15373755.600300048, 17137653.362971444, 17025093.951984905, 18661223.425777826, 22298268.965042412, 20918471.299531735, 26972551.499687117]}, {\"mode\": \"lines\", \"name\": \"Balance_Semester\", \"type\": \"scatter\", \"x\": [1950, 1951, 1952, 1953, 1954, 1955, 1956, 1957, 1958, 1959, 1960, 1961, 1962, 1963, 1964, 1965, 1966, 1967, 1968, 1969, 1970, 1971, 1972, 1973, 1974, 1975, 1976, 1977, 1978, 1979, 1980, 1981, 1982, 1983, 1984, 1985, 1986, 1987, 1988, 1989, 1990, 1991, 1992, 1993, 1994, 1995, 1996, 1997, 1998, 1999, 2000, 2001, 2002, 2003, 2004, 2005, 2006, 2007, 2008, 2009, 2010, 2011, 2012, 2013, 2014, 2015, 2016, 2017, 2018, 2019], \"y\": [26101.186849454476, 43757.21840628472, 61902.62016570889, 69611.62069386162, 116620.51317942525, 161512.85223769347, 178090.79480511547, 163030.82081774724, 240345.71025867053, 273345.3042318869, 277616.3501331987, 355415.2430576376, 325855.7308713604, 400700.07164318435, 465495.6061237103, 520605.009398084, 463329.71035452967, 569491.4481530366, 626130.5796914491, 566008.3139384313, 580667.9899376328, 655897.912553424, 771861.70152045, 648482.1183704671, 464808.53049472516, 624165.5088906304, 756259.1846920903, 680545.8090183152, 700271.0978194376, 799240.3719284375, 1019498.6486959163, 931577.1393598183, 1083797.4138002114, 1283694.1242546556, 1314364.9232535088, 1674146.8382967133, 1931567.5534763322, 1981015.6520380804, 2239252.810470884, 2863256.0786528233, 2687006.0560680716, 3407887.5492627113, 3572825.193584845, 3837483.9786196915, 3790338.195066319, 5097887.306450653, 6144521.32592196, 8063810.166929746, 10228343.098946247, 12238845.160123428, 11009052.822328374, 9583844.711704401, 7354491.006939602, 9309277.807711009, 10159305.652493797, 10476816.003494725, 11917046.249007627, 12349653.109191412, 7604956.458715605, 9404016.38010802, 10620452.669272382, 10631695.091284994, 12069749.484794287, 15656853.170798935, 17453500.021939714, 17338774.406921465, 19005353.96851947, 22709845.91948556, 21304233.477026336, 27470243.090564772]}, {\"mode\": \"lines\", \"name\": \"Balance_Quarter\", \"type\": \"scatter\", \"x\": [1950, 1951, 1952, 1953, 1954, 1955, 1956, 1957, 1958, 1959, 1960, 1961, 1962, 1963, 1964, 1965, 1966, 1967, 1968, 1969, 1970, 1971, 1972, 1973, 1974, 1975, 1976, 1977, 1978, 1979, 1980, 1981, 1982, 1983, 1984, 1985, 1986, 1987, 1988, 1989, 1990, 1991, 1992, 1993, 1994, 1995, 1996, 1997, 1998, 1999, 2000, 2001, 2002, 2003, 2004, 2005, 2006, 2007, 2008, 2009, 2010, 2011, 2012, 2013, 2014, 2015, 2016, 2017, 2018, 2019], \"y\": [25563.497526091993, 42506.241789284024, 60622.37674934695, 68491.62793171103, 114189.04805150091, 158015.7395087877, 174145.87582323526, 159951.3847222538, 235349.49992797745, 267752.3298995448, 272541.39554615424, 348680.6791331785, 319753.3435237768, 393077.4231377469, 456611.7823193156, 510521.3218930318, 454817.7031081302, 558776.6354613967, 614357.0619599292, 555753.0131976858, 569801.8131463191, 643860.1336944989, 757684.759590647, 636773.5269977389, 457320.47703976405, 614302.1338971619, 744549.161165109, 670581.7608434835, 689871.0594285227, 787508.3423176436, 1004419.280563057, 918115.848590217, 1067864.7830739724, 1264779.630032907, 1295050.1629543083, 1649793.3449015205, 1903569.6869999864, 1952709.617514869, 2207340.6008266755, 2822017.609818957, 2648963.049078681, 3359204.6005256223, 3521719.415555896, 3782664.169281051, 3736277.95932854, 5024729.940966774, 6056438.763864098, 7948000.242698068, 10081345.77645891, 12063131.135678126, 10851134.64088485, 9447225.959738232, 7250452.10604018, 9177229.824183138, 10015594.333882181, 10328708.821479335, 11748411.413466197, 12174984.76087481, 7498201.871523407, 9271343.97912927, 10469779.627606025, 10481076.336157866, 11898589.558891742, 15434339.323411185, 17205411.976130564, 17092274.79373952, 18734989.837118704, 22386563.692982588, 21001202.545931265, 27079261.947010275]}, {\"mode\": \"lines\", \"name\": \"Balance_Biannual\", \"type\": \"scatter\", \"x\": [1950, 1951, 1952, 1953, 1954, 1955, 1956, 1957, 1958, 1959, 1960, 1961, 1962, 1963, 1964, 1965, 1966, 1967, 1968, 1969, 1970, 1971, 1972, 1973, 1974, 1975, 1976, 1977, 1978, 1979, 1980, 1981, 1982, 1983, 1984, 1985, 1986, 1987, 1988, 1989, 1990, 1991, 1992, 1993, 1994, 1995, 1996, 1997, 1998, 1999, 2000, 2001, 2002, 2003, 2004, 2005, 2006, 2007, 2008, 2009, 2010, 2011, 2012, 2013, 2014, 2015, 2016, 2017, 2018, 2019], \"y\": [11982.405394862482, 13941.349791281506, 41999.486928836, 39217.434275684376, 89984.40534922722, 113743.48958540455, 142280.55248991033, 121915.57365467679, 200091.57631349957, 217052.78975505708, 235680.67980701153, 290190.2092074256, 277917.78819132544, 330418.26144526777, 399674.9796840207, 435893.3141261833, 399587.69022617734, 479873.32149832416, 543657.0153448917, 481889.6905781533, 508373.5199802373, 563210.5255960057, 678516.7919973254, 560688.8049040373, 411101.5878434492, 540800.0952680777, 669925.4791806391, 592870.9528256392, 625012.1987088254, 701943.7917605537, 911400.7591730062, 822717.8133275651, 972196.3615679438, 1140104.8029627907, 1180635.645651659, 1491537.2493351954, 1737050.0427929035, 1772268.7822563709, 2017972.9037270665, 2567879.910434241, 2423532.269859014, 3061083.7072968986, 3223319.6345677353, 3450729.8716520173, 3420499.830525646, 4587254.743310599, 5544752.303499486, 7264079.175165777, 9231401.5982444, 11033929.381586047, 9937902.19756359, 8641732.106128126, 6641191.2336316705, 8393164.041367078, 9173713.435647223, 9449018.654442685, 10762512.764881939, 11142383.516693471, 6869874.07237597, 8481147.423620163, 9593375.320064746, 9593069.898998663, 10905167.88952981, 14133233.852899564, 15770818.877638178, 15656228.151739707, 17176746.495942302, 20512464.743476853, 19254355.123957824, 24814641.31805576]}],\n",
       "                        {\"hovermode\": \"x\", \"template\": {\"data\": {\"bar\": [{\"error_x\": {\"color\": \"#2a3f5f\"}, \"error_y\": {\"color\": \"#2a3f5f\"}, \"marker\": {\"line\": {\"color\": \"#E5ECF6\", \"width\": 0.5}}, \"type\": \"bar\"}], \"barpolar\": [{\"marker\": {\"line\": {\"color\": \"#E5ECF6\", \"width\": 0.5}}, \"type\": \"barpolar\"}], \"carpet\": [{\"aaxis\": {\"endlinecolor\": \"#2a3f5f\", \"gridcolor\": \"white\", \"linecolor\": \"white\", \"minorgridcolor\": \"white\", \"startlinecolor\": \"#2a3f5f\"}, \"baxis\": {\"endlinecolor\": \"#2a3f5f\", \"gridcolor\": \"white\", \"linecolor\": \"white\", \"minorgridcolor\": \"white\", \"startlinecolor\": \"#2a3f5f\"}, \"type\": \"carpet\"}], \"choropleth\": [{\"colorbar\": {\"outlinewidth\": 0, \"ticks\": \"\"}, \"type\": \"choropleth\"}], \"contour\": [{\"colorbar\": {\"outlinewidth\": 0, \"ticks\": \"\"}, \"colorscale\": [[0.0, \"#0d0887\"], [0.1111111111111111, \"#46039f\"], [0.2222222222222222, \"#7201a8\"], [0.3333333333333333, \"#9c179e\"], [0.4444444444444444, \"#bd3786\"], [0.5555555555555556, \"#d8576b\"], [0.6666666666666666, \"#ed7953\"], [0.7777777777777778, \"#fb9f3a\"], [0.8888888888888888, \"#fdca26\"], [1.0, \"#f0f921\"]], \"type\": \"contour\"}], \"contourcarpet\": [{\"colorbar\": {\"outlinewidth\": 0, \"ticks\": \"\"}, \"type\": \"contourcarpet\"}], \"heatmap\": [{\"colorbar\": {\"outlinewidth\": 0, \"ticks\": \"\"}, \"colorscale\": [[0.0, \"#0d0887\"], [0.1111111111111111, \"#46039f\"], [0.2222222222222222, \"#7201a8\"], [0.3333333333333333, \"#9c179e\"], [0.4444444444444444, \"#bd3786\"], [0.5555555555555556, \"#d8576b\"], [0.6666666666666666, \"#ed7953\"], [0.7777777777777778, \"#fb9f3a\"], [0.8888888888888888, \"#fdca26\"], [1.0, \"#f0f921\"]], \"type\": \"heatmap\"}], \"heatmapgl\": [{\"colorbar\": {\"outlinewidth\": 0, \"ticks\": \"\"}, \"colorscale\": [[0.0, \"#0d0887\"], [0.1111111111111111, \"#46039f\"], [0.2222222222222222, \"#7201a8\"], [0.3333333333333333, \"#9c179e\"], [0.4444444444444444, \"#bd3786\"], [0.5555555555555556, \"#d8576b\"], [0.6666666666666666, \"#ed7953\"], [0.7777777777777778, \"#fb9f3a\"], [0.8888888888888888, \"#fdca26\"], [1.0, \"#f0f921\"]], \"type\": \"heatmapgl\"}], \"histogram\": [{\"marker\": {\"colorbar\": {\"outlinewidth\": 0, \"ticks\": \"\"}}, \"type\": \"histogram\"}], \"histogram2d\": [{\"colorbar\": {\"outlinewidth\": 0, \"ticks\": \"\"}, \"colorscale\": [[0.0, \"#0d0887\"], [0.1111111111111111, \"#46039f\"], [0.2222222222222222, \"#7201a8\"], [0.3333333333333333, \"#9c179e\"], [0.4444444444444444, \"#bd3786\"], [0.5555555555555556, \"#d8576b\"], [0.6666666666666666, \"#ed7953\"], [0.7777777777777778, \"#fb9f3a\"], [0.8888888888888888, \"#fdca26\"], [1.0, \"#f0f921\"]], \"type\": \"histogram2d\"}], \"histogram2dcontour\": [{\"colorbar\": {\"outlinewidth\": 0, \"ticks\": \"\"}, \"colorscale\": [[0.0, \"#0d0887\"], [0.1111111111111111, \"#46039f\"], [0.2222222222222222, \"#7201a8\"], [0.3333333333333333, \"#9c179e\"], [0.4444444444444444, \"#bd3786\"], [0.5555555555555556, \"#d8576b\"], [0.6666666666666666, \"#ed7953\"], [0.7777777777777778, \"#fb9f3a\"], [0.8888888888888888, \"#fdca26\"], [1.0, \"#f0f921\"]], \"type\": \"histogram2dcontour\"}], \"mesh3d\": [{\"colorbar\": {\"outlinewidth\": 0, \"ticks\": \"\"}, \"type\": \"mesh3d\"}], \"parcoords\": [{\"line\": {\"colorbar\": {\"outlinewidth\": 0, \"ticks\": \"\"}}, \"type\": \"parcoords\"}], \"pie\": [{\"automargin\": true, \"type\": \"pie\"}], \"scatter\": [{\"marker\": {\"colorbar\": {\"outlinewidth\": 0, \"ticks\": \"\"}}, \"type\": \"scatter\"}], \"scatter3d\": [{\"line\": {\"colorbar\": {\"outlinewidth\": 0, \"ticks\": \"\"}}, \"marker\": {\"colorbar\": {\"outlinewidth\": 0, \"ticks\": \"\"}}, \"type\": \"scatter3d\"}], \"scattercarpet\": [{\"marker\": {\"colorbar\": {\"outlinewidth\": 0, \"ticks\": \"\"}}, \"type\": \"scattercarpet\"}], \"scattergeo\": [{\"marker\": {\"colorbar\": {\"outlinewidth\": 0, \"ticks\": \"\"}}, \"type\": \"scattergeo\"}], \"scattergl\": [{\"marker\": {\"colorbar\": {\"outlinewidth\": 0, \"ticks\": \"\"}}, \"type\": \"scattergl\"}], \"scattermapbox\": [{\"marker\": {\"colorbar\": {\"outlinewidth\": 0, \"ticks\": \"\"}}, \"type\": \"scattermapbox\"}], \"scatterpolar\": [{\"marker\": {\"colorbar\": {\"outlinewidth\": 0, \"ticks\": \"\"}}, \"type\": \"scatterpolar\"}], \"scatterpolargl\": [{\"marker\": {\"colorbar\": {\"outlinewidth\": 0, \"ticks\": \"\"}}, \"type\": \"scatterpolargl\"}], \"scatterternary\": [{\"marker\": {\"colorbar\": {\"outlinewidth\": 0, \"ticks\": \"\"}}, \"type\": \"scatterternary\"}], \"surface\": [{\"colorbar\": {\"outlinewidth\": 0, \"ticks\": \"\"}, \"colorscale\": [[0.0, \"#0d0887\"], [0.1111111111111111, \"#46039f\"], [0.2222222222222222, \"#7201a8\"], [0.3333333333333333, \"#9c179e\"], [0.4444444444444444, \"#bd3786\"], [0.5555555555555556, \"#d8576b\"], [0.6666666666666666, \"#ed7953\"], [0.7777777777777778, \"#fb9f3a\"], [0.8888888888888888, \"#fdca26\"], [1.0, \"#f0f921\"]], \"type\": \"surface\"}], \"table\": [{\"cells\": {\"fill\": {\"color\": \"#EBF0F8\"}, \"line\": {\"color\": \"white\"}}, \"header\": {\"fill\": {\"color\": \"#C8D4E3\"}, \"line\": {\"color\": \"white\"}}, \"type\": \"table\"}]}, \"layout\": {\"annotationdefaults\": {\"arrowcolor\": \"#2a3f5f\", \"arrowhead\": 0, \"arrowwidth\": 1}, \"coloraxis\": {\"colorbar\": {\"outlinewidth\": 0, \"ticks\": \"\"}}, \"colorscale\": {\"diverging\": [[0, \"#8e0152\"], [0.1, \"#c51b7d\"], [0.2, \"#de77ae\"], [0.3, \"#f1b6da\"], [0.4, \"#fde0ef\"], [0.5, \"#f7f7f7\"], [0.6, \"#e6f5d0\"], [0.7, \"#b8e186\"], [0.8, \"#7fbc41\"], [0.9, \"#4d9221\"], [1, \"#276419\"]], \"sequential\": [[0.0, \"#0d0887\"], [0.1111111111111111, \"#46039f\"], [0.2222222222222222, \"#7201a8\"], [0.3333333333333333, \"#9c179e\"], [0.4444444444444444, \"#bd3786\"], [0.5555555555555556, \"#d8576b\"], [0.6666666666666666, \"#ed7953\"], [0.7777777777777778, \"#fb9f3a\"], [0.8888888888888888, \"#fdca26\"], [1.0, \"#f0f921\"]], \"sequentialminus\": [[0.0, \"#0d0887\"], [0.1111111111111111, \"#46039f\"], [0.2222222222222222, \"#7201a8\"], [0.3333333333333333, \"#9c179e\"], [0.4444444444444444, \"#bd3786\"], [0.5555555555555556, \"#d8576b\"], [0.6666666666666666, \"#ed7953\"], [0.7777777777777778, \"#fb9f3a\"], [0.8888888888888888, \"#fdca26\"], [1.0, \"#f0f921\"]]}, \"colorway\": [\"#636efa\", \"#EF553B\", \"#00cc96\", \"#ab63fa\", \"#FFA15A\", \"#19d3f3\", \"#FF6692\", \"#B6E880\", \"#FF97FF\", \"#FECB52\"], \"font\": {\"color\": \"#2a3f5f\"}, \"geo\": {\"bgcolor\": \"white\", \"lakecolor\": \"white\", \"landcolor\": \"#E5ECF6\", \"showlakes\": true, \"showland\": true, \"subunitcolor\": \"white\"}, \"hoverlabel\": {\"align\": \"left\"}, \"hovermode\": \"closest\", \"mapbox\": {\"style\": \"light\"}, \"paper_bgcolor\": \"white\", \"plot_bgcolor\": \"#E5ECF6\", \"polar\": {\"angularaxis\": {\"gridcolor\": \"white\", \"linecolor\": \"white\", \"ticks\": \"\"}, \"bgcolor\": \"#E5ECF6\", \"radialaxis\": {\"gridcolor\": \"white\", \"linecolor\": \"white\", \"ticks\": \"\"}}, \"scene\": {\"xaxis\": {\"backgroundcolor\": \"#E5ECF6\", \"gridcolor\": \"white\", \"gridwidth\": 2, \"linecolor\": \"white\", \"showbackground\": true, \"ticks\": \"\", \"zerolinecolor\": \"white\"}, \"yaxis\": {\"backgroundcolor\": \"#E5ECF6\", \"gridcolor\": \"white\", \"gridwidth\": 2, \"linecolor\": \"white\", \"showbackground\": true, \"ticks\": \"\", \"zerolinecolor\": \"white\"}, \"zaxis\": {\"backgroundcolor\": \"#E5ECF6\", \"gridcolor\": \"white\", \"gridwidth\": 2, \"linecolor\": \"white\", \"showbackground\": true, \"ticks\": \"\", \"zerolinecolor\": \"white\"}}, \"shapedefaults\": {\"line\": {\"color\": \"#2a3f5f\"}}, \"ternary\": {\"aaxis\": {\"gridcolor\": \"white\", \"linecolor\": \"white\", \"ticks\": \"\"}, \"baxis\": {\"gridcolor\": \"white\", \"linecolor\": \"white\", \"ticks\": \"\"}, \"bgcolor\": \"#E5ECF6\", \"caxis\": {\"gridcolor\": \"white\", \"linecolor\": \"white\", \"ticks\": \"\"}}, \"title\": {\"x\": 0.05}, \"xaxis\": {\"automargin\": true, \"gridcolor\": \"white\", \"linecolor\": \"white\", \"ticks\": \"\", \"title\": {\"standoff\": 15}, \"zerolinecolor\": \"white\", \"zerolinewidth\": 2}, \"yaxis\": {\"automargin\": true, \"gridcolor\": \"white\", \"linecolor\": \"white\", \"ticks\": \"\", \"title\": {\"standoff\": 15}, \"zerolinecolor\": \"white\", \"zerolinewidth\": 2}}}, \"title\": {\"text\": \"DCA Strategies comparison\"}, \"xaxis\": {\"rangeslider\": {\"visible\": true}, \"title\": {\"text\": \"Year\"}}, \"yaxis\": {\"title\": {\"text\": \"Balance\"}}},\n",
       "                        {\"responsive\": true}\n",
       "                    ).then(function(){\n",
       "                            \n",
       "var gd = document.getElementById('4ccce5d8-9dfe-4cbc-b4a0-301384b36355');\n",
       "var x = new MutationObserver(function (mutations, observer) {{\n",
       "        var display = window.getComputedStyle(gd).display;\n",
       "        if (!display || display === 'none') {{\n",
       "            console.log([gd, 'removed!']);\n",
       "            Plotly.purge(gd);\n",
       "            observer.disconnect();\n",
       "        }}\n",
       "}});\n",
       "\n",
       "// Listen for the removal of the full notebook cells\n",
       "var notebookContainer = gd.closest('#notebook-container');\n",
       "if (notebookContainer) {{\n",
       "    x.observe(notebookContainer, {childList: true});\n",
       "}}\n",
       "\n",
       "// Listen for the clearing of the current output cell\n",
       "var outputEl = gd.closest('.output');\n",
       "if (outputEl) {{\n",
       "    x.observe(outputEl, {childList: true});\n",
       "}}\n",
       "\n",
       "                        })\n",
       "                };\n",
       "                });\n",
       "            </script>\n",
       "        </div>"
      ]
     },
     "metadata": {},
     "output_type": "display_data"
    }
   ],
   "source": [
    "SP500_DCA_year=SP500_DCA.asfreq('Y',method='ffill')\n",
    "\n",
    "fig = go.Figure()\n",
    "\n",
    "for col in list(['Balance','Balance_Annual','Balance_Monthly','Balance_Semester','Balance_Quarter','Balance_Biannual']):\n",
    "     fig.add_trace(go.Scatter(x=SP500_DCA_year.index.year, y=SP500_DCA_year[col],\n",
    "                             mode='lines',name=col))\n",
    "\n",
    "fig.layout=go.Layout(title='DCA Strategies comparison', xaxis=dict(title='Year',rangeslider=dict(visible=True)),\n",
    "                     yaxis=dict(title='Balance'),hovermode=\"x\" )\n",
    "\n",
    "fig.show()\n"
   ]
  },
  {
   "cell_type": "code",
   "execution_count": 63,
   "metadata": {},
   "outputs": [],
   "source": [
    "#Evaluate in rolling indows\n",
    "#TimeFrame 5,10,15,20\n",
    "StartDate='1950'\n",
    "EndDate='2019'\n",
    "Frequency='AS' #alias for year start\n",
    "Period=20\n",
    "\n",
    "\n",
    "def period_intervals(StartDate,EndDate,Frequency,Period):\n",
    "    #Create string to pass as parameter freq to the pandas function data_range\n",
    "    #Generate a tuple with the pairs of intervals. \n",
    "    period_ini=pd.date_range(StartDate,str(int(EndDate)-Period),freq='AS').strftime('%Y-%m')\n",
    "    period_end=pd.date_range(StartDate,str(int(EndDate)-Period),freq='AS').shift(12*Period,'M').strftime('%Y-%m')\n",
    "    return period_ini,period_end\n",
    "\n",
    "period_ini,period_end=period_intervals(StartDate,EndDate,Frequency,Period)\n",
    "\n"
   ]
  },
  {
   "cell_type": "code",
   "execution_count": 64,
   "metadata": {},
   "outputs": [
    {
     "name": "stderr",
     "output_type": "stream",
     "text": [
      "C:\\Users\\lcast\\Anaconda3\\lib\\site-packages\\ipykernel_launcher.py:8: SettingWithCopyWarning:\n",
      "\n",
      "\n",
      "A value is trying to be set on a copy of a slice from a DataFrame.\n",
      "Try using .loc[row_indexer,col_indexer] = value instead\n",
      "\n",
      "See the caveats in the documentation: https://pandas.pydata.org/pandas-docs/stable/user_guide/indexing.html#returning-a-view-versus-a-copy\n",
      "\n"
     ]
    }
   ],
   "source": [
    "returns={}\n",
    "for i,j in zip(period_ini,period_end):\n",
    "    SP500_DCA_per=SP500_month.loc[i:j]\n",
    "    Final_price=SP500_DCA_per['Close'][-1]\n",
    "    SP500_DCA_per.loc[:,'Total%_Change']=Final_price/SP500_DCA_per['Close']-1\n",
    "    for row in ['Balance_Annual','Deposit_Annual','Balance_Monthly','Deposit_Monthly','Balance_Semester','Deposit_Semester',\n",
    "                'Balance_Quarter','Deposit_Quarter','Balance_Biannual','Deposit_Biannual']:\n",
    "        SP500_DCA_per[row]=0 \n",
    "    #Strategy 1\n",
    "    SP500_DCA_per.loc[SP500_DCA_per.index.month.isin([1]),'Deposit_Annual']=Annual_Contribution\n",
    "    SP500_DCA_per.loc[SP500_DCA_per.index.min(),'Deposit_Annual'] =SP500_DCA_per['Deposit_Annual'][0]+Initial_amount\n",
    "    SP500_DCA_per.loc[:,'Balance_Annual'] =SP500_DCA_per['Deposit_Annual']* (SP500_DCA_per['Total%_Change']+1)\n",
    "    #Strategy 2\n",
    "    SP500_DCA_per.loc[SP500_DCA_per.index.month.isin(range(1,13)),'Deposit_Monthly']=Annual_Contribution/12\n",
    "    SP500_DCA_per.loc[SP500_DCA_per.index.min(),'Deposit_Monthly'] =SP500_DCA_per['Deposit_Monthly'][0]+Initial_amount\n",
    "    SP500_DCA_per.loc[:,'Balance_Monthly'] =SP500_DCA_per['Deposit_Monthly']* (SP500_DCA_per['Total%_Change']+1)\n",
    "   \n",
    "    #Strategy 3\n",
    "    SP500_DCA_per.loc[SP500_DCA_per.index.month.isin([1,6]),'Deposit_Semester']=Annual_Contribution/2\n",
    "    SP500_DCA_per.loc[SP500_DCA_per.index.min(),'Deposit_Semester'] =SP500_DCA_per['Deposit_Semester'][0]+Initial_amount\n",
    "    SP500_DCA_per.loc[:,'Balance_Semester'] =SP500_DCA_per['Deposit_Semester']* (SP500_DCA_per['Total%_Change']+1)\n",
    "        \n",
    "    #Strategy 4\n",
    "    SP500_DCA_per.loc[SP500_DCA_per.index.month.isin([1,4,7,10]),'Deposit_Quarter']=Annual_Contribution/4\n",
    "    SP500_DCA_per.loc[SP500_DCA_per.index.min(),'Deposit_Quarter'] =SP500_DCA_per['Deposit_Quarter'][0]+Initial_amount\n",
    "    SP500_DCA_per.loc[:,'Balance_Quarter'] =SP500_DCA_per['Deposit_Quarter']* (SP500_DCA_per['Total%_Change']+1)\n",
    "    \n",
    "    #Strategy 5\n",
    "    SP500_DCA_per.loc[SP500_DCA_per.index.year.isin(range(SP500_DCA_per.index.year.min()+2,\n",
    "                    SP500_DCA_per.index.year.max()+1,2))&SP500_DCA_per.index.month.isin([1]),'Deposit_Biannual']=Annual_Contribution*2\n",
    "    SP500_DCA_per.loc[SP500_DCA_per.index.min(),'Deposit_Biannual'] =SP500_DCA_per['Deposit_Biannual'][0]+Initial_amount\n",
    "    SP500_DCA_per.loc[:,'Balance_Biannual'] =SP500_DCA_per['Deposit_Biannual']* (SP500_DCA_per['Total%_Change']+1)\n",
    "\n",
    "    returns[i+' to '+j]=[SP500_DCA_per['Balance_Annual'].sum(),SP500_DCA_per['Balance_Monthly'].sum(),\n",
    "                      SP500_DCA_per['Balance_Semester'].sum(),SP500_DCA_per['Balance_Quarter'].sum(),\n",
    "                      SP500_DCA_per['Balance_Biannual'].sum()]\n",
    "    \n"
   ]
  },
  {
   "cell_type": "code",
   "execution_count": 56,
   "metadata": {},
   "outputs": [
    {
     "data": {
      "text/plain": [
       "Balance_Annual      45\n",
       "Balance_Semester    10\n",
       "Balance_Monthly     10\n",
       "Name: Max, dtype: int64"
      ]
     },
     "execution_count": 56,
     "metadata": {},
     "output_type": "execute_result"
    }
   ],
   "source": [
    "SP500_DCA_per5=pd.DataFrame.from_dict(returns,orient='index')\n",
    "SP500_DCA_per5.columns=['Balance_Annual','Balance_Monthly','Balance_Semester','Balance_Quarter','Balance_Biannual']\n",
    "SP500_DCA_per5['Max']=SP500_DCA_per5.idxmax(axis=1)\n",
    "SP500_DCA_per5['Max'].value_counts()"
   ]
  },
  {
   "cell_type": "code",
   "execution_count": 59,
   "metadata": {},
   "outputs": [
    {
     "data": {
      "text/plain": [
       "Balance_Annual      43\n",
       "Balance_Monthly     11\n",
       "Balance_Semester     6\n",
       "Name: Max, dtype: int64"
      ]
     },
     "execution_count": 59,
     "metadata": {},
     "output_type": "execute_result"
    }
   ],
   "source": [
    "SP500_DCA_per10=pd.DataFrame.from_dict(returns,orient='index')\n",
    "SP500_DCA_per10.columns=['Balance_Annual','Balance_Monthly','Balance_Semester','Balance_Quarter','Balance_Biannual']\n",
    "SP500_DCA_per10['Max']=SP500_DCA_per10.idxmax(axis=1)\n",
    "SP500_DCA_per10['Max'].value_counts()"
   ]
  },
  {
   "cell_type": "code",
   "execution_count": 62,
   "metadata": {},
   "outputs": [
    {
     "data": {
      "text/plain": [
       "Balance_Annual      43\n",
       "Balance_Semester     9\n",
       "Balance_Monthly      3\n",
       "Name: Max, dtype: int64"
      ]
     },
     "execution_count": 62,
     "metadata": {},
     "output_type": "execute_result"
    }
   ],
   "source": [
    "SP500_DCA_per15=pd.DataFrame.from_dict(returns,orient='index')\n",
    "SP500_DCA_per15.columns=['Balance_Annual','Balance_Monthly','Balance_Semester','Balance_Quarter','Balance_Biannual']\n",
    "SP500_DCA_per15['Max']=SP500_DCA_per15.idxmax(axis=1)\n",
    "SP500_DCA_per15['Max'].value_counts()"
   ]
  },
  {
   "cell_type": "code",
   "execution_count": 66,
   "metadata": {},
   "outputs": [
    {
     "data": {
      "text/plain": [
       "Balance_Annual      43\n",
       "Balance_Semester     7\n",
       "Name: Max, dtype: int64"
      ]
     },
     "execution_count": 66,
     "metadata": {},
     "output_type": "execute_result"
    }
   ],
   "source": [
    "SP500_DCA_per20=pd.DataFrame.from_dict(returns,orient='index')\n",
    "SP500_DCA_per20.columns=['Balance_Annual','Balance_Monthly','Balance_Semester','Balance_Quarter','Balance_Biannual']\n",
    "SP500_DCA_per20['Max']=SP500_DCA_per20.idxmax(axis=1)\n",
    "SP500_DCA_per20['Max'].value_counts()"
   ]
  },
  {
   "cell_type": "code",
   "execution_count": 67,
   "metadata": {},
   "outputs": [],
   "source": [
    "#Not disciplined and just invest Random number per year\n",
    "#Try other way\n",
    "SP500_DCA_random=SP500_month\n",
    "SP500_DCA_random_totals=[]\n",
    "list_years=SP500_DCA_random.index.year.unique()\n",
    "final_price=SP500_DCA_random['Close'][-1]\n",
    "#Calculate per each period the total return until the final\n",
    "SP500_DCA_random.loc[:,'Total%_Change']=final_price/SP500_DCA_random['Close']-1\n",
    "\n",
    "\n",
    "#random eahc year. Repeatt the experiment 10000\n",
    "#@njit\n",
    "for _ in range(10000):  \n",
    "    SP500_DCA_random['Deposit']=0\n",
    "    SP500_DCA_random['Balance']=0\n",
    "    for year in list_years:\n",
    "        #randomly select the number of months and whcih months the contributions are made\n",
    "        months= np.random.choice(range(1,13),np.random.choice(range(1,13),1),replace=False)\n",
    "        SP500_DCA_random.loc[(SP500_DCA_random.index.month.isin(months))& \n",
    "                             (SP500_DCA_random.index.year==year),'Deposit']=Annual_Contribution/len(months)\n",
    "    SP500_DCA_random.loc[SP500_DCA_random.index.min(),'Deposit'] =Initial_amount+SP500_DCA_random['Deposit'][0]  \n",
    "    SP500_DCA_random.loc[:,'Balance'] =SP500_DCA_random['Deposit']* (SP500_DCA_random['Total%_Change']+1)\n",
    "    SP500_DCA_random_totals.append(SP500_DCA_random['Balance'].sum())\n",
    " \n",
    "\n"
   ]
  },
  {
   "cell_type": "code",
   "execution_count": 68,
   "metadata": {},
   "outputs": [
    {
     "data": {
      "text/plain": [
       "25420316.896622423"
      ]
     },
     "execution_count": 68,
     "metadata": {},
     "output_type": "execute_result"
    }
   ],
   "source": [
    "sum(SP500_DCA_random_totals)/len(SP500_DCA_random_totals)"
   ]
  },
  {
   "cell_type": "code",
   "execution_count": 70,
   "metadata": {},
   "outputs": [
    {
     "data": {
      "text/plain": [
       "0.0"
      ]
     },
     "execution_count": 70,
     "metadata": {},
     "output_type": "execute_result"
    }
   ],
   "source": [
    "\n",
    "np.sum(SP500_DCA_random_totals>SP500_DCA['Balance_Annual'][-1])/len(SP500_DCA_random_totals)\n",
    "#np.sum(SP500_DCA_random_totals>SP500_DCA['Balance_Monthly'][-1])/len(SP500_DCA_random_totals)\n",
    "#np.sum(SP500_DCA_random_totals>SP500_DCA['Balance_Semester'][-1])/len(SP500_DCA_random_totals)\n",
    "#np.sum(SP500_DCA_random_totals>SP500_DCA['Balance_Quarter'][-1])/len(SP500_DCA_random_totals)\n",
    "#np.sum(SP500_DCA_random_totals>SP500_DCA['Balance_Biannual'][-1])/len(SP500_DCA_random_totals)\n",
    "    \n",
    "    \n"
   ]
  },
  {
   "cell_type": "code",
   "execution_count": 71,
   "metadata": {},
   "outputs": [],
   "source": [
    "#All combinations\n",
    "SP500_DCA_combs=SP500_month\n",
    "combs=[]\n",
    "combs_totals=[]\n",
    "\n",
    "for i in range (1,13):    \n",
    "    combs.append(combinations(range(1,13), i)) #total of 4095 combinations\n",
    "\n",
    "combs = list(chain.from_iterable(combs))\n",
    "\n",
    "for i in range (0,len(combs)):  \n",
    "    SP500_DCA_combs['Deposit']=0\n",
    "    SP500_DCA_combs['Balance']=0\n",
    "    SP500_DCA_combs.loc[SP500_DCA_combs.index.month.isin(combs[i]),'Deposit']=Annual_Contribution/len(combs[i])\n",
    "    SP500_DCA_combs.loc[SP500_DCA_combs.index.min(),'Deposit'] =Initial_amount+SP500_DCA_combs['Deposit'][0]  \n",
    "    SP500_DCA_combs.loc[:,'Balance'] =SP500_DCA_combs['Deposit']* (SP500_DCA_combs['Total%_Change']+1)\n",
    "    combs_totals.append(SP500_DCA_combs['Balance'].sum())\n",
    "\n",
    "SP500_DCA_combs_total=pd.concat([pd.DataFrame(combs),pd.Series(combs_totals)],axis=1)\n",
    "SP500_DCA_combs_total.columns=['Month1','Month2','Month3','Month4','Month5','Month6','Month7','Month8','Month9','Month10','Month11',\n",
    "              'Month12','Total']\n",
    "\n",
    "\n",
    "    "
   ]
  },
  {
   "cell_type": "code",
   "execution_count": 72,
   "metadata": {},
   "outputs": [
    {
     "data": {
      "text/plain": [
       "25420982.228241898"
      ]
     },
     "execution_count": 72,
     "metadata": {},
     "output_type": "execute_result"
    }
   ],
   "source": [
    "#Avergae balance of combs\n",
    "sum(combs_totals)/len(combs_totals)"
   ]
  },
  {
   "cell_type": "code",
   "execution_count": 74,
   "metadata": {},
   "outputs": [
    {
     "data": {
      "text/plain": [
       "0.04884004884004884"
      ]
     },
     "execution_count": 74,
     "metadata": {},
     "output_type": "execute_result"
    }
   ],
   "source": [
    "#Percentage of monthly combinations over the Annual Lump sump strategy\n",
    "np.sum(combs_totals>SP500_DCA['Balance_Annual'][-1])/len(combs_totals)*100"
   ]
  },
  {
   "cell_type": "code",
   "execution_count": 75,
   "metadata": {},
   "outputs": [
    {
     "data": {
      "text/html": [
       "<div>\n",
       "<style scoped>\n",
       "    .dataframe tbody tr th:only-of-type {\n",
       "        vertical-align: middle;\n",
       "    }\n",
       "\n",
       "    .dataframe tbody tr th {\n",
       "        vertical-align: top;\n",
       "    }\n",
       "\n",
       "    .dataframe thead th {\n",
       "        text-align: right;\n",
       "    }\n",
       "</style>\n",
       "<table border=\"1\" class=\"dataframe\">\n",
       "  <thead>\n",
       "    <tr style=\"text-align: right;\">\n",
       "      <th></th>\n",
       "      <th>Month1</th>\n",
       "      <th>Month2</th>\n",
       "      <th>Month3</th>\n",
       "      <th>Month4</th>\n",
       "      <th>Month5</th>\n",
       "      <th>Month6</th>\n",
       "      <th>Month7</th>\n",
       "      <th>Month8</th>\n",
       "      <th>Month9</th>\n",
       "      <th>Month10</th>\n",
       "      <th>Month11</th>\n",
       "      <th>Month12</th>\n",
       "      <th>Total</th>\n",
       "    </tr>\n",
       "  </thead>\n",
       "  <tbody>\n",
       "    <tr>\n",
       "      <th>11</th>\n",
       "      <td>12</td>\n",
       "      <td>NaN</td>\n",
       "      <td>NaN</td>\n",
       "      <td>NaN</td>\n",
       "      <td>NaN</td>\n",
       "      <td>NaN</td>\n",
       "      <td>NaN</td>\n",
       "      <td>NaN</td>\n",
       "      <td>NaN</td>\n",
       "      <td>NaN</td>\n",
       "      <td>NaN</td>\n",
       "      <td>NaN</td>\n",
       "      <td>2.430295e+07</td>\n",
       "    </tr>\n",
       "    <tr>\n",
       "      <th>77</th>\n",
       "      <td>11</td>\n",
       "      <td>12.0</td>\n",
       "      <td>NaN</td>\n",
       "      <td>NaN</td>\n",
       "      <td>NaN</td>\n",
       "      <td>NaN</td>\n",
       "      <td>NaN</td>\n",
       "      <td>NaN</td>\n",
       "      <td>NaN</td>\n",
       "      <td>NaN</td>\n",
       "      <td>NaN</td>\n",
       "      <td>NaN</td>\n",
       "      <td>2.452207e+07</td>\n",
       "    </tr>\n",
       "    <tr>\n",
       "      <th>76</th>\n",
       "      <td>10</td>\n",
       "      <td>12.0</td>\n",
       "      <td>NaN</td>\n",
       "      <td>NaN</td>\n",
       "      <td>NaN</td>\n",
       "      <td>NaN</td>\n",
       "      <td>NaN</td>\n",
       "      <td>NaN</td>\n",
       "      <td>NaN</td>\n",
       "      <td>NaN</td>\n",
       "      <td>NaN</td>\n",
       "      <td>NaN</td>\n",
       "      <td>2.473009e+07</td>\n",
       "    </tr>\n",
       "    <tr>\n",
       "      <th>297</th>\n",
       "      <td>10</td>\n",
       "      <td>11.0</td>\n",
       "      <td>12.0</td>\n",
       "      <td>NaN</td>\n",
       "      <td>NaN</td>\n",
       "      <td>NaN</td>\n",
       "      <td>NaN</td>\n",
       "      <td>NaN</td>\n",
       "      <td>NaN</td>\n",
       "      <td>NaN</td>\n",
       "      <td>NaN</td>\n",
       "      <td>NaN</td>\n",
       "      <td>2.473380e+07</td>\n",
       "    </tr>\n",
       "    <tr>\n",
       "      <th>10</th>\n",
       "      <td>11</td>\n",
       "      <td>NaN</td>\n",
       "      <td>NaN</td>\n",
       "      <td>NaN</td>\n",
       "      <td>NaN</td>\n",
       "      <td>NaN</td>\n",
       "      <td>NaN</td>\n",
       "      <td>NaN</td>\n",
       "      <td>NaN</td>\n",
       "      <td>NaN</td>\n",
       "      <td>NaN</td>\n",
       "      <td>NaN</td>\n",
       "      <td>2.474120e+07</td>\n",
       "    </tr>\n",
       "    <tr>\n",
       "      <th>287</th>\n",
       "      <td>7</td>\n",
       "      <td>11.0</td>\n",
       "      <td>12.0</td>\n",
       "      <td>NaN</td>\n",
       "      <td>NaN</td>\n",
       "      <td>NaN</td>\n",
       "      <td>NaN</td>\n",
       "      <td>NaN</td>\n",
       "      <td>NaN</td>\n",
       "      <td>NaN</td>\n",
       "      <td>NaN</td>\n",
       "      <td>NaN</td>\n",
       "      <td>2.475207e+07</td>\n",
       "    </tr>\n",
       "    <tr>\n",
       "      <th>67</th>\n",
       "      <td>7</td>\n",
       "      <td>12.0</td>\n",
       "      <td>NaN</td>\n",
       "      <td>NaN</td>\n",
       "      <td>NaN</td>\n",
       "      <td>NaN</td>\n",
       "      <td>NaN</td>\n",
       "      <td>NaN</td>\n",
       "      <td>NaN</td>\n",
       "      <td>NaN</td>\n",
       "      <td>NaN</td>\n",
       "      <td>NaN</td>\n",
       "      <td>2.475750e+07</td>\n",
       "    </tr>\n",
       "    <tr>\n",
       "      <th>293</th>\n",
       "      <td>8</td>\n",
       "      <td>11.0</td>\n",
       "      <td>12.0</td>\n",
       "      <td>NaN</td>\n",
       "      <td>NaN</td>\n",
       "      <td>NaN</td>\n",
       "      <td>NaN</td>\n",
       "      <td>NaN</td>\n",
       "      <td>NaN</td>\n",
       "      <td>NaN</td>\n",
       "      <td>NaN</td>\n",
       "      <td>NaN</td>\n",
       "      <td>2.476340e+07</td>\n",
       "    </tr>\n",
       "    <tr>\n",
       "      <th>71</th>\n",
       "      <td>8</td>\n",
       "      <td>12.0</td>\n",
       "      <td>NaN</td>\n",
       "      <td>NaN</td>\n",
       "      <td>NaN</td>\n",
       "      <td>NaN</td>\n",
       "      <td>NaN</td>\n",
       "      <td>NaN</td>\n",
       "      <td>NaN</td>\n",
       "      <td>NaN</td>\n",
       "      <td>NaN</td>\n",
       "      <td>NaN</td>\n",
       "      <td>2.477450e+07</td>\n",
       "    </tr>\n",
       "    <tr>\n",
       "      <th>296</th>\n",
       "      <td>9</td>\n",
       "      <td>11.0</td>\n",
       "      <td>12.0</td>\n",
       "      <td>NaN</td>\n",
       "      <td>NaN</td>\n",
       "      <td>NaN</td>\n",
       "      <td>NaN</td>\n",
       "      <td>NaN</td>\n",
       "      <td>NaN</td>\n",
       "      <td>NaN</td>\n",
       "      <td>NaN</td>\n",
       "      <td>NaN</td>\n",
       "      <td>2.477771e+07</td>\n",
       "    </tr>\n",
       "  </tbody>\n",
       "</table>\n",
       "</div>"
      ],
      "text/plain": [
       "     Month1  Month2  Month3  Month4  Month5  Month6  Month7  Month8  Month9  \\\n",
       "11       12     NaN     NaN     NaN     NaN     NaN     NaN     NaN     NaN   \n",
       "77       11    12.0     NaN     NaN     NaN     NaN     NaN     NaN     NaN   \n",
       "76       10    12.0     NaN     NaN     NaN     NaN     NaN     NaN     NaN   \n",
       "297      10    11.0    12.0     NaN     NaN     NaN     NaN     NaN     NaN   \n",
       "10       11     NaN     NaN     NaN     NaN     NaN     NaN     NaN     NaN   \n",
       "287       7    11.0    12.0     NaN     NaN     NaN     NaN     NaN     NaN   \n",
       "67        7    12.0     NaN     NaN     NaN     NaN     NaN     NaN     NaN   \n",
       "293       8    11.0    12.0     NaN     NaN     NaN     NaN     NaN     NaN   \n",
       "71        8    12.0     NaN     NaN     NaN     NaN     NaN     NaN     NaN   \n",
       "296       9    11.0    12.0     NaN     NaN     NaN     NaN     NaN     NaN   \n",
       "\n",
       "     Month10  Month11  Month12         Total  \n",
       "11       NaN      NaN      NaN  2.430295e+07  \n",
       "77       NaN      NaN      NaN  2.452207e+07  \n",
       "76       NaN      NaN      NaN  2.473009e+07  \n",
       "297      NaN      NaN      NaN  2.473380e+07  \n",
       "10       NaN      NaN      NaN  2.474120e+07  \n",
       "287      NaN      NaN      NaN  2.475207e+07  \n",
       "67       NaN      NaN      NaN  2.475750e+07  \n",
       "293      NaN      NaN      NaN  2.476340e+07  \n",
       "71       NaN      NaN      NaN  2.477450e+07  \n",
       "296      NaN      NaN      NaN  2.477771e+07  "
      ]
     },
     "execution_count": 75,
     "metadata": {},
     "output_type": "execute_result"
    }
   ],
   "source": [
    "#Worst results\n",
    "SP500_DCA_combs_total.sort_values(['Total'],ascending=True).head(10)"
   ]
  },
  {
   "cell_type": "code",
   "execution_count": 76,
   "metadata": {},
   "outputs": [
    {
     "data": {
      "text/html": [
       "<div>\n",
       "<style scoped>\n",
       "    .dataframe tbody tr th:only-of-type {\n",
       "        vertical-align: middle;\n",
       "    }\n",
       "\n",
       "    .dataframe tbody tr th {\n",
       "        vertical-align: top;\n",
       "    }\n",
       "\n",
       "    .dataframe thead th {\n",
       "        text-align: right;\n",
       "    }\n",
       "</style>\n",
       "<table border=\"1\" class=\"dataframe\">\n",
       "  <thead>\n",
       "    <tr style=\"text-align: right;\">\n",
       "      <th></th>\n",
       "      <th>Month1</th>\n",
       "      <th>Month2</th>\n",
       "      <th>Month3</th>\n",
       "      <th>Month4</th>\n",
       "      <th>Month5</th>\n",
       "      <th>Month6</th>\n",
       "      <th>Month7</th>\n",
       "      <th>Month8</th>\n",
       "      <th>Month9</th>\n",
       "      <th>Month10</th>\n",
       "      <th>Month11</th>\n",
       "      <th>Month12</th>\n",
       "      <th>Total</th>\n",
       "    </tr>\n",
       "  </thead>\n",
       "  <tbody>\n",
       "    <tr>\n",
       "      <th>1</th>\n",
       "      <td>2</td>\n",
       "      <td>NaN</td>\n",
       "      <td>NaN</td>\n",
       "      <td>NaN</td>\n",
       "      <td>NaN</td>\n",
       "      <td>NaN</td>\n",
       "      <td>NaN</td>\n",
       "      <td>NaN</td>\n",
       "      <td>NaN</td>\n",
       "      <td>NaN</td>\n",
       "      <td>NaN</td>\n",
       "      <td>NaN</td>\n",
       "      <td>2.618597e+07</td>\n",
       "    </tr>\n",
       "    <tr>\n",
       "      <th>12</th>\n",
       "      <td>1</td>\n",
       "      <td>2.0</td>\n",
       "      <td>NaN</td>\n",
       "      <td>NaN</td>\n",
       "      <td>NaN</td>\n",
       "      <td>NaN</td>\n",
       "      <td>NaN</td>\n",
       "      <td>NaN</td>\n",
       "      <td>NaN</td>\n",
       "      <td>NaN</td>\n",
       "      <td>NaN</td>\n",
       "      <td>NaN</td>\n",
       "      <td>2.615244e+07</td>\n",
       "    </tr>\n",
       "    <tr>\n",
       "      <th>0</th>\n",
       "      <td>1</td>\n",
       "      <td>NaN</td>\n",
       "      <td>NaN</td>\n",
       "      <td>NaN</td>\n",
       "      <td>NaN</td>\n",
       "      <td>NaN</td>\n",
       "      <td>NaN</td>\n",
       "      <td>NaN</td>\n",
       "      <td>NaN</td>\n",
       "      <td>NaN</td>\n",
       "      <td>NaN</td>\n",
       "      <td>NaN</td>\n",
       "      <td>2.611891e+07</td>\n",
       "    </tr>\n",
       "    <tr>\n",
       "      <th>78</th>\n",
       "      <td>1</td>\n",
       "      <td>2.0</td>\n",
       "      <td>3.0</td>\n",
       "      <td>NaN</td>\n",
       "      <td>NaN</td>\n",
       "      <td>NaN</td>\n",
       "      <td>NaN</td>\n",
       "      <td>NaN</td>\n",
       "      <td>NaN</td>\n",
       "      <td>NaN</td>\n",
       "      <td>NaN</td>\n",
       "      <td>NaN</td>\n",
       "      <td>2.607992e+07</td>\n",
       "    </tr>\n",
       "    <tr>\n",
       "      <th>23</th>\n",
       "      <td>2</td>\n",
       "      <td>3.0</td>\n",
       "      <td>NaN</td>\n",
       "      <td>NaN</td>\n",
       "      <td>NaN</td>\n",
       "      <td>NaN</td>\n",
       "      <td>NaN</td>\n",
       "      <td>NaN</td>\n",
       "      <td>NaN</td>\n",
       "      <td>NaN</td>\n",
       "      <td>NaN</td>\n",
       "      <td>NaN</td>\n",
       "      <td>2.606042e+07</td>\n",
       "    </tr>\n",
       "    <tr>\n",
       "      <th>13</th>\n",
       "      <td>1</td>\n",
       "      <td>3.0</td>\n",
       "      <td>NaN</td>\n",
       "      <td>NaN</td>\n",
       "      <td>NaN</td>\n",
       "      <td>NaN</td>\n",
       "      <td>NaN</td>\n",
       "      <td>NaN</td>\n",
       "      <td>NaN</td>\n",
       "      <td>NaN</td>\n",
       "      <td>NaN</td>\n",
       "      <td>NaN</td>\n",
       "      <td>2.602690e+07</td>\n",
       "    </tr>\n",
       "    <tr>\n",
       "      <th>81</th>\n",
       "      <td>1</td>\n",
       "      <td>2.0</td>\n",
       "      <td>6.0</td>\n",
       "      <td>NaN</td>\n",
       "      <td>NaN</td>\n",
       "      <td>NaN</td>\n",
       "      <td>NaN</td>\n",
       "      <td>NaN</td>\n",
       "      <td>NaN</td>\n",
       "      <td>NaN</td>\n",
       "      <td>NaN</td>\n",
       "      <td>NaN</td>\n",
       "      <td>2.598893e+07</td>\n",
       "    </tr>\n",
       "    <tr>\n",
       "      <th>300</th>\n",
       "      <td>1</td>\n",
       "      <td>2.0</td>\n",
       "      <td>3.0</td>\n",
       "      <td>6.0</td>\n",
       "      <td>NaN</td>\n",
       "      <td>NaN</td>\n",
       "      <td>NaN</td>\n",
       "      <td>NaN</td>\n",
       "      <td>NaN</td>\n",
       "      <td>NaN</td>\n",
       "      <td>NaN</td>\n",
       "      <td>NaN</td>\n",
       "      <td>2.597542e+07</td>\n",
       "    </tr>\n",
       "    <tr>\n",
       "      <th>79</th>\n",
       "      <td>1</td>\n",
       "      <td>2.0</td>\n",
       "      <td>4.0</td>\n",
       "      <td>NaN</td>\n",
       "      <td>NaN</td>\n",
       "      <td>NaN</td>\n",
       "      <td>NaN</td>\n",
       "      <td>NaN</td>\n",
       "      <td>NaN</td>\n",
       "      <td>NaN</td>\n",
       "      <td>NaN</td>\n",
       "      <td>NaN</td>\n",
       "      <td>2.596863e+07</td>\n",
       "    </tr>\n",
       "    <tr>\n",
       "      <th>80</th>\n",
       "      <td>1</td>\n",
       "      <td>2.0</td>\n",
       "      <td>5.0</td>\n",
       "      <td>NaN</td>\n",
       "      <td>NaN</td>\n",
       "      <td>NaN</td>\n",
       "      <td>NaN</td>\n",
       "      <td>NaN</td>\n",
       "      <td>NaN</td>\n",
       "      <td>NaN</td>\n",
       "      <td>NaN</td>\n",
       "      <td>NaN</td>\n",
       "      <td>2.596850e+07</td>\n",
       "    </tr>\n",
       "  </tbody>\n",
       "</table>\n",
       "</div>"
      ],
      "text/plain": [
       "     Month1  Month2  Month3  Month4  Month5  Month6  Month7  Month8  Month9  \\\n",
       "1         2     NaN     NaN     NaN     NaN     NaN     NaN     NaN     NaN   \n",
       "12        1     2.0     NaN     NaN     NaN     NaN     NaN     NaN     NaN   \n",
       "0         1     NaN     NaN     NaN     NaN     NaN     NaN     NaN     NaN   \n",
       "78        1     2.0     3.0     NaN     NaN     NaN     NaN     NaN     NaN   \n",
       "23        2     3.0     NaN     NaN     NaN     NaN     NaN     NaN     NaN   \n",
       "13        1     3.0     NaN     NaN     NaN     NaN     NaN     NaN     NaN   \n",
       "81        1     2.0     6.0     NaN     NaN     NaN     NaN     NaN     NaN   \n",
       "300       1     2.0     3.0     6.0     NaN     NaN     NaN     NaN     NaN   \n",
       "79        1     2.0     4.0     NaN     NaN     NaN     NaN     NaN     NaN   \n",
       "80        1     2.0     5.0     NaN     NaN     NaN     NaN     NaN     NaN   \n",
       "\n",
       "     Month10  Month11  Month12         Total  \n",
       "1        NaN      NaN      NaN  2.618597e+07  \n",
       "12       NaN      NaN      NaN  2.615244e+07  \n",
       "0        NaN      NaN      NaN  2.611891e+07  \n",
       "78       NaN      NaN      NaN  2.607992e+07  \n",
       "23       NaN      NaN      NaN  2.606042e+07  \n",
       "13       NaN      NaN      NaN  2.602690e+07  \n",
       "81       NaN      NaN      NaN  2.598893e+07  \n",
       "300      NaN      NaN      NaN  2.597542e+07  \n",
       "79       NaN      NaN      NaN  2.596863e+07  \n",
       "80       NaN      NaN      NaN  2.596850e+07  "
      ]
     },
     "execution_count": 76,
     "metadata": {},
     "output_type": "execute_result"
    }
   ],
   "source": [
    "#Best results\n",
    "SP500_DCA_combs_total.sort_values('Total',ascending=False).head(10)"
   ]
  },
  {
   "cell_type": "code",
   "execution_count": 77,
   "metadata": {},
   "outputs": [
    {
     "data": {
      "text/html": [
       "<div>\n",
       "<style scoped>\n",
       "    .dataframe tbody tr th:only-of-type {\n",
       "        vertical-align: middle;\n",
       "    }\n",
       "\n",
       "    .dataframe tbody tr th {\n",
       "        vertical-align: top;\n",
       "    }\n",
       "\n",
       "    .dataframe thead th {\n",
       "        text-align: right;\n",
       "    }\n",
       "</style>\n",
       "<table border=\"1\" class=\"dataframe\">\n",
       "  <thead>\n",
       "    <tr style=\"text-align: right;\">\n",
       "      <th></th>\n",
       "      <th>Month1</th>\n",
       "      <th>Month2</th>\n",
       "      <th>Month3</th>\n",
       "      <th>Month4</th>\n",
       "      <th>Month5</th>\n",
       "      <th>Month6</th>\n",
       "      <th>Month7</th>\n",
       "      <th>Month8</th>\n",
       "      <th>Month9</th>\n",
       "      <th>Month10</th>\n",
       "      <th>Month11</th>\n",
       "      <th>Month12</th>\n",
       "      <th>Total</th>\n",
       "    </tr>\n",
       "  </thead>\n",
       "  <tbody>\n",
       "    <tr>\n",
       "      <th>1</th>\n",
       "      <td>2</td>\n",
       "      <td>NaN</td>\n",
       "      <td>NaN</td>\n",
       "      <td>NaN</td>\n",
       "      <td>NaN</td>\n",
       "      <td>NaN</td>\n",
       "      <td>NaN</td>\n",
       "      <td>NaN</td>\n",
       "      <td>NaN</td>\n",
       "      <td>NaN</td>\n",
       "      <td>NaN</td>\n",
       "      <td>NaN</td>\n",
       "      <td>2.618597e+07</td>\n",
       "    </tr>\n",
       "    <tr>\n",
       "      <th>12</th>\n",
       "      <td>1</td>\n",
       "      <td>2.0</td>\n",
       "      <td>NaN</td>\n",
       "      <td>NaN</td>\n",
       "      <td>NaN</td>\n",
       "      <td>NaN</td>\n",
       "      <td>NaN</td>\n",
       "      <td>NaN</td>\n",
       "      <td>NaN</td>\n",
       "      <td>NaN</td>\n",
       "      <td>NaN</td>\n",
       "      <td>NaN</td>\n",
       "      <td>2.615244e+07</td>\n",
       "    </tr>\n",
       "  </tbody>\n",
       "</table>\n",
       "</div>"
      ],
      "text/plain": [
       "    Month1  Month2  Month3  Month4  Month5  Month6  Month7  Month8  Month9  \\\n",
       "1        2     NaN     NaN     NaN     NaN     NaN     NaN     NaN     NaN   \n",
       "12       1     2.0     NaN     NaN     NaN     NaN     NaN     NaN     NaN   \n",
       "\n",
       "    Month10  Month11  Month12         Total  \n",
       "1       NaN      NaN      NaN  2.618597e+07  \n",
       "12      NaN      NaN      NaN  2.615244e+07  "
      ]
     },
     "execution_count": 77,
     "metadata": {},
     "output_type": "execute_result"
    }
   ],
   "source": [
    "#Which ones improve the annual lump sump strategy\n",
    "SP500_DCA_combs_total.loc[(SP500_DCA_combs_total['Total']> SP500_DCA['Balance_Annual'][-1])]\n",
    "\n"
   ]
  },
  {
   "cell_type": "code",
   "execution_count": null,
   "metadata": {},
   "outputs": [],
   "source": [
    "#BUY THE DIP\n",
    "##Buy the dip######################################################################################################3\n",
    "###Cumulative###Buy the dip!\n",
    "###What happens after xxx months of the dip\n",
    "#We have established that is better to invest in the market rather than saving account. But what if in addition\n",
    "#to DCA our dedicated amount, we would also decide to invest an extra surplus. We then \n",
    "#There are strategies that mean of 20 vs... But rememeber, we are keeping this simple, so we are going to evaluate something \n",
    "#more simple....\n",
    "#Let's imagine to in addition to the annual contribution we have describe amount, we have an extra savings each month. \n",
    "#Now, we have two options: a. invest that amount sistematically b. accumulate thaose extra savings until the market drops\n",
    "#certain percentage and the invest all the accumulated amouunt. \n"
   ]
  },
  {
   "cell_type": "code",
   "execution_count": 78,
   "metadata": {},
   "outputs": [],
   "source": [
    "\n",
    "#Function that takes as an input a percentage and identifies when declines in the price reach that percentage. The function \n",
    "#returns an aray that contains all the declines found for the stock series given as an input.\n",
    "def find_drops (percentage,close):\n",
    "#percentage:percentage of stock value drop;close:stock value at close,\n",
    "    max=0\n",
    "    drop=0\n",
    "    b=[]\n",
    "    for i in range (0,len(close)):\n",
    "        if close[i]> max:\n",
    "            max=close[i]\n",
    "        decline=1-close[i]/max\n",
    "        signal=0\n",
    "        if decline>=percentage:\n",
    "            signal=1\n",
    "            max=close[i]\n",
    "        b.append(signal)\n",
    "    return b\n",
    "\n",
    "\n",
    "#Extra deposit when the signal\n",
    "def extra_deposit(a,extra):\n",
    "#a:signal\n",
    "    extra_deposit=0\n",
    "    cum_deposit=[]\n",
    "    for i in range (0,len(a)):\n",
    "        extra_deposit+=extra\n",
    "        cum_deposit.append(extra_deposit)\n",
    "        if a[i]==1:\n",
    "            extra_deposit=0\n",
    "    return cum_deposit"
   ]
  },
  {
   "cell_type": "code",
   "execution_count": null,
   "metadata": {},
   "outputs": [],
   "source": [
    "#Buying signas for drops of 5%, 10%, 15%, 20%,30%, 40%, %50\n",
    "#Indicate there are not absolute drops\n",
    "#Chart with buttons"
   ]
  },
  {
   "cell_type": "code",
   "execution_count": 79,
   "metadata": {},
   "outputs": [],
   "source": [
    "#Did with days and weeks also, but no improvement\n",
    "SP500_dip=SP500_day.asfreq('M',method='ffill')\n",
    "SP500_dip['Monthly_Change']=SP500_dip['Close'].pct_change()\n",
    "extra=200\n",
    "\n",
    "#Baseline: Invest extra each monthc\n",
    "SP500_dip['Balance_bench']=0\n",
    "SP500_dip['Deposit_bench']=extra\n",
    "SP500_dip.loc[SP500_dip.index.month.isin([1]),'Deposit_bench']+=Annual_Contribution\n",
    "SP500_dip.loc[SP500_dip.index.min(),'Balance_bench'] =Initial_amount+SP500_dip['Deposit_bench'][0]\n",
    "\n",
    "SP500_dip['Balance_bench']=calculate_balance(SP500_dip['Balance_bench'].values.astype(float),SP500_dip['Monthly_Change'].fillna(1).values,\n",
    "                                           SP500_dip['Deposit_bench'].values.astype(float))\n",
    "\n"
   ]
  },
  {
   "cell_type": "code",
   "execution_count": 80,
   "metadata": {},
   "outputs": [],
   "source": [
    "dips=[0.01,0.02,0.03,0.05,0.1,0.2,0.3,0.5]\n",
    "dips_str= ['1%','2%','3%','5%','10%','20%','30%','50%']\n",
    "\n",
    "for dip,dip_str in zip(dips,dips_str):\n",
    "    signal='Signal_'+dip_str\n",
    "    extra_='Extra_'+dip_str\n",
    "    deposit_='Deposit_'+dip_str\n",
    "    balance_='Balance_'+dip_str  \n",
    "    SP500_dip[signal]=find_drops(dip,SP500_dip['Close'])\n",
    "    SP500_dip[extra_]=extra_deposit(SP500_dip[signal],extra)\n",
    "    SP500_dip[balance_]=0\n",
    "    SP500_dip[deposit_]=SP500_dip[SP500_dip[signal]==1][extra_]\n",
    "    SP500_dip[deposit_]=SP500_dip[deposit_].fillna(0)\n",
    "    SP500_dip.loc[SP500_dip.index.month.isin([1]),deposit_]+=Annual_Contribution\n",
    "    SP500_dip.loc[SP500_dip.index.min(),balance_] =Initial_amount+SP500_dip[deposit_][0]\n",
    "    SP500_dip[balance_]=calculate_balance(SP500_dip[balance_].values.astype(float),SP500_dip['Monthly_Change'].fillna(1).values,\n",
    "                                           SP500_dip[deposit_].values.astype(float))\n",
    "\n",
    "    "
   ]
  },
  {
   "cell_type": "code",
   "execution_count": 81,
   "metadata": {},
   "outputs": [
    {
     "data": {
      "text/plain": [
       "Balance_bench    3.084601e+07\n",
       "Balance_1%       3.075041e+07\n",
       "Balance_2%       3.074055e+07\n",
       "Balance_3%       3.070553e+07\n",
       "Balance_5%       3.060847e+07\n",
       "Balance_10%      3.057337e+07\n",
       "Balance_20%      2.962799e+07\n",
       "Balance_30%      2.912829e+07\n",
       "Balance_50%      2.670699e+07\n",
       "Name: 2020-05-31 00:00:00, dtype: float64"
      ]
     },
     "execution_count": 81,
     "metadata": {},
     "output_type": "execute_result"
    }
   ],
   "source": [
    " SP500_dip[['Balance_bench','Balance_1%','Balance_2%','Balance_3%','Balance_5%','Balance_10%',\n",
    "           'Balance_20%','Balance_30%','Balance_50%']].iloc[-1]"
   ]
  },
  {
   "cell_type": "code",
   "execution_count": 82,
   "metadata": {},
   "outputs": [
    {
     "data": {
      "text/plain": [
       "Signal_1%     262\n",
       "Signal_2%     196\n",
       "Signal_3%     157\n",
       "Signal_5%     103\n",
       "Signal_10%     39\n",
       "Signal_20%     11\n",
       "Signal_30%      5\n",
       "Signal_50%      1\n",
       "dtype: int64"
      ]
     },
     "execution_count": 82,
     "metadata": {},
     "output_type": "execute_result"
    }
   ],
   "source": [
    "SP500_dip[['Signal_1%','Signal_2%','Signal_3%','Signal_5%','Signal_10%',\n",
    "           'Signal_20%','Signal_30%','Signal_50%']].sum()"
   ]
  },
  {
   "cell_type": "code",
   "execution_count": null,
   "metadata": {},
   "outputs": [],
   "source": [
    "The time frame or length you choose for a moving average, also called the \"look back period,\" can play a big role in how effective it is.\n",
    "1) Move to inversely correlated assets * ,\"safe\" assets, or conduct portfolio hedging during LEI signaling accompanied by the price of the S&P 500 residing below it's 10 period monthly basis and \n",
    "2) move back into equity based assets on a S&P 500 price cross back above it's 10 period MA\n",
    "    https://seekingalpha.com/article/4079476-10-market-timing-strategies-compared\n",
    "    \n",
    "    \n",
    "    \n"
   ]
  },
  {
   "cell_type": "code",
   "execution_count": null,
   "metadata": {},
   "outputs": [],
   "source": [
    "#Long version\n",
    "\n",
    "fig.update_layout(\n",
    "    updatemenus=[\n",
    "        dict(type='buttons',\n",
    "             direction='left',\n",
    "            buttons=list([\n",
    "                dict(\n",
    "                    args=[{'y':[SP500_year['Yearly_Change']],\n",
    "                                   'x':[SP500_year.index],\n",
    "                                    'type':'bar'}],\n",
    "                    label=\"1 year\",\n",
    "                    method=\"restyle\"\n",
    "                ),\n",
    "                dict(\n",
    "                    args=[{'y':[SP500_year['Cumulative_roll3']],\n",
    "                                   'x':[SP500_year.index],\n",
    "                                    'type':'bar'}],\n",
    "                    label=\"3 years\",\n",
    "                    method=\"restyle\"\n",
    "                ),\n",
    "                dict(\n",
    "                    args=[{'y':[SP500_year['Cumulative_roll5']],\n",
    "                                   'x':[SP500_year.index],\n",
    "                                    'type':'bar'}],\n",
    "                    label=\"5 years\",\n",
    "                    method=\"restyle\"\n",
    "                ),\n",
    "                dict(\n",
    "                    args=[{'y':[SP500_year['Cumulative_roll10']],\n",
    "                                   'x':[SP500_year.index],\n",
    "                                    'type':'bar'}],\n",
    "                    label=\"10 years\",\n",
    "                    method=\"restyle\"\n",
    "                ),\n",
    "                dict(\n",
    "                    args=[{'y':[SP500_year['Cumulative_roll15']],\n",
    "                                   'x':[SP500_year.index],\n",
    "                                    'type':'bar'}],\n",
    "                    label=\"15 years\",\n",
    "                    method=\"restyle\"\n",
    "                ),\n",
    "                   dict(\n",
    "                    args=[{'y':[SP500_year['Cumulative_roll20']],\n",
    "                                   'x':[SP500_year.index],\n",
    "                                    'type':'bar'}],\n",
    "                    label=\"20 years\",\n",
    "                    method=\"restyle\"\n",
    "                   ),\n",
    "            ]),x=0,xanchor='left',y=1.12\n",
    "            )])   \n",
    "\n",
    "fig.update_layout(\n",
    "    title=dict(text='Cumulative % change by rolling period', yref=\"container\",xref=\"container\",x=0,y=0.99),\n",
    "    xaxis=dict(               \n",
    "        title=\"Year(s)\"        \n",
    "    ),\n",
    "    font=dict(color='black'),\n",
    "     yaxis=dict(               \n",
    "        title=\"% Change\"        \n",
    "    ),\n",
    "    annotations=[\n",
    "        dict(text=\"Rolling period:\", showarrow=False,\n",
    "                             x=0, y=1.18, yref=\"paper\",xref=\"paper\")\n",
    "    ]\n",
    ")\n"
   ]
  },
  {
   "cell_type": "code",
   "execution_count": null,
   "metadata": {},
   "outputs": [],
   "source": [
    "#Unused code to highligh minimum return months \n",
    "\n",
    "minimum_month=SP500_month.groupby([SP500_month.index.year])['Monthly_Change'].idxmin()\n",
    "\n",
    "SP500_month.loc[minimum_month].index.month.value_counts()\n",
    "\n",
    "month_names = dict(Jan=1, Feb=2, Mar=3,Apr=4,May=5,Jun=6,Jul=7,Aug=8,Sep=9,Oct=10,Nov=11,Dec=12) \n",
    "\n",
    "\n",
    "\n",
    "StartDate='1950'\n",
    "EndDate='2010'\n",
    "Frequency='AS' #alias for year start\n",
    "Period=1\n",
    "\n",
    "returns={}\n",
    "avg_change={}\n",
    "\n",
    "def period_intervals(StartDate,EndDate,Frequency,Period):\n",
    "    #Create string to pass as parameter freq to the pandas function data_range\n",
    "    frq=str(Period)+Frequency\n",
    "    #Generate a tuple with the pairs of intervals. \n",
    "    period_ini=pd.date_range(StartDate,EndDate,freq=frq)#.strftime('%Y%')\n",
    "    period_end=pd.date_range(StartDate,EndDate,freq=frq).shift(12*Period,'M')#.strftime('%Y%')\n",
    "    return zip(period_ini,period_end);\n",
    "\n",
    "period_ini=period_intervals(StartDate,EndDate,Frequency,Period)\n",
    "\n",
    "for i,j in period_ini:\n",
    "    \n",
    "    avg_change[i.strftime('%Y')+'-'+j.strftime('%Y')] =GSPC_month.loc[i:j].Monthly_Change.groupby(GSPC_month.loc[i:j].index.month).mean()\n",
    "    \n",
    "    ##aaa=GSPC_month.loc[(GSPC_month.index.year>=i.year)&(GSPC_month.index.year<=j.year)]\n",
    "\n",
    "aaa=pd.DataFrame.from_dict(avg_change,orient='index')\n",
    "\n",
    "\n",
    "\n",
    "\n",
    "\n",
    "def highlight_min(s):    \n",
    "    is_min = s.nsmallest(1).values\n",
    "    return ['background-color: red' if v in is_min else '' for v in s]\n",
    "\n",
    "#aaa.style.background_gradient(cmap='Blues',axis=1)\n",
    "aaa.style.apply(highlight_min,axis=1)"
   ]
  }
 ],
 "metadata": {
  "kernelspec": {
   "display_name": "Python 3",
   "language": "python",
   "name": "python3"
  },
  "language_info": {
   "codemirror_mode": {
    "name": "ipython",
    "version": 3
   },
   "file_extension": ".py",
   "mimetype": "text/x-python",
   "name": "python",
   "nbconvert_exporter": "python",
   "pygments_lexer": "ipython3",
   "version": "3.6.10"
  }
 },
 "nbformat": 4,
 "nbformat_minor": 2
}
